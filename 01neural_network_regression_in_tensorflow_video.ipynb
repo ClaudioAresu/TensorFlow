{
  "nbformat": 4,
  "nbformat_minor": 0,
  "metadata": {
    "colab": {
      "provenance": [],
      "authorship_tag": "ABX9TyM4Anab51lPti0ISlu8jfS/",
      "include_colab_link": true
    },
    "kernelspec": {
      "name": "python3",
      "display_name": "Python 3"
    },
    "language_info": {
      "name": "python"
    }
  },
  "cells": [
    {
      "cell_type": "markdown",
      "metadata": {
        "id": "view-in-github",
        "colab_type": "text"
      },
      "source": [
        "<a href=\"https://colab.research.google.com/github/ClaudioAresu/TensorFlow/blob/main/01neural_network_regression_in_tensorflow_video.ipynb\" target=\"_parent\"><img src=\"https://colab.research.google.com/assets/colab-badge.svg\" alt=\"Open In Colab\"/></a>"
      ]
    },
    {
      "cell_type": "markdown",
      "source": [
        "#Introduction to Refression with Neural Networks in TensorFlow\n",
        "\n",
        "There are many definitions for a regression problem but in nour case, we're going to simplify it:predicting a numerical variable based on some other combination of variables, even shorter... predicting a number"
      ],
      "metadata": {
        "id": "9CVjIC1M96rN"
      }
    },
    {
      "cell_type": "code",
      "source": [
        "#Import TensorFlow\n",
        "import tensorflow as tf\n",
        "print(tf.__version__)"
      ],
      "metadata": {
        "colab": {
          "base_uri": "https://localhost:8080/"
        },
        "id": "YopxiyBU-YTE",
        "outputId": "5dfc4557-46df-4a4c-94e1-d1203ba46c08"
      },
      "execution_count": null,
      "outputs": [
        {
          "output_type": "stream",
          "name": "stdout",
          "text": [
            "2.9.2\n"
          ]
        }
      ]
    },
    {
      "cell_type": "code",
      "source": [
        "#Select data to view and fit\n",
        "import numpy as np\n",
        "import matplotlib.pyplot as plt\n",
        "\n",
        "#Create features\n",
        "X = np.array([-7., -4., -1., 2., 5., 8., 11., 14.])\n",
        "\n",
        "#Create labels\n",
        "Y = np.array([3., 6., 9., 12., 15., 18., 21., 24.])\n",
        "\n",
        "#visualize\n",
        "plt.scatter(X,Y)\n"
      ],
      "metadata": {
        "colab": {
          "base_uri": "https://localhost:8080/",
          "height": 287
        },
        "id": "6nhEoChc-irD",
        "outputId": "0ed0003d-c8a0-48fa-8a36-d6c0c3db07d5"
      },
      "execution_count": null,
      "outputs": [
        {
          "output_type": "execute_result",
          "data": {
            "text/plain": [
              "<matplotlib.collections.PathCollection at 0x7f3f570f37f0>"
            ]
          },
          "metadata": {},
          "execution_count": 2
        },
        {
          "output_type": "display_data",
          "data": {
            "text/plain": [
              "<Figure size 432x288 with 1 Axes>"
            ],
            "image/png": "[encoded data removed]"
          },
          "metadata": {
            "needs_background": "light"
          }
        }
      ]
    },
    {
      "cell_type": "code",
      "source": [
        "X+10"
      ],
      "metadata": {
        "colab": {
          "base_uri": "https://localhost:8080/"
        },
        "id": "YjOzBiWx-507",
        "outputId": "a6c233a0-8b73-4b8f-8228-02ebb585f9e3"
      },
      "execution_count": null,
      "outputs": [
        {
          "output_type": "execute_result",
          "data": {
            "text/plain": [
              "array([ 3.,  6.,  9., 12., 15., 18., 21., 24.])"
            ]
          },
          "metadata": {},
          "execution_count": 3
        }
      ]
    },
    {
      "cell_type": "code",
      "source": [
        "Y == X+10"
      ],
      "metadata": {
        "colab": {
          "base_uri": "https://localhost:8080/"
        },
        "id": "hdwh7tfx_O1y",
        "outputId": "5ade600a-2985-4359-cea3-8a98bb1d2c11"
      },
      "execution_count": null,
      "outputs": [
        {
          "output_type": "execute_result",
          "data": {
            "text/plain": [
              "array([ True,  True,  True,  True,  True,  True,  True,  True])"
            ]
          },
          "metadata": {},
          "execution_count": 4
        }
      ]
    },
    {
      "cell_type": "markdown",
      "source": [
        "Input and Output shapes"
      ],
      "metadata": {
        "id": "v7m4oq0t_WLP"
      }
    },
    {
      "cell_type": "code",
      "source": [
        "X.shape, Y.shape"
      ],
      "metadata": {
        "colab": {
          "base_uri": "https://localhost:8080/"
        },
        "id": "bIx8WRBj_b7N",
        "outputId": "21b13d1c-9158-400e-f177-f45dc9209a6a"
      },
      "execution_count": null,
      "outputs": [
        {
          "output_type": "execute_result",
          "data": {
            "text/plain": [
              "((8,), (8,))"
            ]
          },
          "metadata": {},
          "execution_count": 5
        }
      ]
    },
    {
      "cell_type": "code",
      "source": [
        "#Create a demo tensor for our housing price prediction problem\n",
        "house_info = tf.constant([\"bedroom\",\"bathroom\",\"garage\"])\n",
        "house_price = tf.constant([939700])\n",
        "\n",
        "house_info,house_price"
      ],
      "metadata": {
        "colab": {
          "base_uri": "https://localhost:8080/"
        },
        "id": "TIIBBZ_X_pE7",
        "outputId": "25d0d42d-4207-4a7c-ff27-8e44b0052e6a"
      },
      "execution_count": null,
      "outputs": [
        {
          "output_type": "execute_result",
          "data": {
            "text/plain": [
              "(<tf.Tensor: shape=(3,), dtype=string, numpy=array([b'bedroom', b'bathroom', b'garage'], dtype=object)>,\n",
              " <tf.Tensor: shape=(1,), dtype=int32, numpy=array([939700], dtype=int32)>)"
            ]
          },
          "metadata": {},
          "execution_count": 6
        }
      ]
    },
    {
      "cell_type": "code",
      "source": [
        "X[0].ndim"
      ],
      "metadata": {
        "colab": {
          "base_uri": "https://localhost:8080/"
        },
        "id": "6VOON3uX_8rK",
        "outputId": "79758995-ffe9-4a1c-8f67-d7a00151b90c"
      },
      "execution_count": null,
      "outputs": [
        {
          "output_type": "execute_result",
          "data": {
            "text/plain": [
              "0"
            ]
          },
          "metadata": {},
          "execution_count": 7
        }
      ]
    },
    {
      "cell_type": "code",
      "source": [
        "X[0], Y[0]"
      ],
      "metadata": {
        "colab": {
          "base_uri": "https://localhost:8080/"
        },
        "id": "VCBRKP5qAdUT",
        "outputId": "d94f2b9f-33ad-4086-df7c-c4c3e35f0ab4"
      },
      "execution_count": null,
      "outputs": [
        {
          "output_type": "execute_result",
          "data": {
            "text/plain": [
              "(-7.0, 3.0)"
            ]
          },
          "metadata": {},
          "execution_count": 8
        }
      ]
    },
    {
      "cell_type": "code",
      "source": [
        "#Turn NumPy arrays into tensors\n",
        "X = tf.constant(X)\n",
        "Y = tf.constant(Y)\n",
        "\n",
        "X, Y"
      ],
      "metadata": {
        "colab": {
          "base_uri": "https://localhost:8080/"
        },
        "id": "_aYIrL5yAg_D",
        "outputId": "734bbc0c-ea7a-450d-efe2-7149c9a4de7c"
      },
      "execution_count": null,
      "outputs": [
        {
          "output_type": "execute_result",
          "data": {
            "text/plain": [
              "(<tf.Tensor: shape=(8,), dtype=float64, numpy=array([-7., -4., -1.,  2.,  5.,  8., 11., 14.])>,\n",
              " <tf.Tensor: shape=(8,), dtype=float64, numpy=array([ 3.,  6.,  9., 12., 15., 18., 21., 24.])>)"
            ]
          },
          "metadata": {},
          "execution_count": 9
        }
      ]
    },
    {
      "cell_type": "code",
      "source": [
        "plt.scatter(X,Y)"
      ],
      "metadata": {
        "colab": {
          "base_uri": "https://localhost:8080/",
          "height": 287
        },
        "id": "dOkJI7tPBG3U",
        "outputId": "cadc53cf-bf01-452b-ad6c-b2ea99719285"
      },
      "execution_count": null,
      "outputs": [
        {
          "output_type": "execute_result",
          "data": {
            "text/plain": [
              "<matplotlib.collections.PathCollection at 0x7f3f56c5c160>"
            ]
          },
          "metadata": {},
          "execution_count": 10
        },
        {
          "output_type": "display_data",
          "data": {
            "text/plain": [
              "<Figure size 432x288 with 1 Axes>"
            ],
            "image/png": "[encoded data removed]"
          },
          "metadata": {
            "needs_background": "light"
          }
        }
      ]
    },
    {
      "cell_type": "markdown",
      "source": [
        "## Steps in modelling with TensorFlow\n",
        "\n",
        "1.Creating a model - define the input and output layers, as well as the hidden layers of a deep learning model.\n",
        "2. Compiling a model - define the loss function (in other words, the function which tells our model how wrong it is) and the optimizers(tells our model to improve the patterns it is learning), and evaluation metrics( what we can use to interpret the performance of our model).\n",
        "3. Fitting a model - letting the model try to find patterns between X & Y ( features and labels)."
      ],
      "metadata": {
        "id": "zGxEanYFBKez"
      }
    },
    {
      "cell_type": "code",
      "source": [
        "#Create a model (specified to your problem)\n",
        "# Set random seed\n",
        "tf.random.set_seed(42)\n",
        "\n",
        "model = tf.keras.Sequential([\n",
        "  tf.keras.layers.Dense(1)                             \n",
        "])\n",
        "\n",
        "#Compile\n",
        "\n",
        "model.compile(loss=tf.keras.losses.mae,\n",
        "              optimizer=tf.keras.optimizers.SGD(), #or just use the string for stochastic gradient descent\n",
        "              metrics=[\"mae\"])\n",
        "\n",
        "model.fit(tf.expand_dims(X,axis=-1),Y, epochs=5)\n"
      ],
      "metadata": {
        "colab": {
          "base_uri": "https://localhost:8080/"
        },
        "id": "mGF5tCZbB2pc",
        "outputId": "c3a2a309-417f-4048-d6c4-cc022375b505"
      },
      "execution_count": null,
      "outputs": [
        {
          "output_type": "stream",
          "name": "stdout",
          "text": [
            "Epoch 1/5\n",
            "1/1 [==============================] - 2s 2s/step - loss: 11.5048 - mae: 11.5048\n",
            "Epoch 2/5\n",
            "1/1 [==============================] - 0s 32ms/step - loss: 11.3723 - mae: 11.3723\n",
            "Epoch 3/5\n",
            "1/1 [==============================] - 0s 13ms/step - loss: 11.2398 - mae: 11.2398\n",
            "Epoch 4/5\n",
            "1/1 [==============================] - 0s 16ms/step - loss: 11.1073 - mae: 11.1073\n",
            "Epoch 5/5\n",
            "1/1 [==============================] - 0s 15ms/step - loss: 10.9748 - mae: 10.9748\n"
          ]
        },
        {
          "output_type": "execute_result",
          "data": {
            "text/plain": [
              "<keras.callbacks.History at 0x7f3f525d4ee0>"
            ]
          },
          "metadata": {},
          "execution_count": 11
        }
      ]
    },
    {
      "cell_type": "markdown",
      "source": [
        "REMEMBER .CAST TO CHANGE DTYPE"
      ],
      "metadata": {
        "id": "-D_18-KGFEFa"
      }
    },
    {
      "cell_type": "code",
      "source": [
        "y_pred = model.predict([17.])\n",
        "y_pred"
      ],
      "metadata": {
        "colab": {
          "base_uri": "https://localhost:8080/"
        },
        "id": "W5jcKUmzFZuj",
        "outputId": "a286a6eb-baa0-436e-c17f-79bbdbf18572"
      },
      "execution_count": null,
      "outputs": [
        {
          "output_type": "stream",
          "name": "stdout",
          "text": [
            "1/1 [==============================] - 0s 246ms/step\n"
          ]
        },
        {
          "output_type": "execute_result",
          "data": {
            "text/plain": [
              "array([[12.716021]], dtype=float32)"
            ]
          },
          "metadata": {},
          "execution_count": 12
        }
      ]
    },
    {
      "cell_type": "code",
      "source": [
        "y_pred + 11"
      ],
      "metadata": {
        "colab": {
          "base_uri": "https://localhost:8080/"
        },
        "id": "i5WiSZjrGDwE",
        "outputId": "00078809-f123-4424-f66a-f3c5ab188710"
      },
      "execution_count": null,
      "outputs": [
        {
          "output_type": "execute_result",
          "data": {
            "text/plain": [
              "array([[23.71602]], dtype=float32)"
            ]
          },
          "metadata": {},
          "execution_count": 13
        }
      ]
    },
    {
      "cell_type": "markdown",
      "source": [
        "Improve the model\n",
        "\n",
        "we can improve our mode, by altering the steps we took to create a model.\n",
        "\n",
        "**Creating a model** - here we might add more layers, increase the number of hidden units(all called neuros)\n",
        "within each of the hidden layers, change the activation function of each layer.\n",
        "**Compiling a model** - here we might change the optimization function or perhaps the **learning rate** of the optimization function.\n",
        "**Fitting a model** - Here we can add number of times that the model looks through the date(number of epochs)"
      ],
      "metadata": {
        "id": "bECBp5unGILL"
      }
    },
    {
      "cell_type": "code",
      "source": [
        "#Final Model\n",
        "\n",
        "model = tf.keras.Sequential([\n",
        "tf.keras.layers.Dense(100, activation=\"relu\"),\n",
        "tf.keras.layers.Dense(100, activation=\"relu\"),\n",
        "tf.keras.layers.Dense(100, activation=\"relu\"),\n",
        "tf.keras.layers.Dense(1)\n",
        "])\n",
        "\n",
        "model.compile(loss=tf.keras.losses.mae,\n",
        "              optimizer=tf.keras.optimizers.Adam(lr=0.0001), #or just use the string for stochastic gradient descent\n",
        "              metrics=[\"mae\"])\n",
        "\n",
        "model.fit(tf.expand_dims(X,axis=-1),Y, epochs=100)\n",
        "\n"
      ],
      "metadata": {
        "colab": {
          "base_uri": "https://localhost:8080/"
        },
        "id": "QC87VApVHkrB",
        "outputId": "01c41948-d459-4857-f36b-3acfca835440"
      },
      "execution_count": null,
      "outputs": [
        {
          "output_type": "stream",
          "name": "stderr",
          "text": [
            "/usr/local/lib/python3.8/dist-packages/keras/optimizers/optimizer_v2/adam.py:110: UserWarning: The `lr` argument is deprecated, use `learning_rate` instead.\n",
            "  super(Adam, self).__init__(name, **kwargs)\n"
          ]
        },
        {
          "output_type": "stream",
          "name": "stdout",
          "text": [
            "Epoch 1/100\n",
            "1/1 [==============================] - 2s 2s/step - loss: 14.3099 - mae: 14.3099\n",
            "Epoch 2/100\n",
            "1/1 [==============================] - 0s 21ms/step - loss: 14.2781 - mae: 14.2781\n",
            "Epoch 3/100\n",
            "1/1 [==============================] - 0s 18ms/step - loss: 14.2469 - mae: 14.2469\n",
            "Epoch 4/100\n",
            "1/1 [==============================] - 0s 39ms/step - loss: 14.2158 - mae: 14.2158\n",
            "Epoch 5/100\n",
            "1/1 [==============================] - 0s 55ms/step - loss: 14.1840 - mae: 14.1840\n",
            "Epoch 6/100\n",
            "1/1 [==============================] - 0s 18ms/step - loss: 14.1522 - mae: 14.1522\n",
            "Epoch 7/100\n",
            "1/1 [==============================] - 0s 25ms/step - loss: 14.1204 - mae: 14.1204\n",
            "Epoch 8/100\n",
            "1/1 [==============================] - 0s 23ms/step - loss: 14.0885 - mae: 14.0885\n",
            "Epoch 9/100\n",
            "1/1 [==============================] - 0s 14ms/step - loss: 14.0568 - mae: 14.0568\n",
            "Epoch 10/100\n",
            "1/1 [==============================] - 0s 29ms/step - loss: 14.0250 - mae: 14.0250\n",
            "Epoch 11/100\n",
            "1/1 [==============================] - 0s 27ms/step - loss: 13.9933 - mae: 13.9933\n",
            "Epoch 12/100\n",
            "1/1 [==============================] - 0s 41ms/step - loss: 13.9615 - mae: 13.9615\n",
            "Epoch 13/100\n",
            "1/1 [==============================] - 0s 26ms/step - loss: 13.9297 - mae: 13.9297\n",
            "Epoch 14/100\n",
            "1/1 [==============================] - 0s 22ms/step - loss: 13.8980 - mae: 13.8980\n",
            "Epoch 15/100\n",
            "1/1 [==============================] - 0s 36ms/step - loss: 13.8661 - mae: 13.8661\n",
            "Epoch 16/100\n",
            "1/1 [==============================] - 0s 35ms/step - loss: 13.8341 - mae: 13.8341\n",
            "Epoch 17/100\n",
            "1/1 [==============================] - 0s 54ms/step - loss: 13.8022 - mae: 13.8022\n",
            "Epoch 18/100\n",
            "1/1 [==============================] - 0s 18ms/step - loss: 13.7703 - mae: 13.7703\n",
            "Epoch 19/100\n",
            "1/1 [==============================] - 0s 23ms/step - loss: 13.7385 - mae: 13.7385\n",
            "Epoch 20/100\n",
            "1/1 [==============================] - 0s 33ms/step - loss: 13.7072 - mae: 13.7072\n",
            "Epoch 21/100\n",
            "1/1 [==============================] - 0s 29ms/step - loss: 13.6760 - mae: 13.6760\n",
            "Epoch 22/100\n",
            "1/1 [==============================] - 0s 18ms/step - loss: 13.6448 - mae: 13.6448\n",
            "Epoch 23/100\n",
            "1/1 [==============================] - 0s 19ms/step - loss: 13.6136 - mae: 13.6136\n",
            "Epoch 24/100\n",
            "1/1 [==============================] - 0s 30ms/step - loss: 13.5823 - mae: 13.5823\n",
            "Epoch 25/100\n",
            "1/1 [==============================] - 0s 28ms/step - loss: 13.5506 - mae: 13.5506\n",
            "Epoch 26/100\n",
            "1/1 [==============================] - 0s 29ms/step - loss: 13.5185 - mae: 13.5185\n",
            "Epoch 27/100\n",
            "1/1 [==============================] - 0s 25ms/step - loss: 13.4863 - mae: 13.4863\n",
            "Epoch 28/100\n",
            "1/1 [==============================] - 0s 28ms/step - loss: 13.4541 - mae: 13.4541\n",
            "Epoch 29/100\n",
            "1/1 [==============================] - 0s 27ms/step - loss: 13.4218 - mae: 13.4218\n",
            "Epoch 30/100\n",
            "1/1 [==============================] - 0s 28ms/step - loss: 13.3894 - mae: 13.3894\n",
            "Epoch 31/100\n",
            "1/1 [==============================] - 0s 27ms/step - loss: 13.3570 - mae: 13.3570\n",
            "Epoch 32/100\n",
            "1/1 [==============================] - 0s 27ms/step - loss: 13.3250 - mae: 13.3250\n",
            "Epoch 33/100\n",
            "1/1 [==============================] - 0s 26ms/step - loss: 13.2934 - mae: 13.2934\n",
            "Epoch 34/100\n",
            "1/1 [==============================] - 0s 25ms/step - loss: 13.2618 - mae: 13.2618\n",
            "Epoch 35/100\n",
            "1/1 [==============================] - 0s 29ms/step - loss: 13.2301 - mae: 13.2301\n",
            "Epoch 36/100\n",
            "1/1 [==============================] - 0s 48ms/step - loss: 13.1985 - mae: 13.1985\n",
            "Epoch 37/100\n",
            "1/1 [==============================] - 0s 34ms/step - loss: 13.1669 - mae: 13.1669\n",
            "Epoch 38/100\n",
            "1/1 [==============================] - 0s 23ms/step - loss: 13.1358 - mae: 13.1358\n",
            "Epoch 39/100\n",
            "1/1 [==============================] - 0s 35ms/step - loss: 13.1048 - mae: 13.1048\n",
            "Epoch 40/100\n",
            "1/1 [==============================] - 0s 31ms/step - loss: 13.0737 - mae: 13.0737\n",
            "Epoch 41/100\n",
            "1/1 [==============================] - 0s 43ms/step - loss: 13.0425 - mae: 13.0425\n",
            "Epoch 42/100\n",
            "1/1 [==============================] - 0s 56ms/step - loss: 13.0113 - mae: 13.0113\n",
            "Epoch 43/100\n",
            "1/1 [==============================] - 0s 15ms/step - loss: 12.9800 - mae: 12.9800\n",
            "Epoch 44/100\n",
            "1/1 [==============================] - 0s 29ms/step - loss: 12.9487 - mae: 12.9487\n",
            "Epoch 45/100\n",
            "1/1 [==============================] - 0s 24ms/step - loss: 12.9173 - mae: 12.9173\n",
            "Epoch 46/100\n",
            "1/1 [==============================] - 0s 23ms/step - loss: 12.8857 - mae: 12.8857\n",
            "Epoch 47/100\n",
            "1/1 [==============================] - 0s 26ms/step - loss: 12.8543 - mae: 12.8543\n",
            "Epoch 48/100\n",
            "1/1 [==============================] - 0s 22ms/step - loss: 12.8229 - mae: 12.8229\n",
            "Epoch 49/100\n",
            "1/1 [==============================] - 0s 40ms/step - loss: 12.7916 - mae: 12.7916\n",
            "Epoch 50/100\n",
            "1/1 [==============================] - 0s 16ms/step - loss: 12.7609 - mae: 12.7609\n",
            "Epoch 51/100\n",
            "1/1 [==============================] - 0s 62ms/step - loss: 12.7301 - mae: 12.7301\n",
            "Epoch 52/100\n",
            "1/1 [==============================] - 0s 17ms/step - loss: 12.6991 - mae: 12.6991\n",
            "Epoch 53/100\n",
            "1/1 [==============================] - 0s 25ms/step - loss: 12.6680 - mae: 12.6680\n",
            "Epoch 54/100\n",
            "1/1 [==============================] - 0s 17ms/step - loss: 12.6366 - mae: 12.6366\n",
            "Epoch 55/100\n",
            "1/1 [==============================] - 0s 19ms/step - loss: 12.6052 - mae: 12.6052\n",
            "Epoch 56/100\n",
            "1/1 [==============================] - 0s 38ms/step - loss: 12.5737 - mae: 12.5737\n",
            "Epoch 57/100\n",
            "1/1 [==============================] - 0s 24ms/step - loss: 12.5420 - mae: 12.5420\n",
            "Epoch 58/100\n",
            "1/1 [==============================] - 0s 39ms/step - loss: 12.5105 - mae: 12.5105\n",
            "Epoch 59/100\n",
            "1/1 [==============================] - 0s 39ms/step - loss: 12.4792 - mae: 12.4792\n",
            "Epoch 60/100\n",
            "1/1 [==============================] - 0s 72ms/step - loss: 12.4482 - mae: 12.4482\n",
            "Epoch 61/100\n",
            "1/1 [==============================] - 0s 55ms/step - loss: 12.4180 - mae: 12.4180\n",
            "Epoch 62/100\n",
            "1/1 [==============================] - 0s 44ms/step - loss: 12.3877 - mae: 12.3877\n",
            "Epoch 63/100\n",
            "1/1 [==============================] - 0s 35ms/step - loss: 12.3577 - mae: 12.3577\n",
            "Epoch 64/100\n",
            "1/1 [==============================] - 0s 33ms/step - loss: 12.3277 - mae: 12.3277\n",
            "Epoch 65/100\n",
            "1/1 [==============================] - 0s 52ms/step - loss: 12.2978 - mae: 12.2978\n",
            "Epoch 66/100\n",
            "1/1 [==============================] - 0s 80ms/step - loss: 12.2681 - mae: 12.2681\n",
            "Epoch 67/100\n",
            "1/1 [==============================] - 0s 30ms/step - loss: 12.2389 - mae: 12.2389\n",
            "Epoch 68/100\n",
            "1/1 [==============================] - 0s 56ms/step - loss: 12.2095 - mae: 12.2095\n",
            "Epoch 69/100\n",
            "1/1 [==============================] - 0s 56ms/step - loss: 12.1800 - mae: 12.1800\n",
            "Epoch 70/100\n",
            "1/1 [==============================] - 0s 64ms/step - loss: 12.1502 - mae: 12.1502\n",
            "Epoch 71/100\n",
            "1/1 [==============================] - 0s 76ms/step - loss: 12.1204 - mae: 12.1204\n",
            "Epoch 72/100\n",
            "1/1 [==============================] - 0s 44ms/step - loss: 12.0907 - mae: 12.0907\n",
            "Epoch 73/100\n",
            "1/1 [==============================] - 0s 20ms/step - loss: 12.0613 - mae: 12.0613\n",
            "Epoch 74/100\n",
            "1/1 [==============================] - 0s 34ms/step - loss: 12.0319 - mae: 12.0319\n",
            "Epoch 75/100\n",
            "1/1 [==============================] - 0s 38ms/step - loss: 12.0022 - mae: 12.0022\n",
            "Epoch 76/100\n",
            "1/1 [==============================] - 0s 37ms/step - loss: 11.9723 - mae: 11.9723\n",
            "Epoch 77/100\n",
            "1/1 [==============================] - 0s 22ms/step - loss: 11.9420 - mae: 11.9420\n",
            "Epoch 78/100\n",
            "1/1 [==============================] - 0s 11ms/step - loss: 11.9114 - mae: 11.9114\n",
            "Epoch 79/100\n",
            "1/1 [==============================] - 0s 16ms/step - loss: 11.8806 - mae: 11.8806\n",
            "Epoch 80/100\n",
            "1/1 [==============================] - 0s 31ms/step - loss: 11.8494 - mae: 11.8494\n",
            "Epoch 81/100\n",
            "1/1 [==============================] - 0s 55ms/step - loss: 11.8178 - mae: 11.8178\n",
            "Epoch 82/100\n",
            "1/1 [==============================] - 0s 28ms/step - loss: 11.7860 - mae: 11.7860\n",
            "Epoch 83/100\n",
            "1/1 [==============================] - 0s 49ms/step - loss: 11.7540 - mae: 11.7540\n",
            "Epoch 84/100\n",
            "1/1 [==============================] - 0s 29ms/step - loss: 11.7217 - mae: 11.7217\n",
            "Epoch 85/100\n",
            "1/1 [==============================] - 0s 28ms/step - loss: 11.6893 - mae: 11.6893\n",
            "Epoch 86/100\n",
            "1/1 [==============================] - 0s 25ms/step - loss: 11.6571 - mae: 11.6571\n",
            "Epoch 87/100\n",
            "1/1 [==============================] - 0s 25ms/step - loss: 11.6248 - mae: 11.6248\n",
            "Epoch 88/100\n",
            "1/1 [==============================] - 0s 34ms/step - loss: 11.5923 - mae: 11.5923\n",
            "Epoch 89/100\n",
            "1/1 [==============================] - 0s 26ms/step - loss: 11.5597 - mae: 11.5597\n",
            "Epoch 90/100\n",
            "1/1 [==============================] - 0s 19ms/step - loss: 11.5270 - mae: 11.5270\n",
            "Epoch 91/100\n",
            "1/1 [==============================] - 0s 12ms/step - loss: 11.4942 - mae: 11.4942\n",
            "Epoch 92/100\n",
            "1/1 [==============================] - 0s 14ms/step - loss: 11.4613 - mae: 11.4613\n",
            "Epoch 93/100\n",
            "1/1 [==============================] - 0s 18ms/step - loss: 11.4281 - mae: 11.4281\n",
            "Epoch 94/100\n",
            "1/1 [==============================] - 0s 47ms/step - loss: 11.3946 - mae: 11.3946\n",
            "Epoch 95/100\n",
            "1/1 [==============================] - 0s 25ms/step - loss: 11.3608 - mae: 11.3608\n",
            "Epoch 96/100\n",
            "1/1 [==============================] - 0s 27ms/step - loss: 11.3267 - mae: 11.3267\n",
            "Epoch 97/100\n",
            "1/1 [==============================] - 0s 21ms/step - loss: 11.2923 - mae: 11.2923\n",
            "Epoch 98/100\n",
            "1/1 [==============================] - 0s 67ms/step - loss: 11.2575 - mae: 11.2575\n",
            "Epoch 99/100\n",
            "1/1 [==============================] - 0s 106ms/step - loss: 11.2223 - mae: 11.2223\n",
            "Epoch 100/100\n",
            "1/1 [==============================] - 0s 11ms/step - loss: 11.1868 - mae: 11.1868\n"
          ]
        },
        {
          "output_type": "execute_result",
          "data": {
            "text/plain": [
              "<keras.callbacks.History at 0x7f3f524e65b0>"
            ]
          },
          "metadata": {},
          "execution_count": 14
        }
      ]
    },
    {
      "cell_type": "code",
      "source": [
        "#Create a model (specified to your problem)\n",
        "# Set random seed\n",
        "tf.random.set_seed(42)\n",
        "\n",
        "model = tf.keras.Sequential([\n",
        "  tf.keras.layers.Dense(1)                             \n",
        "])\n",
        "\n",
        "#Compile\n",
        "\n",
        "model.compile(loss=tf.keras.losses.mae,\n",
        "              optimizer=tf.keras.optimizers.SGD(), #or just use the string for stochastic gradient descent\n",
        "              metrics=[\"mae\"])\n",
        "\n",
        "#Fit\n",
        "model.fit(tf.expand_dims(X,axis=-1),Y, epochs=100)\n"
      ],
      "metadata": {
        "colab": {
          "base_uri": "https://localhost:8080/"
        },
        "outputId": "dca3451f-593f-45e0-babd-8f2dc6b296aa",
        "id": "jCcBkdxDIEIU"
      },
      "execution_count": null,
      "outputs": [
        {
          "output_type": "stream",
          "name": "stdout",
          "text": [
            "Epoch 1/100\n",
            "1/1 [==============================] - 1s 577ms/step - loss: 11.5048 - mae: 11.5048\n",
            "Epoch 2/100\n",
            "1/1 [==============================] - 0s 10ms/step - loss: 11.3723 - mae: 11.3723\n",
            "Epoch 3/100\n",
            "1/1 [==============================] - 0s 8ms/step - loss: 11.2398 - mae: 11.2398\n",
            "Epoch 4/100\n",
            "1/1 [==============================] - 0s 6ms/step - loss: 11.1073 - mae: 11.1073\n",
            "Epoch 5/100\n",
            "1/1 [==============================] - 0s 8ms/step - loss: 10.9748 - mae: 10.9748\n",
            "Epoch 6/100\n",
            "1/1 [==============================] - 0s 7ms/step - loss: 10.8423 - mae: 10.8423\n",
            "Epoch 7/100\n",
            "1/1 [==============================] - 0s 7ms/step - loss: 10.7098 - mae: 10.7098\n",
            "Epoch 8/100\n",
            "1/1 [==============================] - 0s 9ms/step - loss: 10.5773 - mae: 10.5773\n",
            "Epoch 9/100\n",
            "1/1 [==============================] - 0s 8ms/step - loss: 10.4448 - mae: 10.4448\n",
            "Epoch 10/100\n",
            "1/1 [==============================] - 0s 8ms/step - loss: 10.3123 - mae: 10.3123\n",
            "Epoch 11/100\n",
            "1/1 [==============================] - 0s 6ms/step - loss: 10.1798 - mae: 10.1798\n",
            "Epoch 12/100\n",
            "1/1 [==============================] - 0s 21ms/step - loss: 10.0473 - mae: 10.0473\n",
            "Epoch 13/100\n",
            "1/1 [==============================] - 0s 25ms/step - loss: 9.9148 - mae: 9.9148\n",
            "Epoch 14/100\n",
            "1/1 [==============================] - 0s 13ms/step - loss: 9.7823 - mae: 9.7823\n",
            "Epoch 15/100\n",
            "1/1 [==============================] - 0s 36ms/step - loss: 9.6498 - mae: 9.6498\n",
            "Epoch 16/100\n",
            "1/1 [==============================] - 0s 6ms/step - loss: 9.5173 - mae: 9.5173\n",
            "Epoch 17/100\n",
            "1/1 [==============================] - 0s 7ms/step - loss: 9.3848 - mae: 9.3848\n",
            "Epoch 18/100\n",
            "1/1 [==============================] - 0s 7ms/step - loss: 9.2523 - mae: 9.2523\n",
            "Epoch 19/100\n",
            "1/1 [==============================] - 0s 8ms/step - loss: 9.1198 - mae: 9.1198\n",
            "Epoch 20/100\n",
            "1/1 [==============================] - 0s 8ms/step - loss: 8.9873 - mae: 8.9873\n",
            "Epoch 21/100\n",
            "1/1 [==============================] - 0s 12ms/step - loss: 8.8548 - mae: 8.8548\n",
            "Epoch 22/100\n",
            "1/1 [==============================] - 0s 18ms/step - loss: 8.7223 - mae: 8.7223\n",
            "Epoch 23/100\n",
            "1/1 [==============================] - 0s 10ms/step - loss: 8.5898 - mae: 8.5898\n",
            "Epoch 24/100\n",
            "1/1 [==============================] - 0s 10ms/step - loss: 8.4573 - mae: 8.4573\n",
            "Epoch 25/100\n",
            "1/1 [==============================] - 0s 14ms/step - loss: 8.3248 - mae: 8.3248\n",
            "Epoch 26/100\n",
            "1/1 [==============================] - 0s 8ms/step - loss: 8.1923 - mae: 8.1923\n",
            "Epoch 27/100\n",
            "1/1 [==============================] - 0s 20ms/step - loss: 8.0598 - mae: 8.0598\n",
            "Epoch 28/100\n",
            "1/1 [==============================] - 0s 13ms/step - loss: 7.9273 - mae: 7.9273\n",
            "Epoch 29/100\n",
            "1/1 [==============================] - 0s 11ms/step - loss: 7.7948 - mae: 7.7948\n",
            "Epoch 30/100\n",
            "1/1 [==============================] - 0s 16ms/step - loss: 7.6623 - mae: 7.6623\n",
            "Epoch 31/100\n",
            "1/1 [==============================] - 0s 61ms/step - loss: 7.5298 - mae: 7.5298\n",
            "Epoch 32/100\n",
            "1/1 [==============================] - 0s 18ms/step - loss: 7.3973 - mae: 7.3973\n",
            "Epoch 33/100\n",
            "1/1 [==============================] - 0s 17ms/step - loss: 7.2648 - mae: 7.2648\n",
            "Epoch 34/100\n",
            "1/1 [==============================] - 0s 10ms/step - loss: 7.2525 - mae: 7.2525\n",
            "Epoch 35/100\n",
            "1/1 [==============================] - 0s 19ms/step - loss: 7.2469 - mae: 7.2469\n",
            "Epoch 36/100\n",
            "1/1 [==============================] - 0s 20ms/step - loss: 7.2413 - mae: 7.2413\n",
            "Epoch 37/100\n",
            "1/1 [==============================] - 0s 24ms/step - loss: 7.2356 - mae: 7.2356\n",
            "Epoch 38/100\n",
            "1/1 [==============================] - 0s 82ms/step - loss: 7.2300 - mae: 7.2300\n",
            "Epoch 39/100\n",
            "1/1 [==============================] - 0s 49ms/step - loss: 7.2244 - mae: 7.2244\n",
            "Epoch 40/100\n",
            "1/1 [==============================] - 0s 49ms/step - loss: 7.2188 - mae: 7.2188\n",
            "Epoch 41/100\n",
            "1/1 [==============================] - 0s 53ms/step - loss: 7.2131 - mae: 7.2131\n",
            "Epoch 42/100\n",
            "1/1 [==============================] - 0s 51ms/step - loss: 7.2075 - mae: 7.2075\n",
            "Epoch 43/100\n",
            "1/1 [==============================] - 0s 48ms/step - loss: 7.2019 - mae: 7.2019\n",
            "Epoch 44/100\n",
            "1/1 [==============================] - 0s 31ms/step - loss: 7.1963 - mae: 7.1963\n",
            "Epoch 45/100\n",
            "1/1 [==============================] - 0s 86ms/step - loss: 7.1906 - mae: 7.1906\n",
            "Epoch 46/100\n",
            "1/1 [==============================] - 0s 53ms/step - loss: 7.1850 - mae: 7.1850\n",
            "Epoch 47/100\n",
            "1/1 [==============================] - 0s 52ms/step - loss: 7.1794 - mae: 7.1794\n",
            "Epoch 48/100\n",
            "1/1 [==============================] - 0s 48ms/step - loss: 7.1738 - mae: 7.1738\n",
            "Epoch 49/100\n",
            "1/1 [==============================] - 0s 27ms/step - loss: 7.1681 - mae: 7.1681\n",
            "Epoch 50/100\n",
            "1/1 [==============================] - 0s 26ms/step - loss: 7.1625 - mae: 7.1625\n",
            "Epoch 51/100\n",
            "1/1 [==============================] - 0s 22ms/step - loss: 7.1569 - mae: 7.1569\n",
            "Epoch 52/100\n",
            "1/1 [==============================] - 0s 23ms/step - loss: 7.1512 - mae: 7.1512\n",
            "Epoch 53/100\n",
            "1/1 [==============================] - 0s 48ms/step - loss: 7.1456 - mae: 7.1456\n",
            "Epoch 54/100\n",
            "1/1 [==============================] - 0s 18ms/step - loss: 7.1400 - mae: 7.1400\n",
            "Epoch 55/100\n",
            "1/1 [==============================] - 0s 17ms/step - loss: 7.1344 - mae: 7.1344\n",
            "Epoch 56/100\n",
            "1/1 [==============================] - 0s 51ms/step - loss: 7.1287 - mae: 7.1287\n",
            "Epoch 57/100\n",
            "1/1 [==============================] - 0s 36ms/step - loss: 7.1231 - mae: 7.1231\n",
            "Epoch 58/100\n",
            "1/1 [==============================] - 0s 19ms/step - loss: 7.1175 - mae: 7.1175\n",
            "Epoch 59/100\n",
            "1/1 [==============================] - 0s 28ms/step - loss: 7.1119 - mae: 7.1119\n",
            "Epoch 60/100\n",
            "1/1 [==============================] - 0s 19ms/step - loss: 7.1063 - mae: 7.1063\n",
            "Epoch 61/100\n",
            "1/1 [==============================] - 0s 24ms/step - loss: 7.1006 - mae: 7.1006\n",
            "Epoch 62/100\n",
            "1/1 [==============================] - 0s 39ms/step - loss: 7.0950 - mae: 7.0950\n",
            "Epoch 63/100\n",
            "1/1 [==============================] - 0s 36ms/step - loss: 7.0894 - mae: 7.0894\n",
            "Epoch 64/100\n",
            "1/1 [==============================] - 0s 33ms/step - loss: 7.0838 - mae: 7.0838\n",
            "Epoch 65/100\n",
            "1/1 [==============================] - 0s 27ms/step - loss: 7.0781 - mae: 7.0781\n",
            "Epoch 66/100\n",
            "1/1 [==============================] - 0s 26ms/step - loss: 7.0725 - mae: 7.0725\n",
            "Epoch 67/100\n",
            "1/1 [==============================] - 0s 17ms/step - loss: 7.0669 - mae: 7.0669\n",
            "Epoch 68/100\n",
            "1/1 [==============================] - 0s 20ms/step - loss: 7.0613 - mae: 7.0613\n",
            "Epoch 69/100\n",
            "1/1 [==============================] - 0s 17ms/step - loss: 7.0556 - mae: 7.0556\n",
            "Epoch 70/100\n",
            "1/1 [==============================] - 0s 15ms/step - loss: 7.0500 - mae: 7.0500\n",
            "Epoch 71/100\n",
            "1/1 [==============================] - 0s 16ms/step - loss: 7.0444 - mae: 7.0444\n",
            "Epoch 72/100\n",
            "1/1 [==============================] - 0s 31ms/step - loss: 7.0388 - mae: 7.0388\n",
            "Epoch 73/100\n",
            "1/1 [==============================] - 0s 15ms/step - loss: 7.0331 - mae: 7.0331\n",
            "Epoch 74/100\n",
            "1/1 [==============================] - 0s 14ms/step - loss: 7.0275 - mae: 7.0275\n",
            "Epoch 75/100\n",
            "1/1 [==============================] - 0s 13ms/step - loss: 7.0219 - mae: 7.0219\n",
            "Epoch 76/100\n",
            "1/1 [==============================] - 0s 7ms/step - loss: 7.0163 - mae: 7.0163\n",
            "Epoch 77/100\n",
            "1/1 [==============================] - 0s 9ms/step - loss: 7.0106 - mae: 7.0106\n",
            "Epoch 78/100\n",
            "1/1 [==============================] - 0s 8ms/step - loss: 7.0050 - mae: 7.0050\n",
            "Epoch 79/100\n",
            "1/1 [==============================] - 0s 9ms/step - loss: 6.9994 - mae: 6.9994\n",
            "Epoch 80/100\n",
            "1/1 [==============================] - 0s 24ms/step - loss: 6.9938 - mae: 6.9938\n",
            "Epoch 81/100\n",
            "1/1 [==============================] - 0s 52ms/step - loss: 6.9881 - mae: 6.9881\n",
            "Epoch 82/100\n",
            "1/1 [==============================] - 0s 19ms/step - loss: 6.9825 - mae: 6.9825\n",
            "Epoch 83/100\n",
            "1/1 [==============================] - 0s 101ms/step - loss: 6.9769 - mae: 6.9769\n",
            "Epoch 84/100\n",
            "1/1 [==============================] - 0s 12ms/step - loss: 6.9713 - mae: 6.9713\n",
            "Epoch 85/100\n",
            "1/1 [==============================] - 0s 69ms/step - loss: 6.9656 - mae: 6.9656\n",
            "Epoch 86/100\n",
            "1/1 [==============================] - 0s 15ms/step - loss: 6.9600 - mae: 6.9600\n",
            "Epoch 87/100\n",
            "1/1 [==============================] - 0s 13ms/step - loss: 6.9544 - mae: 6.9544\n",
            "Epoch 88/100\n",
            "1/1 [==============================] - 0s 18ms/step - loss: 6.9488 - mae: 6.9488\n",
            "Epoch 89/100\n",
            "1/1 [==============================] - 0s 44ms/step - loss: 6.9431 - mae: 6.9431\n",
            "Epoch 90/100\n",
            "1/1 [==============================] - 0s 11ms/step - loss: 6.9375 - mae: 6.9375\n",
            "Epoch 91/100\n",
            "1/1 [==============================] - 0s 16ms/step - loss: 6.9319 - mae: 6.9319\n",
            "Epoch 92/100\n",
            "1/1 [==============================] - 0s 17ms/step - loss: 6.9263 - mae: 6.9263\n",
            "Epoch 93/100\n",
            "1/1 [==============================] - 0s 12ms/step - loss: 6.9206 - mae: 6.9206\n",
            "Epoch 94/100\n",
            "1/1 [==============================] - 0s 10ms/step - loss: 6.9150 - mae: 6.9150\n",
            "Epoch 95/100\n",
            "1/1 [==============================] - 0s 19ms/step - loss: 6.9094 - mae: 6.9094\n",
            "Epoch 96/100\n",
            "1/1 [==============================] - 0s 21ms/step - loss: 6.9038 - mae: 6.9038\n",
            "Epoch 97/100\n",
            "1/1 [==============================] - 0s 13ms/step - loss: 6.8981 - mae: 6.8981\n",
            "Epoch 98/100\n",
            "1/1 [==============================] - 0s 21ms/step - loss: 6.8925 - mae: 6.8925\n",
            "Epoch 99/100\n",
            "1/1 [==============================] - 0s 31ms/step - loss: 6.8869 - mae: 6.8869\n",
            "Epoch 100/100\n",
            "1/1 [==============================] - 0s 62ms/step - loss: 6.8813 - mae: 6.8813\n"
          ]
        },
        {
          "output_type": "execute_result",
          "data": {
            "text/plain": [
              "<keras.callbacks.History at 0x7f3f524188e0>"
            ]
          },
          "metadata": {},
          "execution_count": 15
        }
      ]
    },
    {
      "cell_type": "code",
      "source": [
        "X, Y"
      ],
      "metadata": {
        "colab": {
          "base_uri": "https://localhost:8080/"
        },
        "id": "f0ecJTglGttT",
        "outputId": "09cc8fc0-6825-4bea-80b9-dd846b8bd7e7"
      },
      "execution_count": null,
      "outputs": [
        {
          "output_type": "execute_result",
          "data": {
            "text/plain": [
              "(<tf.Tensor: shape=(8,), dtype=float64, numpy=array([-7., -4., -1.,  2.,  5.,  8., 11., 14.])>,\n",
              " <tf.Tensor: shape=(8,), dtype=float64, numpy=array([ 3.,  6.,  9., 12., 15., 18., 21., 24.])>)"
            ]
          },
          "metadata": {},
          "execution_count": 16
        }
      ]
    },
    {
      "cell_type": "code",
      "source": [
        "model.predict([17.])"
      ],
      "metadata": {
        "colab": {
          "base_uri": "https://localhost:8080/"
        },
        "id": "ybZG4G5vJdb7",
        "outputId": "8b9f84ef-1cc3-492d-d209-6c790b6f3df0"
      },
      "execution_count": null,
      "outputs": [
        {
          "output_type": "stream",
          "name": "stdout",
          "text": [
            "1/1 [==============================] - 0s 362ms/step\n"
          ]
        },
        {
          "output_type": "execute_result",
          "data": {
            "text/plain": [
              "array([[30.158512]], dtype=float32)"
            ]
          },
          "metadata": {},
          "execution_count": 17
        }
      ]
    },
    {
      "cell_type": "code",
      "source": [
        "tf.random.set_seed(42)\n",
        "\n",
        "model = tf.keras.Sequential([\n",
        "    tf.keras.layers.Dense(100, activation=\"relu\"),\n",
        "    tf.keras.layers.Dense(1)\n",
        "])\n",
        "\n",
        "model.compile(loss=tf.keras.losses.mae,\n",
        "              optimizer=tf.keras.optimizers.Adam(lr=0.01),\n",
        "              metrics=[\"mae\"])\n",
        "\n",
        "model.fit(tf.expand_dims(X,axis=-1),Y, epochs=100)"
      ],
      "metadata": {
        "colab": {
          "base_uri": "https://localhost:8080/"
        },
        "id": "cDahBSCKJ1xj",
        "outputId": "89a6c33a-5d24-4066-c84b-86eab911eb80"
      },
      "execution_count": null,
      "outputs": [
        {
          "output_type": "stream",
          "name": "stdout",
          "text": [
            "Epoch 1/100\n",
            "1/1 [==============================] - 1s 1s/step - loss: 12.3185 - mae: 12.3185\n",
            "Epoch 2/100\n",
            "1/1 [==============================] - 0s 17ms/step - loss: 11.4382 - mae: 11.4382\n",
            "Epoch 3/100\n",
            "1/1 [==============================] - 0s 19ms/step - loss: 10.5494 - mae: 10.5494\n",
            "Epoch 4/100\n",
            "1/1 [==============================] - 0s 33ms/step - loss: 9.7152 - mae: 9.7152\n",
            "Epoch 5/100\n",
            "1/1 [==============================] - 0s 22ms/step - loss: 9.0090 - mae: 9.0090\n",
            "Epoch 6/100\n",
            "1/1 [==============================] - 0s 23ms/step - loss: 8.2746 - mae: 8.2746\n",
            "Epoch 7/100\n",
            "1/1 [==============================] - 0s 19ms/step - loss: 7.5151 - mae: 7.5151\n",
            "Epoch 8/100\n",
            "1/1 [==============================] - 0s 28ms/step - loss: 6.7230 - mae: 6.7230\n",
            "Epoch 9/100\n",
            "1/1 [==============================] - 0s 15ms/step - loss: 5.8980 - mae: 5.8980\n",
            "Epoch 10/100\n",
            "1/1 [==============================] - 0s 14ms/step - loss: 5.0336 - mae: 5.0336\n",
            "Epoch 11/100\n",
            "1/1 [==============================] - 0s 14ms/step - loss: 4.1246 - mae: 4.1246\n",
            "Epoch 12/100\n",
            "1/1 [==============================] - 0s 15ms/step - loss: 3.7511 - mae: 3.7511\n",
            "Epoch 13/100\n",
            "1/1 [==============================] - 0s 17ms/step - loss: 3.9158 - mae: 3.9158\n",
            "Epoch 14/100\n",
            "1/1 [==============================] - 0s 21ms/step - loss: 4.1521 - mae: 4.1521\n",
            "Epoch 15/100\n",
            "1/1 [==============================] - 0s 18ms/step - loss: 4.5077 - mae: 4.5077\n",
            "Epoch 16/100\n",
            "1/1 [==============================] - 0s 15ms/step - loss: 4.7397 - mae: 4.7397\n",
            "Epoch 17/100\n",
            "1/1 [==============================] - 0s 21ms/step - loss: 4.8614 - mae: 4.8614\n",
            "Epoch 18/100\n",
            "1/1 [==============================] - 0s 16ms/step - loss: 4.8871 - mae: 4.8871\n",
            "Epoch 19/100\n",
            "1/1 [==============================] - 0s 19ms/step - loss: 4.8299 - mae: 4.8299\n",
            "Epoch 20/100\n",
            "1/1 [==============================] - 0s 17ms/step - loss: 4.7016 - mae: 4.7016\n",
            "Epoch 21/100\n",
            "1/1 [==============================] - 0s 15ms/step - loss: 4.5153 - mae: 4.5153\n",
            "Epoch 22/100\n",
            "1/1 [==============================] - 0s 18ms/step - loss: 4.2833 - mae: 4.2833\n",
            "Epoch 23/100\n",
            "1/1 [==============================] - 0s 22ms/step - loss: 4.0132 - mae: 4.0132\n",
            "Epoch 24/100\n",
            "1/1 [==============================] - 0s 28ms/step - loss: 3.7305 - mae: 3.7305\n",
            "Epoch 25/100\n",
            "1/1 [==============================] - 0s 17ms/step - loss: 3.6061 - mae: 3.6061\n",
            "Epoch 26/100\n",
            "1/1 [==============================] - 0s 18ms/step - loss: 3.4817 - mae: 3.4817\n",
            "Epoch 27/100\n",
            "1/1 [==============================] - 0s 20ms/step - loss: 3.3552 - mae: 3.3552\n",
            "Epoch 28/100\n",
            "1/1 [==============================] - 0s 22ms/step - loss: 3.3430 - mae: 3.3430\n",
            "Epoch 29/100\n",
            "1/1 [==============================] - 0s 18ms/step - loss: 3.3752 - mae: 3.3752\n",
            "Epoch 30/100\n",
            "1/1 [==============================] - 0s 33ms/step - loss: 3.3967 - mae: 3.3967\n",
            "Epoch 31/100\n",
            "1/1 [==============================] - 0s 10ms/step - loss: 3.3853 - mae: 3.3853\n",
            "Epoch 32/100\n",
            "1/1 [==============================] - 0s 14ms/step - loss: 3.3337 - mae: 3.3337\n",
            "Epoch 33/100\n",
            "1/1 [==============================] - 0s 14ms/step - loss: 3.2754 - mae: 3.2754\n",
            "Epoch 34/100\n",
            "1/1 [==============================] - 0s 15ms/step - loss: 3.1896 - mae: 3.1896\n",
            "Epoch 35/100\n",
            "1/1 [==============================] - 0s 15ms/step - loss: 3.0763 - mae: 3.0763\n",
            "Epoch 36/100\n",
            "1/1 [==============================] - 0s 19ms/step - loss: 2.9381 - mae: 2.9381\n",
            "Epoch 37/100\n",
            "1/1 [==============================] - 0s 7ms/step - loss: 2.8169 - mae: 2.8169\n",
            "Epoch 38/100\n",
            "1/1 [==============================] - 0s 16ms/step - loss: 2.7896 - mae: 2.7896\n",
            "Epoch 39/100\n",
            "1/1 [==============================] - 0s 8ms/step - loss: 2.7367 - mae: 2.7367\n",
            "Epoch 40/100\n",
            "1/1 [==============================] - 0s 12ms/step - loss: 2.7003 - mae: 2.7003\n",
            "Epoch 41/100\n",
            "1/1 [==============================] - 0s 13ms/step - loss: 2.5916 - mae: 2.5916\n",
            "Epoch 42/100\n",
            "1/1 [==============================] - 0s 16ms/step - loss: 2.4901 - mae: 2.4901\n",
            "Epoch 43/100\n",
            "1/1 [==============================] - 0s 48ms/step - loss: 2.3889 - mae: 2.3889\n",
            "Epoch 44/100\n",
            "1/1 [==============================] - 0s 60ms/step - loss: 2.2773 - mae: 2.2773\n",
            "Epoch 45/100\n",
            "1/1 [==============================] - 0s 8ms/step - loss: 2.1486 - mae: 2.1486\n",
            "Epoch 46/100\n",
            "1/1 [==============================] - 0s 24ms/step - loss: 2.0120 - mae: 2.0120\n",
            "Epoch 47/100\n",
            "1/1 [==============================] - 0s 10ms/step - loss: 1.8716 - mae: 1.8716\n",
            "Epoch 48/100\n",
            "1/1 [==============================] - 0s 16ms/step - loss: 1.8010 - mae: 1.8010\n",
            "Epoch 49/100\n",
            "1/1 [==============================] - 0s 24ms/step - loss: 1.6817 - mae: 1.6817\n",
            "Epoch 50/100\n",
            "1/1 [==============================] - 0s 12ms/step - loss: 1.4949 - mae: 1.4949\n",
            "Epoch 51/100\n",
            "1/1 [==============================] - 0s 10ms/step - loss: 1.3659 - mae: 1.3659\n",
            "Epoch 52/100\n",
            "1/1 [==============================] - 0s 11ms/step - loss: 1.2458 - mae: 1.2458\n",
            "Epoch 53/100\n",
            "1/1 [==============================] - 0s 13ms/step - loss: 1.1011 - mae: 1.1011\n",
            "Epoch 54/100\n",
            "1/1 [==============================] - 0s 14ms/step - loss: 0.9050 - mae: 0.9050\n",
            "Epoch 55/100\n",
            "1/1 [==============================] - 0s 11ms/step - loss: 0.7032 - mae: 0.7032\n",
            "Epoch 56/100\n",
            "1/1 [==============================] - 0s 20ms/step - loss: 0.4866 - mae: 0.4866\n",
            "Epoch 57/100\n",
            "1/1 [==============================] - 0s 8ms/step - loss: 0.3925 - mae: 0.3925\n",
            "Epoch 58/100\n",
            "1/1 [==============================] - 0s 8ms/step - loss: 0.2727 - mae: 0.2727\n",
            "Epoch 59/100\n",
            "1/1 [==============================] - 0s 12ms/step - loss: 0.2035 - mae: 0.2035\n",
            "Epoch 60/100\n",
            "1/1 [==============================] - 0s 14ms/step - loss: 0.4177 - mae: 0.4177\n",
            "Epoch 61/100\n",
            "1/1 [==============================] - 0s 14ms/step - loss: 0.3904 - mae: 0.3904\n",
            "Epoch 62/100\n",
            "1/1 [==============================] - 0s 20ms/step - loss: 0.4483 - mae: 0.4483\n",
            "Epoch 63/100\n",
            "1/1 [==============================] - 0s 13ms/step - loss: 0.4128 - mae: 0.4128\n",
            "Epoch 64/100\n",
            "1/1 [==============================] - 0s 10ms/step - loss: 0.5029 - mae: 0.5029\n",
            "Epoch 65/100\n",
            "1/1 [==============================] - 0s 14ms/step - loss: 0.4210 - mae: 0.4210\n",
            "Epoch 66/100\n",
            "1/1 [==============================] - 0s 10ms/step - loss: 0.4623 - mae: 0.4623\n",
            "Epoch 67/100\n",
            "1/1 [==============================] - 0s 47ms/step - loss: 0.3584 - mae: 0.3584\n",
            "Epoch 68/100\n",
            "1/1 [==============================] - 0s 15ms/step - loss: 0.3169 - mae: 0.3169\n",
            "Epoch 69/100\n",
            "1/1 [==============================] - 0s 12ms/step - loss: 0.2630 - mae: 0.2630\n",
            "Epoch 70/100\n",
            "1/1 [==============================] - 0s 17ms/step - loss: 0.2135 - mae: 0.2135\n",
            "Epoch 71/100\n",
            "1/1 [==============================] - 0s 12ms/step - loss: 0.1765 - mae: 0.1765\n",
            "Epoch 72/100\n",
            "1/1 [==============================] - 0s 28ms/step - loss: 0.3350 - mae: 0.3350\n",
            "Epoch 73/100\n",
            "1/1 [==============================] - 0s 29ms/step - loss: 0.3267 - mae: 0.3267\n",
            "Epoch 74/100\n",
            "1/1 [==============================] - 0s 20ms/step - loss: 0.1933 - mae: 0.1933\n",
            "Epoch 75/100\n",
            "1/1 [==============================] - 0s 33ms/step - loss: 0.2845 - mae: 0.2845\n",
            "Epoch 76/100\n",
            "1/1 [==============================] - 0s 18ms/step - loss: 0.1706 - mae: 0.1706\n",
            "Epoch 77/100\n",
            "1/1 [==============================] - 0s 18ms/step - loss: 0.1886 - mae: 0.1886\n",
            "Epoch 78/100\n",
            "1/1 [==============================] - 0s 21ms/step - loss: 0.2379 - mae: 0.2379\n",
            "Epoch 79/100\n",
            "1/1 [==============================] - 0s 21ms/step - loss: 0.2396 - mae: 0.2396\n",
            "Epoch 80/100\n",
            "1/1 [==============================] - 0s 21ms/step - loss: 0.2633 - mae: 0.2633\n",
            "Epoch 81/100\n",
            "1/1 [==============================] - 0s 14ms/step - loss: 0.1766 - mae: 0.1766\n",
            "Epoch 82/100\n",
            "1/1 [==============================] - 0s 17ms/step - loss: 0.2349 - mae: 0.2349\n",
            "Epoch 83/100\n",
            "1/1 [==============================] - 0s 24ms/step - loss: 0.1657 - mae: 0.1657\n",
            "Epoch 84/100\n",
            "1/1 [==============================] - 0s 22ms/step - loss: 0.2313 - mae: 0.2313\n",
            "Epoch 85/100\n",
            "1/1 [==============================] - 0s 49ms/step - loss: 0.1406 - mae: 0.1406\n",
            "Epoch 86/100\n",
            "1/1 [==============================] - 0s 19ms/step - loss: 0.2704 - mae: 0.2704\n",
            "Epoch 87/100\n",
            "1/1 [==============================] - 0s 16ms/step - loss: 0.2625 - mae: 0.2625\n",
            "Epoch 88/100\n",
            "1/1 [==============================] - 0s 21ms/step - loss: 0.1244 - mae: 0.1244\n",
            "Epoch 89/100\n",
            "1/1 [==============================] - 0s 16ms/step - loss: 0.2429 - mae: 0.2429\n",
            "Epoch 90/100\n",
            "1/1 [==============================] - 0s 15ms/step - loss: 0.1039 - mae: 0.1039\n",
            "Epoch 91/100\n",
            "1/1 [==============================] - 0s 15ms/step - loss: 0.3054 - mae: 0.3054\n",
            "Epoch 92/100\n",
            "1/1 [==============================] - 0s 14ms/step - loss: 0.2531 - mae: 0.2531\n",
            "Epoch 93/100\n",
            "1/1 [==============================] - 0s 10ms/step - loss: 0.1150 - mae: 0.1150\n",
            "Epoch 94/100\n",
            "1/1 [==============================] - 0s 12ms/step - loss: 0.0968 - mae: 0.0968\n",
            "Epoch 95/100\n",
            "1/1 [==============================] - 0s 16ms/step - loss: 0.1926 - mae: 0.1926\n",
            "Epoch 96/100\n",
            "1/1 [==============================] - 0s 9ms/step - loss: 0.0905 - mae: 0.0905\n",
            "Epoch 97/100\n",
            "1/1 [==============================] - 0s 13ms/step - loss: 0.3329 - mae: 0.3329\n",
            "Epoch 98/100\n",
            "1/1 [==============================] - 0s 15ms/step - loss: 0.3907 - mae: 0.3907\n",
            "Epoch 99/100\n",
            "1/1 [==============================] - 0s 12ms/step - loss: 0.2052 - mae: 0.2052\n",
            "Epoch 100/100\n",
            "1/1 [==============================] - 0s 15ms/step - loss: 0.3052 - mae: 0.3052\n"
          ]
        },
        {
          "output_type": "execute_result",
          "data": {
            "text/plain": [
              "<keras.callbacks.History at 0x7f3f51e5b610>"
            ]
          },
          "metadata": {},
          "execution_count": 18
        }
      ]
    },
    {
      "cell_type": "code",
      "source": [
        "model.predict([17.])"
      ],
      "metadata": {
        "colab": {
          "base_uri": "https://localhost:8080/"
        },
        "id": "MQVHsrn6KbZJ",
        "outputId": "18587480-2d82-4f29-9556-95a9690323dd"
      },
      "execution_count": null,
      "outputs": [
        {
          "output_type": "stream",
          "name": "stdout",
          "text": [
            "1/1 [==============================] - 0s 193ms/step\n"
          ]
        },
        {
          "output_type": "execute_result",
          "data": {
            "text/plain": [
              "array([[26.206875]], dtype=float32)"
            ]
          },
          "metadata": {},
          "execution_count": 19
        }
      ]
    },
    {
      "cell_type": "markdown",
      "source": [
        "❗REMEMBER OVERFITTING. Try to generalize the data so the ML model can perform well on samples it has never seen before\n",
        " ATTENTION with activators(like ReLU)\n",
        "optimizers(sgd, Adam,...) as well as their learning rates"
      ],
      "metadata": {
        "id": "Qopx7rarMZX7"
      }
    },
    {
      "cell_type": "markdown",
      "source": [
        "build -> fit -> evaluate"
      ],
      "metadata": {
        "id": "_ZIOKq4GOUki"
      }
    },
    {
      "cell_type": "code",
      "source": [
        "#Evaluate the model\n",
        "\n",
        "model.evaluate(X,Y)"
      ],
      "metadata": {
        "colab": {
          "base_uri": "https://localhost:8080/"
        },
        "id": "a6qkpfiiMk1b",
        "outputId": "5bf79181-ac61-478d-f732-9908b323b173"
      },
      "execution_count": null,
      "outputs": [
        {
          "output_type": "stream",
          "name": "stdout",
          "text": [
            "1/1 [==============================] - 0s 322ms/step - loss: 0.4215 - mae: 0.4215\n"
          ]
        },
        {
          "output_type": "execute_result",
          "data": {
            "text/plain": [
              "[0.42148202657699585, 0.42148202657699585]"
            ]
          },
          "metadata": {},
          "execution_count": 20
        }
      ]
    },
    {
      "cell_type": "code",
      "source": [
        "X = tf.range(-100,100, 4)\n",
        "\n",
        "X"
      ],
      "metadata": {
        "colab": {
          "base_uri": "https://localhost:8080/"
        },
        "id": "98XO0FoFPYiI",
        "outputId": "d9056ab3-45ec-420b-c1a9-37ab7cd91790"
      },
      "execution_count": null,
      "outputs": [
        {
          "output_type": "execute_result",
          "data": {
            "text/plain": [
              "<tf.Tensor: shape=(50,), dtype=int32, numpy=\n",
              "array([-100,  -96,  -92,  -88,  -84,  -80,  -76,  -72,  -68,  -64,  -60,\n",
              "        -56,  -52,  -48,  -44,  -40,  -36,  -32,  -28,  -24,  -20,  -16,\n",
              "        -12,   -8,   -4,    0,    4,    8,   12,   16,   20,   24,   28,\n",
              "         32,   36,   40,   44,   48,   52,   56,   60,   64,   68,   72,\n",
              "         76,   80,   84,   88,   92,   96], dtype=int32)>"
            ]
          },
          "metadata": {},
          "execution_count": 21
        }
      ]
    },
    {
      "cell_type": "code",
      "source": [
        "Y = X+10\n",
        "\n",
        "Y"
      ],
      "metadata": {
        "colab": {
          "base_uri": "https://localhost:8080/"
        },
        "id": "RslFwxy2Ped5",
        "outputId": "8ef44d37-8ef6-4390-865f-69dc3ffccb01"
      },
      "execution_count": null,
      "outputs": [
        {
          "output_type": "execute_result",
          "data": {
            "text/plain": [
              "<tf.Tensor: shape=(50,), dtype=int32, numpy=\n",
              "array([-90, -86, -82, -78, -74, -70, -66, -62, -58, -54, -50, -46, -42,\n",
              "       -38, -34, -30, -26, -22, -18, -14, -10,  -6,  -2,   2,   6,  10,\n",
              "        14,  18,  22,  26,  30,  34,  38,  42,  46,  50,  54,  58,  62,\n",
              "        66,  70,  74,  78,  82,  86,  90,  94,  98, 102, 106], dtype=int32)>"
            ]
          },
          "metadata": {},
          "execution_count": 22
        }
      ]
    },
    {
      "cell_type": "code",
      "source": [
        "plt.scatter(X,Y)"
      ],
      "metadata": {
        "colab": {
          "base_uri": "https://localhost:8080/",
          "height": 283
        },
        "id": "yZIbWGl_QFca",
        "outputId": "28dbeaa4-47d0-470d-e21b-9d490a0ab82c"
      },
      "execution_count": null,
      "outputs": [
        {
          "output_type": "execute_result",
          "data": {
            "text/plain": [
              "<matplotlib.collections.PathCollection at 0x7f3f5033c400>"
            ]
          },
          "metadata": {},
          "execution_count": 23
        },
        {
          "output_type": "display_data",
          "data": {
            "text/plain": [
              "<Figure size 432x288 with 1 Axes>"
            ],
            "image/png": "[encoded data removed]"
          },
          "metadata": {
            "needs_background": "light"
          }
        }
      ]
    },
    {
      "cell_type": "markdown",
      "source": [
        "*Training set - the model learns from this data, which is typically 70-80% of the total data you have available\n",
        "*Validation set - the model gets tuned on this data, this set is typically 10-15% of the tottal data available.\n",
        "*Test set - the model gets evaluated on this data to test what it has learned, this set is typically 10-15% of the tottal data available."
      ],
      "metadata": {
        "id": "LsprfijBQOOS"
      }
    },
    {
      "cell_type": "markdown",
      "source": [],
      "metadata": {
        "id": "VX5A0SvTPhmJ"
      }
    },
    {
      "cell_type": "code",
      "source": [
        "#Check the lenght of how man y samples we have\n",
        "len(X)"
      ],
      "metadata": {
        "colab": {
          "base_uri": "https://localhost:8080/"
        },
        "id": "Y-05ZX9MQxRq",
        "outputId": "9e54f1f5-f1d1-4783-a732-2479c83ffde1"
      },
      "execution_count": null,
      "outputs": [
        {
          "output_type": "execute_result",
          "data": {
            "text/plain": [
              "50"
            ]
          },
          "metadata": {},
          "execution_count": 24
        }
      ]
    },
    {
      "cell_type": "code",
      "source": [
        "#Split the data into train and test sets\n",
        "X_train = X[:40]\n",
        "Y_train = Y[:40]\n",
        "X_test = X[40:]\n",
        "Y_test = Y[40:]\n",
        "\n",
        "len(X_train), len(Y_train), len(X_test), len(Y_test)"
      ],
      "metadata": {
        "colab": {
          "base_uri": "https://localhost:8080/"
        },
        "id": "3bzI28aDRNkC",
        "outputId": "d4372acf-d4ed-47a3-b0f6-02e46487a773"
      },
      "execution_count": null,
      "outputs": [
        {
          "output_type": "execute_result",
          "data": {
            "text/plain": [
              "(40, 40, 10, 10)"
            ]
          },
          "metadata": {},
          "execution_count": 25
        }
      ]
    },
    {
      "cell_type": "code",
      "source": [
        "plt.figure(figsize=(10,7))\n",
        "#Plot training data in blue\n",
        "plt.scatter(X_train, Y_train, c=\"b\", label=\"Training data\")\n",
        "#Plot test data in green\n",
        "plt.scatter(X_test, Y_test, c=\"g\", label=\"Test data\")"
      ],
      "metadata": {
        "colab": {
          "base_uri": "https://localhost:8080/",
          "height": 446
        },
        "id": "Ly5dKUYdSAWJ",
        "outputId": "52e85480-6d29-4794-b686-4c3a5a2a2478"
      },
      "execution_count": null,
      "outputs": [
        {
          "output_type": "execute_result",
          "data": {
            "text/plain": [
              "<matplotlib.collections.PathCollection at 0x7f3f5029a7f0>"
            ]
          },
          "metadata": {},
          "execution_count": 26
        },
        {
          "output_type": "display_data",
          "data": {
            "text/plain": [
              "<Figure size 720x504 with 1 Axes>"
            ],
            "image/png": "[encoded data removed]"
          },
          "metadata": {
            "needs_background": "light"
          }
        }
      ]
    },
    {
      "cell_type": "code",
      "source": [
        "#Let's have a look at how to create a neural network for our data\n",
        "\n",
        "model = tf.keras.Sequential([\n",
        "    tf.keras.layers.Dense(10)\n",
        "])\n",
        "\n",
        "model.compile(loss=tf.keras.losses.mae,\n",
        "              optimizer=tf.keras.optimizers.SGD(),\n",
        "              metrics=[\"mae\"])\n",
        "\n",
        "model.fit(tf.expand_dims(X_train,axis=-1),Y_train, epochs=100)"
      ],
      "metadata": {
        "id": "jnjkmHRbVaEY",
        "colab": {
          "base_uri": "https://localhost:8080/"
        },
        "outputId": "860e3eef-e09e-4484-bf51-8d5e94ca64b6"
      },
      "execution_count": null,
      "outputs": [
        {
          "output_type": "stream",
          "name": "stdout",
          "text": [
            "Epoch 1/100\n",
            "2/2 [==============================] - 1s 13ms/step - loss: 50.2151 - mae: 50.2151\n",
            "Epoch 2/100\n",
            "2/2 [==============================] - 0s 11ms/step - loss: 46.7280 - mae: 46.7280\n",
            "Epoch 3/100\n",
            "2/2 [==============================] - 0s 7ms/step - loss: 43.0384 - mae: 43.0384\n",
            "Epoch 4/100\n",
            "2/2 [==============================] - 0s 7ms/step - loss: 39.5314 - mae: 39.5314\n",
            "Epoch 5/100\n",
            "2/2 [==============================] - 0s 5ms/step - loss: 36.0511 - mae: 36.0511\n",
            "Epoch 6/100\n",
            "2/2 [==============================] - 0s 6ms/step - loss: 32.8175 - mae: 32.8175\n",
            "Epoch 7/100\n",
            "2/2 [==============================] - 0s 10ms/step - loss: 29.7634 - mae: 29.7634\n",
            "Epoch 8/100\n",
            "2/2 [==============================] - 0s 6ms/step - loss: 26.6108 - mae: 26.6108\n",
            "Epoch 9/100\n",
            "2/2 [==============================] - 0s 12ms/step - loss: 23.2421 - mae: 23.2421\n",
            "Epoch 10/100\n",
            "2/2 [==============================] - 0s 11ms/step - loss: 20.4705 - mae: 20.4705\n",
            "Epoch 11/100\n",
            "2/2 [==============================] - 0s 11ms/step - loss: 18.1476 - mae: 18.1476\n",
            "Epoch 12/100\n",
            "2/2 [==============================] - 0s 8ms/step - loss: 15.8196 - mae: 15.8196\n",
            "Epoch 13/100\n",
            "2/2 [==============================] - 0s 6ms/step - loss: 13.8407 - mae: 13.8407\n",
            "Epoch 14/100\n",
            "2/2 [==============================] - 0s 6ms/step - loss: 12.1172 - mae: 12.1172\n",
            "Epoch 15/100\n",
            "2/2 [==============================] - 0s 8ms/step - loss: 10.9506 - mae: 10.9506\n",
            "Epoch 16/100\n",
            "2/2 [==============================] - 0s 9ms/step - loss: 10.0033 - mae: 10.0033\n",
            "Epoch 17/100\n",
            "2/2 [==============================] - 0s 7ms/step - loss: 9.1495 - mae: 9.1495\n",
            "Epoch 18/100\n",
            "2/2 [==============================] - 0s 8ms/step - loss: 8.3753 - mae: 8.3753\n",
            "Epoch 19/100\n",
            "2/2 [==============================] - 0s 14ms/step - loss: 7.9890 - mae: 7.9890\n",
            "Epoch 20/100\n",
            "2/2 [==============================] - 0s 12ms/step - loss: 7.6989 - mae: 7.6989\n",
            "Epoch 21/100\n",
            "2/2 [==============================] - 0s 10ms/step - loss: 7.6257 - mae: 7.6257\n",
            "Epoch 22/100\n",
            "2/2 [==============================] - 0s 11ms/step - loss: 7.6690 - mae: 7.6690\n",
            "Epoch 23/100\n",
            "2/2 [==============================] - 0s 10ms/step - loss: 7.6402 - mae: 7.6402\n",
            "Epoch 24/100\n",
            "2/2 [==============================] - 0s 13ms/step - loss: 7.7531 - mae: 7.7531\n",
            "Epoch 25/100\n",
            "2/2 [==============================] - 0s 5ms/step - loss: 7.7308 - mae: 7.7308\n",
            "Epoch 26/100\n",
            "2/2 [==============================] - 0s 5ms/step - loss: 7.6494 - mae: 7.6494\n",
            "Epoch 27/100\n",
            "2/2 [==============================] - 0s 4ms/step - loss: 7.6212 - mae: 7.6212\n",
            "Epoch 28/100\n",
            "2/2 [==============================] - 0s 5ms/step - loss: 7.6208 - mae: 7.6208\n",
            "Epoch 29/100\n",
            "2/2 [==============================] - 0s 5ms/step - loss: 7.6836 - mae: 7.6836\n",
            "Epoch 30/100\n",
            "2/2 [==============================] - 0s 12ms/step - loss: 7.6120 - mae: 7.6120\n",
            "Epoch 31/100\n",
            "2/2 [==============================] - 0s 5ms/step - loss: 7.7205 - mae: 7.7205\n",
            "Epoch 32/100\n",
            "2/2 [==============================] - 0s 9ms/step - loss: 7.7439 - mae: 7.7439\n",
            "Epoch 33/100\n",
            "2/2 [==============================] - 0s 5ms/step - loss: 7.6492 - mae: 7.6492\n",
            "Epoch 34/100\n",
            "2/2 [==============================] - 0s 4ms/step - loss: 7.6108 - mae: 7.6108\n",
            "Epoch 35/100\n",
            "2/2 [==============================] - 0s 5ms/step - loss: 7.7231 - mae: 7.7231\n",
            "Epoch 36/100\n",
            "2/2 [==============================] - 0s 13ms/step - loss: 7.9842 - mae: 7.9842\n",
            "Epoch 37/100\n",
            "2/2 [==============================] - 0s 8ms/step - loss: 7.6631 - mae: 7.6631\n",
            "Epoch 38/100\n",
            "2/2 [==============================] - 0s 10ms/step - loss: 7.6365 - mae: 7.6365\n",
            "Epoch 39/100\n",
            "2/2 [==============================] - 0s 5ms/step - loss: 7.6033 - mae: 7.6033\n",
            "Epoch 40/100\n",
            "2/2 [==============================] - 0s 9ms/step - loss: 7.5992 - mae: 7.5992\n",
            "Epoch 41/100\n",
            "2/2 [==============================] - 0s 9ms/step - loss: 7.6737 - mae: 7.6737\n",
            "Epoch 42/100\n",
            "2/2 [==============================] - 0s 9ms/step - loss: 7.5905 - mae: 7.5905\n",
            "Epoch 43/100\n",
            "2/2 [==============================] - 0s 8ms/step - loss: 7.5944 - mae: 7.5944\n",
            "Epoch 44/100\n",
            "2/2 [==============================] - 0s 10ms/step - loss: 7.6327 - mae: 7.6327\n",
            "Epoch 45/100\n",
            "2/2 [==============================] - 0s 10ms/step - loss: 7.7100 - mae: 7.7100\n",
            "Epoch 46/100\n",
            "2/2 [==============================] - 0s 8ms/step - loss: 7.8444 - mae: 7.8444\n",
            "Epoch 47/100\n",
            "2/2 [==============================] - 0s 9ms/step - loss: 7.6862 - mae: 7.6862\n",
            "Epoch 48/100\n",
            "2/2 [==============================] - 0s 8ms/step - loss: 7.7583 - mae: 7.7583\n",
            "Epoch 49/100\n",
            "2/2 [==============================] - 0s 10ms/step - loss: 7.6615 - mae: 7.6615\n",
            "Epoch 50/100\n",
            "2/2 [==============================] - 0s 8ms/step - loss: 7.8133 - mae: 7.8133\n",
            "Epoch 51/100\n",
            "2/2 [==============================] - 0s 8ms/step - loss: 7.6197 - mae: 7.6197\n",
            "Epoch 52/100\n",
            "2/2 [==============================] - 0s 8ms/step - loss: 7.6917 - mae: 7.6917\n",
            "Epoch 53/100\n",
            "2/2 [==============================] - 0s 15ms/step - loss: 7.6971 - mae: 7.6971\n",
            "Epoch 54/100\n",
            "2/2 [==============================] - 0s 14ms/step - loss: 7.7921 - mae: 7.7921\n",
            "Epoch 55/100\n",
            "2/2 [==============================] - 0s 12ms/step - loss: 7.5867 - mae: 7.5867\n",
            "Epoch 56/100\n",
            "2/2 [==============================] - 0s 6ms/step - loss: 7.6298 - mae: 7.6298\n",
            "Epoch 57/100\n",
            "2/2 [==============================] - 0s 7ms/step - loss: 7.8773 - mae: 7.8773\n",
            "Epoch 58/100\n",
            "2/2 [==============================] - 0s 11ms/step - loss: 7.6703 - mae: 7.6703\n",
            "Epoch 59/100\n",
            "2/2 [==============================] - 0s 8ms/step - loss: 7.5874 - mae: 7.5874\n",
            "Epoch 60/100\n",
            "2/2 [==============================] - 0s 10ms/step - loss: 7.5866 - mae: 7.5866\n",
            "Epoch 61/100\n",
            "2/2 [==============================] - 0s 8ms/step - loss: 7.5886 - mae: 7.5886\n",
            "Epoch 62/100\n",
            "2/2 [==============================] - 0s 18ms/step - loss: 7.6570 - mae: 7.6570\n",
            "Epoch 63/100\n",
            "2/2 [==============================] - 0s 6ms/step - loss: 7.6598 - mae: 7.6598\n",
            "Epoch 64/100\n",
            "2/2 [==============================] - 0s 6ms/step - loss: 7.8149 - mae: 7.8149\n",
            "Epoch 65/100\n",
            "2/2 [==============================] - 0s 20ms/step - loss: 7.5832 - mae: 7.5832\n",
            "Epoch 66/100\n",
            "2/2 [==============================] - 0s 7ms/step - loss: 7.5681 - mae: 7.5681\n",
            "Epoch 67/100\n",
            "2/2 [==============================] - 0s 12ms/step - loss: 7.6122 - mae: 7.6122\n",
            "Epoch 68/100\n",
            "2/2 [==============================] - 0s 11ms/step - loss: 7.5617 - mae: 7.5617\n",
            "Epoch 69/100\n",
            "2/2 [==============================] - 0s 7ms/step - loss: 7.6161 - mae: 7.6161\n",
            "Epoch 70/100\n",
            "2/2 [==============================] - 0s 13ms/step - loss: 7.6116 - mae: 7.6116\n",
            "Epoch 71/100\n",
            "2/2 [==============================] - 0s 6ms/step - loss: 7.9285 - mae: 7.9285\n",
            "Epoch 72/100\n",
            "2/2 [==============================] - 0s 6ms/step - loss: 7.6909 - mae: 7.6909\n",
            "Epoch 73/100\n",
            "2/2 [==============================] - 0s 6ms/step - loss: 7.6304 - mae: 7.6304\n",
            "Epoch 74/100\n",
            "2/2 [==============================] - 0s 6ms/step - loss: 7.7379 - mae: 7.7379\n",
            "Epoch 75/100\n",
            "2/2 [==============================] - 0s 6ms/step - loss: 7.6218 - mae: 7.6218\n",
            "Epoch 76/100\n",
            "2/2 [==============================] - 0s 6ms/step - loss: 7.6190 - mae: 7.6190\n",
            "Epoch 77/100\n",
            "2/2 [==============================] - 0s 12ms/step - loss: 7.5703 - mae: 7.5703\n",
            "Epoch 78/100\n",
            "2/2 [==============================] - 0s 16ms/step - loss: 7.5984 - mae: 7.5984\n",
            "Epoch 79/100\n",
            "2/2 [==============================] - 0s 12ms/step - loss: 7.5832 - mae: 7.5832\n",
            "Epoch 80/100\n",
            "2/2 [==============================] - 0s 8ms/step - loss: 7.6122 - mae: 7.6122\n",
            "Epoch 81/100\n",
            "2/2 [==============================] - 0s 13ms/step - loss: 7.6155 - mae: 7.6155\n",
            "Epoch 82/100\n",
            "2/2 [==============================] - 0s 22ms/step - loss: 7.5532 - mae: 7.5532\n",
            "Epoch 83/100\n",
            "2/2 [==============================] - 0s 15ms/step - loss: 7.5954 - mae: 7.5954\n",
            "Epoch 84/100\n",
            "2/2 [==============================] - 0s 9ms/step - loss: 7.5729 - mae: 7.5729\n",
            "Epoch 85/100\n",
            "2/2 [==============================] - 0s 9ms/step - loss: 7.5917 - mae: 7.5917\n",
            "Epoch 86/100\n",
            "2/2 [==============================] - 0s 11ms/step - loss: 7.6383 - mae: 7.6383\n",
            "Epoch 87/100\n",
            "2/2 [==============================] - 0s 8ms/step - loss: 7.8476 - mae: 7.8476\n",
            "Epoch 88/100\n",
            "2/2 [==============================] - 0s 9ms/step - loss: 7.9495 - mae: 7.9495\n",
            "Epoch 89/100\n",
            "2/2 [==============================] - 0s 7ms/step - loss: 7.5715 - mae: 7.5715\n",
            "Epoch 90/100\n",
            "2/2 [==============================] - 0s 13ms/step - loss: 7.5827 - mae: 7.5827\n",
            "Epoch 91/100\n",
            "2/2 [==============================] - 0s 15ms/step - loss: 7.5914 - mae: 7.5914\n",
            "Epoch 92/100\n",
            "2/2 [==============================] - 0s 7ms/step - loss: 7.6037 - mae: 7.6037\n",
            "Epoch 93/100\n",
            "2/2 [==============================] - 0s 7ms/step - loss: 7.5931 - mae: 7.5931\n",
            "Epoch 94/100\n",
            "2/2 [==============================] - 0s 19ms/step - loss: 7.5444 - mae: 7.5444\n",
            "Epoch 95/100\n",
            "2/2 [==============================] - 0s 7ms/step - loss: 7.7200 - mae: 7.7200\n",
            "Epoch 96/100\n",
            "2/2 [==============================] - 0s 8ms/step - loss: 7.5967 - mae: 7.5967\n",
            "Epoch 97/100\n",
            "2/2 [==============================] - 0s 6ms/step - loss: 7.6572 - mae: 7.6572\n",
            "Epoch 98/100\n",
            "2/2 [==============================] - 0s 12ms/step - loss: 7.5665 - mae: 7.5665\n",
            "Epoch 99/100\n",
            "2/2 [==============================] - 0s 8ms/step - loss: 7.5385 - mae: 7.5385\n",
            "Epoch 100/100\n",
            "2/2 [==============================] - 0s 10ms/step - loss: 7.5444 - mae: 7.5444\n"
          ]
        },
        {
          "output_type": "execute_result",
          "data": {
            "text/plain": [
              "<keras.callbacks.History at 0x7f3f502588b0>"
            ]
          },
          "metadata": {},
          "execution_count": 27
        }
      ]
    },
    {
      "cell_type": "code",
      "source": [
        "model.summary()"
      ],
      "metadata": {
        "colab": {
          "base_uri": "https://localhost:8080/"
        },
        "id": "lHTZIAVlWOAH",
        "outputId": "e8427d38-c14e-4646-93c2-00f113f3872f"
      },
      "execution_count": null,
      "outputs": [
        {
          "output_type": "stream",
          "name": "stdout",
          "text": [
            "Model: \"sequential_4\"\n",
            "_________________________________________________________________\n",
            " Layer (type)                Output Shape              Param #   \n",
            "=================================================================\n",
            " dense_8 (Dense)             (None, 10)                20        \n",
            "                                                                 \n",
            "=================================================================\n",
            "Total params: 20\n",
            "Trainable params: 20\n",
            "Non-trainable params: 0\n",
            "_________________________________________________________________\n"
          ]
        }
      ]
    },
    {
      "cell_type": "code",
      "source": [
        "#Visualize the number of inputs to set the input_shape parameter\n",
        "\n",
        "X[0], Y[0]"
      ],
      "metadata": {
        "colab": {
          "base_uri": "https://localhost:8080/"
        },
        "id": "92avXEpyW6hQ",
        "outputId": "ab3a5109-25f6-470a-be17-5a73ffe30812"
      },
      "execution_count": null,
      "outputs": [
        {
          "output_type": "execute_result",
          "data": {
            "text/plain": [
              "(<tf.Tensor: shape=(), dtype=int32, numpy=-100>,\n",
              " <tf.Tensor: shape=(), dtype=int32, numpy=-90>)"
            ]
          },
          "metadata": {},
          "execution_count": 29
        }
      ]
    },
    {
      "cell_type": "code",
      "source": [
        "#Create a model which builds automatically by defining the input_shape argument \n",
        "tf.random.set_seed(42)\n",
        "\n",
        "model = tf.keras.Sequential([\n",
        "    tf.keras.layers.Dense(10,input_shape=[1],name=\"input_layer\"),\n",
        "    tf.keras.layers.Dense(1,input_shape=[1],name=\"output_layer\")\n",
        "])\n",
        "\n",
        "model.compile(loss=tf.keras.losses.mae,\n",
        "              optimizer=tf.keras.optimizers.Adam(lr=0.01),\n",
        "              metrics=[\"mae\"])\n",
        "\n",
        "model.fit(tf.expand_dims(X_train,axis=-1),Y_train, epochs=100, verbose=0)\n",
        "\n",
        "model.fit(tf.expand_dims(X_test,axis=-1),Y_test, epochs=100, verbose=0)"
      ],
      "metadata": {
        "colab": {
          "base_uri": "https://localhost:8080/"
        },
        "id": "tmkXmmFxWfTS",
        "outputId": "8e94168a-da98-42b8-d671-0665d32d1662"
      },
      "execution_count": null,
      "outputs": [
        {
          "output_type": "execute_result",
          "data": {
            "text/plain": [
              "<keras.callbacks.History at 0x7f3f50132250>"
            ]
          },
          "metadata": {},
          "execution_count": 30
        }
      ]
    },
    {
      "cell_type": "code",
      "source": [
        "model.summary()"
      ],
      "metadata": {
        "colab": {
          "base_uri": "https://localhost:8080/"
        },
        "id": "1BqJRsFnXugy",
        "outputId": "6b592c8f-1c30-41f8-9572-68bcc1f61bf2"
      },
      "execution_count": null,
      "outputs": [
        {
          "output_type": "stream",
          "name": "stdout",
          "text": [
            "Model: \"sequential_5\"\n",
            "_________________________________________________________________\n",
            " Layer (type)                Output Shape              Param #   \n",
            "=================================================================\n",
            " input_layer (Dense)         (None, 10)                20        \n",
            "                                                                 \n",
            " output_layer (Dense)        (None, 1)                 11        \n",
            "                                                                 \n",
            "=================================================================\n",
            "Total params: 31\n",
            "Trainable params: 31\n",
            "Non-trainable params: 0\n",
            "_________________________________________________________________\n"
          ]
        }
      ]
    },
    {
      "cell_type": "markdown",
      "source": [
        "Total x Trainable parameters: the total amount and the patterns the model can update as it trains, respectively"
      ],
      "metadata": {
        "id": "3wUg8hyZX79S"
      }
    },
    {
      "cell_type": "code",
      "source": [
        "model.predict([17.])"
      ],
      "metadata": {
        "colab": {
          "base_uri": "https://localhost:8080/"
        },
        "id": "zSGPf6ruYQ6o",
        "outputId": "e817a020-1197-45c7-f300-0b8818376ee1"
      },
      "execution_count": null,
      "outputs": [
        {
          "output_type": "stream",
          "name": "stdout",
          "text": [
            "1/1 [==============================] - 0s 97ms/step\n"
          ]
        },
        {
          "output_type": "execute_result",
          "data": {
            "text/plain": [
              "array([[26.707825]], dtype=float32)"
            ]
          },
          "metadata": {},
          "execution_count": 32
        }
      ]
    },
    {
      "cell_type": "code",
      "source": [
        "from tensorflow.keras.utils import plot_model\n",
        "\n",
        "plot_model(model=model, show_shapes=True)"
      ],
      "metadata": {
        "colab": {
          "base_uri": "https://localhost:8080/",
          "height": 312
        },
        "id": "w2iG3-hGaHm4",
        "outputId": "896e9089-04f5-412b-ca47-c105a77920a6"
      },
      "execution_count": null,
      "outputs": [
        {
          "output_type": "execute_result",
          "data": {
            "image/png": "[encoded data removed]",
            "text/plain": [
              "<IPython.core.display.Image object>"
            ]
          },
          "metadata": {},
          "execution_count": 33
        }
      ]
    },
    {
      "cell_type": "code",
      "source": [
        "#Make predictions\n",
        "\n",
        "Y_pred = model.predict(X_test)\n",
        "Y_pred"
      ],
      "metadata": {
        "colab": {
          "base_uri": "https://localhost:8080/"
        },
        "id": "mifJN71AcIZh",
        "outputId": "e444faa2-fee8-4195-9118-d2c58fdd62e7"
      },
      "execution_count": null,
      "outputs": [
        {
          "output_type": "stream",
          "name": "stderr",
          "text": [
            "WARNING:tensorflow:5 out of the last 5 calls to <function Model.make_predict_function.<locals>.predict_function at 0x7f3f501b5f70> triggered tf.function retracing. Tracing is expensive and the excessive number of tracings could be due to (1) creating @tf.function repeatedly in a loop, (2) passing tensors with different shapes, (3) passing Python objects instead of tensors. For (1), please define your @tf.function outside of the loop. For (2), @tf.function has reduce_retracing=True option that can avoid unnecessary retracing. For (3), please refer to https://www.tensorflow.org/guide/function#controlling_retracing and https://www.tensorflow.org/api_docs/python/tf/function for  more details.\n"
          ]
        },
        {
          "output_type": "stream",
          "name": "stdout",
          "text": [
            "1/1 [==============================] - 0s 82ms/step\n"
          ]
        },
        {
          "output_type": "execute_result",
          "data": {
            "text/plain": [
              "array([[ 70.10289 ],\n",
              "       [ 74.13965 ],\n",
              "       [ 78.17639 ],\n",
              "       [ 82.21314 ],\n",
              "       [ 86.249886],\n",
              "       [ 90.286644],\n",
              "       [ 94.323395],\n",
              "       [ 98.360146],\n",
              "       [102.3969  ],\n",
              "       [106.433655]], dtype=float32)"
            ]
          },
          "metadata": {},
          "execution_count": 34
        }
      ]
    },
    {
      "cell_type": "code",
      "source": [
        "Y_test"
      ],
      "metadata": {
        "colab": {
          "base_uri": "https://localhost:8080/"
        },
        "id": "LvHp4gkMcdoI",
        "outputId": "c0563a6b-dbbd-4f65-bed5-f8c30468c261"
      },
      "execution_count": null,
      "outputs": [
        {
          "output_type": "execute_result",
          "data": {
            "text/plain": [
              "<tf.Tensor: shape=(10,), dtype=int32, numpy=array([ 70,  74,  78,  82,  86,  90,  94,  98, 102, 106], dtype=int32)>"
            ]
          },
          "metadata": {},
          "execution_count": 35
        }
      ]
    },
    {
      "cell_type": "code",
      "source": [
        "tf.size(X_test) == tf.size(Y_pred)"
      ],
      "metadata": {
        "colab": {
          "base_uri": "https://localhost:8080/"
        },
        "id": "7GbY9VbMcimv",
        "outputId": "8df25a1b-f1ea-42de-c88d-4876b6a641c2"
      },
      "execution_count": null,
      "outputs": [
        {
          "output_type": "execute_result",
          "data": {
            "text/plain": [
              "<tf.Tensor: shape=(), dtype=bool, numpy=True>"
            ]
          },
          "metadata": {},
          "execution_count": 36
        }
      ]
    },
    {
      "cell_type": "markdown",
      "source": [],
      "metadata": {
        "id": "VtsYWizfemlQ"
      }
    },
    {
      "cell_type": "code",
      "source": [],
      "metadata": {
        "id": "4tXQ4dR3hVwP"
      },
      "execution_count": null,
      "outputs": []
    },
    {
      "cell_type": "code",
      "source": [
        "plt.figure(figsize=(10,7))\n",
        "plt.scatter(X_train,Y_train, c=\"b\", label=\"training data\")\n",
        "plt.scatter(X_test, Y_test, c=\"g\", label=\"test data\")\n",
        "plt.scatter(X_test, Y_pred, c=\"r\", label=\"predictions\")\n",
        "plt.legend();"
      ],
      "metadata": {
        "colab": {
          "base_uri": "https://localhost:8080/",
          "height": 428
        },
        "id": "LZz9WB4VjP2f",
        "outputId": "ab8c426a-4b47-44c5-c546-b3515ab90933"
      },
      "execution_count": null,
      "outputs": [
        {
          "output_type": "display_data",
          "data": {
            "text/plain": [
              "<Figure size 720x504 with 1 Axes>"
            ],
            "image/png": "[encoded data removed]"
          },
          "metadata": {
            "needs_background": "light"
          }
        }
      ]
    },
    {
      "cell_type": "markdown",
      "source": [
        "mean square error, r squared"
      ],
      "metadata": {
        "id": "sG3n1p60mTN_"
      }
    },
    {
      "cell_type": "code",
      "source": [
        "model.evaluate(X_test, Y_test)"
      ],
      "metadata": {
        "colab": {
          "base_uri": "https://localhost:8080/"
        },
        "id": "nGdGoLvCnW9P",
        "outputId": "5bcd78f7-65d7-4868-e2f9-9b8e8d8ffba6"
      },
      "execution_count": null,
      "outputs": [
        {
          "output_type": "stream",
          "name": "stdout",
          "text": [
            "1/1 [==============================] - 0s 191ms/step - loss: 0.2683 - mae: 0.2683\n"
          ]
        },
        {
          "output_type": "execute_result",
          "data": {
            "text/plain": [
              "[0.2682693600654602, 0.2682693600654602]"
            ]
          },
          "metadata": {},
          "execution_count": 38
        }
      ]
    },
    {
      "cell_type": "code",
      "source": [],
      "metadata": {
        "id": "SRf_kLoRp7bO"
      },
      "execution_count": null,
      "outputs": []
    },
    {
      "cell_type": "code",
      "source": [
        "#Calculate the mean absolute error\n",
        "\n",
        "mae = tf.metrics.mean_squared_error(y_true=Y_test,y_pred=tf.squeeze(Y_pred))\n",
        "\n",
        "mae"
      ],
      "metadata": {
        "colab": {
          "base_uri": "https://localhost:8080/"
        },
        "id": "0LzB99OAnpxf",
        "outputId": "8dfa2f9d-938d-41b6-e44e-8b22015b4bcc"
      },
      "execution_count": null,
      "outputs": [
        {
          "output_type": "execute_result",
          "data": {
            "text/plain": [
              "<tf.Tensor: shape=(), dtype=float32, numpy=0.08311115>"
            ]
          },
          "metadata": {},
          "execution_count": 39
        }
      ]
    },
    {
      "cell_type": "code",
      "source": [
        "#Make some functions to reuse MAE and MSE\n",
        "def mae(y_true,y_pred):\n",
        "  return tf.metrics.mean_absolute_error(y_true=y_true,\n",
        "                                        y_pred=tf.squeeze(y_pred))"
      ],
      "metadata": {
        "id": "hFg73bZXpeQN"
      },
      "execution_count": null,
      "outputs": []
    },
    {
      "cell_type": "code",
      "source": [
        "#Make some functions to reuse MAE and MSE\n",
        "def mse(y_true,y_pred):\n",
        "  return tf.metrics.mean_squared_error(y_true=y_true,\n",
        "                                        y_pred=tf.squeeze(y_pred))"
      ],
      "metadata": {
        "id": "h2g8CiidrvoW"
      },
      "execution_count": null,
      "outputs": []
    },
    {
      "cell_type": "code",
      "source": [
        "X_train, Y_train"
      ],
      "metadata": {
        "colab": {
          "base_uri": "https://localhost:8080/"
        },
        "id": "Ctbri7Basg12",
        "outputId": "3141141c-bfdc-4995-8738-e77ab11a5186"
      },
      "execution_count": null,
      "outputs": [
        {
          "output_type": "execute_result",
          "data": {
            "text/plain": [
              "(<tf.Tensor: shape=(40,), dtype=int32, numpy=\n",
              " array([-100,  -96,  -92,  -88,  -84,  -80,  -76,  -72,  -68,  -64,  -60,\n",
              "         -56,  -52,  -48,  -44,  -40,  -36,  -32,  -28,  -24,  -20,  -16,\n",
              "         -12,   -8,   -4,    0,    4,    8,   12,   16,   20,   24,   28,\n",
              "          32,   36,   40,   44,   48,   52,   56], dtype=int32)>,\n",
              " <tf.Tensor: shape=(40,), dtype=int32, numpy=\n",
              " array([-90, -86, -82, -78, -74, -70, -66, -62, -58, -54, -50, -46, -42,\n",
              "        -38, -34, -30, -26, -22, -18, -14, -10,  -6,  -2,   2,   6,  10,\n",
              "         14,  18,  22,  26,  30,  34,  38,  42,  46,  50,  54,  58,  62,\n",
              "         66], dtype=int32)>)"
            ]
          },
          "metadata": {},
          "execution_count": 42
        }
      ]
    },
    {
      "cell_type": "code",
      "source": [
        "tf.random.set_seed(42)\n",
        "\n",
        "model_1 = tf.keras.Sequential([\n",
        "    tf.keras.layers.Dense(1)\n",
        "])\n",
        "\n",
        "model_1.compile(loss=tf.keras.losses.mse,\n",
        "                optimizer=tf.keras.optimizers.Adam(lr=0.01),\n",
        "                metrics=[\"mse\"])\n",
        "\n",
        "model_1.fit(tf.expand_dims(X_train,axis=-1),Y_train, epochs=100,)\n",
        "model_1.fit(tf.expand_dims(X_test,axis=-1),Y_test, epochs=100, )"
      ],
      "metadata": {
        "colab": {
          "base_uri": "https://localhost:8080/"
        },
        "id": "u58EPxcAso2f",
        "outputId": "20eed03f-0f4f-40b2-f6de-3c081454b51c"
      },
      "execution_count": null,
      "outputs": [
        {
          "output_type": "stream",
          "name": "stdout",
          "text": [
            "Epoch 1/100\n",
            "2/2 [==============================] - 0s 6ms/step - loss: 391.2079 - mse: 391.2079\n",
            "Epoch 2/100\n",
            "2/2 [==============================] - 0s 6ms/step - loss: 356.2643 - mse: 356.2643\n",
            "Epoch 3/100\n",
            "2/2 [==============================] - 0s 6ms/step - loss: 323.2913 - mse: 323.2913\n",
            "Epoch 4/100\n",
            "2/2 [==============================] - 0s 8ms/step - loss: 292.3669 - mse: 292.3669\n",
            "Epoch 5/100\n",
            "2/2 [==============================] - 0s 5ms/step - loss: 264.7791 - mse: 264.7791\n",
            "Epoch 6/100\n",
            "2/2 [==============================] - 0s 5ms/step - loss: 239.3957 - mse: 239.3957\n",
            "Epoch 7/100\n",
            "2/2 [==============================] - 0s 5ms/step - loss: 215.2390 - mse: 215.2390\n",
            "Epoch 8/100\n",
            "2/2 [==============================] - 0s 5ms/step - loss: 192.7495 - mse: 192.7495\n",
            "Epoch 9/100\n",
            "2/2 [==============================] - 0s 5ms/step - loss: 174.0572 - mse: 174.0572\n",
            "Epoch 10/100\n",
            "2/2 [==============================] - 0s 5ms/step - loss: 157.3491 - mse: 157.3491\n",
            "Epoch 11/100\n",
            "2/2 [==============================] - 0s 6ms/step - loss: 142.5575 - mse: 142.5575\n",
            "Epoch 12/100\n",
            "2/2 [==============================] - 0s 6ms/step - loss: 128.9842 - mse: 128.9842\n",
            "Epoch 13/100\n",
            "2/2 [==============================] - 0s 5ms/step - loss: 117.4281 - mse: 117.4281\n",
            "Epoch 14/100\n",
            "2/2 [==============================] - 0s 5ms/step - loss: 108.2500 - mse: 108.2500\n",
            "Epoch 15/100\n",
            "2/2 [==============================] - 0s 6ms/step - loss: 100.5642 - mse: 100.5642\n",
            "Epoch 16/100\n",
            "2/2 [==============================] - 0s 5ms/step - loss: 94.3227 - mse: 94.3227\n",
            "Epoch 17/100\n",
            "2/2 [==============================] - 0s 5ms/step - loss: 88.4359 - mse: 88.4359\n",
            "Epoch 18/100\n",
            "2/2 [==============================] - 0s 8ms/step - loss: 85.5090 - mse: 85.5090\n",
            "Epoch 19/100\n",
            "2/2 [==============================] - 0s 7ms/step - loss: 82.3571 - mse: 82.3571\n",
            "Epoch 20/100\n",
            "2/2 [==============================] - 0s 5ms/step - loss: 79.8458 - mse: 79.8458\n",
            "Epoch 21/100\n",
            "2/2 [==============================] - 0s 6ms/step - loss: 78.3150 - mse: 78.3150\n",
            "Epoch 22/100\n",
            "2/2 [==============================] - 0s 6ms/step - loss: 77.0504 - mse: 77.0504\n",
            "Epoch 23/100\n",
            "2/2 [==============================] - 0s 8ms/step - loss: 76.5844 - mse: 76.5844\n",
            "Epoch 24/100\n",
            "2/2 [==============================] - 0s 8ms/step - loss: 75.7357 - mse: 75.7357\n",
            "Epoch 25/100\n",
            "2/2 [==============================] - 0s 5ms/step - loss: 75.4481 - mse: 75.4481\n",
            "Epoch 26/100\n",
            "2/2 [==============================] - 0s 7ms/step - loss: 75.0108 - mse: 75.0108\n",
            "Epoch 27/100\n",
            "2/2 [==============================] - 0s 7ms/step - loss: 74.7252 - mse: 74.7252\n",
            "Epoch 28/100\n",
            "2/2 [==============================] - 0s 9ms/step - loss: 74.3986 - mse: 74.3986\n",
            "Epoch 29/100\n",
            "2/2 [==============================] - 0s 8ms/step - loss: 74.1237 - mse: 74.1237\n",
            "Epoch 30/100\n",
            "2/2 [==============================] - 0s 5ms/step - loss: 73.7405 - mse: 73.7405\n",
            "Epoch 31/100\n",
            "2/2 [==============================] - 0s 5ms/step - loss: 73.3394 - mse: 73.3394\n",
            "Epoch 32/100\n",
            "2/2 [==============================] - 0s 6ms/step - loss: 72.9391 - mse: 72.9391\n",
            "Epoch 33/100\n",
            "2/2 [==============================] - 0s 5ms/step - loss: 72.5536 - mse: 72.5536\n",
            "Epoch 34/100\n",
            "2/2 [==============================] - 0s 6ms/step - loss: 72.1743 - mse: 72.1743\n",
            "Epoch 35/100\n",
            "2/2 [==============================] - 0s 5ms/step - loss: 71.7707 - mse: 71.7707\n",
            "Epoch 36/100\n",
            "2/2 [==============================] - 0s 5ms/step - loss: 71.4462 - mse: 71.4462\n",
            "Epoch 37/100\n",
            "2/2 [==============================] - 0s 7ms/step - loss: 71.0999 - mse: 71.0999\n",
            "Epoch 38/100\n",
            "2/2 [==============================] - 0s 6ms/step - loss: 70.7485 - mse: 70.7485\n",
            "Epoch 39/100\n",
            "2/2 [==============================] - 0s 5ms/step - loss: 70.4198 - mse: 70.4198\n",
            "Epoch 40/100\n",
            "2/2 [==============================] - 0s 5ms/step - loss: 70.1152 - mse: 70.1152\n",
            "Epoch 41/100\n",
            "2/2 [==============================] - 0s 8ms/step - loss: 69.8542 - mse: 69.8542\n",
            "Epoch 42/100\n",
            "2/2 [==============================] - 0s 4ms/step - loss: 69.5104 - mse: 69.5104\n",
            "Epoch 43/100\n",
            "2/2 [==============================] - 0s 5ms/step - loss: 69.1925 - mse: 69.1925\n",
            "Epoch 44/100\n",
            "2/2 [==============================] - 0s 7ms/step - loss: 68.8601 - mse: 68.8601\n",
            "Epoch 45/100\n",
            "2/2 [==============================] - 0s 6ms/step - loss: 68.5473 - mse: 68.5473\n",
            "Epoch 46/100\n",
            "2/2 [==============================] - 0s 7ms/step - loss: 68.2380 - mse: 68.2380\n",
            "Epoch 47/100\n",
            "2/2 [==============================] - 0s 5ms/step - loss: 67.9255 - mse: 67.9255\n",
            "Epoch 48/100\n",
            "2/2 [==============================] - 0s 5ms/step - loss: 67.6050 - mse: 67.6050\n",
            "Epoch 49/100\n",
            "2/2 [==============================] - 0s 6ms/step - loss: 67.3037 - mse: 67.3037\n",
            "Epoch 50/100\n",
            "2/2 [==============================] - 0s 6ms/step - loss: 66.9411 - mse: 66.9411\n",
            "Epoch 51/100\n",
            "2/2 [==============================] - 0s 5ms/step - loss: 66.6162 - mse: 66.6162\n",
            "Epoch 52/100\n",
            "2/2 [==============================] - 0s 5ms/step - loss: 66.3221 - mse: 66.3221\n",
            "Epoch 53/100\n",
            "2/2 [==============================] - 0s 6ms/step - loss: 65.9767 - mse: 65.9767\n",
            "Epoch 54/100\n",
            "2/2 [==============================] - 0s 5ms/step - loss: 65.6503 - mse: 65.6503\n",
            "Epoch 55/100\n",
            "2/2 [==============================] - 0s 5ms/step - loss: 65.3678 - mse: 65.3678\n",
            "Epoch 56/100\n",
            "2/2 [==============================] - 0s 5ms/step - loss: 65.1039 - mse: 65.1039\n",
            "Epoch 57/100\n",
            "2/2 [==============================] - 0s 5ms/step - loss: 64.7894 - mse: 64.7894\n",
            "Epoch 58/100\n",
            "2/2 [==============================] - 0s 5ms/step - loss: 64.5081 - mse: 64.5081\n",
            "Epoch 59/100\n",
            "2/2 [==============================] - 0s 4ms/step - loss: 64.1521 - mse: 64.1521\n",
            "Epoch 60/100\n",
            "2/2 [==============================] - 0s 5ms/step - loss: 63.8506 - mse: 63.8506\n",
            "Epoch 61/100\n",
            "2/2 [==============================] - 0s 3ms/step - loss: 63.5281 - mse: 63.5281\n",
            "Epoch 62/100\n",
            "2/2 [==============================] - 0s 4ms/step - loss: 63.2248 - mse: 63.2248\n",
            "Epoch 63/100\n",
            "2/2 [==============================] - 0s 4ms/step - loss: 62.9478 - mse: 62.9478\n",
            "Epoch 64/100\n",
            "2/2 [==============================] - 0s 6ms/step - loss: 62.6207 - mse: 62.6207\n",
            "Epoch 65/100\n",
            "2/2 [==============================] - 0s 4ms/step - loss: 62.3428 - mse: 62.3428\n",
            "Epoch 66/100\n",
            "2/2 [==============================] - 0s 4ms/step - loss: 62.0474 - mse: 62.0474\n",
            "Epoch 67/100\n",
            "2/2 [==============================] - 0s 6ms/step - loss: 61.7693 - mse: 61.7693\n",
            "Epoch 68/100\n",
            "2/2 [==============================] - 0s 7ms/step - loss: 61.4921 - mse: 61.4921\n",
            "Epoch 69/100\n",
            "2/2 [==============================] - 0s 5ms/step - loss: 61.2033 - mse: 61.2033\n",
            "Epoch 70/100\n",
            "2/2 [==============================] - 0s 5ms/step - loss: 60.9482 - mse: 60.9482\n",
            "Epoch 71/100\n",
            "2/2 [==============================] - 0s 6ms/step - loss: 60.6489 - mse: 60.6489\n",
            "Epoch 72/100\n",
            "2/2 [==============================] - 0s 4ms/step - loss: 60.3531 - mse: 60.3531\n",
            "Epoch 73/100\n",
            "2/2 [==============================] - 0s 4ms/step - loss: 60.0265 - mse: 60.0265\n",
            "Epoch 74/100\n",
            "2/2 [==============================] - 0s 7ms/step - loss: 59.7298 - mse: 59.7298\n",
            "Epoch 75/100\n",
            "2/2 [==============================] - 0s 6ms/step - loss: 59.4278 - mse: 59.4278\n",
            "Epoch 76/100\n",
            "2/2 [==============================] - 0s 7ms/step - loss: 59.1355 - mse: 59.1355\n",
            "Epoch 77/100\n",
            "2/2 [==============================] - 0s 5ms/step - loss: 58.8960 - mse: 58.8960\n",
            "Epoch 78/100\n",
            "2/2 [==============================] - 0s 5ms/step - loss: 58.7068 - mse: 58.7068\n",
            "Epoch 79/100\n",
            "2/2 [==============================] - 0s 5ms/step - loss: 58.3828 - mse: 58.3828\n",
            "Epoch 80/100\n",
            "2/2 [==============================] - 0s 5ms/step - loss: 58.0967 - mse: 58.0967\n",
            "Epoch 81/100\n",
            "2/2 [==============================] - 0s 4ms/step - loss: 57.8058 - mse: 57.8058\n",
            "Epoch 82/100\n",
            "2/2 [==============================] - 0s 4ms/step - loss: 57.5257 - mse: 57.5257\n",
            "Epoch 83/100\n",
            "2/2 [==============================] - 0s 5ms/step - loss: 57.2496 - mse: 57.2496\n",
            "Epoch 84/100\n",
            "2/2 [==============================] - 0s 5ms/step - loss: 56.9733 - mse: 56.9733\n",
            "Epoch 85/100\n",
            "2/2 [==============================] - 0s 5ms/step - loss: 56.6885 - mse: 56.6885\n",
            "Epoch 86/100\n",
            "2/2 [==============================] - 0s 4ms/step - loss: 56.4157 - mse: 56.4157\n",
            "Epoch 87/100\n",
            "2/2 [==============================] - 0s 6ms/step - loss: 56.1412 - mse: 56.1412\n",
            "Epoch 88/100\n",
            "2/2 [==============================] - 0s 4ms/step - loss: 55.8562 - mse: 55.8562\n",
            "Epoch 89/100\n",
            "2/2 [==============================] - 0s 5ms/step - loss: 55.5889 - mse: 55.5889\n",
            "Epoch 90/100\n",
            "2/2 [==============================] - 0s 5ms/step - loss: 55.3208 - mse: 55.3208\n",
            "Epoch 91/100\n",
            "2/2 [==============================] - 0s 5ms/step - loss: 55.0657 - mse: 55.0657\n",
            "Epoch 92/100\n",
            "2/2 [==============================] - 0s 4ms/step - loss: 54.7960 - mse: 54.7960\n",
            "Epoch 93/100\n",
            "2/2 [==============================] - 0s 4ms/step - loss: 54.5419 - mse: 54.5419\n",
            "Epoch 94/100\n",
            "2/2 [==============================] - 0s 6ms/step - loss: 54.2751 - mse: 54.2751\n",
            "Epoch 95/100\n",
            "2/2 [==============================] - 0s 5ms/step - loss: 54.0160 - mse: 54.0160\n",
            "Epoch 96/100\n",
            "2/2 [==============================] - 0s 8ms/step - loss: 53.7739 - mse: 53.7739\n",
            "Epoch 97/100\n",
            "2/2 [==============================] - 0s 6ms/step - loss: 53.5006 - mse: 53.5006\n",
            "Epoch 98/100\n",
            "2/2 [==============================] - 0s 4ms/step - loss: 53.2400 - mse: 53.2400\n",
            "Epoch 99/100\n",
            "2/2 [==============================] - 0s 5ms/step - loss: 52.9933 - mse: 52.9933\n",
            "Epoch 100/100\n",
            "2/2 [==============================] - 0s 7ms/step - loss: 52.7310 - mse: 52.7310\n",
            "Epoch 1/100\n",
            "1/1 [==============================] - 0s 11ms/step - loss: 175.2549 - mse: 175.2549\n",
            "Epoch 2/100\n",
            "1/1 [==============================] - 0s 9ms/step - loss: 165.6212 - mse: 165.6212\n",
            "Epoch 3/100\n",
            "1/1 [==============================] - 0s 8ms/step - loss: 149.7909 - mse: 149.7909\n",
            "Epoch 4/100\n",
            "1/1 [==============================] - 0s 7ms/step - loss: 130.0609 - mse: 130.0609\n",
            "Epoch 5/100\n",
            "1/1 [==============================] - 0s 7ms/step - loss: 108.4705 - mse: 108.4705\n",
            "Epoch 6/100\n",
            "1/1 [==============================] - 0s 7ms/step - loss: 86.7245 - mse: 86.7245\n",
            "Epoch 7/100\n",
            "1/1 [==============================] - 0s 7ms/step - loss: 66.1723 - mse: 66.1723\n",
            "Epoch 8/100\n",
            "1/1 [==============================] - 0s 6ms/step - loss: 47.8103 - mse: 47.8103\n",
            "Epoch 9/100\n",
            "1/1 [==============================] - 0s 6ms/step - loss: 32.3013 - mse: 32.3013\n",
            "Epoch 10/100\n",
            "1/1 [==============================] - 0s 7ms/step - loss: 20.0013 - mse: 20.0013\n",
            "Epoch 11/100\n",
            "1/1 [==============================] - 0s 6ms/step - loss: 10.9929 - mse: 10.9929\n",
            "Epoch 12/100\n",
            "1/1 [==============================] - 0s 9ms/step - loss: 5.1262 - mse: 5.1262\n",
            "Epoch 13/100\n",
            "1/1 [==============================] - 0s 7ms/step - loss: 2.0649 - mse: 2.0649\n",
            "Epoch 14/100\n",
            "1/1 [==============================] - 0s 7ms/step - loss: 1.3373 - mse: 1.3373\n",
            "Epoch 15/100\n",
            "1/1 [==============================] - 0s 7ms/step - loss: 2.3910 - mse: 2.3910\n",
            "Epoch 16/100\n",
            "1/1 [==============================] - 0s 7ms/step - loss: 4.6462 - mse: 4.6462\n",
            "Epoch 17/100\n",
            "1/1 [==============================] - 0s 13ms/step - loss: 7.5451 - mse: 7.5451\n",
            "Epoch 18/100\n",
            "1/1 [==============================] - 0s 6ms/step - loss: 10.5924 - mse: 10.5924\n",
            "Epoch 19/100\n",
            "1/1 [==============================] - 0s 6ms/step - loss: 13.3855 - mse: 13.3855\n",
            "Epoch 20/100\n",
            "1/1 [==============================] - 0s 6ms/step - loss: 15.6300 - mse: 15.6300\n",
            "Epoch 21/100\n",
            "1/1 [==============================] - 0s 6ms/step - loss: 17.1445 - mse: 17.1445\n",
            "Epoch 22/100\n",
            "1/1 [==============================] - 0s 10ms/step - loss: 17.8536 - mse: 17.8536\n",
            "Epoch 23/100\n",
            "1/1 [==============================] - 0s 7ms/step - loss: 17.7722 - mse: 17.7722\n",
            "Epoch 24/100\n",
            "1/1 [==============================] - 0s 10ms/step - loss: 16.9867 - mse: 16.9867\n",
            "Epoch 25/100\n",
            "1/1 [==============================] - 0s 7ms/step - loss: 15.6319 - mse: 15.6319\n",
            "Epoch 26/100\n",
            "1/1 [==============================] - 0s 8ms/step - loss: 13.8705 - mse: 13.8705\n",
            "Epoch 27/100\n",
            "1/1 [==============================] - 0s 7ms/step - loss: 11.8727 - mse: 11.8727\n",
            "Epoch 28/100\n",
            "1/1 [==============================] - 0s 10ms/step - loss: 9.8014 - mse: 9.8014\n",
            "Epoch 29/100\n",
            "1/1 [==============================] - 0s 7ms/step - loss: 7.7990 - mse: 7.7990\n",
            "Epoch 30/100\n",
            "1/1 [==============================] - 0s 7ms/step - loss: 5.9799 - mse: 5.9799\n",
            "Epoch 31/100\n",
            "1/1 [==============================] - 0s 7ms/step - loss: 4.4258 - mse: 4.4258\n",
            "Epoch 32/100\n",
            "1/1 [==============================] - 0s 7ms/step - loss: 3.1852 - mse: 3.1852\n",
            "Epoch 33/100\n",
            "1/1 [==============================] - 0s 7ms/step - loss: 2.2748 - mse: 2.2748\n",
            "Epoch 34/100\n",
            "1/1 [==============================] - 0s 10ms/step - loss: 1.6838 - mse: 1.6838\n",
            "Epoch 35/100\n",
            "1/1 [==============================] - 0s 7ms/step - loss: 1.3796 - mse: 1.3796\n",
            "Epoch 36/100\n",
            "1/1 [==============================] - 0s 6ms/step - loss: 1.3141 - mse: 1.3141\n",
            "Epoch 37/100\n",
            "1/1 [==============================] - 0s 7ms/step - loss: 1.4297 - mse: 1.4297\n",
            "Epoch 38/100\n",
            "1/1 [==============================] - 0s 7ms/step - loss: 1.6666 - mse: 1.6666\n",
            "Epoch 39/100\n",
            "1/1 [==============================] - 0s 7ms/step - loss: 1.9670 - mse: 1.9670\n",
            "Epoch 40/100\n",
            "1/1 [==============================] - 0s 10ms/step - loss: 2.2800 - mse: 2.2800\n",
            "Epoch 41/100\n",
            "1/1 [==============================] - 0s 7ms/step - loss: 2.5644 - mse: 2.5644\n",
            "Epoch 42/100\n",
            "1/1 [==============================] - 0s 7ms/step - loss: 2.7900 - mse: 2.7900\n",
            "Epoch 43/100\n",
            "1/1 [==============================] - 0s 7ms/step - loss: 2.9386 - mse: 2.9386\n",
            "Epoch 44/100\n",
            "1/1 [==============================] - 0s 13ms/step - loss: 3.0026 - mse: 3.0026\n",
            "Epoch 45/100\n",
            "1/1 [==============================] - 0s 6ms/step - loss: 2.9841 - mse: 2.9841\n",
            "Epoch 46/100\n",
            "1/1 [==============================] - 0s 6ms/step - loss: 2.8926 - mse: 2.8926\n",
            "Epoch 47/100\n",
            "1/1 [==============================] - 0s 6ms/step - loss: 2.7427 - mse: 2.7427\n",
            "Epoch 48/100\n",
            "1/1 [==============================] - 0s 7ms/step - loss: 2.5523 - mse: 2.5523\n",
            "Epoch 49/100\n",
            "1/1 [==============================] - 0s 7ms/step - loss: 2.3397 - mse: 2.3397\n",
            "Epoch 50/100\n",
            "1/1 [==============================] - 0s 7ms/step - loss: 2.1225 - mse: 2.1225\n",
            "Epoch 51/100\n",
            "1/1 [==============================] - 0s 7ms/step - loss: 1.9158 - mse: 1.9158\n",
            "Epoch 52/100\n",
            "1/1 [==============================] - 0s 9ms/step - loss: 1.7317 - mse: 1.7317\n",
            "Epoch 53/100\n",
            "1/1 [==============================] - 0s 7ms/step - loss: 1.5782 - mse: 1.5782\n",
            "Epoch 54/100\n",
            "1/1 [==============================] - 0s 7ms/step - loss: 1.4598 - mse: 1.4598\n",
            "Epoch 55/100\n",
            "1/1 [==============================] - 0s 7ms/step - loss: 1.3773 - mse: 1.3773\n",
            "Epoch 56/100\n",
            "1/1 [==============================] - 0s 7ms/step - loss: 1.3286 - mse: 1.3286\n",
            "Epoch 57/100\n",
            "1/1 [==============================] - 0s 7ms/step - loss: 1.3092 - mse: 1.3092\n",
            "Epoch 58/100\n",
            "1/1 [==============================] - 0s 7ms/step - loss: 1.3133 - mse: 1.3133\n",
            "Epoch 59/100\n",
            "1/1 [==============================] - 0s 11ms/step - loss: 1.3340 - mse: 1.3340\n",
            "Epoch 60/100\n",
            "1/1 [==============================] - 0s 7ms/step - loss: 1.3648 - mse: 1.3648\n",
            "Epoch 61/100\n",
            "1/1 [==============================] - 0s 7ms/step - loss: 1.3994 - mse: 1.3994\n",
            "Epoch 62/100\n",
            "1/1 [==============================] - 0s 7ms/step - loss: 1.4325 - mse: 1.4325\n",
            "Epoch 63/100\n",
            "1/1 [==============================] - 0s 7ms/step - loss: 1.4603 - mse: 1.4603\n",
            "Epoch 64/100\n",
            "1/1 [==============================] - 0s 10ms/step - loss: 1.4800 - mse: 1.4800\n",
            "Epoch 65/100\n",
            "1/1 [==============================] - 0s 7ms/step - loss: 1.4902 - mse: 1.4902\n",
            "Epoch 66/100\n",
            "1/1 [==============================] - 0s 7ms/step - loss: 1.4909 - mse: 1.4909\n",
            "Epoch 67/100\n",
            "1/1 [==============================] - 0s 7ms/step - loss: 1.4829 - mse: 1.4829\n",
            "Epoch 68/100\n",
            "1/1 [==============================] - 0s 7ms/step - loss: 1.4677 - mse: 1.4677\n",
            "Epoch 69/100\n",
            "1/1 [==============================] - 0s 12ms/step - loss: 1.4473 - mse: 1.4473\n",
            "Epoch 70/100\n",
            "1/1 [==============================] - 0s 8ms/step - loss: 1.4239 - mse: 1.4239\n",
            "Epoch 71/100\n",
            "1/1 [==============================] - 0s 8ms/step - loss: 1.3995 - mse: 1.3995\n",
            "Epoch 72/100\n",
            "1/1 [==============================] - 0s 10ms/step - loss: 1.3761 - mse: 1.3761\n",
            "Epoch 73/100\n",
            "1/1 [==============================] - 0s 6ms/step - loss: 1.3550 - mse: 1.3550\n",
            "Epoch 74/100\n",
            "1/1 [==============================] - 0s 11ms/step - loss: 1.3373 - mse: 1.3373\n",
            "Epoch 75/100\n",
            "1/1 [==============================] - 0s 6ms/step - loss: 1.3237 - mse: 1.3237\n",
            "Epoch 76/100\n",
            "1/1 [==============================] - 0s 6ms/step - loss: 1.3142 - mse: 1.3142\n",
            "Epoch 77/100\n",
            "1/1 [==============================] - 0s 5ms/step - loss: 1.3086 - mse: 1.3086\n",
            "Epoch 78/100\n",
            "1/1 [==============================] - 0s 9ms/step - loss: 1.3064 - mse: 1.3064\n",
            "Epoch 79/100\n",
            "1/1 [==============================] - 0s 6ms/step - loss: 1.3070 - mse: 1.3070\n",
            "Epoch 80/100\n",
            "1/1 [==============================] - 0s 6ms/step - loss: 1.3094 - mse: 1.3094\n",
            "Epoch 81/100\n",
            "1/1 [==============================] - 0s 8ms/step - loss: 1.3130 - mse: 1.3130\n",
            "Epoch 82/100\n",
            "1/1 [==============================] - 0s 13ms/step - loss: 1.3170 - mse: 1.3170\n",
            "Epoch 83/100\n",
            "1/1 [==============================] - 0s 6ms/step - loss: 1.3207 - mse: 1.3207\n",
            "Epoch 84/100\n",
            "1/1 [==============================] - 0s 5ms/step - loss: 1.3238 - mse: 1.3238\n",
            "Epoch 85/100\n",
            "1/1 [==============================] - 0s 6ms/step - loss: 1.3258 - mse: 1.3258\n",
            "Epoch 86/100\n",
            "1/1 [==============================] - 0s 6ms/step - loss: 1.3267 - mse: 1.3267\n",
            "Epoch 87/100\n",
            "1/1 [==============================] - 0s 5ms/step - loss: 1.3265 - mse: 1.3265\n",
            "Epoch 88/100\n",
            "1/1 [==============================] - 0s 6ms/step - loss: 1.3252 - mse: 1.3252\n",
            "Epoch 89/100\n",
            "1/1 [==============================] - 0s 7ms/step - loss: 1.3232 - mse: 1.3232\n",
            "Epoch 90/100\n",
            "1/1 [==============================] - 0s 5ms/step - loss: 1.3206 - mse: 1.3206\n",
            "Epoch 91/100\n",
            "1/1 [==============================] - 0s 6ms/step - loss: 1.3177 - mse: 1.3177\n",
            "Epoch 92/100\n",
            "1/1 [==============================] - 0s 5ms/step - loss: 1.3147 - mse: 1.3147\n",
            "Epoch 93/100\n",
            "1/1 [==============================] - 0s 6ms/step - loss: 1.3120 - mse: 1.3120\n",
            "Epoch 94/100\n",
            "1/1 [==============================] - 0s 6ms/step - loss: 1.3096 - mse: 1.3096\n",
            "Epoch 95/100\n",
            "1/1 [==============================] - 0s 6ms/step - loss: 1.3076 - mse: 1.3076\n",
            "Epoch 96/100\n",
            "1/1 [==============================] - 0s 7ms/step - loss: 1.3061 - mse: 1.3061\n",
            "Epoch 97/100\n",
            "1/1 [==============================] - 0s 6ms/step - loss: 1.3051 - mse: 1.3051\n",
            "Epoch 98/100\n",
            "1/1 [==============================] - 0s 6ms/step - loss: 1.3046 - mse: 1.3046\n",
            "Epoch 99/100\n",
            "1/1 [==============================] - 0s 5ms/step - loss: 1.3044 - mse: 1.3044\n",
            "Epoch 100/100\n",
            "1/1 [==============================] - 0s 8ms/step - loss: 1.3046 - mse: 1.3046\n"
          ]
        },
        {
          "output_type": "execute_result",
          "data": {
            "text/plain": [
              "<keras.callbacks.History at 0x7f3f5a08a9a0>"
            ]
          },
          "metadata": {},
          "execution_count": 43
        }
      ]
    },
    {
      "cell_type": "code",
      "source": [
        "plt.figure(figsize=(10,7))\n",
        "plt.scatter(X_train,Y_train, c=\"b\", label=\"training data\")\n",
        "plt.scatter(X_test, Y_test, c=\"g\", label=\"test data\")\n",
        "plt.scatter(X_test, Y_pred, c=\"r\", label=\"predictions\")\n",
        "plt.legend();"
      ],
      "metadata": {
        "colab": {
          "base_uri": "https://localhost:8080/",
          "height": 428
        },
        "id": "xhIOClf4ukie",
        "outputId": "76d31184-1c07-4982-f543-ad8672391a83"
      },
      "execution_count": null,
      "outputs": [
        {
          "output_type": "display_data",
          "data": {
            "text/plain": [
              "<Figure size 720x504 with 1 Axes>"
            ],
            "image/png": "[encoded data removed]"
          },
          "metadata": {
            "needs_background": "light"
          }
        }
      ]
    },
    {
      "cell_type": "code",
      "source": [
        "tf.random.set_seed(42)\n",
        "\n",
        "model_2 = tf.keras.Sequential([\n",
        "    tf.keras.layers.Dense(1)\n",
        "])\n",
        "\n",
        "model_2.compile(loss=tf.keras.losses.mae,\n",
        "                optimizer=tf.keras.optimizers.Adam(0.01),\n",
        "                metrics=[\"mse\"]\n",
        "                )\n",
        "\n",
        "model_2.fit(tf.expand_dims(X_train,axis=-1),Y_train,epochs=100)\n",
        "model_2.fit(tf.expand_dims(X_test,axis=-1),Y_test,epochs=100)"
      ],
      "metadata": {
        "colab": {
          "base_uri": "https://localhost:8080/"
        },
        "id": "Pig6WD61OJ6B",
        "outputId": "289875ab-2b1f-43a5-c87e-afb684e8230b"
      },
      "execution_count": null,
      "outputs": [
        {
          "output_type": "stream",
          "name": "stdout",
          "text": [
            "Epoch 1/100\n",
            "2/2 [==============================] - 1s 10ms/step - loss: 17.1341 - mse: 391.2141\n",
            "Epoch 2/100\n",
            "2/2 [==============================] - 0s 12ms/step - loss: 16.3267 - mse: 356.4623\n",
            "Epoch 3/100\n",
            "2/2 [==============================] - 0s 21ms/step - loss: 15.5698 - mse: 323.4396\n",
            "Epoch 4/100\n",
            "2/2 [==============================] - 0s 10ms/step - loss: 14.8027 - mse: 292.3486\n",
            "Epoch 5/100\n",
            "2/2 [==============================] - 0s 10ms/step - loss: 14.0456 - mse: 264.6821\n",
            "Epoch 6/100\n",
            "2/2 [==============================] - 0s 10ms/step - loss: 13.3200 - mse: 239.1184\n",
            "Epoch 7/100\n",
            "2/2 [==============================] - 0s 15ms/step - loss: 12.5875 - mse: 214.3405\n",
            "Epoch 8/100\n",
            "2/2 [==============================] - 0s 10ms/step - loss: 11.8444 - mse: 190.9379\n",
            "Epoch 9/100\n",
            "2/2 [==============================] - 0s 10ms/step - loss: 11.1684 - mse: 171.2933\n",
            "Epoch 10/100\n",
            "2/2 [==============================] - 0s 10ms/step - loss: 10.5400 - mse: 153.6187\n",
            "Epoch 11/100\n",
            "2/2 [==============================] - 0s 10ms/step - loss: 9.9011 - mse: 138.0264\n",
            "Epoch 12/100\n",
            "2/2 [==============================] - 0s 19ms/step - loss: 9.2781 - mse: 123.5826\n",
            "Epoch 13/100\n",
            "2/2 [==============================] - 0s 10ms/step - loss: 8.7234 - mse: 111.1787\n",
            "Epoch 14/100\n",
            "2/2 [==============================] - 0s 8ms/step - loss: 8.2773 - mse: 101.4318\n",
            "Epoch 15/100\n",
            "2/2 [==============================] - 0s 7ms/step - loss: 7.9286 - mse: 93.5537\n",
            "Epoch 16/100\n",
            "2/2 [==============================] - 0s 21ms/step - loss: 7.6752 - mse: 87.7329\n",
            "Epoch 17/100\n",
            "2/2 [==============================] - 0s 19ms/step - loss: 7.4788 - mse: 82.6717\n",
            "Epoch 18/100\n",
            "2/2 [==============================] - 0s 8ms/step - loss: 7.5228 - mse: 81.1382\n",
            "Epoch 19/100\n",
            "2/2 [==============================] - 0s 7ms/step - loss: 7.6023 - mse: 79.2660\n",
            "Epoch 20/100\n",
            "2/2 [==============================] - 0s 8ms/step - loss: 7.6911 - mse: 78.1801\n",
            "Epoch 21/100\n",
            "2/2 [==============================] - 0s 6ms/step - loss: 7.7004 - mse: 77.6884\n",
            "Epoch 22/100\n",
            "2/2 [==============================] - 0s 31ms/step - loss: 7.6482 - mse: 77.4234\n",
            "Epoch 23/100\n",
            "2/2 [==============================] - 0s 12ms/step - loss: 7.5369 - mse: 77.0790\n",
            "Epoch 24/100\n",
            "2/2 [==============================] - 0s 10ms/step - loss: 7.4508 - mse: 77.3611\n",
            "Epoch 25/100\n",
            "2/2 [==============================] - 0s 11ms/step - loss: 7.3606 - mse: 77.5422\n",
            "Epoch 26/100\n",
            "2/2 [==============================] - 0s 11ms/step - loss: 7.3211 - mse: 78.1544\n",
            "Epoch 27/100\n",
            "2/2 [==============================] - 0s 6ms/step - loss: 7.3105 - mse: 78.8163\n",
            "Epoch 28/100\n",
            "2/2 [==============================] - 0s 18ms/step - loss: 7.3070 - mse: 79.3626\n",
            "Epoch 29/100\n",
            "2/2 [==============================] - 0s 6ms/step - loss: 7.3143 - mse: 79.7537\n",
            "Epoch 30/100\n",
            "2/2 [==============================] - 0s 6ms/step - loss: 7.3132 - mse: 79.8443\n",
            "Epoch 31/100\n",
            "2/2 [==============================] - 0s 6ms/step - loss: 7.2980 - mse: 79.4270\n",
            "Epoch 32/100\n",
            "2/2 [==============================] - 0s 6ms/step - loss: 7.2696 - mse: 78.8403\n",
            "Epoch 33/100\n",
            "2/2 [==============================] - 0s 5ms/step - loss: 7.2451 - mse: 78.3057\n",
            "Epoch 34/100\n",
            "2/2 [==============================] - 0s 5ms/step - loss: 7.2226 - mse: 77.6547\n",
            "Epoch 35/100\n",
            "2/2 [==============================] - 0s 6ms/step - loss: 7.1991 - mse: 76.9697\n",
            "Epoch 36/100\n",
            "2/2 [==============================] - 0s 7ms/step - loss: 7.1716 - mse: 76.2979\n",
            "Epoch 37/100\n",
            "2/2 [==============================] - 0s 7ms/step - loss: 7.1544 - mse: 75.8976\n",
            "Epoch 38/100\n",
            "2/2 [==============================] - 0s 7ms/step - loss: 7.1378 - mse: 75.5903\n",
            "Epoch 39/100\n",
            "2/2 [==============================] - 0s 7ms/step - loss: 7.1216 - mse: 75.2283\n",
            "Epoch 40/100\n",
            "2/2 [==============================] - 0s 5ms/step - loss: 7.0999 - mse: 74.7323\n",
            "Epoch 41/100\n",
            "2/2 [==============================] - 0s 5ms/step - loss: 7.0783 - mse: 74.0599\n",
            "Epoch 42/100\n",
            "2/2 [==============================] - 0s 6ms/step - loss: 7.0537 - mse: 73.4388\n",
            "Epoch 43/100\n",
            "2/2 [==============================] - 0s 5ms/step - loss: 7.0360 - mse: 72.7694\n",
            "Epoch 44/100\n",
            "2/2 [==============================] - 0s 6ms/step - loss: 7.0241 - mse: 72.1436\n",
            "Epoch 45/100\n",
            "2/2 [==============================] - 0s 6ms/step - loss: 7.0004 - mse: 71.6442\n",
            "Epoch 46/100\n",
            "2/2 [==============================] - 0s 6ms/step - loss: 6.9826 - mse: 71.4326\n",
            "Epoch 47/100\n",
            "2/2 [==============================] - 0s 7ms/step - loss: 6.9661 - mse: 71.3963\n",
            "Epoch 48/100\n",
            "2/2 [==============================] - 0s 8ms/step - loss: 6.9526 - mse: 71.4710\n",
            "Epoch 49/100\n",
            "2/2 [==============================] - 0s 7ms/step - loss: 6.9458 - mse: 71.4855\n",
            "Epoch 50/100\n",
            "2/2 [==============================] - 0s 5ms/step - loss: 6.9364 - mse: 71.4805\n",
            "Epoch 51/100\n",
            "2/2 [==============================] - 0s 5ms/step - loss: 6.9305 - mse: 71.4079\n",
            "Epoch 52/100\n",
            "2/2 [==============================] - 0s 7ms/step - loss: 6.9132 - mse: 71.0010\n",
            "Epoch 53/100\n",
            "2/2 [==============================] - 0s 7ms/step - loss: 6.8861 - mse: 70.2996\n",
            "Epoch 54/100\n",
            "2/2 [==============================] - 0s 6ms/step - loss: 6.8642 - mse: 69.8018\n",
            "Epoch 55/100\n",
            "2/2 [==============================] - 0s 6ms/step - loss: 6.8454 - mse: 69.3638\n",
            "Epoch 56/100\n",
            "2/2 [==============================] - 0s 6ms/step - loss: 6.8235 - mse: 68.8548\n",
            "Epoch 57/100\n",
            "2/2 [==============================] - 0s 6ms/step - loss: 6.7990 - mse: 68.0785\n",
            "Epoch 58/100\n",
            "2/2 [==============================] - 0s 6ms/step - loss: 6.7895 - mse: 67.2717\n",
            "Epoch 59/100\n",
            "2/2 [==============================] - 0s 6ms/step - loss: 6.7831 - mse: 66.3404\n",
            "Epoch 60/100\n",
            "2/2 [==============================] - 0s 6ms/step - loss: 6.7723 - mse: 65.7903\n",
            "Epoch 61/100\n",
            "2/2 [==============================] - 0s 6ms/step - loss: 6.7555 - mse: 65.4568\n",
            "Epoch 62/100\n",
            "2/2 [==============================] - 0s 5ms/step - loss: 6.7334 - mse: 65.3405\n",
            "Epoch 63/100\n",
            "2/2 [==============================] - 0s 6ms/step - loss: 6.7035 - mse: 65.3254\n",
            "Epoch 64/100\n",
            "2/2 [==============================] - 0s 7ms/step - loss: 6.7004 - mse: 65.6368\n",
            "Epoch 65/100\n",
            "2/2 [==============================] - 0s 8ms/step - loss: 6.6776 - mse: 65.8603\n",
            "Epoch 66/100\n",
            "2/2 [==============================] - 0s 5ms/step - loss: 6.6654 - mse: 65.7454\n",
            "Epoch 67/100\n",
            "2/2 [==============================] - 0s 5ms/step - loss: 6.6490 - mse: 65.4294\n",
            "Epoch 68/100\n",
            "2/2 [==============================] - 0s 6ms/step - loss: 6.6310 - mse: 64.9295\n",
            "Epoch 69/100\n",
            "2/2 [==============================] - 0s 5ms/step - loss: 6.6102 - mse: 64.3740\n",
            "Epoch 70/100\n",
            "2/2 [==============================] - 0s 5ms/step - loss: 6.5944 - mse: 63.9727\n",
            "Epoch 71/100\n",
            "2/2 [==============================] - 0s 6ms/step - loss: 6.5728 - mse: 63.2982\n",
            "Epoch 72/100\n",
            "2/2 [==============================] - 0s 6ms/step - loss: 6.5620 - mse: 62.5270\n",
            "Epoch 73/100\n",
            "2/2 [==============================] - 0s 6ms/step - loss: 6.5525 - mse: 61.7604\n",
            "Epoch 74/100\n",
            "2/2 [==============================] - 0s 5ms/step - loss: 6.5658 - mse: 61.1122\n",
            "Epoch 75/100\n",
            "2/2 [==============================] - 0s 6ms/step - loss: 6.5706 - mse: 60.5754\n",
            "Epoch 76/100\n",
            "2/2 [==============================] - 0s 7ms/step - loss: 6.5473 - mse: 60.3649\n",
            "Epoch 77/100\n",
            "2/2 [==============================] - 0s 7ms/step - loss: 6.5032 - mse: 60.3257\n",
            "Epoch 78/100\n",
            "2/2 [==============================] - 0s 7ms/step - loss: 6.4579 - mse: 60.4905\n",
            "Epoch 79/100\n",
            "2/2 [==============================] - 0s 4ms/step - loss: 6.4639 - mse: 61.1614\n",
            "Epoch 80/100\n",
            "2/2 [==============================] - 0s 7ms/step - loss: 6.4459 - mse: 61.6554\n",
            "Epoch 81/100\n",
            "2/2 [==============================] - 0s 4ms/step - loss: 6.4378 - mse: 61.6773\n",
            "Epoch 82/100\n",
            "2/2 [==============================] - 0s 5ms/step - loss: 6.4258 - mse: 61.5170\n",
            "Epoch 83/100\n",
            "2/2 [==============================] - 0s 5ms/step - loss: 6.4107 - mse: 61.1480\n",
            "Epoch 84/100\n",
            "2/2 [==============================] - 0s 5ms/step - loss: 6.3866 - mse: 60.6247\n",
            "Epoch 85/100\n",
            "2/2 [==============================] - 0s 5ms/step - loss: 6.3667 - mse: 60.0219\n",
            "Epoch 86/100\n",
            "2/2 [==============================] - 0s 5ms/step - loss: 6.3350 - mse: 59.3024\n",
            "Epoch 87/100\n",
            "2/2 [==============================] - 0s 5ms/step - loss: 6.3142 - mse: 58.6401\n",
            "Epoch 88/100\n",
            "2/2 [==============================] - 0s 5ms/step - loss: 6.2989 - mse: 57.8490\n",
            "Epoch 89/100\n",
            "2/2 [==============================] - 0s 5ms/step - loss: 6.3022 - mse: 56.9530\n",
            "Epoch 90/100\n",
            "2/2 [==============================] - 0s 5ms/step - loss: 6.3079 - mse: 56.3860\n",
            "Epoch 91/100\n",
            "2/2 [==============================] - 0s 4ms/step - loss: 6.2935 - mse: 56.1362\n",
            "Epoch 92/100\n",
            "2/2 [==============================] - 0s 5ms/step - loss: 6.2629 - mse: 55.9591\n",
            "Epoch 93/100\n",
            "2/2 [==============================] - 0s 5ms/step - loss: 6.2320 - mse: 55.9329\n",
            "Epoch 94/100\n",
            "2/2 [==============================] - 0s 5ms/step - loss: 6.2036 - mse: 56.1425\n",
            "Epoch 95/100\n",
            "2/2 [==============================] - 0s 5ms/step - loss: 6.1869 - mse: 56.2968\n",
            "Epoch 96/100\n",
            "2/2 [==============================] - 0s 8ms/step - loss: 6.1941 - mse: 56.6994\n",
            "Epoch 97/100\n",
            "2/2 [==============================] - 0s 5ms/step - loss: 6.1754 - mse: 56.5915\n",
            "Epoch 98/100\n",
            "2/2 [==============================] - 0s 5ms/step - loss: 6.1547 - mse: 56.1252\n",
            "Epoch 99/100\n",
            "2/2 [==============================] - 0s 5ms/step - loss: 6.1333 - mse: 55.4916\n",
            "Epoch 100/100\n",
            "2/2 [==============================] - 0s 5ms/step - loss: 6.1093 - mse: 54.8286\n",
            "Epoch 1/100\n",
            "1/1 [==============================] - 0s 14ms/step - loss: 15.4528 - mse: 239.9929\n",
            "Epoch 2/100\n",
            "1/1 [==============================] - 0s 13ms/step - loss: 15.0006 - mse: 226.0848\n",
            "Epoch 3/100\n",
            "1/1 [==============================] - 0s 11ms/step - loss: 14.3044 - mse: 205.4846\n",
            "Epoch 4/100\n",
            "1/1 [==============================] - 0s 14ms/step - loss: 13.4064 - mse: 180.3720\n",
            "Epoch 5/100\n",
            "1/1 [==============================] - 0s 9ms/step - loss: 12.3408 - mse: 152.7130\n",
            "Epoch 6/100\n",
            "1/1 [==============================] - 0s 10ms/step - loss: 11.1362 - mse: 124.2352\n",
            "Epoch 7/100\n",
            "1/1 [==============================] - 0s 7ms/step - loss: 9.8159 - mse: 96.4296\n",
            "Epoch 8/100\n",
            "1/1 [==============================] - 0s 12ms/step - loss: 8.3998 - mse: 70.5611\n",
            "Epoch 9/100\n",
            "1/1 [==============================] - 0s 9ms/step - loss: 6.9041 - mse: 47.6892\n",
            "Epoch 10/100\n",
            "1/1 [==============================] - 0s 10ms/step - loss: 5.3429 - mse: 28.6888\n",
            "Epoch 11/100\n",
            "1/1 [==============================] - 0s 12ms/step - loss: 3.7279 - mse: 14.2728\n",
            "Epoch 12/100\n",
            "1/1 [==============================] - 0s 8ms/step - loss: 2.0691 - mse: 5.0124\n",
            "Epoch 13/100\n",
            "1/1 [==============================] - 0s 7ms/step - loss: 0.9965 - mse: 1.3569\n",
            "Epoch 14/100\n",
            "1/1 [==============================] - 0s 8ms/step - loss: 1.4435 - mse: 3.1396\n",
            "Epoch 15/100\n",
            "1/1 [==============================] - 0s 8ms/step - loss: 2.3959 - mse: 8.0140\n",
            "Epoch 16/100\n",
            "1/1 [==============================] - 0s 8ms/step - loss: 3.2504 - mse: 13.2312\n",
            "Epoch 17/100\n",
            "1/1 [==============================] - 0s 8ms/step - loss: 3.7836 - mse: 17.2416\n",
            "Epoch 18/100\n",
            "1/1 [==============================] - 0s 8ms/step - loss: 4.0370 - mse: 19.3510\n",
            "Epoch 19/100\n",
            "1/1 [==============================] - 0s 11ms/step - loss: 4.0468 - mse: 19.4346\n",
            "Epoch 20/100\n",
            "1/1 [==============================] - 0s 8ms/step - loss: 3.8445 - mse: 17.7342\n",
            "Epoch 21/100\n",
            "1/1 [==============================] - 0s 8ms/step - loss: 3.4573 - mse: 14.7151\n",
            "Epoch 22/100\n",
            "1/1 [==============================] - 0s 9ms/step - loss: 2.9092 - mse: 10.9651\n",
            "Epoch 23/100\n",
            "1/1 [==============================] - 0s 11ms/step - loss: 2.2409 - mse: 7.1259\n",
            "Epoch 24/100\n",
            "1/1 [==============================] - 0s 9ms/step - loss: 1.6239 - mse: 3.9347\n",
            "Epoch 25/100\n",
            "1/1 [==============================] - 0s 9ms/step - loss: 1.1593 - mse: 1.9081\n",
            "Epoch 26/100\n",
            "1/1 [==============================] - 0s 9ms/step - loss: 0.9822 - mse: 1.3094\n",
            "Epoch 27/100\n",
            "1/1 [==============================] - 0s 8ms/step - loss: 1.1301 - mse: 1.9169\n",
            "Epoch 28/100\n",
            "1/1 [==============================] - 0s 7ms/step - loss: 1.4842 - mse: 3.0823\n",
            "Epoch 29/100\n",
            "1/1 [==============================] - 0s 8ms/step - loss: 1.7720 - mse: 3.9421\n",
            "Epoch 30/100\n",
            "1/1 [==============================] - 0s 12ms/step - loss: 1.8336 - mse: 4.1479\n",
            "Epoch 31/100\n",
            "1/1 [==============================] - 0s 7ms/step - loss: 1.6964 - mse: 3.6994\n",
            "Epoch 32/100\n",
            "1/1 [==============================] - 0s 10ms/step - loss: 1.4061 - mse: 2.8237\n",
            "Epoch 33/100\n",
            "1/1 [==============================] - 0s 9ms/step - loss: 1.1427 - mse: 1.9555\n",
            "Epoch 34/100\n",
            "1/1 [==============================] - 0s 8ms/step - loss: 1.0023 - mse: 1.4103\n",
            "Epoch 35/100\n",
            "1/1 [==============================] - 0s 12ms/step - loss: 0.9990 - mse: 1.3193\n",
            "Epoch 36/100\n",
            "1/1 [==============================] - 0s 7ms/step - loss: 1.0717 - mse: 1.5578\n",
            "Epoch 37/100\n",
            "1/1 [==============================] - 0s 8ms/step - loss: 1.1612 - mse: 1.9201\n",
            "Epoch 38/100\n",
            "1/1 [==============================] - 0s 8ms/step - loss: 1.2497 - mse: 2.2573\n",
            "Epoch 39/100\n",
            "1/1 [==============================] - 0s 8ms/step - loss: 1.2874 - mse: 2.4096\n",
            "Epoch 40/100\n",
            "1/1 [==============================] - 0s 8ms/step - loss: 1.2726 - mse: 2.3486\n",
            "Epoch 41/100\n",
            "1/1 [==============================] - 0s 10ms/step - loss: 1.2107 - mse: 2.1115\n",
            "Epoch 42/100\n",
            "1/1 [==============================] - 0s 8ms/step - loss: 1.1310 - mse: 1.7810\n",
            "Epoch 43/100\n",
            "1/1 [==============================] - 0s 7ms/step - loss: 1.0517 - mse: 1.4985\n",
            "Epoch 44/100\n",
            "1/1 [==============================] - 0s 8ms/step - loss: 1.0022 - mse: 1.3260\n",
            "Epoch 45/100\n",
            "1/1 [==============================] - 0s 8ms/step - loss: 0.9852 - mse: 1.3153\n",
            "Epoch 46/100\n",
            "1/1 [==============================] - 0s 11ms/step - loss: 1.0034 - mse: 1.4306\n",
            "Epoch 47/100\n",
            "1/1 [==============================] - 0s 8ms/step - loss: 1.0537 - mse: 1.6156\n",
            "Epoch 48/100\n",
            "1/1 [==============================] - 0s 8ms/step - loss: 1.0896 - mse: 1.7706\n",
            "Epoch 49/100\n",
            "1/1 [==============================] - 0s 8ms/step - loss: 1.1079 - mse: 1.8496\n",
            "Epoch 50/100\n",
            "1/1 [==============================] - 0s 13ms/step - loss: 1.0910 - mse: 1.7776\n",
            "Epoch 51/100\n",
            "1/1 [==============================] - 0s 7ms/step - loss: 1.0614 - mse: 1.6470\n",
            "Epoch 52/100\n",
            "1/1 [==============================] - 0s 8ms/step - loss: 1.0184 - mse: 1.4935\n",
            "Epoch 53/100\n",
            "1/1 [==============================] - 0s 10ms/step - loss: 0.9939 - mse: 1.3608\n",
            "Epoch 54/100\n",
            "1/1 [==============================] - 0s 8ms/step - loss: 0.9794 - mse: 1.3006\n",
            "Epoch 55/100\n",
            "1/1 [==============================] - 0s 8ms/step - loss: 0.9949 - mse: 1.3091\n",
            "Epoch 56/100\n",
            "1/1 [==============================] - 0s 8ms/step - loss: 1.0124 - mse: 1.3608\n",
            "Epoch 57/100\n",
            "1/1 [==============================] - 0s 10ms/step - loss: 1.0250 - mse: 1.4229\n",
            "Epoch 58/100\n",
            "1/1 [==============================] - 0s 8ms/step - loss: 1.0431 - mse: 1.4748\n",
            "Epoch 59/100\n",
            "1/1 [==============================] - 0s 8ms/step - loss: 1.0421 - mse: 1.4721\n",
            "Epoch 60/100\n",
            "1/1 [==============================] - 0s 9ms/step - loss: 1.0243 - mse: 1.4206\n",
            "Epoch 61/100\n",
            "1/1 [==============================] - 0s 8ms/step - loss: 1.0136 - mse: 1.3672\n",
            "Epoch 62/100\n",
            "1/1 [==============================] - 0s 10ms/step - loss: 1.0007 - mse: 1.3218\n",
            "Epoch 63/100\n",
            "1/1 [==============================] - 0s 8ms/step - loss: 0.9859 - mse: 1.2947\n",
            "Epoch 64/100\n",
            "1/1 [==============================] - 0s 9ms/step - loss: 0.9778 - mse: 1.2962\n",
            "Epoch 65/100\n",
            "1/1 [==============================] - 0s 8ms/step - loss: 0.9854 - mse: 1.3206\n",
            "Epoch 66/100\n",
            "1/1 [==============================] - 0s 14ms/step - loss: 0.9911 - mse: 1.3523\n",
            "Epoch 67/100\n",
            "1/1 [==============================] - 0s 7ms/step - loss: 0.9950 - mse: 1.3811\n",
            "Epoch 68/100\n",
            "1/1 [==============================] - 0s 7ms/step - loss: 0.9973 - mse: 1.4013\n",
            "Epoch 69/100\n",
            "1/1 [==============================] - 0s 6ms/step - loss: 0.9981 - mse: 1.4102\n",
            "Epoch 70/100\n",
            "1/1 [==============================] - 0s 7ms/step - loss: 0.9977 - mse: 1.4075\n",
            "Epoch 71/100\n",
            "1/1 [==============================] - 0s 7ms/step - loss: 0.9960 - mse: 1.3946\n",
            "Epoch 72/100\n",
            "1/1 [==============================] - 0s 7ms/step - loss: 0.9934 - mse: 1.3741\n",
            "Epoch 73/100\n",
            "1/1 [==============================] - 0s 7ms/step - loss: 0.9897 - mse: 1.3491\n",
            "Epoch 74/100\n",
            "1/1 [==============================] - 0s 12ms/step - loss: 0.9852 - mse: 1.3236\n",
            "Epoch 75/100\n",
            "1/1 [==============================] - 0s 7ms/step - loss: 0.9799 - mse: 1.3015\n",
            "Epoch 76/100\n",
            "1/1 [==============================] - 0s 7ms/step - loss: 0.9739 - mse: 1.2871\n",
            "Epoch 77/100\n",
            "1/1 [==============================] - 0s 7ms/step - loss: 0.9794 - mse: 1.2844\n",
            "Epoch 78/100\n",
            "1/1 [==============================] - 0s 7ms/step - loss: 0.9854 - mse: 1.2892\n",
            "Epoch 79/100\n",
            "1/1 [==============================] - 0s 7ms/step - loss: 0.9876 - mse: 1.2919\n",
            "Epoch 80/100\n",
            "1/1 [==============================] - 0s 7ms/step - loss: 0.9862 - mse: 1.2897\n",
            "Epoch 81/100\n",
            "1/1 [==============================] - 0s 13ms/step - loss: 0.9817 - mse: 1.2842\n",
            "Epoch 82/100\n",
            "1/1 [==============================] - 0s 7ms/step - loss: 0.9744 - mse: 1.2807\n",
            "Epoch 83/100\n",
            "1/1 [==============================] - 0s 7ms/step - loss: 0.9743 - mse: 1.2863\n",
            "Epoch 84/100\n",
            "1/1 [==============================] - 0s 7ms/step - loss: 0.9782 - mse: 1.2971\n",
            "Epoch 85/100\n",
            "1/1 [==============================] - 0s 8ms/step - loss: 0.9804 - mse: 1.3061\n",
            "Epoch 86/100\n",
            "1/1 [==============================] - 0s 7ms/step - loss: 0.9812 - mse: 1.3100\n",
            "Epoch 87/100\n",
            "1/1 [==============================] - 0s 11ms/step - loss: 0.9807 - mse: 1.3080\n",
            "Epoch 88/100\n",
            "1/1 [==============================] - 0s 6ms/step - loss: 0.9789 - mse: 1.3009\n",
            "Epoch 89/100\n",
            "1/1 [==============================] - 0s 6ms/step - loss: 0.9761 - mse: 1.2910\n",
            "Epoch 90/100\n",
            "1/1 [==============================] - 0s 7ms/step - loss: 0.9722 - mse: 1.2813\n",
            "Epoch 91/100\n",
            "1/1 [==============================] - 0s 7ms/step - loss: 0.9707 - mse: 1.2755\n",
            "Epoch 92/100\n",
            "1/1 [==============================] - 0s 11ms/step - loss: 0.9737 - mse: 1.2748\n",
            "Epoch 93/100\n",
            "1/1 [==============================] - 0s 7ms/step - loss: 0.9731 - mse: 1.2742\n",
            "Epoch 94/100\n",
            "1/1 [==============================] - 0s 8ms/step - loss: 0.9692 - mse: 1.2740\n",
            "Epoch 95/100\n",
            "1/1 [==============================] - 0s 7ms/step - loss: 0.9712 - mse: 1.2784\n",
            "Epoch 96/100\n",
            "1/1 [==============================] - 0s 8ms/step - loss: 0.9734 - mse: 1.2835\n",
            "Epoch 97/100\n",
            "1/1 [==============================] - 0s 8ms/step - loss: 0.9741 - mse: 1.2856\n",
            "Epoch 98/100\n",
            "1/1 [==============================] - 0s 12ms/step - loss: 0.9734 - mse: 1.2838\n",
            "Epoch 99/100\n",
            "1/1 [==============================] - 0s 14ms/step - loss: 0.9716 - mse: 1.2788\n",
            "Epoch 100/100\n",
            "1/1 [==============================] - 0s 8ms/step - loss: 0.9686 - mse: 1.2730\n"
          ]
        },
        {
          "output_type": "execute_result",
          "data": {
            "text/plain": [
              "<keras.callbacks.History at 0x7f3f513b89d0>"
            ]
          },
          "metadata": {},
          "execution_count": 60
        }
      ]
    },
    {
      "cell_type": "code",
      "source": [
        "tf.size(X_train), tf.size(Y_train), tf.size(X_test), tf.size(Y_test), tf.size(Y_pred)\n",
        "X_train.shape, Y_train.shape, X_test.shape, Y_test.shape, Y_pred.shape"
      ],
      "metadata": {
        "colab": {
          "base_uri": "https://localhost:8080/"
        },
        "id": "C4z1LJcpRpRo",
        "outputId": "484e0765-7200-4f57-e503-70bf1f9eaccc"
      },
      "execution_count": null,
      "outputs": [
        {
          "output_type": "execute_result",
          "data": {
            "text/plain": [
              "(TensorShape([40]),\n",
              " TensorShape([40]),\n",
              " TensorShape([10]),\n",
              " TensorShape([10]),\n",
              " (10, 1))"
            ]
          },
          "metadata": {},
          "execution_count": 50
        }
      ]
    },
    {
      "cell_type": "code",
      "source": [
        "def plot_predictions(train_data=X_train,\n",
        "                     train_labels=Y_train,\n",
        "                     test_data=X_test,\n",
        "                     test_labels=Y_test,\n",
        "                     predictions=Y_pred\n",
        "                     ):\n",
        "  return \n",
        "  plt.figure(figsize=(10,7))\n",
        "  plt.scatter(X_train,Y_train, c=\"b\", label=\"training data\")\n",
        "  plt.scatter(X_test, Y_test, c=\"g\", label=\"test data\")\n",
        "  plt.scatter(X_test, tf.squeeze(Y_pred), c=\"r\", label=\"predictions\")\n",
        "  plt.legend();\n"
      ],
      "metadata": {
        "id": "ZlndZ7sEQDOR"
      },
      "execution_count": null,
      "outputs": []
    },
    {
      "cell_type": "code",
      "source": [
        "y_preds_2 = model_2.predict(X_test)\n",
        "\n"
      ],
      "metadata": {
        "colab": {
          "base_uri": "https://localhost:8080/"
        },
        "id": "ok5X0G4BP5Xr",
        "outputId": "b14a5094-d477-4826-f4ab-fa8aa283023b"
      },
      "execution_count": null,
      "outputs": [
        {
          "output_type": "stream",
          "name": "stdout",
          "text": [
            "1/1 [==============================] - 0s 46ms/step\n"
          ]
        }
      ]
    },
    {
      "cell_type": "code",
      "source": [
        "mae_2 = mae(Y_test, y_preds_2)\n",
        "mse_2 = mse(Y_test, y_preds_2)\n",
        "mae_2, mse_2"
      ],
      "metadata": {
        "colab": {
          "base_uri": "https://localhost:8080/"
        },
        "id": "IfobUX9kS9pI",
        "outputId": "8e7ac879-09c9-4ffa-f7c9-58ef9378fc43"
      },
      "execution_count": null,
      "outputs": [
        {
          "output_type": "execute_result",
          "data": {
            "text/plain": [
              "(<tf.Tensor: shape=(), dtype=float32, numpy=0.96936876>,\n",
              " <tf.Tensor: shape=(), dtype=float32, numpy=1.2692983>)"
            ]
          },
          "metadata": {},
          "execution_count": 63
        }
      ]
    },
    {
      "cell_type": "code",
      "source": [
        "tf.random.set_seed(42)\n",
        "\n",
        "model_3 = tf.keras.Sequential([\n",
        "    tf.keras.layers.Dense(10),\n",
        "    tf.keras.layers.Dense(1)\n",
        "])\n",
        "\n",
        "model_3.compile(loss=tf.keras.losses.mae,\n",
        "                optimizer=tf.keras.optimizers.Adam(0.01),\n",
        "                metrics=[\"mse\"])\n",
        "model_3.fit(tf.expand_dims(X_train,axis=-1),Y_train, epochs=500)"
      ],
      "metadata": {
        "colab": {
          "base_uri": "https://localhost:8080/"
        },
        "id": "qWuSc97XVi2w",
        "outputId": "df16f3cf-c5e5-430e-e541-d37cda73a647"
      },
      "execution_count": null,
      "outputs": [
        {
          "output_type": "stream",
          "name": "stdout",
          "text": [
            "Epoch 1/500\n",
            "2/2 [==============================] - 0s 7ms/step - loss: 24.7643 - mse: 823.9166\n",
            "Epoch 2/500\n",
            "2/2 [==============================] - 0s 14ms/step - loss: 19.0262 - mse: 488.4918\n",
            "Epoch 3/500\n",
            "2/2 [==============================] - 0s 7ms/step - loss: 13.5870 - mse: 248.8546\n",
            "Epoch 4/500\n",
            "2/2 [==============================] - 0s 7ms/step - loss: 8.8757 - mse: 111.0562\n",
            "Epoch 5/500\n",
            "2/2 [==============================] - 0s 6ms/step - loss: 8.6327 - mse: 81.9647\n",
            "Epoch 6/500\n",
            "2/2 [==============================] - 0s 6ms/step - loss: 10.8266 - mse: 120.0499\n",
            "Epoch 7/500\n",
            "2/2 [==============================] - 0s 5ms/step - loss: 11.7706 - mse: 153.4776\n",
            "Epoch 8/500\n",
            "2/2 [==============================] - 0s 5ms/step - loss: 11.8001 - mse: 156.4655\n",
            "Epoch 9/500\n",
            "2/2 [==============================] - 0s 6ms/step - loss: 11.1962 - mse: 133.4668\n",
            "Epoch 10/500\n",
            "2/2 [==============================] - 0s 5ms/step - loss: 10.0506 - mse: 101.6358\n",
            "Epoch 11/500\n",
            "2/2 [==============================] - 0s 5ms/step - loss: 8.4785 - mse: 76.1468\n",
            "Epoch 12/500\n",
            "2/2 [==============================] - 0s 5ms/step - loss: 7.3061 - mse: 75.4892\n",
            "Epoch 13/500\n",
            "2/2 [==============================] - 0s 5ms/step - loss: 7.9295 - mse: 91.9425\n",
            "Epoch 14/500\n",
            "2/2 [==============================] - 0s 6ms/step - loss: 8.2075 - mse: 97.8190\n",
            "Epoch 15/500\n",
            "2/2 [==============================] - 0s 11ms/step - loss: 7.7219 - mse: 87.9044\n",
            "Epoch 16/500\n",
            "2/2 [==============================] - 0s 8ms/step - loss: 7.1421 - mse: 75.1603\n",
            "Epoch 17/500\n",
            "2/2 [==============================] - 0s 6ms/step - loss: 6.9032 - mse: 67.0966\n",
            "Epoch 18/500\n",
            "2/2 [==============================] - 0s 8ms/step - loss: 7.1171 - mse: 65.7143\n",
            "Epoch 19/500\n",
            "2/2 [==============================] - 0s 6ms/step - loss: 6.8713 - mse: 64.2074\n",
            "Epoch 20/500\n",
            "2/2 [==============================] - 0s 6ms/step - loss: 6.6966 - mse: 66.5117\n",
            "Epoch 21/500\n",
            "2/2 [==============================] - 0s 6ms/step - loss: 6.6737 - mse: 66.5027\n",
            "Epoch 22/500\n",
            "2/2 [==============================] - 0s 6ms/step - loss: 6.5517 - mse: 63.7570\n",
            "Epoch 23/500\n",
            "2/2 [==============================] - 0s 6ms/step - loss: 6.5632 - mse: 60.9263\n",
            "Epoch 24/500\n",
            "2/2 [==============================] - 0s 5ms/step - loss: 6.5071 - mse: 58.7030\n",
            "Epoch 25/500\n",
            "2/2 [==============================] - 0s 5ms/step - loss: 6.3482 - mse: 58.4379\n",
            "Epoch 26/500\n",
            "2/2 [==============================] - 0s 6ms/step - loss: 6.2796 - mse: 58.2876\n",
            "Epoch 27/500\n",
            "2/2 [==============================] - 0s 6ms/step - loss: 6.2361 - mse: 57.8460\n",
            "Epoch 28/500\n",
            "2/2 [==============================] - 0s 5ms/step - loss: 6.1653 - mse: 56.4669\n",
            "Epoch 29/500\n",
            "2/2 [==============================] - 0s 6ms/step - loss: 6.0706 - mse: 54.3956\n",
            "Epoch 30/500\n",
            "2/2 [==============================] - 0s 5ms/step - loss: 6.0291 - mse: 52.2334\n",
            "Epoch 31/500\n",
            "2/2 [==============================] - 0s 7ms/step - loss: 5.9077 - mse: 51.5006\n",
            "Epoch 32/500\n",
            "2/2 [==============================] - 0s 5ms/step - loss: 5.9504 - mse: 53.2904\n",
            "Epoch 33/500\n",
            "2/2 [==============================] - 0s 5ms/step - loss: 6.0770 - mse: 55.1799\n",
            "Epoch 34/500\n",
            "2/2 [==============================] - 0s 5ms/step - loss: 5.9371 - mse: 51.9124\n",
            "Epoch 35/500\n",
            "2/2 [==============================] - 0s 5ms/step - loss: 5.7583 - mse: 47.2067\n",
            "Epoch 36/500\n",
            "2/2 [==============================] - 0s 5ms/step - loss: 5.6100 - mse: 44.5300\n",
            "Epoch 37/500\n",
            "2/2 [==============================] - 0s 6ms/step - loss: 5.5049 - mse: 45.4118\n",
            "Epoch 38/500\n",
            "2/2 [==============================] - 0s 6ms/step - loss: 5.5993 - mse: 47.0050\n",
            "Epoch 39/500\n",
            "2/2 [==============================] - 0s 6ms/step - loss: 5.5565 - mse: 46.1798\n",
            "Epoch 40/500\n",
            "2/2 [==============================] - 0s 6ms/step - loss: 5.3353 - mse: 42.8585\n",
            "Epoch 41/500\n",
            "2/2 [==============================] - 0s 6ms/step - loss: 5.1988 - mse: 38.4583\n",
            "Epoch 42/500\n",
            "2/2 [==============================] - 0s 5ms/step - loss: 5.3877 - mse: 36.7447\n",
            "Epoch 43/500\n",
            "2/2 [==============================] - 0s 9ms/step - loss: 5.1514 - mse: 35.7422\n",
            "Epoch 44/500\n",
            "2/2 [==============================] - 0s 6ms/step - loss: 4.9465 - mse: 36.5463\n",
            "Epoch 45/500\n",
            "2/2 [==============================] - 0s 6ms/step - loss: 5.0810 - mse: 38.5912\n",
            "Epoch 46/500\n",
            "2/2 [==============================] - 0s 7ms/step - loss: 5.0890 - mse: 38.5146\n",
            "Epoch 47/500\n",
            "2/2 [==============================] - 0s 6ms/step - loss: 4.8108 - mse: 34.5435\n",
            "Epoch 48/500\n",
            "2/2 [==============================] - 0s 6ms/step - loss: 4.6230 - mse: 30.9068\n",
            "Epoch 49/500\n",
            "2/2 [==============================] - 0s 6ms/step - loss: 4.6238 - mse: 29.0773\n",
            "Epoch 50/500\n",
            "2/2 [==============================] - 0s 5ms/step - loss: 4.4386 - mse: 29.1970\n",
            "Epoch 51/500\n",
            "2/2 [==============================] - 0s 5ms/step - loss: 4.5251 - mse: 30.6081\n",
            "Epoch 52/500\n",
            "2/2 [==============================] - 0s 6ms/step - loss: 4.3965 - mse: 28.4744\n",
            "Epoch 53/500\n",
            "2/2 [==============================] - 0s 6ms/step - loss: 4.2997 - mse: 24.7693\n",
            "Epoch 54/500\n",
            "2/2 [==============================] - 0s 6ms/step - loss: 4.1182 - mse: 24.7888\n",
            "Epoch 55/500\n",
            "2/2 [==============================] - 0s 6ms/step - loss: 4.1023 - mse: 25.3454\n",
            "Epoch 56/500\n",
            "2/2 [==============================] - 0s 6ms/step - loss: 3.8748 - mse: 21.8426\n",
            "Epoch 57/500\n",
            "2/2 [==============================] - 0s 6ms/step - loss: 3.8659 - mse: 20.6536\n",
            "Epoch 58/500\n",
            "2/2 [==============================] - 0s 6ms/step - loss: 3.7244 - mse: 20.3997\n",
            "Epoch 59/500\n",
            "2/2 [==============================] - 0s 5ms/step - loss: 3.6444 - mse: 19.5720\n",
            "Epoch 60/500\n",
            "2/2 [==============================] - 0s 5ms/step - loss: 3.5109 - mse: 17.9076\n",
            "Epoch 61/500\n",
            "2/2 [==============================] - 0s 6ms/step - loss: 3.4097 - mse: 16.8927\n",
            "Epoch 62/500\n",
            "2/2 [==============================] - 0s 6ms/step - loss: 3.3124 - mse: 16.3362\n",
            "Epoch 63/500\n",
            "2/2 [==============================] - 0s 6ms/step - loss: 3.2729 - mse: 15.8789\n",
            "Epoch 64/500\n",
            "2/2 [==============================] - 0s 6ms/step - loss: 3.1014 - mse: 14.2844\n",
            "Epoch 65/500\n",
            "2/2 [==============================] - 0s 6ms/step - loss: 2.9931 - mse: 12.7608\n",
            "Epoch 66/500\n",
            "2/2 [==============================] - 0s 6ms/step - loss: 2.8670 - mse: 12.2758\n",
            "Epoch 67/500\n",
            "2/2 [==============================] - 0s 6ms/step - loss: 2.8825 - mse: 12.4720\n",
            "Epoch 68/500\n",
            "2/2 [==============================] - 0s 5ms/step - loss: 2.6894 - mse: 10.2976\n",
            "Epoch 69/500\n",
            "2/2 [==============================] - 0s 10ms/step - loss: 2.5258 - mse: 9.0439\n",
            "Epoch 70/500\n",
            "2/2 [==============================] - 0s 6ms/step - loss: 2.5212 - mse: 9.4900\n",
            "Epoch 71/500\n",
            "2/2 [==============================] - 0s 6ms/step - loss: 2.2685 - mse: 7.2661\n",
            "Epoch 72/500\n",
            "2/2 [==============================] - 0s 7ms/step - loss: 2.3147 - mse: 6.4585\n",
            "Epoch 73/500\n",
            "2/2 [==============================] - 0s 6ms/step - loss: 2.1676 - mse: 6.9394\n",
            "Epoch 74/500\n",
            "2/2 [==============================] - 0s 6ms/step - loss: 1.9131 - mse: 5.0819\n",
            "Epoch 75/500\n",
            "2/2 [==============================] - 0s 6ms/step - loss: 2.2775 - mse: 5.1884\n",
            "Epoch 76/500\n",
            "2/2 [==============================] - 0s 6ms/step - loss: 1.9966 - mse: 4.1675\n",
            "Epoch 77/500\n",
            "2/2 [==============================] - 0s 6ms/step - loss: 1.6327 - mse: 4.0018\n",
            "Epoch 78/500\n",
            "2/2 [==============================] - 0s 6ms/step - loss: 1.5498 - mse: 3.6714\n",
            "Epoch 79/500\n",
            "2/2 [==============================] - 0s 6ms/step - loss: 1.5338 - mse: 2.4044\n",
            "Epoch 80/500\n",
            "2/2 [==============================] - 0s 6ms/step - loss: 1.2707 - mse: 1.7959\n",
            "Epoch 81/500\n",
            "2/2 [==============================] - 0s 6ms/step - loss: 1.2268 - mse: 2.0732\n",
            "Epoch 82/500\n",
            "2/2 [==============================] - 0s 6ms/step - loss: 0.8647 - mse: 0.8399\n",
            "Epoch 83/500\n",
            "2/2 [==============================] - 0s 6ms/step - loss: 0.6219 - mse: 0.5765\n",
            "Epoch 84/500\n",
            "2/2 [==============================] - 0s 6ms/step - loss: 0.5439 - mse: 0.4369\n",
            "Epoch 85/500\n",
            "2/2 [==============================] - 0s 5ms/step - loss: 0.8905 - mse: 1.1846\n",
            "Epoch 86/500\n",
            "2/2 [==============================] - 0s 8ms/step - loss: 0.4026 - mse: 0.3076\n",
            "Epoch 87/500\n",
            "2/2 [==============================] - 0s 6ms/step - loss: 0.7196 - mse: 0.7751\n",
            "Epoch 88/500\n",
            "2/2 [==============================] - 0s 6ms/step - loss: 1.3945 - mse: 2.8235\n",
            "Epoch 89/500\n",
            "2/2 [==============================] - 0s 6ms/step - loss: 1.4896 - mse: 3.1016\n",
            "Epoch 90/500\n",
            "2/2 [==============================] - 0s 5ms/step - loss: 0.9490 - mse: 1.4032\n",
            "Epoch 91/500\n",
            "2/2 [==============================] - 0s 5ms/step - loss: 1.2693 - mse: 2.5042\n",
            "Epoch 92/500\n",
            "2/2 [==============================] - 0s 6ms/step - loss: 0.9246 - mse: 1.1552\n",
            "Epoch 93/500\n",
            "2/2 [==============================] - 0s 6ms/step - loss: 1.1841 - mse: 2.0313\n",
            "Epoch 94/500\n",
            "2/2 [==============================] - 0s 6ms/step - loss: 0.8709 - mse: 1.1698\n",
            "Epoch 95/500\n",
            "2/2 [==============================] - 0s 6ms/step - loss: 0.8290 - mse: 1.1378\n",
            "Epoch 96/500\n",
            "2/2 [==============================] - 0s 6ms/step - loss: 1.2720 - mse: 2.2861\n",
            "Epoch 97/500\n",
            "2/2 [==============================] - 0s 6ms/step - loss: 0.9911 - mse: 1.4883\n",
            "Epoch 98/500\n",
            "2/2 [==============================] - 0s 6ms/step - loss: 1.0985 - mse: 1.7823\n",
            "Epoch 99/500\n",
            "2/2 [==============================] - 0s 7ms/step - loss: 0.8477 - mse: 1.2241\n",
            "Epoch 100/500\n",
            "2/2 [==============================] - 0s 6ms/step - loss: 1.3402 - mse: 2.6668\n",
            "Epoch 101/500\n",
            "2/2 [==============================] - 0s 8ms/step - loss: 1.5408 - mse: 3.4396\n",
            "Epoch 102/500\n",
            "2/2 [==============================] - 0s 6ms/step - loss: 0.4361 - mse: 0.3120\n",
            "Epoch 103/500\n",
            "2/2 [==============================] - 0s 6ms/step - loss: 0.6406 - mse: 0.6412\n",
            "Epoch 104/500\n",
            "2/2 [==============================] - 0s 6ms/step - loss: 1.2104 - mse: 2.2360\n",
            "Epoch 105/500\n",
            "2/2 [==============================] - 0s 6ms/step - loss: 1.3164 - mse: 2.5883\n",
            "Epoch 106/500\n",
            "2/2 [==============================] - 0s 6ms/step - loss: 0.6464 - mse: 0.7019\n",
            "Epoch 107/500\n",
            "2/2 [==============================] - 0s 6ms/step - loss: 0.7598 - mse: 0.9319\n",
            "Epoch 108/500\n",
            "2/2 [==============================] - 0s 6ms/step - loss: 1.0865 - mse: 1.7398\n",
            "Epoch 109/500\n",
            "2/2 [==============================] - 0s 6ms/step - loss: 1.2352 - mse: 2.3336\n",
            "Epoch 110/500\n",
            "2/2 [==============================] - 0s 6ms/step - loss: 0.5084 - mse: 0.3829\n",
            "Epoch 111/500\n",
            "2/2 [==============================] - 0s 6ms/step - loss: 0.5066 - mse: 0.4308\n",
            "Epoch 112/500\n",
            "2/2 [==============================] - 0s 6ms/step - loss: 0.2299 - mse: 0.0889\n",
            "Epoch 113/500\n",
            "2/2 [==============================] - 0s 6ms/step - loss: 0.1633 - mse: 0.0435\n",
            "Epoch 114/500\n",
            "2/2 [==============================] - 0s 6ms/step - loss: 0.2162 - mse: 0.0837\n",
            "Epoch 115/500\n",
            "2/2 [==============================] - 0s 7ms/step - loss: 0.5131 - mse: 0.3703\n",
            "Epoch 116/500\n",
            "2/2 [==============================] - 0s 5ms/step - loss: 0.1824 - mse: 0.0461\n",
            "Epoch 117/500\n",
            "2/2 [==============================] - 0s 6ms/step - loss: 0.2392 - mse: 0.0881\n",
            "Epoch 118/500\n",
            "2/2 [==============================] - 0s 6ms/step - loss: 0.3639 - mse: 0.1844\n",
            "Epoch 119/500\n",
            "2/2 [==============================] - 0s 8ms/step - loss: 0.2470 - mse: 0.0896\n",
            "Epoch 120/500\n",
            "2/2 [==============================] - 0s 6ms/step - loss: 0.5604 - mse: 0.4430\n",
            "Epoch 121/500\n",
            "2/2 [==============================] - 0s 6ms/step - loss: 0.3768 - mse: 0.2024\n",
            "Epoch 122/500\n",
            "2/2 [==============================] - 0s 6ms/step - loss: 0.3019 - mse: 0.1398\n",
            "Epoch 123/500\n",
            "2/2 [==============================] - 0s 6ms/step - loss: 0.1905 - mse: 0.0549\n",
            "Epoch 124/500\n",
            "2/2 [==============================] - 0s 6ms/step - loss: 0.7352 - mse: 0.7643\n",
            "Epoch 125/500\n",
            "2/2 [==============================] - 0s 7ms/step - loss: 0.4810 - mse: 0.3261\n",
            "Epoch 126/500\n",
            "2/2 [==============================] - 0s 6ms/step - loss: 0.5551 - mse: 0.4485\n",
            "Epoch 127/500\n",
            "2/2 [==============================] - 0s 6ms/step - loss: 0.4067 - mse: 0.2419\n",
            "Epoch 128/500\n",
            "2/2 [==============================] - 0s 6ms/step - loss: 0.2635 - mse: 0.1563\n",
            "Epoch 129/500\n",
            "2/2 [==============================] - 0s 6ms/step - loss: 0.8355 - mse: 0.9941\n",
            "Epoch 130/500\n",
            "2/2 [==============================] - 0s 6ms/step - loss: 0.2487 - mse: 0.1048\n",
            "Epoch 131/500\n",
            "2/2 [==============================] - 0s 6ms/step - loss: 0.2220 - mse: 0.1522\n",
            "Epoch 132/500\n",
            "2/2 [==============================] - 0s 6ms/step - loss: 0.8544 - mse: 1.0537\n",
            "Epoch 133/500\n",
            "2/2 [==============================] - 0s 6ms/step - loss: 0.1277 - mse: 0.0315\n",
            "Epoch 134/500\n",
            "2/2 [==============================] - 0s 6ms/step - loss: 0.0877 - mse: 0.0106\n",
            "Epoch 135/500\n",
            "2/2 [==============================] - 0s 6ms/step - loss: 0.2620 - mse: 0.0980\n",
            "Epoch 136/500\n",
            "2/2 [==============================] - 0s 7ms/step - loss: 0.5783 - mse: 0.4936\n",
            "Epoch 137/500\n",
            "2/2 [==============================] - 0s 6ms/step - loss: 0.3188 - mse: 0.1866\n",
            "Epoch 138/500\n",
            "2/2 [==============================] - 0s 6ms/step - loss: 1.0593 - mse: 1.5994\n",
            "Epoch 139/500\n",
            "2/2 [==============================] - 0s 6ms/step - loss: 0.4305 - mse: 0.2701\n",
            "Epoch 140/500\n",
            "2/2 [==============================] - 0s 6ms/step - loss: 0.8000 - mse: 0.8945\n",
            "Epoch 141/500\n",
            "2/2 [==============================] - 0s 6ms/step - loss: 0.2082 - mse: 0.1468\n",
            "Epoch 142/500\n",
            "2/2 [==============================] - 0s 6ms/step - loss: 0.3165 - mse: 0.1459\n",
            "Epoch 143/500\n",
            "2/2 [==============================] - 0s 6ms/step - loss: 0.3058 - mse: 0.1463\n",
            "Epoch 144/500\n",
            "2/2 [==============================] - 0s 6ms/step - loss: 0.1670 - mse: 0.0440\n",
            "Epoch 145/500\n",
            "2/2 [==============================] - 0s 6ms/step - loss: 0.1787 - mse: 0.0988\n",
            "Epoch 146/500\n",
            "2/2 [==============================] - 0s 6ms/step - loss: 0.6917 - mse: 0.7211\n",
            "Epoch 147/500\n",
            "2/2 [==============================] - 0s 6ms/step - loss: 0.2095 - mse: 0.0608\n",
            "Epoch 148/500\n",
            "2/2 [==============================] - 0s 6ms/step - loss: 0.1152 - mse: 0.0214\n",
            "Epoch 149/500\n",
            "2/2 [==============================] - 0s 6ms/step - loss: 0.1174 - mse: 0.0261\n",
            "Epoch 150/500\n",
            "2/2 [==============================] - 0s 6ms/step - loss: 0.2681 - mse: 0.1086\n",
            "Epoch 151/500\n",
            "2/2 [==============================] - 0s 6ms/step - loss: 0.1140 - mse: 0.0393\n",
            "Epoch 152/500\n",
            "2/2 [==============================] - 0s 6ms/step - loss: 0.2564 - mse: 0.0964\n",
            "Epoch 153/500\n",
            "2/2 [==============================] - 0s 6ms/step - loss: 0.2220 - mse: 0.0687\n",
            "Epoch 154/500\n",
            "2/2 [==============================] - 0s 6ms/step - loss: 0.4994 - mse: 0.3818\n",
            "Epoch 155/500\n",
            "2/2 [==============================] - 0s 6ms/step - loss: 0.4360 - mse: 0.2742\n",
            "Epoch 156/500\n",
            "2/2 [==============================] - 0s 6ms/step - loss: 0.2886 - mse: 0.2107\n",
            "Epoch 157/500\n",
            "2/2 [==============================] - 0s 6ms/step - loss: 0.6148 - mse: 0.5755\n",
            "Epoch 158/500\n",
            "2/2 [==============================] - 0s 8ms/step - loss: 0.5032 - mse: 0.3634\n",
            "Epoch 159/500\n",
            "2/2 [==============================] - 0s 6ms/step - loss: 0.4274 - mse: 0.3214\n",
            "Epoch 160/500\n",
            "2/2 [==============================] - 0s 6ms/step - loss: 0.8232 - mse: 0.9663\n",
            "Epoch 161/500\n",
            "2/2 [==============================] - 0s 6ms/step - loss: 0.5903 - mse: 0.5636\n",
            "Epoch 162/500\n",
            "2/2 [==============================] - 0s 6ms/step - loss: 1.1843 - mse: 2.1828\n",
            "Epoch 163/500\n",
            "2/2 [==============================] - 0s 6ms/step - loss: 1.4990 - mse: 3.2433\n",
            "Epoch 164/500\n",
            "2/2 [==============================] - 0s 6ms/step - loss: 0.3541 - mse: 0.2485\n",
            "Epoch 165/500\n",
            "2/2 [==============================] - 0s 6ms/step - loss: 2.0102 - mse: 5.7377\n",
            "Epoch 166/500\n",
            "2/2 [==============================] - 0s 5ms/step - loss: 1.9752 - mse: 5.4673\n",
            "Epoch 167/500\n",
            "2/2 [==============================] - 0s 6ms/step - loss: 0.5619 - mse: 0.4672\n",
            "Epoch 168/500\n",
            "2/2 [==============================] - 0s 6ms/step - loss: 1.7040 - mse: 4.1771\n",
            "Epoch 169/500\n",
            "2/2 [==============================] - 0s 5ms/step - loss: 1.5603 - mse: 3.5923\n",
            "Epoch 170/500\n",
            "2/2 [==============================] - 0s 6ms/step - loss: 0.2596 - mse: 0.3295\n",
            "Epoch 171/500\n",
            "2/2 [==============================] - 0s 6ms/step - loss: 1.4950 - mse: 3.1528\n",
            "Epoch 172/500\n",
            "2/2 [==============================] - 0s 6ms/step - loss: 0.7933 - mse: 1.0481\n",
            "Epoch 173/500\n",
            "2/2 [==============================] - 0s 5ms/step - loss: 1.2038 - mse: 2.0635\n",
            "Epoch 174/500\n",
            "2/2 [==============================] - 0s 6ms/step - loss: 1.8735 - mse: 4.9089\n",
            "Epoch 175/500\n",
            "2/2 [==============================] - 0s 6ms/step - loss: 0.8431 - mse: 1.1666\n",
            "Epoch 176/500\n",
            "2/2 [==============================] - 0s 6ms/step - loss: 0.8363 - mse: 0.9851\n",
            "Epoch 177/500\n",
            "2/2 [==============================] - 0s 6ms/step - loss: 0.7393 - mse: 0.8327\n",
            "Epoch 178/500\n",
            "2/2 [==============================] - 0s 6ms/step - loss: 0.6858 - mse: 0.6710\n",
            "Epoch 179/500\n",
            "2/2 [==============================] - 0s 6ms/step - loss: 0.9659 - mse: 1.3906\n",
            "Epoch 180/500\n",
            "2/2 [==============================] - 0s 6ms/step - loss: 0.1335 - mse: 0.0360\n",
            "Epoch 181/500\n",
            "2/2 [==============================] - 0s 5ms/step - loss: 0.0427 - mse: 0.0040\n",
            "Epoch 182/500\n",
            "2/2 [==============================] - 0s 6ms/step - loss: 0.2322 - mse: 0.0816\n",
            "Epoch 183/500\n",
            "2/2 [==============================] - 0s 6ms/step - loss: 0.3780 - mse: 0.2051\n",
            "Epoch 184/500\n",
            "2/2 [==============================] - 0s 6ms/step - loss: 0.1513 - mse: 0.0362\n",
            "Epoch 185/500\n",
            "2/2 [==============================] - 0s 6ms/step - loss: 0.1195 - mse: 0.0399\n",
            "Epoch 186/500\n",
            "2/2 [==============================] - 0s 6ms/step - loss: 0.2218 - mse: 0.0742\n",
            "Epoch 187/500\n",
            "2/2 [==============================] - 0s 6ms/step - loss: 0.4515 - mse: 0.2962\n",
            "Epoch 188/500\n",
            "2/2 [==============================] - 0s 5ms/step - loss: 0.5133 - mse: 0.3595\n",
            "Epoch 189/500\n",
            "2/2 [==============================] - 0s 6ms/step - loss: 0.5015 - mse: 0.4025\n",
            "Epoch 190/500\n",
            "2/2 [==============================] - 0s 6ms/step - loss: 0.8296 - mse: 0.9725\n",
            "Epoch 191/500\n",
            "2/2 [==============================] - 0s 6ms/step - loss: 0.9738 - mse: 1.4256\n",
            "Epoch 192/500\n",
            "2/2 [==============================] - 0s 5ms/step - loss: 0.2981 - mse: 0.1627\n",
            "Epoch 193/500\n",
            "2/2 [==============================] - 0s 6ms/step - loss: 0.2988 - mse: 0.1270\n",
            "Epoch 194/500\n",
            "2/2 [==============================] - 0s 6ms/step - loss: 0.6247 - mse: 0.5703\n",
            "Epoch 195/500\n",
            "2/2 [==============================] - 0s 5ms/step - loss: 0.0803 - mse: 0.0219\n",
            "Epoch 196/500\n",
            "2/2 [==============================] - 0s 6ms/step - loss: 0.0321 - mse: 0.0013\n",
            "Epoch 197/500\n",
            "2/2 [==============================] - 0s 6ms/step - loss: 0.1889 - mse: 0.0557\n",
            "Epoch 198/500\n",
            "2/2 [==============================] - 0s 6ms/step - loss: 0.5818 - mse: 0.5047\n",
            "Epoch 199/500\n",
            "2/2 [==============================] - 0s 6ms/step - loss: 0.3545 - mse: 0.1797\n",
            "Epoch 200/500\n",
            "2/2 [==============================] - 0s 7ms/step - loss: 0.4286 - mse: 0.2770\n",
            "Epoch 201/500\n",
            "2/2 [==============================] - 0s 10ms/step - loss: 0.4643 - mse: 0.3292\n",
            "Epoch 202/500\n",
            "2/2 [==============================] - 0s 9ms/step - loss: 0.2832 - mse: 0.1399\n",
            "Epoch 203/500\n",
            "2/2 [==============================] - 0s 5ms/step - loss: 0.7001 - mse: 0.6752\n",
            "Epoch 204/500\n",
            "2/2 [==============================] - 0s 6ms/step - loss: 0.1247 - mse: 0.0377\n",
            "Epoch 205/500\n",
            "2/2 [==============================] - 0s 6ms/step - loss: 0.1829 - mse: 0.0705\n",
            "Epoch 206/500\n",
            "2/2 [==============================] - 0s 5ms/step - loss: 0.5148 - mse: 0.4035\n",
            "Epoch 207/500\n",
            "2/2 [==============================] - 0s 6ms/step - loss: 0.5258 - mse: 0.4076\n",
            "Epoch 208/500\n",
            "2/2 [==============================] - 0s 6ms/step - loss: 0.4094 - mse: 0.2608\n",
            "Epoch 209/500\n",
            "2/2 [==============================] - 0s 6ms/step - loss: 0.4492 - mse: 0.2959\n",
            "Epoch 210/500\n",
            "2/2 [==============================] - 0s 6ms/step - loss: 0.1975 - mse: 0.0562\n",
            "Epoch 211/500\n",
            "2/2 [==============================] - 0s 6ms/step - loss: 0.1390 - mse: 0.0632\n",
            "Epoch 212/500\n",
            "2/2 [==============================] - 0s 6ms/step - loss: 0.2641 - mse: 0.1020\n",
            "Epoch 213/500\n",
            "2/2 [==============================] - 0s 5ms/step - loss: 0.4681 - mse: 0.3156\n",
            "Epoch 214/500\n",
            "2/2 [==============================] - 0s 7ms/step - loss: 0.2884 - mse: 0.1225\n",
            "Epoch 215/500\n",
            "2/2 [==============================] - 0s 6ms/step - loss: 0.1154 - mse: 0.0687\n",
            "Epoch 216/500\n",
            "2/2 [==============================] - 0s 8ms/step - loss: 0.9427 - mse: 1.2537\n",
            "Epoch 217/500\n",
            "2/2 [==============================] - 0s 6ms/step - loss: 0.3341 - mse: 0.1522\n",
            "Epoch 218/500\n",
            "2/2 [==============================] - 0s 8ms/step - loss: 1.3410 - mse: 2.5084\n",
            "Epoch 219/500\n",
            "2/2 [==============================] - 0s 6ms/step - loss: 1.3458 - mse: 2.6758\n",
            "Epoch 220/500\n",
            "2/2 [==============================] - 0s 6ms/step - loss: 0.3780 - mse: 0.4078\n",
            "Epoch 221/500\n",
            "2/2 [==============================] - 0s 6ms/step - loss: 1.1177 - mse: 1.7488\n",
            "Epoch 222/500\n",
            "2/2 [==============================] - 0s 6ms/step - loss: 0.4636 - mse: 0.2891\n",
            "Epoch 223/500\n",
            "2/2 [==============================] - 0s 7ms/step - loss: 1.1663 - mse: 1.9125\n",
            "Epoch 224/500\n",
            "2/2 [==============================] - 0s 6ms/step - loss: 0.8939 - mse: 1.1795\n",
            "Epoch 225/500\n",
            "2/2 [==============================] - 0s 6ms/step - loss: 0.6653 - mse: 0.6600\n",
            "Epoch 226/500\n",
            "2/2 [==============================] - 0s 6ms/step - loss: 1.2257 - mse: 2.1267\n",
            "Epoch 227/500\n",
            "2/2 [==============================] - 0s 6ms/step - loss: 0.4184 - mse: 0.2589\n",
            "Epoch 228/500\n",
            "2/2 [==============================] - 0s 5ms/step - loss: 1.1892 - mse: 2.0028\n",
            "Epoch 229/500\n",
            "2/2 [==============================] - 0s 6ms/step - loss: 0.8546 - mse: 1.1300\n",
            "Epoch 230/500\n",
            "2/2 [==============================] - 0s 6ms/step - loss: 0.7441 - mse: 0.8327\n",
            "Epoch 231/500\n",
            "2/2 [==============================] - 0s 6ms/step - loss: 1.0516 - mse: 1.5740\n",
            "Epoch 232/500\n",
            "2/2 [==============================] - 0s 6ms/step - loss: 0.1602 - mse: 0.1095\n",
            "Epoch 233/500\n",
            "2/2 [==============================] - 0s 6ms/step - loss: 0.3732 - mse: 0.2341\n",
            "Epoch 234/500\n",
            "2/2 [==============================] - 0s 6ms/step - loss: 0.8006 - mse: 0.9328\n",
            "Epoch 235/500\n",
            "2/2 [==============================] - 0s 6ms/step - loss: 0.8427 - mse: 1.0875\n",
            "Epoch 236/500\n",
            "2/2 [==============================] - 0s 5ms/step - loss: 0.4351 - mse: 0.2766\n",
            "Epoch 237/500\n",
            "2/2 [==============================] - 0s 5ms/step - loss: 0.6457 - mse: 0.6328\n",
            "Epoch 238/500\n",
            "2/2 [==============================] - 0s 5ms/step - loss: 0.4458 - mse: 0.3055\n",
            "Epoch 239/500\n",
            "2/2 [==============================] - 0s 5ms/step - loss: 0.3706 - mse: 0.2201\n",
            "Epoch 240/500\n",
            "2/2 [==============================] - 0s 6ms/step - loss: 0.1948 - mse: 0.0619\n",
            "Epoch 241/500\n",
            "2/2 [==============================] - 0s 6ms/step - loss: 0.0851 - mse: 0.0243\n",
            "Epoch 242/500\n",
            "2/2 [==============================] - 0s 6ms/step - loss: 0.1601 - mse: 0.0853\n",
            "Epoch 243/500\n",
            "2/2 [==============================] - 0s 5ms/step - loss: 0.4841 - mse: 0.3589\n",
            "Epoch 244/500\n",
            "2/2 [==============================] - 0s 6ms/step - loss: 0.4123 - mse: 0.2458\n",
            "Epoch 245/500\n",
            "2/2 [==============================] - 0s 7ms/step - loss: 0.2592 - mse: 0.1031\n",
            "Epoch 246/500\n",
            "2/2 [==============================] - 0s 6ms/step - loss: 0.5433 - mse: 0.4197\n",
            "Epoch 247/500\n",
            "2/2 [==============================] - 0s 7ms/step - loss: 0.2882 - mse: 0.1235\n",
            "Epoch 248/500\n",
            "2/2 [==============================] - 0s 5ms/step - loss: 0.3050 - mse: 0.1431\n",
            "Epoch 249/500\n",
            "2/2 [==============================] - 0s 6ms/step - loss: 0.2293 - mse: 0.0884\n",
            "Epoch 250/500\n",
            "2/2 [==============================] - 0s 6ms/step - loss: 0.5670 - mse: 0.4553\n",
            "Epoch 251/500\n",
            "2/2 [==============================] - 0s 6ms/step - loss: 0.3407 - mse: 0.1953\n",
            "Epoch 252/500\n",
            "2/2 [==============================] - 0s 6ms/step - loss: 0.1106 - mse: 0.0180\n",
            "Epoch 253/500\n",
            "2/2 [==============================] - 0s 5ms/step - loss: 0.0434 - mse: 0.0041\n",
            "Epoch 254/500\n",
            "2/2 [==============================] - 0s 6ms/step - loss: 0.1122 - mse: 0.0216\n",
            "Epoch 255/500\n",
            "2/2 [==============================] - 0s 6ms/step - loss: 0.0835 - mse: 0.0267\n",
            "Epoch 256/500\n",
            "2/2 [==============================] - 0s 6ms/step - loss: 0.2167 - mse: 0.0673\n",
            "Epoch 257/500\n",
            "2/2 [==============================] - 0s 5ms/step - loss: 0.2585 - mse: 0.1073\n",
            "Epoch 258/500\n",
            "2/2 [==============================] - 0s 5ms/step - loss: 0.0870 - mse: 0.0166\n",
            "Epoch 259/500\n",
            "2/2 [==============================] - 0s 6ms/step - loss: 0.0739 - mse: 0.0082\n",
            "Epoch 260/500\n",
            "2/2 [==============================] - 0s 7ms/step - loss: 0.6630 - mse: 0.6364\n",
            "Epoch 261/500\n",
            "2/2 [==============================] - 0s 6ms/step - loss: 0.5482 - mse: 0.5072\n",
            "Epoch 262/500\n",
            "2/2 [==============================] - 0s 7ms/step - loss: 0.8029 - mse: 0.9220\n",
            "Epoch 263/500\n",
            "2/2 [==============================] - 0s 6ms/step - loss: 1.0185 - mse: 1.4976\n",
            "Epoch 264/500\n",
            "2/2 [==============================] - 0s 5ms/step - loss: 0.1136 - mse: 0.0455\n",
            "Epoch 265/500\n",
            "2/2 [==============================] - 0s 6ms/step - loss: 0.6137 - mse: 0.5431\n",
            "Epoch 266/500\n",
            "2/2 [==============================] - 0s 6ms/step - loss: 0.1557 - mse: 0.0365\n",
            "Epoch 267/500\n",
            "2/2 [==============================] - 0s 7ms/step - loss: 0.1448 - mse: 0.0719\n",
            "Epoch 268/500\n",
            "2/2 [==============================] - 0s 6ms/step - loss: 0.3725 - mse: 0.2162\n",
            "Epoch 269/500\n",
            "2/2 [==============================] - 0s 6ms/step - loss: 0.7705 - mse: 0.8712\n",
            "Epoch 270/500\n",
            "2/2 [==============================] - 0s 6ms/step - loss: 1.0083 - mse: 1.4562\n",
            "Epoch 271/500\n",
            "2/2 [==============================] - 0s 6ms/step - loss: 0.1616 - mse: 0.0976\n",
            "Epoch 272/500\n",
            "2/2 [==============================] - 0s 6ms/step - loss: 0.3242 - mse: 0.1719\n",
            "Epoch 273/500\n",
            "2/2 [==============================] - 0s 6ms/step - loss: 0.1173 - mse: 0.0254\n",
            "Epoch 274/500\n",
            "2/2 [==============================] - 0s 6ms/step - loss: 0.2710 - mse: 0.1179\n",
            "Epoch 275/500\n",
            "2/2 [==============================] - 0s 6ms/step - loss: 0.6766 - mse: 0.6478\n",
            "Epoch 276/500\n",
            "2/2 [==============================] - 0s 6ms/step - loss: 0.6755 - mse: 0.6498\n",
            "Epoch 277/500\n",
            "2/2 [==============================] - 0s 6ms/step - loss: 0.5813 - mse: 0.4705\n",
            "Epoch 278/500\n",
            "2/2 [==============================] - 0s 6ms/step - loss: 0.9485 - mse: 1.2868\n",
            "Epoch 279/500\n",
            "2/2 [==============================] - 0s 6ms/step - loss: 0.2599 - mse: 0.2749\n",
            "Epoch 280/500\n",
            "2/2 [==============================] - 0s 6ms/step - loss: 1.1746 - mse: 1.9517\n",
            "Epoch 281/500\n",
            "2/2 [==============================] - 0s 6ms/step - loss: 0.5794 - mse: 0.5777\n",
            "Epoch 282/500\n",
            "2/2 [==============================] - 0s 6ms/step - loss: 0.3107 - mse: 0.1409\n",
            "Epoch 283/500\n",
            "2/2 [==============================] - 0s 6ms/step - loss: 0.2400 - mse: 0.0816\n",
            "Epoch 284/500\n",
            "2/2 [==============================] - 0s 5ms/step - loss: 0.1583 - mse: 0.0365\n",
            "Epoch 285/500\n",
            "2/2 [==============================] - 0s 5ms/step - loss: 0.2331 - mse: 0.0757\n",
            "Epoch 286/500\n",
            "2/2 [==============================] - 0s 6ms/step - loss: 0.1325 - mse: 0.0253\n",
            "Epoch 287/500\n",
            "2/2 [==============================] - 0s 6ms/step - loss: 0.3585 - mse: 0.1802\n",
            "Epoch 288/500\n",
            "2/2 [==============================] - 0s 6ms/step - loss: 0.0377 - mse: 0.0084\n",
            "Epoch 289/500\n",
            "2/2 [==============================] - 0s 6ms/step - loss: 0.1741 - mse: 0.0478\n",
            "Epoch 290/500\n",
            "2/2 [==============================] - 0s 6ms/step - loss: 0.3255 - mse: 0.1719\n",
            "Epoch 291/500\n",
            "2/2 [==============================] - 0s 8ms/step - loss: 0.4815 - mse: 0.3169\n",
            "Epoch 292/500\n",
            "2/2 [==============================] - 0s 6ms/step - loss: 0.3024 - mse: 0.1233\n",
            "Epoch 293/500\n",
            "2/2 [==============================] - 0s 6ms/step - loss: 0.5099 - mse: 0.3673\n",
            "Epoch 294/500\n",
            "2/2 [==============================] - 0s 6ms/step - loss: 0.2367 - mse: 0.0792\n",
            "Epoch 295/500\n",
            "2/2 [==============================] - 0s 6ms/step - loss: 0.2119 - mse: 0.0679\n",
            "Epoch 296/500\n",
            "2/2 [==============================] - 0s 5ms/step - loss: 0.4465 - mse: 0.2993\n",
            "Epoch 297/500\n",
            "2/2 [==============================] - 0s 6ms/step - loss: 0.3409 - mse: 0.1717\n",
            "Epoch 298/500\n",
            "2/2 [==============================] - 0s 6ms/step - loss: 0.1343 - mse: 0.0641\n",
            "Epoch 299/500\n",
            "2/2 [==============================] - 0s 6ms/step - loss: 0.4779 - mse: 0.3384\n",
            "Epoch 300/500\n",
            "2/2 [==============================] - 0s 6ms/step - loss: 0.4882 - mse: 0.3438\n",
            "Epoch 301/500\n",
            "2/2 [==============================] - 0s 6ms/step - loss: 0.4322 - mse: 0.3164\n",
            "Epoch 302/500\n",
            "2/2 [==============================] - 0s 6ms/step - loss: 0.8241 - mse: 0.9711\n",
            "Epoch 303/500\n",
            "2/2 [==============================] - 0s 6ms/step - loss: 0.8950 - mse: 1.2090\n",
            "Epoch 304/500\n",
            "2/2 [==============================] - 0s 6ms/step - loss: 0.3504 - mse: 0.2007\n",
            "Epoch 305/500\n",
            "2/2 [==============================] - 0s 6ms/step - loss: 0.5229 - mse: 0.4051\n",
            "Epoch 306/500\n",
            "2/2 [==============================] - 0s 6ms/step - loss: 0.6050 - mse: 0.5183\n",
            "Epoch 307/500\n",
            "2/2 [==============================] - 0s 7ms/step - loss: 0.7181 - mse: 0.7791\n",
            "Epoch 308/500\n",
            "2/2 [==============================] - 0s 10ms/step - loss: 0.4303 - mse: 0.2674\n",
            "Epoch 309/500\n",
            "2/2 [==============================] - 0s 7ms/step - loss: 0.5696 - mse: 0.4942\n",
            "Epoch 310/500\n",
            "2/2 [==============================] - 0s 6ms/step - loss: 0.5207 - mse: 0.3838\n",
            "Epoch 311/500\n",
            "2/2 [==============================] - 0s 10ms/step - loss: 0.6244 - mse: 0.5636\n",
            "Epoch 312/500\n",
            "2/2 [==============================] - 0s 8ms/step - loss: 0.5603 - mse: 0.4991\n",
            "Epoch 313/500\n",
            "2/2 [==============================] - 0s 8ms/step - loss: 0.7070 - mse: 0.7777\n",
            "Epoch 314/500\n",
            "2/2 [==============================] - 0s 6ms/step - loss: 0.4535 - mse: 0.3253\n",
            "Epoch 315/500\n",
            "2/2 [==============================] - 0s 6ms/step - loss: 0.3827 - mse: 0.2250\n",
            "Epoch 316/500\n",
            "2/2 [==============================] - 0s 6ms/step - loss: 0.2388 - mse: 0.0867\n",
            "Epoch 317/500\n",
            "2/2 [==============================] - 0s 6ms/step - loss: 0.6342 - mse: 0.5995\n",
            "Epoch 318/500\n",
            "2/2 [==============================] - 0s 6ms/step - loss: 0.5579 - mse: 0.5180\n",
            "Epoch 319/500\n",
            "2/2 [==============================] - 0s 6ms/step - loss: 0.7934 - mse: 0.9431\n",
            "Epoch 320/500\n",
            "2/2 [==============================] - 0s 7ms/step - loss: 0.9418 - mse: 1.2801\n",
            "Epoch 321/500\n",
            "2/2 [==============================] - 0s 8ms/step - loss: 0.1895 - mse: 0.0585\n",
            "Epoch 322/500\n",
            "2/2 [==============================] - 0s 6ms/step - loss: 0.3277 - mse: 0.1841\n",
            "Epoch 323/500\n",
            "2/2 [==============================] - 0s 6ms/step - loss: 0.5344 - mse: 0.3983\n",
            "Epoch 324/500\n",
            "2/2 [==============================] - 0s 5ms/step - loss: 0.3402 - mse: 0.1632\n",
            "Epoch 325/500\n",
            "2/2 [==============================] - 0s 6ms/step - loss: 0.4372 - mse: 0.2768\n",
            "Epoch 326/500\n",
            "2/2 [==============================] - 0s 6ms/step - loss: 0.2687 - mse: 0.1069\n",
            "Epoch 327/500\n",
            "2/2 [==============================] - 0s 6ms/step - loss: 0.1681 - mse: 0.0603\n",
            "Epoch 328/500\n",
            "2/2 [==============================] - 0s 6ms/step - loss: 0.8355 - mse: 0.9804\n",
            "Epoch 329/500\n",
            "2/2 [==============================] - 0s 6ms/step - loss: 0.3618 - mse: 0.1822\n",
            "Epoch 330/500\n",
            "2/2 [==============================] - 0s 6ms/step - loss: 0.7499 - mse: 0.7935\n",
            "Epoch 331/500\n",
            "2/2 [==============================] - 0s 8ms/step - loss: 0.3273 - mse: 0.1599\n",
            "Epoch 332/500\n",
            "2/2 [==============================] - 0s 10ms/step - loss: 0.7022 - mse: 0.6895\n",
            "Epoch 333/500\n",
            "2/2 [==============================] - 0s 6ms/step - loss: 0.2054 - mse: 0.1269\n",
            "Epoch 334/500\n",
            "2/2 [==============================] - 0s 6ms/step - loss: 1.1818 - mse: 1.9757\n",
            "Epoch 335/500\n",
            "2/2 [==============================] - 0s 6ms/step - loss: 0.7624 - mse: 0.8238\n",
            "Epoch 336/500\n",
            "2/2 [==============================] - 0s 6ms/step - loss: 0.8173 - mse: 1.0689\n",
            "Epoch 337/500\n",
            "2/2 [==============================] - 0s 6ms/step - loss: 1.2926 - mse: 2.3849\n",
            "Epoch 338/500\n",
            "2/2 [==============================] - 0s 6ms/step - loss: 0.4398 - mse: 0.2761\n",
            "Epoch 339/500\n",
            "2/2 [==============================] - 0s 6ms/step - loss: 0.9143 - mse: 1.1802\n",
            "Epoch 340/500\n",
            "2/2 [==============================] - 0s 6ms/step - loss: 0.4706 - mse: 0.3974\n",
            "Epoch 341/500\n",
            "2/2 [==============================] - 0s 6ms/step - loss: 0.1787 - mse: 0.0488\n",
            "Epoch 342/500\n",
            "2/2 [==============================] - 0s 6ms/step - loss: 0.1211 - mse: 0.0205\n",
            "Epoch 343/500\n",
            "2/2 [==============================] - 0s 5ms/step - loss: 0.2784 - mse: 0.1244\n",
            "Epoch 344/500\n",
            "2/2 [==============================] - 0s 6ms/step - loss: 0.2533 - mse: 0.0884\n",
            "Epoch 345/500\n",
            "2/2 [==============================] - 0s 6ms/step - loss: 0.4439 - mse: 0.2811\n",
            "Epoch 346/500\n",
            "2/2 [==============================] - 0s 8ms/step - loss: 0.3232 - mse: 0.1614\n",
            "Epoch 347/500\n",
            "2/2 [==============================] - 0s 8ms/step - loss: 0.1503 - mse: 0.0337\n",
            "Epoch 348/500\n",
            "2/2 [==============================] - 0s 6ms/step - loss: 0.2005 - mse: 0.0587\n",
            "Epoch 349/500\n",
            "2/2 [==============================] - 0s 6ms/step - loss: 0.2321 - mse: 0.0897\n",
            "Epoch 350/500\n",
            "2/2 [==============================] - 0s 5ms/step - loss: 0.1073 - mse: 0.0318\n",
            "Epoch 351/500\n",
            "2/2 [==============================] - 0s 6ms/step - loss: 0.0290 - mse: 0.0013\n",
            "Epoch 352/500\n",
            "2/2 [==============================] - 0s 6ms/step - loss: 0.1482 - mse: 0.0358\n",
            "Epoch 353/500\n",
            "2/2 [==============================] - 0s 5ms/step - loss: 0.4126 - mse: 0.2395\n",
            "Epoch 354/500\n",
            "2/2 [==============================] - 0s 6ms/step - loss: 0.2177 - mse: 0.1191\n",
            "Epoch 355/500\n",
            "2/2 [==============================] - 0s 6ms/step - loss: 0.5504 - mse: 0.4452\n",
            "Epoch 356/500\n",
            "2/2 [==============================] - 0s 6ms/step - loss: 0.2969 - mse: 0.1375\n",
            "Epoch 357/500\n",
            "2/2 [==============================] - 0s 6ms/step - loss: 0.2204 - mse: 0.1005\n",
            "Epoch 358/500\n",
            "2/2 [==============================] - 0s 6ms/step - loss: 0.4310 - mse: 0.2821\n",
            "Epoch 359/500\n",
            "2/2 [==============================] - 0s 5ms/step - loss: 0.4783 - mse: 0.3493\n",
            "Epoch 360/500\n",
            "2/2 [==============================] - 0s 6ms/step - loss: 0.3597 - mse: 0.1937\n",
            "Epoch 361/500\n",
            "2/2 [==============================] - 0s 6ms/step - loss: 0.4085 - mse: 0.2346\n",
            "Epoch 362/500\n",
            "2/2 [==============================] - 0s 5ms/step - loss: 0.2200 - mse: 0.0762\n",
            "Epoch 363/500\n",
            "2/2 [==============================] - 0s 6ms/step - loss: 0.0510 - mse: 0.0036\n",
            "Epoch 364/500\n",
            "2/2 [==============================] - 0s 6ms/step - loss: 0.4882 - mse: 0.3416\n",
            "Epoch 365/500\n",
            "2/2 [==============================] - 0s 6ms/step - loss: 0.3261 - mse: 0.1560\n",
            "Epoch 366/500\n",
            "2/2 [==============================] - 0s 6ms/step - loss: 0.4467 - mse: 0.2741\n",
            "Epoch 367/500\n",
            "2/2 [==============================] - 0s 6ms/step - loss: 0.2516 - mse: 0.0954\n",
            "Epoch 368/500\n",
            "2/2 [==============================] - 0s 6ms/step - loss: 0.2500 - mse: 0.0891\n",
            "Epoch 369/500\n",
            "2/2 [==============================] - 0s 6ms/step - loss: 0.2891 - mse: 0.1346\n",
            "Epoch 370/500\n",
            "2/2 [==============================] - 0s 6ms/step - loss: 0.5348 - mse: 0.4157\n",
            "Epoch 371/500\n",
            "2/2 [==============================] - 0s 6ms/step - loss: 0.3915 - mse: 0.2321\n",
            "Epoch 372/500\n",
            "2/2 [==============================] - 0s 6ms/step - loss: 0.3968 - mse: 0.2212\n",
            "Epoch 373/500\n",
            "2/2 [==============================] - 0s 8ms/step - loss: 0.2144 - mse: 0.0637\n",
            "Epoch 374/500\n",
            "2/2 [==============================] - 0s 6ms/step - loss: 0.1605 - mse: 0.0489\n",
            "Epoch 375/500\n",
            "2/2 [==============================] - 0s 6ms/step - loss: 0.6115 - mse: 0.5452\n",
            "Epoch 376/500\n",
            "2/2 [==============================] - 0s 6ms/step - loss: 0.1156 - mse: 0.0631\n",
            "Epoch 377/500\n",
            "2/2 [==============================] - 0s 6ms/step - loss: 0.9323 - mse: 1.2181\n",
            "Epoch 378/500\n",
            "2/2 [==============================] - 0s 6ms/step - loss: 0.3989 - mse: 0.2325\n",
            "Epoch 379/500\n",
            "2/2 [==============================] - 0s 7ms/step - loss: 0.3819 - mse: 0.1950\n",
            "Epoch 380/500\n",
            "2/2 [==============================] - 0s 6ms/step - loss: 0.3773 - mse: 0.2149\n",
            "Epoch 381/500\n",
            "2/2 [==============================] - 0s 6ms/step - loss: 0.3373 - mse: 0.1808\n",
            "Epoch 382/500\n",
            "2/2 [==============================] - 0s 6ms/step - loss: 0.2043 - mse: 0.0624\n",
            "Epoch 383/500\n",
            "2/2 [==============================] - 0s 6ms/step - loss: 0.0498 - mse: 0.0044\n",
            "Epoch 384/500\n",
            "2/2 [==============================] - 0s 6ms/step - loss: 0.2181 - mse: 0.0669\n",
            "Epoch 385/500\n",
            "2/2 [==============================] - 0s 9ms/step - loss: 0.2843 - mse: 0.1177\n",
            "Epoch 386/500\n",
            "2/2 [==============================] - 0s 9ms/step - loss: 0.4509 - mse: 0.2987\n",
            "Epoch 387/500\n",
            "2/2 [==============================] - 0s 9ms/step - loss: 0.3146 - mse: 0.1505\n",
            "Epoch 388/500\n",
            "2/2 [==============================] - 0s 8ms/step - loss: 0.2944 - mse: 0.1296\n",
            "Epoch 389/500\n",
            "2/2 [==============================] - 0s 9ms/step - loss: 0.3863 - mse: 0.2166\n",
            "Epoch 390/500\n",
            "2/2 [==============================] - 0s 6ms/step - loss: 0.2198 - mse: 0.0781\n",
            "Epoch 391/500\n",
            "2/2 [==============================] - 0s 6ms/step - loss: 0.6373 - mse: 0.5728\n",
            "Epoch 392/500\n",
            "2/2 [==============================] - 0s 6ms/step - loss: 0.1762 - mse: 0.1100\n",
            "Epoch 393/500\n",
            "2/2 [==============================] - 0s 6ms/step - loss: 0.7575 - mse: 0.8109\n",
            "Epoch 394/500\n",
            "2/2 [==============================] - 0s 6ms/step - loss: 0.2560 - mse: 0.1679\n",
            "Epoch 395/500\n",
            "2/2 [==============================] - 0s 5ms/step - loss: 0.8432 - mse: 1.0001\n",
            "Epoch 396/500\n",
            "2/2 [==============================] - 0s 6ms/step - loss: 0.2849 - mse: 0.1433\n",
            "Epoch 397/500\n",
            "2/2 [==============================] - 0s 8ms/step - loss: 1.0456 - mse: 1.5557\n",
            "Epoch 398/500\n",
            "2/2 [==============================] - 0s 6ms/step - loss: 0.6258 - mse: 0.6479\n",
            "Epoch 399/500\n",
            "2/2 [==============================] - 0s 10ms/step - loss: 0.7400 - mse: 0.7926\n",
            "Epoch 400/500\n",
            "2/2 [==============================] - 0s 6ms/step - loss: 0.8140 - mse: 0.9937\n",
            "Epoch 401/500\n",
            "2/2 [==============================] - 0s 9ms/step - loss: 0.3377 - mse: 0.1856\n",
            "Epoch 402/500\n",
            "2/2 [==============================] - 0s 6ms/step - loss: 0.3397 - mse: 0.1846\n",
            "Epoch 403/500\n",
            "2/2 [==============================] - 0s 6ms/step - loss: 0.1704 - mse: 0.0504\n",
            "Epoch 404/500\n",
            "2/2 [==============================] - 0s 6ms/step - loss: 0.6231 - mse: 0.5544\n",
            "Epoch 405/500\n",
            "2/2 [==============================] - 0s 5ms/step - loss: 0.4630 - mse: 0.3338\n",
            "Epoch 406/500\n",
            "2/2 [==============================] - 0s 6ms/step - loss: 0.6896 - mse: 0.6802\n",
            "Epoch 407/500\n",
            "2/2 [==============================] - 0s 7ms/step - loss: 0.7342 - mse: 0.8034\n",
            "Epoch 408/500\n",
            "2/2 [==============================] - 0s 7ms/step - loss: 0.4370 - mse: 0.2983\n",
            "Epoch 409/500\n",
            "2/2 [==============================] - 0s 6ms/step - loss: 0.5632 - mse: 0.4949\n",
            "Epoch 410/500\n",
            "2/2 [==============================] - 0s 7ms/step - loss: 0.5123 - mse: 0.3844\n",
            "Epoch 411/500\n",
            "2/2 [==============================] - 0s 7ms/step - loss: 0.5006 - mse: 0.3976\n",
            "Epoch 412/500\n",
            "2/2 [==============================] - 0s 9ms/step - loss: 0.6549 - mse: 0.6008\n",
            "Epoch 413/500\n",
            "2/2 [==============================] - 0s 8ms/step - loss: 0.8671 - mse: 1.0957\n",
            "Epoch 414/500\n",
            "2/2 [==============================] - 0s 10ms/step - loss: 0.0796 - mse: 0.0161\n",
            "Epoch 415/500\n",
            "2/2 [==============================] - 0s 7ms/step - loss: 0.2021 - mse: 0.0570\n",
            "Epoch 416/500\n",
            "2/2 [==============================] - 0s 5ms/step - loss: 0.1264 - mse: 0.0487\n",
            "Epoch 417/500\n",
            "2/2 [==============================] - 0s 5ms/step - loss: 0.3033 - mse: 0.1417\n",
            "Epoch 418/500\n",
            "2/2 [==============================] - 0s 7ms/step - loss: 0.1450 - mse: 0.0316\n",
            "Epoch 419/500\n",
            "2/2 [==============================] - 0s 8ms/step - loss: 0.0533 - mse: 0.0134\n",
            "Epoch 420/500\n",
            "2/2 [==============================] - 0s 7ms/step - loss: 0.0774 - mse: 0.0092\n",
            "Epoch 421/500\n",
            "2/2 [==============================] - 0s 5ms/step - loss: 0.1222 - mse: 0.0214\n",
            "Epoch 422/500\n",
            "2/2 [==============================] - 0s 6ms/step - loss: 0.0773 - mse: 0.0104\n",
            "Epoch 423/500\n",
            "2/2 [==============================] - 0s 5ms/step - loss: 0.1121 - mse: 0.0194\n",
            "Epoch 424/500\n",
            "2/2 [==============================] - 0s 5ms/step - loss: 0.2846 - mse: 0.1109\n",
            "Epoch 425/500\n",
            "2/2 [==============================] - 0s 7ms/step - loss: 0.2305 - mse: 0.0757\n",
            "Epoch 426/500\n",
            "2/2 [==============================] - 0s 6ms/step - loss: 0.0247 - mse: 8.6917e-04\n",
            "Epoch 427/500\n",
            "2/2 [==============================] - 0s 6ms/step - loss: 0.2526 - mse: 0.0914\n",
            "Epoch 428/500\n",
            "2/2 [==============================] - 0s 6ms/step - loss: 0.2433 - mse: 0.0874\n",
            "Epoch 429/500\n",
            "2/2 [==============================] - 0s 6ms/step - loss: 0.1209 - mse: 0.0199\n",
            "Epoch 430/500\n",
            "2/2 [==============================] - 0s 6ms/step - loss: 0.2675 - mse: 0.1046\n",
            "Epoch 431/500\n",
            "2/2 [==============================] - 0s 6ms/step - loss: 0.0990 - mse: 0.0137\n",
            "Epoch 432/500\n",
            "2/2 [==============================] - 0s 6ms/step - loss: 0.2799 - mse: 0.1113\n",
            "Epoch 433/500\n",
            "2/2 [==============================] - 0s 6ms/step - loss: 0.0301 - mse: 0.0012\n",
            "Epoch 434/500\n",
            "2/2 [==============================] - 0s 7ms/step - loss: 0.4919 - mse: 0.3415\n",
            "Epoch 435/500\n",
            "2/2 [==============================] - 0s 7ms/step - loss: 0.2917 - mse: 0.1187\n",
            "Epoch 436/500\n",
            "2/2 [==============================] - 0s 8ms/step - loss: 0.2168 - mse: 0.0686\n",
            "Epoch 437/500\n",
            "2/2 [==============================] - 0s 8ms/step - loss: 0.2105 - mse: 0.0746\n",
            "Epoch 438/500\n",
            "2/2 [==============================] - 0s 6ms/step - loss: 0.1085 - mse: 0.0161\n",
            "Epoch 439/500\n",
            "2/2 [==============================] - 0s 6ms/step - loss: 0.2652 - mse: 0.1005\n",
            "Epoch 440/500\n",
            "2/2 [==============================] - 0s 6ms/step - loss: 0.1570 - mse: 0.0329\n",
            "Epoch 441/500\n",
            "2/2 [==============================] - 0s 6ms/step - loss: 0.1322 - mse: 0.0262\n",
            "Epoch 442/500\n",
            "2/2 [==============================] - 0s 6ms/step - loss: 0.2360 - mse: 0.0766\n",
            "Epoch 443/500\n",
            "2/2 [==============================] - 0s 6ms/step - loss: 0.1710 - mse: 0.0421\n",
            "Epoch 444/500\n",
            "2/2 [==============================] - 0s 6ms/step - loss: 0.2025 - mse: 0.0582\n",
            "Epoch 445/500\n",
            "2/2 [==============================] - 0s 6ms/step - loss: 0.0697 - mse: 0.0071\n",
            "Epoch 446/500\n",
            "2/2 [==============================] - 0s 6ms/step - loss: 0.1293 - mse: 0.0278\n",
            "Epoch 447/500\n",
            "2/2 [==============================] - 0s 6ms/step - loss: 0.1550 - mse: 0.0374\n",
            "Epoch 448/500\n",
            "2/2 [==============================] - 0s 6ms/step - loss: 0.1168 - mse: 0.0222\n",
            "Epoch 449/500\n",
            "2/2 [==============================] - 0s 6ms/step - loss: 0.2144 - mse: 0.0662\n",
            "Epoch 450/500\n",
            "2/2 [==============================] - 0s 6ms/step - loss: 0.1565 - mse: 0.0355\n",
            "Epoch 451/500\n",
            "2/2 [==============================] - 0s 6ms/step - loss: 0.1392 - mse: 0.0461\n",
            "Epoch 452/500\n",
            "2/2 [==============================] - 0s 7ms/step - loss: 0.1682 - mse: 0.0574\n",
            "Epoch 453/500\n",
            "2/2 [==============================] - 0s 7ms/step - loss: 0.4177 - mse: 0.2492\n",
            "Epoch 454/500\n",
            "2/2 [==============================] - 0s 7ms/step - loss: 0.4968 - mse: 0.3664\n",
            "Epoch 455/500\n",
            "2/2 [==============================] - 0s 7ms/step - loss: 0.5106 - mse: 0.4032\n",
            "Epoch 456/500\n",
            "2/2 [==============================] - 0s 6ms/step - loss: 0.6264 - mse: 0.5806\n",
            "Epoch 457/500\n",
            "2/2 [==============================] - 0s 7ms/step - loss: 0.6618 - mse: 0.6386\n",
            "Epoch 458/500\n",
            "2/2 [==============================] - 0s 7ms/step - loss: 0.4733 - mse: 0.3540\n",
            "Epoch 459/500\n",
            "2/2 [==============================] - 0s 6ms/step - loss: 0.4747 - mse: 0.3744\n",
            "Epoch 460/500\n",
            "2/2 [==============================] - 0s 8ms/step - loss: 0.7267 - mse: 0.7500\n",
            "Epoch 461/500\n",
            "2/2 [==============================] - 0s 9ms/step - loss: 0.9515 - mse: 1.2916\n",
            "Epoch 462/500\n",
            "2/2 [==============================] - 0s 10ms/step - loss: 0.2517 - mse: 0.2745\n",
            "Epoch 463/500\n",
            "2/2 [==============================] - 0s 8ms/step - loss: 1.0792 - mse: 1.6520\n",
            "Epoch 464/500\n",
            "2/2 [==============================] - 0s 8ms/step - loss: 0.5110 - mse: 0.4548\n",
            "Epoch 465/500\n",
            "2/2 [==============================] - 0s 8ms/step - loss: 0.2284 - mse: 0.0763\n",
            "Epoch 466/500\n",
            "2/2 [==============================] - 0s 5ms/step - loss: 0.3748 - mse: 0.2033\n",
            "Epoch 467/500\n",
            "2/2 [==============================] - 0s 6ms/step - loss: 0.1992 - mse: 0.0785\n",
            "Epoch 468/500\n",
            "2/2 [==============================] - 0s 7ms/step - loss: 0.7176 - mse: 0.7239\n",
            "Epoch 469/500\n",
            "2/2 [==============================] - 0s 6ms/step - loss: 0.2424 - mse: 0.1724\n",
            "Epoch 470/500\n",
            "2/2 [==============================] - 0s 10ms/step - loss: 1.0564 - mse: 1.5612\n",
            "Epoch 471/500\n",
            "2/2 [==============================] - 0s 7ms/step - loss: 0.5576 - mse: 0.4593\n",
            "Epoch 472/500\n",
            "2/2 [==============================] - 0s 6ms/step - loss: 0.6842 - mse: 0.6637\n",
            "Epoch 473/500\n",
            "2/2 [==============================] - 0s 7ms/step - loss: 0.3936 - mse: 0.2844\n",
            "Epoch 474/500\n",
            "2/2 [==============================] - 0s 6ms/step - loss: 1.0121 - mse: 1.5338\n",
            "Epoch 475/500\n",
            "2/2 [==============================] - 0s 7ms/step - loss: 1.5016 - mse: 3.2320\n",
            "Epoch 476/500\n",
            "2/2 [==============================] - 0s 5ms/step - loss: 0.6043 - mse: 0.6690\n",
            "Epoch 477/500\n",
            "2/2 [==============================] - 0s 7ms/step - loss: 1.1097 - mse: 1.8132\n",
            "Epoch 478/500\n",
            "2/2 [==============================] - 0s 5ms/step - loss: 1.7909 - mse: 4.5216\n",
            "Epoch 479/500\n",
            "2/2 [==============================] - 0s 13ms/step - loss: 1.1243 - mse: 1.8659\n",
            "Epoch 480/500\n",
            "2/2 [==============================] - 0s 6ms/step - loss: 0.4747 - mse: 0.3825\n",
            "Epoch 481/500\n",
            "2/2 [==============================] - 0s 9ms/step - loss: 1.0370 - mse: 1.5312\n",
            "Epoch 482/500\n",
            "2/2 [==============================] - 0s 10ms/step - loss: 0.3831 - mse: 0.2067\n",
            "Epoch 483/500\n",
            "2/2 [==============================] - 0s 5ms/step - loss: 0.8430 - mse: 1.0037\n",
            "Epoch 484/500\n",
            "2/2 [==============================] - 0s 5ms/step - loss: 0.4181 - mse: 0.2578\n",
            "Epoch 485/500\n",
            "2/2 [==============================] - 0s 5ms/step - loss: 0.5673 - mse: 0.4506\n",
            "Epoch 486/500\n",
            "2/2 [==============================] - 0s 4ms/step - loss: 0.1817 - mse: 0.0530\n",
            "Epoch 487/500\n",
            "2/2 [==============================] - 0s 5ms/step - loss: 1.0960 - mse: 1.7067\n",
            "Epoch 488/500\n",
            "2/2 [==============================] - 0s 6ms/step - loss: 0.7604 - mse: 0.9197\n",
            "Epoch 489/500\n",
            "2/2 [==============================] - 0s 5ms/step - loss: 0.6995 - mse: 0.7022\n",
            "Epoch 490/500\n",
            "2/2 [==============================] - 0s 9ms/step - loss: 1.0227 - mse: 1.4698\n",
            "Epoch 491/500\n",
            "2/2 [==============================] - 0s 7ms/step - loss: 0.2944 - mse: 0.1663\n",
            "Epoch 492/500\n",
            "2/2 [==============================] - 0s 4ms/step - loss: 1.2156 - mse: 2.0891\n",
            "Epoch 493/500\n",
            "2/2 [==============================] - 0s 8ms/step - loss: 0.9574 - mse: 1.3391\n",
            "Epoch 494/500\n",
            "2/2 [==============================] - 0s 5ms/step - loss: 0.3635 - mse: 0.1899\n",
            "Epoch 495/500\n",
            "2/2 [==============================] - 0s 5ms/step - loss: 0.6966 - mse: 0.7264\n",
            "Epoch 496/500\n",
            "2/2 [==============================] - 0s 9ms/step - loss: 0.0891 - mse: 0.0141\n",
            "Epoch 497/500\n",
            "2/2 [==============================] - 0s 5ms/step - loss: 0.0489 - mse: 0.0037\n",
            "Epoch 498/500\n",
            "2/2 [==============================] - 0s 11ms/step - loss: 0.2546 - mse: 0.0945\n",
            "Epoch 499/500\n",
            "2/2 [==============================] - 0s 4ms/step - loss: 0.1979 - mse: 0.0534\n",
            "Epoch 500/500\n",
            "2/2 [==============================] - 0s 5ms/step - loss: 0.0564 - mse: 0.0053\n"
          ]
        },
        {
          "output_type": "execute_result",
          "data": {
            "text/plain": [
              "<keras.callbacks.History at 0x7f3f513ae8e0>"
            ]
          },
          "metadata": {},
          "execution_count": 66
        }
      ]
    },
    {
      "cell_type": "code",
      "source": [
        "y_preds_3 = model_3.predict(X_test)\n"
      ],
      "metadata": {
        "colab": {
          "base_uri": "https://localhost:8080/"
        },
        "id": "kZI_wqpzW2_f",
        "outputId": "b89a40d2-fb26-4f75-a82e-5f1f8a2c2100"
      },
      "execution_count": null,
      "outputs": [
        {
          "output_type": "stream",
          "name": "stdout",
          "text": [
            "1/1 [==============================] - 0s 57ms/step\n"
          ]
        }
      ]
    },
    {
      "cell_type": "code",
      "source": [
        "  plt.figure(figsize=(10,7))\n",
        "  plt.scatter(X_train,Y_train, c=\"b\", label=\"training data\")\n",
        "  plt.scatter(X_test, Y_test, c=\"g\", label=\"test data\")\n",
        "  plt.scatter(X_test, tf.squeeze(y_preds_3), c=\"r\", label=\"predictions\")\n",
        "  plt.legend();"
      ],
      "metadata": {
        "colab": {
          "base_uri": "https://localhost:8080/",
          "height": 428
        },
        "id": "dSvb4cdeXG6v",
        "outputId": "fb45613c-e6c1-4987-fa51-4ccf429f1d7b"
      },
      "execution_count": null,
      "outputs": [
        {
          "output_type": "display_data",
          "data": {
            "text/plain": [
              "<Figure size 720x504 with 1 Axes>"
            ],
            "image/png": "[encoded data removed]"
          },
          "metadata": {
            "needs_background": "light"
          }
        }
      ]
    },
    {
      "cell_type": "code",
      "source": [
        "mae_3 = mae(Y_test, y_preds_3)\n",
        "mse_3 = mse(Y_test, y_preds_3)\n",
        "mae_3, mse_3"
      ],
      "metadata": {
        "colab": {
          "base_uri": "https://localhost:8080/"
        },
        "id": "GgQvCGM7Xm0X",
        "outputId": "f85a64d7-8b26-4dc7-f010-40a63e815939"
      },
      "execution_count": null,
      "outputs": [
        {
          "output_type": "execute_result",
          "data": {
            "text/plain": [
              "(<tf.Tensor: shape=(), dtype=float32, numpy=0.59697497>,\n",
              " <tf.Tensor: shape=(), dtype=float32, numpy=0.36349744>)"
            ]
          },
          "metadata": {},
          "execution_count": 70
        }
      ]
    },
    {
      "cell_type": "markdown",
      "source": [
        "Comparing the results of experiments"
      ],
      "metadata": {
        "id": "bfnJaB-mX5OR"
      }
    },
    {
      "cell_type": "markdown",
      "source": [
        "🔑 You want to start with small experiments, and increase the complexity as much as possible before it starts overfitting"
      ],
      "metadata": {
        "id": "bfFkDxs4YABH"
      }
    },
    {
      "cell_type": "code",
      "source": [
        "import pandas as pd\n",
        "\n",
        "model_results = [[\"model_1\", mae_2.numpy(), mse_2.numpy()], [\"model_2\", mae_3.numpy(), mse_3.numpy()]]\n",
        "\n",
        "all_results = pd.DataFrame(model_results, columns= [\"model\", \"mae\", \"mse\"])\n",
        "all_results"
      ],
      "metadata": {
        "colab": {
          "base_uri": "https://localhost:8080/",
          "height": 112
        },
        "id": "qRpPkPc5YbSX",
        "outputId": "cae7aea5-b89d-4194-866e-20b2eddfa3e5"
      },
      "execution_count": null,
      "outputs": [
        {
          "output_type": "execute_result",
          "data": {
            "text/plain": [
              "     model       mae       mse\n",
              "0  model_1  0.969369  1.269298\n",
              "1  model_2  0.596975  0.363497"
            ],
            "text/html": [
              "\n",
              "  <div id=\"df-3fd5213f-6e6a-499b-8fa6-50eaa8514546\">\n",
              "    <div class=\"colab-df-container\">\n",
              "      <div>\n",
              "<style scoped>\n",
              "    .dataframe tbody tr th:only-of-type {\n",
              "        vertical-align: middle;\n",
              "    }\n",
              "\n",
              "    .dataframe tbody tr th {\n",
              "        vertical-align: top;\n",
              "    }\n",
              "\n",
              "    .dataframe thead th {\n",
              "        text-align: right;\n",
              "    }\n",
              "</style>\n",
              "<table border=\"1\" class=\"dataframe\">\n",
              "  <thead>\n",
              "    <tr style=\"text-align: right;\">\n",
              "      <th></th>\n",
              "      <th>model</th>\n",
              "      <th>mae</th>\n",
              "      <th>mse</th>\n",
              "    </tr>\n",
              "  </thead>\n",
              "  <tbody>\n",
              "    <tr>\n",
              "      <th>0</th>\n",
              "      <td>model_1</td>\n",
              "      <td>0.969369</td>\n",
              "      <td>1.269298</td>\n",
              "    </tr>\n",
              "    <tr>\n",
              "      <th>1</th>\n",
              "      <td>model_2</td>\n",
              "      <td>0.596975</td>\n",
              "      <td>0.363497</td>\n",
              "    </tr>\n",
              "  </tbody>\n",
              "</table>\n",
              "</div>\n",
              "      <button class=\"colab-df-convert\" onclick=\"convertToInteractive('df-3fd5213f-6e6a-499b-8fa6-50eaa8514546')\"\n",
              "              title=\"Convert this dataframe to an interactive table.\"\n",
              "              style=\"display:none;\">\n",
              "        \n",
              "  <svg xmlns=\"http://www.w3.org/2000/svg\" height=\"24px\"viewBox=\"0 0 24 24\"\n",
              "       width=\"24px\">\n",
              "    <path d=\"M0 0h24v24H0V0z\" fill=\"none\"/>\n",
              "    <path d=\"M18.56 5.44l.94 2.06.94-2.06 2.06-.94-2.06-.94-.94-2.06-.94 2.06-2.06.94zm-11 1L8.5 8.5l.94-2.06 2.06-.94-2.06-.94L8.5 2.5l-.94 2.06-2.06.94zm10 10l.94 2.06.94-2.06 2.06-.94-2.06-.94-.94-2.06-.94 2.06-2.06.94z\"/><path d=\"M17.41 7.96l-1.37-1.37c-.4-.4-.92-.59-1.43-.59-.52 0-1.04.2-1.43.59L10.3 9.45l-7.72 7.72c-.78.78-.78 2.05 0 2.83L4 21.41c.39.39.9.59 1.41.59.51 0 1.02-.2 1.41-.59l7.78-7.78 2.81-2.81c.8-.78.8-2.07 0-2.86zM5.41 20L4 18.59l7.72-7.72 1.47 1.35L5.41 20z\"/>\n",
              "  </svg>\n",
              "      </button>\n",
              "      \n",
              "  <style>\n",
              "    .colab-df-container {\n",
              "      display:flex;\n",
              "      flex-wrap:wrap;\n",
              "      gap: 12px;\n",
              "    }\n",
              "\n",
              "    .colab-df-convert {\n",
              "      background-color: #E8F0FE;\n",
              "      border: none;\n",
              "      border-radius: 50%;\n",
              "      cursor: pointer;\n",
              "      display: none;\n",
              "      fill: #1967D2;\n",
              "      height: 32px;\n",
              "      padding: 0 0 0 0;\n",
              "      width: 32px;\n",
              "    }\n",
              "\n",
              "    .colab-df-convert:hover {\n",
              "      background-color: #E2EBFA;\n",
              "      box-shadow: 0px 1px 2px rgba(60, 64, 67, 0.3), 0px 1px 3px 1px rgba(60, 64, 67, 0.15);\n",
              "      fill: #174EA6;\n",
              "    }\n",
              "\n",
              "    [theme=dark] .colab-df-convert {\n",
              "      background-color: #3B4455;\n",
              "      fill: #D2E3FC;\n",
              "    }\n",
              "\n",
              "    [theme=dark] .colab-df-convert:hover {\n",
              "      background-color: #434B5C;\n",
              "      box-shadow: 0px 1px 3px 1px rgba(0, 0, 0, 0.15);\n",
              "      filter: drop-shadow(0px 1px 2px rgba(0, 0, 0, 0.3));\n",
              "      fill: #FFFFFF;\n",
              "    }\n",
              "  </style>\n",
              "\n",
              "      <script>\n",
              "        const buttonEl =\n",
              "          document.querySelector('#df-3fd5213f-6e6a-499b-8fa6-50eaa8514546 button.colab-df-convert');\n",
              "        buttonEl.style.display =\n",
              "          google.colab.kernel.accessAllowed ? 'block' : 'none';\n",
              "\n",
              "        async function convertToInteractive(key) {\n",
              "          const element = document.querySelector('#df-3fd5213f-6e6a-499b-8fa6-50eaa8514546');\n",
              "          const dataTable =\n",
              "            await google.colab.kernel.invokeFunction('convertToInteractive',\n",
              "                                                     [key], {});\n",
              "          if (!dataTable) return;\n",
              "\n",
              "          const docLinkHtml = 'Like what you see? Visit the ' +\n",
              "            '<a target=\"_blank\" href=https://colab.research.google.com/notebooks/data_table.ipynb>data table notebook</a>'\n",
              "            + ' to learn more about interactive tables.';\n",
              "          element.innerHTML = '';\n",
              "          dataTable['output_type'] = 'display_data';\n",
              "          await google.colab.output.renderOutput(dataTable, element);\n",
              "          const docLink = document.createElement('div');\n",
              "          docLink.innerHTML = docLinkHtml;\n",
              "          element.appendChild(docLink);\n",
              "        }\n",
              "      </script>\n",
              "    </div>\n",
              "  </div>\n",
              "  "
            ]
          },
          "metadata": {},
          "execution_count": 74
        }
      ]
    },
    {
      "cell_type": "code",
      "source": [
        "model_3.summary()"
      ],
      "metadata": {
        "colab": {
          "base_uri": "https://localhost:8080/"
        },
        "id": "g9xw_m74ZLMA",
        "outputId": "6b0a10fb-f560-4105-e3fc-600b9e374659"
      },
      "execution_count": null,
      "outputs": [
        {
          "output_type": "stream",
          "name": "stdout",
          "text": [
            "Model: \"sequential_10\"\n",
            "_________________________________________________________________\n",
            " Layer (type)                Output Shape              Param #   \n",
            "=================================================================\n",
            " dense_14 (Dense)            (None, 10)                20        \n",
            "                                                                 \n",
            " dense_15 (Dense)            (None, 1)                 11        \n",
            "                                                                 \n",
            "=================================================================\n",
            "Total params: 31\n",
            "Trainable params: 31\n",
            "Non-trainable params: 0\n",
            "_________________________________________________________________\n"
          ]
        }
      ]
    },
    {
      "cell_type": "markdown",
      "source": [
        "In my case, the model_3 was the best, because as optimizer I used Adam at 0.01 instead of SGD"
      ],
      "metadata": {
        "id": "-1di7BVqZcUg"
      }
    },
    {
      "cell_type": "markdown",
      "source": [
        "## Tracking your experiments\n",
        "\n",
        "One good habit in ML modelling is to tracj the results of your experiments.\n",
        "\n",
        "And when doing so, it can be tedious if you're running lots of experiments.\n",
        "\n",
        "Luckily, there are tools to help us!\n",
        "\n",
        "📖 **Resource** As you bnuild more models, you'll want to look into using:\n",
        "\n",
        "TensorBoard: TensorFlow visualization toolkit\n",
        "Weights & Biases: Tracking tool for all kind of ML experiments\n",
        "\n"
      ],
      "metadata": {
        "id": "8SZSOELdZnYo"
      }
    },
    {
      "cell_type": "markdown",
      "source": [
        "##Saving Models\n",
        "\n",
        "Saving our models allows us to use them outside of google Colab, sucha s in web applications or mobile apps.\n",
        "\n",
        "1. the SavedModel format\n",
        "2. the HDF5 format"
      ],
      "metadata": {
        "id": "KheyRyAqape3"
      }
    },
    {
      "cell_type": "code",
      "source": [
        "model_2.save(\"bestmodel\")"
      ],
      "metadata": {
        "id": "ZE-6wClSbb3L"
      },
      "execution_count": null,
      "outputs": []
    },
    {
      "cell_type": "code",
      "source": [
        "model_2.save(\"bestmodelhdf5.h5\")"
      ],
      "metadata": {
        "id": "a5zrRYwfas5f"
      },
      "execution_count": null,
      "outputs": []
    },
    {
      "cell_type": "code",
      "source": [
        "loaded_SavedModel_format = tf.keras.models.load_model(\"/content/bestmodel\")\n",
        "loaded_SavedModel_format.summary()"
      ],
      "metadata": {
        "colab": {
          "base_uri": "https://localhost:8080/"
        },
        "id": "I5LIQgF8cdVS",
        "outputId": "280a29df-e873-4446-e581-1f1a14f98ddb"
      },
      "execution_count": null,
      "outputs": [
        {
          "output_type": "stream",
          "name": "stdout",
          "text": [
            "Model: \"sequential_8\"\n",
            "_________________________________________________________________\n",
            " Layer (type)                Output Shape              Param #   \n",
            "=================================================================\n",
            " dense_11 (Dense)            (None, 1)                 2         \n",
            "                                                                 \n",
            "=================================================================\n",
            "Total params: 2\n",
            "Trainable params: 2\n",
            "Non-trainable params: 0\n",
            "_________________________________________________________________\n"
          ]
        }
      ]
    },
    {
      "cell_type": "code",
      "source": [
        "model_2_preds = model_2.predict(X_test)\n",
        "load_SavedModel_format_preds = loaded_SavedModel_format.predict(X_test)\n",
        "model_2_preds == load_SavedModel_format_preds"
      ],
      "metadata": {
        "colab": {
          "base_uri": "https://localhost:8080/"
        },
        "id": "lLDDH_KbdTsf",
        "outputId": "dea1c51a-2e81-44d5-8a3f-06b15b1d6823"
      },
      "execution_count": null,
      "outputs": [
        {
          "output_type": "stream",
          "name": "stdout",
          "text": [
            "1/1 [==============================] - 0s 21ms/step\n",
            "1/1 [==============================] - 0s 19ms/step\n"
          ]
        },
        {
          "output_type": "execute_result",
          "data": {
            "text/plain": [
              "array([[ True],\n",
              "       [ True],\n",
              "       [ True],\n",
              "       [ True],\n",
              "       [ True],\n",
              "       [ True],\n",
              "       [ True],\n",
              "       [ True],\n",
              "       [ True],\n",
              "       [ True]])"
            ]
          },
          "metadata": {},
          "execution_count": 80
        }
      ]
    },
    {
      "cell_type": "code",
      "source": [
        "load_HTF5Model_format = tf.keras.models.load_model(\"/content/bestmodelhdf5.h5\")\n",
        "load_HTF5Model_format.summary()"
      ],
      "metadata": {
        "colab": {
          "base_uri": "https://localhost:8080/"
        },
        "id": "mTwTsUBfeKH-",
        "outputId": "846c7f75-0699-4c3f-fa55-d14743ece80c"
      },
      "execution_count": null,
      "outputs": [
        {
          "output_type": "stream",
          "name": "stdout",
          "text": [
            "Model: \"sequential_8\"\n",
            "_________________________________________________________________\n",
            " Layer (type)                Output Shape              Param #   \n",
            "=================================================================\n",
            " dense_11 (Dense)            (None, 1)                 2         \n",
            "                                                                 \n",
            "=================================================================\n",
            "Total params: 2\n",
            "Trainable params: 2\n",
            "Non-trainable params: 0\n",
            "_________________________________________________________________\n"
          ]
        }
      ]
    },
    {
      "cell_type": "code",
      "source": [
        "load_HTF5Model_format_preds = load_HTF5Model_format.predict(X_test)"
      ],
      "metadata": {
        "colab": {
          "base_uri": "https://localhost:8080/"
        },
        "id": "_N7SLLHZfMIv",
        "outputId": "ca749172-2328-40a2-9311-e4be13cc5ec0"
      },
      "execution_count": null,
      "outputs": [
        {
          "output_type": "stream",
          "name": "stdout",
          "text": [
            "1/1 [==============================] - 0s 156ms/step\n"
          ]
        },
        {
          "output_type": "execute_result",
          "data": {
            "text/plain": [
              "array([[False],\n",
              "       [False],\n",
              "       [False],\n",
              "       [False],\n",
              "       [False],\n",
              "       [False],\n",
              "       [False],\n",
              "       [False],\n",
              "       [False],\n",
              "       [False]])"
            ]
          },
          "metadata": {},
          "execution_count": 83
        }
      ]
    },
    {
      "cell_type": "code",
      "source": [
        "model_2_preds == load_HTF5Model_format_preds"
      ],
      "metadata": {
        "colab": {
          "base_uri": "https://localhost:8080/"
        },
        "id": "JrO7kXNufu1-",
        "outputId": "d8538643-c4da-405e-9842-5e3e6af44ebe"
      },
      "execution_count": null,
      "outputs": [
        {
          "output_type": "execute_result",
          "data": {
            "text/plain": [
              "array([[ True],\n",
              "       [ True],\n",
              "       [ True],\n",
              "       [ True],\n",
              "       [ True],\n",
              "       [ True],\n",
              "       [ True],\n",
              "       [ True],\n",
              "       [ True],\n",
              "       [ True]])"
            ]
          },
          "metadata": {},
          "execution_count": 84
        }
      ]
    },
    {
      "cell_type": "markdown",
      "source": [
        "**Download a model from Google Colab**"
      ],
      "metadata": {
        "id": "D6cdYBGqgK12"
      }
    },
    {
      "cell_type": "code",
      "source": [
        "from google.colab import files\n",
        "\n",
        "files.download(\"/content/bestmodelhdf5.h5\")"
      ],
      "metadata": {
        "colab": {
          "base_uri": "https://localhost:8080/",
          "height": 17
        },
        "id": "JV9vF-pbgRcP",
        "outputId": "ad1d3e97-1917-4838-e9e8-5023c541728a"
      },
      "execution_count": null,
      "outputs": [
        {
          "output_type": "display_data",
          "data": {
            "text/plain": [
              "<IPython.core.display.Javascript object>"
            ],
            "application/javascript": [
              "\n",
              "    async function download(id, filename, size) {\n",
              "      if (!google.colab.kernel.accessAllowed) {\n",
              "        return;\n",
              "      }\n",
              "      const div = document.createElement('div');\n",
              "      const label = document.createElement('label');\n",
              "      label.textContent = `Downloading \"${filename}\": `;\n",
              "      div.appendChild(label);\n",
              "      const progress = document.createElement('progress');\n",
              "      progress.max = size;\n",
              "      div.appendChild(progress);\n",
              "      document.body.appendChild(div);\n",
              "\n",
              "      const buffers = [];\n",
              "      let downloaded = 0;\n",
              "\n",
              "      const channel = await google.colab.kernel.comms.open(id);\n",
              "      // Send a message to notify the kernel that we're ready.\n",
              "      channel.send({})\n",
              "\n",
              "      for await (const message of channel.messages) {\n",
              "        // Send a message to notify the kernel that we're ready.\n",
              "        channel.send({})\n",
              "        if (message.buffers) {\n",
              "          for (const buffer of message.buffers) {\n",
              "            buffers.push(buffer);\n",
              "            downloaded += buffer.byteLength;\n",
              "            progress.value = downloaded;\n",
              "          }\n",
              "        }\n",
              "      }\n",
              "      const blob = new Blob(buffers, {type: 'application/binary'});\n",
              "      const a = document.createElement('a');\n",
              "      a.href = window.URL.createObjectURL(blob);\n",
              "      a.download = filename;\n",
              "      div.appendChild(a);\n",
              "      a.click();\n",
              "      div.remove();\n",
              "    }\n",
              "  "
            ]
          },
          "metadata": {}
        },
        {
          "output_type": "display_data",
          "data": {
            "text/plain": [
              "<IPython.core.display.Javascript object>"
            ],
            "application/javascript": [
              "download(\"download_6b12613e-13cb-4e33-a485-59d145f2fb0a\", \"bestmodelhdf5.h5\", 19312)"
            ]
          },
          "metadata": {}
        }
      ]
    },
    {
      "cell_type": "code",
      "source": [
        "!cp /content/bestmodelhdf5.h5 #and following the drive path"
      ],
      "metadata": {
        "id": "4mL2U4eLg0qO"
      },
      "execution_count": null,
      "outputs": []
    },
    {
      "cell_type": "code",
      "source": [
        "!ls #drive path"
      ],
      "metadata": {
        "id": "S7m1e6bghZrl"
      },
      "execution_count": null,
      "outputs": []
    },
    {
      "cell_type": "markdown",
      "source": [
        "A larger Example"
      ],
      "metadata": {
        "id": "whYouiy6h78e"
      }
    },
    {
      "cell_type": "code",
      "source": [
        "X_train, Y_train"
      ],
      "metadata": {
        "colab": {
          "base_uri": "https://localhost:8080/"
        },
        "id": "nwURY5f9h-KP",
        "outputId": "198ba29c-bda4-441c-8bc3-8f7ad4dd267b"
      },
      "execution_count": null,
      "outputs": [
        {
          "output_type": "execute_result",
          "data": {
            "text/plain": [
              "(<tf.Tensor: shape=(40,), dtype=int32, numpy=\n",
              " array([-100,  -96,  -92,  -88,  -84,  -80,  -76,  -72,  -68,  -64,  -60,\n",
              "         -56,  -52,  -48,  -44,  -40,  -36,  -32,  -28,  -24,  -20,  -16,\n",
              "         -12,   -8,   -4,    0,    4,    8,   12,   16,   20,   24,   28,\n",
              "          32,   36,   40,   44,   48,   52,   56], dtype=int32)>,\n",
              " <tf.Tensor: shape=(40,), dtype=int32, numpy=\n",
              " array([-90, -86, -82, -78, -74, -70, -66, -62, -58, -54, -50, -46, -42,\n",
              "        -38, -34, -30, -26, -22, -18, -14, -10,  -6,  -2,   2,   6,  10,\n",
              "         14,  18,  22,  26,  30,  34,  38,  42,  46,  50,  54,  58,  62,\n",
              "         66], dtype=int32)>)"
            ]
          },
          "metadata": {},
          "execution_count": 86
        }
      ]
    },
    {
      "cell_type": "code",
      "source": [
        "#Import required libraries"
      ],
      "metadata": {
        "id": "dwXkMaTni0Cn"
      },
      "execution_count": null,
      "outputs": []
    },
    {
      "cell_type": "code",
      "source": [
        "#Read in the insurance dataset\n",
        "insurance = pd.read_csv(\"https://raw.githubusercontent.com/stedy/Machine-Learning-with-R-datasets/master/insurance.csv\")"
      ],
      "metadata": {
        "id": "UxXxvYh9i5f3"
      },
      "execution_count": null,
      "outputs": []
    },
    {
      "cell_type": "code",
      "source": [
        "insurance"
      ],
      "metadata": {
        "colab": {
          "base_uri": "https://localhost:8080/",
          "height": 423
        },
        "id": "GNX2BfaDjGln",
        "outputId": "dce92da9-3ca9-4a72-a10f-a5c667d74d59"
      },
      "execution_count": null,
      "outputs": [
        {
          "output_type": "execute_result",
          "data": {
            "text/plain": [
              "      age     sex     bmi  children smoker     region      charges\n",
              "0      19  female  27.900         0    yes  southwest  16884.92400\n",
              "1      18    male  33.770         1     no  southeast   1725.55230\n",
              "2      28    male  33.000         3     no  southeast   4449.46200\n",
              "3      33    male  22.705         0     no  northwest  21984.47061\n",
              "4      32    male  28.880         0     no  northwest   3866.85520\n",
              "...   ...     ...     ...       ...    ...        ...          ...\n",
              "1333   50    male  30.970         3     no  northwest  10600.54830\n",
              "1334   18  female  31.920         0     no  northeast   2205.98080\n",
              "1335   18  female  36.850         0     no  southeast   1629.83350\n",
              "1336   21  female  25.800         0     no  southwest   2007.94500\n",
              "1337   61  female  29.070         0    yes  northwest  29141.36030\n",
              "\n",
              "[1338 rows x 7 columns]"
            ],
            "text/html": [
              "\n",
              "  <div id=\"df-711e9a6e-ad6b-49cc-ba30-4adb12a024b2\">\n",
              "    <div class=\"colab-df-container\">\n",
              "      <div>\n",
              "<style scoped>\n",
              "    .dataframe tbody tr th:only-of-type {\n",
              "        vertical-align: middle;\n",
              "    }\n",
              "\n",
              "    .dataframe tbody tr th {\n",
              "        vertical-align: top;\n",
              "    }\n",
              "\n",
              "    .dataframe thead th {\n",
              "        text-align: right;\n",
              "    }\n",
              "</style>\n",
              "<table border=\"1\" class=\"dataframe\">\n",
              "  <thead>\n",
              "    <tr style=\"text-align: right;\">\n",
              "      <th></th>\n",
              "      <th>age</th>\n",
              "      <th>sex</th>\n",
              "      <th>bmi</th>\n",
              "      <th>children</th>\n",
              "      <th>smoker</th>\n",
              "      <th>region</th>\n",
              "      <th>charges</th>\n",
              "    </tr>\n",
              "  </thead>\n",
              "  <tbody>\n",
              "    <tr>\n",
              "      <th>0</th>\n",
              "      <td>19</td>\n",
              "      <td>female</td>\n",
              "      <td>27.900</td>\n",
              "      <td>0</td>\n",
              "      <td>yes</td>\n",
              "      <td>southwest</td>\n",
              "      <td>16884.92400</td>\n",
              "    </tr>\n",
              "    <tr>\n",
              "      <th>1</th>\n",
              "      <td>18</td>\n",
              "      <td>male</td>\n",
              "      <td>33.770</td>\n",
              "      <td>1</td>\n",
              "      <td>no</td>\n",
              "      <td>southeast</td>\n",
              "      <td>1725.55230</td>\n",
              "    </tr>\n",
              "    <tr>\n",
              "      <th>2</th>\n",
              "      <td>28</td>\n",
              "      <td>male</td>\n",
              "      <td>33.000</td>\n",
              "      <td>3</td>\n",
              "      <td>no</td>\n",
              "      <td>southeast</td>\n",
              "      <td>4449.46200</td>\n",
              "    </tr>\n",
              "    <tr>\n",
              "      <th>3</th>\n",
              "      <td>33</td>\n",
              "      <td>male</td>\n",
              "      <td>22.705</td>\n",
              "      <td>0</td>\n",
              "      <td>no</td>\n",
              "      <td>northwest</td>\n",
              "      <td>21984.47061</td>\n",
              "    </tr>\n",
              "    <tr>\n",
              "      <th>4</th>\n",
              "      <td>32</td>\n",
              "      <td>male</td>\n",
              "      <td>28.880</td>\n",
              "      <td>0</td>\n",
              "      <td>no</td>\n",
              "      <td>northwest</td>\n",
              "      <td>3866.85520</td>\n",
              "    </tr>\n",
              "    <tr>\n",
              "      <th>...</th>\n",
              "      <td>...</td>\n",
              "      <td>...</td>\n",
              "      <td>...</td>\n",
              "      <td>...</td>\n",
              "      <td>...</td>\n",
              "      <td>...</td>\n",
              "      <td>...</td>\n",
              "    </tr>\n",
              "    <tr>\n",
              "      <th>1333</th>\n",
              "      <td>50</td>\n",
              "      <td>male</td>\n",
              "      <td>30.970</td>\n",
              "      <td>3</td>\n",
              "      <td>no</td>\n",
              "      <td>northwest</td>\n",
              "      <td>10600.54830</td>\n",
              "    </tr>\n",
              "    <tr>\n",
              "      <th>1334</th>\n",
              "      <td>18</td>\n",
              "      <td>female</td>\n",
              "      <td>31.920</td>\n",
              "      <td>0</td>\n",
              "      <td>no</td>\n",
              "      <td>northeast</td>\n",
              "      <td>2205.98080</td>\n",
              "    </tr>\n",
              "    <tr>\n",
              "      <th>1335</th>\n",
              "      <td>18</td>\n",
              "      <td>female</td>\n",
              "      <td>36.850</td>\n",
              "      <td>0</td>\n",
              "      <td>no</td>\n",
              "      <td>southeast</td>\n",
              "      <td>1629.83350</td>\n",
              "    </tr>\n",
              "    <tr>\n",
              "      <th>1336</th>\n",
              "      <td>21</td>\n",
              "      <td>female</td>\n",
              "      <td>25.800</td>\n",
              "      <td>0</td>\n",
              "      <td>no</td>\n",
              "      <td>southwest</td>\n",
              "      <td>2007.94500</td>\n",
              "    </tr>\n",
              "    <tr>\n",
              "      <th>1337</th>\n",
              "      <td>61</td>\n",
              "      <td>female</td>\n",
              "      <td>29.070</td>\n",
              "      <td>0</td>\n",
              "      <td>yes</td>\n",
              "      <td>northwest</td>\n",
              "      <td>29141.36030</td>\n",
              "    </tr>\n",
              "  </tbody>\n",
              "</table>\n",
              "<p>1338 rows × 7 columns</p>\n",
              "</div>\n",
              "      <button class=\"colab-df-convert\" onclick=\"convertToInteractive('df-711e9a6e-ad6b-49cc-ba30-4adb12a024b2')\"\n",
              "              title=\"Convert this dataframe to an interactive table.\"\n",
              "              style=\"display:none;\">\n",
              "        \n",
              "  <svg xmlns=\"http://www.w3.org/2000/svg\" height=\"24px\"viewBox=\"0 0 24 24\"\n",
              "       width=\"24px\">\n",
              "    <path d=\"M0 0h24v24H0V0z\" fill=\"none\"/>\n",
              "    <path d=\"M18.56 5.44l.94 2.06.94-2.06 2.06-.94-2.06-.94-.94-2.06-.94 2.06-2.06.94zm-11 1L8.5 8.5l.94-2.06 2.06-.94-2.06-.94L8.5 2.5l-.94 2.06-2.06.94zm10 10l.94 2.06.94-2.06 2.06-.94-2.06-.94-.94-2.06-.94 2.06-2.06.94z\"/><path d=\"M17.41 7.96l-1.37-1.37c-.4-.4-.92-.59-1.43-.59-.52 0-1.04.2-1.43.59L10.3 9.45l-7.72 7.72c-.78.78-.78 2.05 0 2.83L4 21.41c.39.39.9.59 1.41.59.51 0 1.02-.2 1.41-.59l7.78-7.78 2.81-2.81c.8-.78.8-2.07 0-2.86zM5.41 20L4 18.59l7.72-7.72 1.47 1.35L5.41 20z\"/>\n",
              "  </svg>\n",
              "      </button>\n",
              "      \n",
              "  <style>\n",
              "    .colab-df-container {\n",
              "      display:flex;\n",
              "      flex-wrap:wrap;\n",
              "      gap: 12px;\n",
              "    }\n",
              "\n",
              "    .colab-df-convert {\n",
              "      background-color: #E8F0FE;\n",
              "      border: none;\n",
              "      border-radius: 50%;\n",
              "      cursor: pointer;\n",
              "      display: none;\n",
              "      fill: #1967D2;\n",
              "      height: 32px;\n",
              "      padding: 0 0 0 0;\n",
              "      width: 32px;\n",
              "    }\n",
              "\n",
              "    .colab-df-convert:hover {\n",
              "      background-color: #E2EBFA;\n",
              "      box-shadow: 0px 1px 2px rgba(60, 64, 67, 0.3), 0px 1px 3px 1px rgba(60, 64, 67, 0.15);\n",
              "      fill: #174EA6;\n",
              "    }\n",
              "\n",
              "    [theme=dark] .colab-df-convert {\n",
              "      background-color: #3B4455;\n",
              "      fill: #D2E3FC;\n",
              "    }\n",
              "\n",
              "    [theme=dark] .colab-df-convert:hover {\n",
              "      background-color: #434B5C;\n",
              "      box-shadow: 0px 1px 3px 1px rgba(0, 0, 0, 0.15);\n",
              "      filter: drop-shadow(0px 1px 2px rgba(0, 0, 0, 0.3));\n",
              "      fill: #FFFFFF;\n",
              "    }\n",
              "  </style>\n",
              "\n",
              "      <script>\n",
              "        const buttonEl =\n",
              "          document.querySelector('#df-711e9a6e-ad6b-49cc-ba30-4adb12a024b2 button.colab-df-convert');\n",
              "        buttonEl.style.display =\n",
              "          google.colab.kernel.accessAllowed ? 'block' : 'none';\n",
              "\n",
              "        async function convertToInteractive(key) {\n",
              "          const element = document.querySelector('#df-711e9a6e-ad6b-49cc-ba30-4adb12a024b2');\n",
              "          const dataTable =\n",
              "            await google.colab.kernel.invokeFunction('convertToInteractive',\n",
              "                                                     [key], {});\n",
              "          if (!dataTable) return;\n",
              "\n",
              "          const docLinkHtml = 'Like what you see? Visit the ' +\n",
              "            '<a target=\"_blank\" href=https://colab.research.google.com/notebooks/data_table.ipynb>data table notebook</a>'\n",
              "            + ' to learn more about interactive tables.';\n",
              "          element.innerHTML = '';\n",
              "          dataTable['output_type'] = 'display_data';\n",
              "          await google.colab.output.renderOutput(dataTable, element);\n",
              "          const docLink = document.createElement('div');\n",
              "          docLink.innerHTML = docLinkHtml;\n",
              "          element.appendChild(docLink);\n",
              "        }\n",
              "      </script>\n",
              "    </div>\n",
              "  </div>\n",
              "  "
            ]
          },
          "metadata": {},
          "execution_count": 89
        }
      ]
    },
    {
      "cell_type": "code",
      "source": [
        "insurance.describe()"
      ],
      "metadata": {
        "colab": {
          "base_uri": "https://localhost:8080/",
          "height": 300
        },
        "id": "s7bXIvPJjKb4",
        "outputId": "7890d242-6e49-4c96-8f0e-0b62d20df3de"
      },
      "execution_count": null,
      "outputs": [
        {
          "output_type": "execute_result",
          "data": {
            "text/plain": [
              "               age          bmi     children       charges\n",
              "count  1338.000000  1338.000000  1338.000000   1338.000000\n",
              "mean     39.207025    30.663397     1.094918  13270.422265\n",
              "std      14.049960     6.098187     1.205493  12110.011237\n",
              "min      18.000000    15.960000     0.000000   1121.873900\n",
              "25%      27.000000    26.296250     0.000000   4740.287150\n",
              "50%      39.000000    30.400000     1.000000   9382.033000\n",
              "75%      51.000000    34.693750     2.000000  16639.912515\n",
              "max      64.000000    53.130000     5.000000  63770.428010"
            ],
            "text/html": [
              "\n",
              "  <div id=\"df-8deca891-0791-4353-8f84-857e07295b15\">\n",
              "    <div class=\"colab-df-container\">\n",
              "      <div>\n",
              "<style scoped>\n",
              "    .dataframe tbody tr th:only-of-type {\n",
              "        vertical-align: middle;\n",
              "    }\n",
              "\n",
              "    .dataframe tbody tr th {\n",
              "        vertical-align: top;\n",
              "    }\n",
              "\n",
              "    .dataframe thead th {\n",
              "        text-align: right;\n",
              "    }\n",
              "</style>\n",
              "<table border=\"1\" class=\"dataframe\">\n",
              "  <thead>\n",
              "    <tr style=\"text-align: right;\">\n",
              "      <th></th>\n",
              "      <th>age</th>\n",
              "      <th>bmi</th>\n",
              "      <th>children</th>\n",
              "      <th>charges</th>\n",
              "    </tr>\n",
              "  </thead>\n",
              "  <tbody>\n",
              "    <tr>\n",
              "      <th>count</th>\n",
              "      <td>1338.000000</td>\n",
              "      <td>1338.000000</td>\n",
              "      <td>1338.000000</td>\n",
              "      <td>1338.000000</td>\n",
              "    </tr>\n",
              "    <tr>\n",
              "      <th>mean</th>\n",
              "      <td>39.207025</td>\n",
              "      <td>30.663397</td>\n",
              "      <td>1.094918</td>\n",
              "      <td>13270.422265</td>\n",
              "    </tr>\n",
              "    <tr>\n",
              "      <th>std</th>\n",
              "      <td>14.049960</td>\n",
              "      <td>6.098187</td>\n",
              "      <td>1.205493</td>\n",
              "      <td>12110.011237</td>\n",
              "    </tr>\n",
              "    <tr>\n",
              "      <th>min</th>\n",
              "      <td>18.000000</td>\n",
              "      <td>15.960000</td>\n",
              "      <td>0.000000</td>\n",
              "      <td>1121.873900</td>\n",
              "    </tr>\n",
              "    <tr>\n",
              "      <th>25%</th>\n",
              "      <td>27.000000</td>\n",
              "      <td>26.296250</td>\n",
              "      <td>0.000000</td>\n",
              "      <td>4740.287150</td>\n",
              "    </tr>\n",
              "    <tr>\n",
              "      <th>50%</th>\n",
              "      <td>39.000000</td>\n",
              "      <td>30.400000</td>\n",
              "      <td>1.000000</td>\n",
              "      <td>9382.033000</td>\n",
              "    </tr>\n",
              "    <tr>\n",
              "      <th>75%</th>\n",
              "      <td>51.000000</td>\n",
              "      <td>34.693750</td>\n",
              "      <td>2.000000</td>\n",
              "      <td>16639.912515</td>\n",
              "    </tr>\n",
              "    <tr>\n",
              "      <th>max</th>\n",
              "      <td>64.000000</td>\n",
              "      <td>53.130000</td>\n",
              "      <td>5.000000</td>\n",
              "      <td>63770.428010</td>\n",
              "    </tr>\n",
              "  </tbody>\n",
              "</table>\n",
              "</div>\n",
              "      <button class=\"colab-df-convert\" onclick=\"convertToInteractive('df-8deca891-0791-4353-8f84-857e07295b15')\"\n",
              "              title=\"Convert this dataframe to an interactive table.\"\n",
              "              style=\"display:none;\">\n",
              "        \n",
              "  <svg xmlns=\"http://www.w3.org/2000/svg\" height=\"24px\"viewBox=\"0 0 24 24\"\n",
              "       width=\"24px\">\n",
              "    <path d=\"M0 0h24v24H0V0z\" fill=\"none\"/>\n",
              "    <path d=\"M18.56 5.44l.94 2.06.94-2.06 2.06-.94-2.06-.94-.94-2.06-.94 2.06-2.06.94zm-11 1L8.5 8.5l.94-2.06 2.06-.94-2.06-.94L8.5 2.5l-.94 2.06-2.06.94zm10 10l.94 2.06.94-2.06 2.06-.94-2.06-.94-.94-2.06-.94 2.06-2.06.94z\"/><path d=\"M17.41 7.96l-1.37-1.37c-.4-.4-.92-.59-1.43-.59-.52 0-1.04.2-1.43.59L10.3 9.45l-7.72 7.72c-.78.78-.78 2.05 0 2.83L4 21.41c.39.39.9.59 1.41.59.51 0 1.02-.2 1.41-.59l7.78-7.78 2.81-2.81c.8-.78.8-2.07 0-2.86zM5.41 20L4 18.59l7.72-7.72 1.47 1.35L5.41 20z\"/>\n",
              "  </svg>\n",
              "      </button>\n",
              "      \n",
              "  <style>\n",
              "    .colab-df-container {\n",
              "      display:flex;\n",
              "      flex-wrap:wrap;\n",
              "      gap: 12px;\n",
              "    }\n",
              "\n",
              "    .colab-df-convert {\n",
              "      background-color: #E8F0FE;\n",
              "      border: none;\n",
              "      border-radius: 50%;\n",
              "      cursor: pointer;\n",
              "      display: none;\n",
              "      fill: #1967D2;\n",
              "      height: 32px;\n",
              "      padding: 0 0 0 0;\n",
              "      width: 32px;\n",
              "    }\n",
              "\n",
              "    .colab-df-convert:hover {\n",
              "      background-color: #E2EBFA;\n",
              "      box-shadow: 0px 1px 2px rgba(60, 64, 67, 0.3), 0px 1px 3px 1px rgba(60, 64, 67, 0.15);\n",
              "      fill: #174EA6;\n",
              "    }\n",
              "\n",
              "    [theme=dark] .colab-df-convert {\n",
              "      background-color: #3B4455;\n",
              "      fill: #D2E3FC;\n",
              "    }\n",
              "\n",
              "    [theme=dark] .colab-df-convert:hover {\n",
              "      background-color: #434B5C;\n",
              "      box-shadow: 0px 1px 3px 1px rgba(0, 0, 0, 0.15);\n",
              "      filter: drop-shadow(0px 1px 2px rgba(0, 0, 0, 0.3));\n",
              "      fill: #FFFFFF;\n",
              "    }\n",
              "  </style>\n",
              "\n",
              "      <script>\n",
              "        const buttonEl =\n",
              "          document.querySelector('#df-8deca891-0791-4353-8f84-857e07295b15 button.colab-df-convert');\n",
              "        buttonEl.style.display =\n",
              "          google.colab.kernel.accessAllowed ? 'block' : 'none';\n",
              "\n",
              "        async function convertToInteractive(key) {\n",
              "          const element = document.querySelector('#df-8deca891-0791-4353-8f84-857e07295b15');\n",
              "          const dataTable =\n",
              "            await google.colab.kernel.invokeFunction('convertToInteractive',\n",
              "                                                     [key], {});\n",
              "          if (!dataTable) return;\n",
              "\n",
              "          const docLinkHtml = 'Like what you see? Visit the ' +\n",
              "            '<a target=\"_blank\" href=https://colab.research.google.com/notebooks/data_table.ipynb>data table notebook</a>'\n",
              "            + ' to learn more about interactive tables.';\n",
              "          element.innerHTML = '';\n",
              "          dataTable['output_type'] = 'display_data';\n",
              "          await google.colab.output.renderOutput(dataTable, element);\n",
              "          const docLink = document.createElement('div');\n",
              "          docLink.innerHTML = docLinkHtml;\n",
              "          element.appendChild(docLink);\n",
              "        }\n",
              "      </script>\n",
              "    </div>\n",
              "  </div>\n",
              "  "
            ]
          },
          "metadata": {},
          "execution_count": 90
        }
      ]
    },
    {
      "cell_type": "code",
      "source": [
        "#check the schema, and transform the non-numerical data into input features\n",
        "insurance.info()"
      ],
      "metadata": {
        "colab": {
          "base_uri": "https://localhost:8080/"
        },
        "id": "GT4t9uGyjlen",
        "outputId": "995932c8-5659-4b40-fd56-61719ba64783"
      },
      "execution_count": null,
      "outputs": [
        {
          "output_type": "stream",
          "name": "stdout",
          "text": [
            "<class 'pandas.core.frame.DataFrame'>\n",
            "RangeIndex: 1338 entries, 0 to 1337\n",
            "Data columns (total 7 columns):\n",
            " #   Column    Non-Null Count  Dtype  \n",
            "---  ------    --------------  -----  \n",
            " 0   age       1338 non-null   int64  \n",
            " 1   sex       1338 non-null   object \n",
            " 2   bmi       1338 non-null   float64\n",
            " 3   children  1338 non-null   int64  \n",
            " 4   smoker    1338 non-null   object \n",
            " 5   region    1338 non-null   object \n",
            " 6   charges   1338 non-null   float64\n",
            "dtypes: float64(2), int64(2), object(3)\n",
            "memory usage: 73.3+ KB\n"
          ]
        }
      ]
    },
    {
      "cell_type": "code",
      "source": [
        "#in this case, we're gonna use one-hot encode via pandas\n",
        "\n",
        "insurance_one_hot = pd.get_dummies(insurance)\n",
        "insurance_one_hot.head()"
      ],
      "metadata": {
        "colab": {
          "base_uri": "https://localhost:8080/",
          "height": 270
        },
        "id": "NGRoTdEykC13",
        "outputId": "aef46636-aec4-4f48-b954-7d464441846a"
      },
      "execution_count": null,
      "outputs": [
        {
          "output_type": "execute_result",
          "data": {
            "text/plain": [
              "   age     bmi  children      charges  sex_female  sex_male  smoker_no  \\\n",
              "0   19  27.900         0  16884.92400           1         0          0   \n",
              "1   18  33.770         1   1725.55230           0         1          1   \n",
              "2   28  33.000         3   4449.46200           0         1          1   \n",
              "3   33  22.705         0  21984.47061           0         1          1   \n",
              "4   32  28.880         0   3866.85520           0         1          1   \n",
              "\n",
              "   smoker_yes  region_northeast  region_northwest  region_southeast  \\\n",
              "0           1                 0                 0                 0   \n",
              "1           0                 0                 0                 1   \n",
              "2           0                 0                 0                 1   \n",
              "3           0                 0                 1                 0   \n",
              "4           0                 0                 1                 0   \n",
              "\n",
              "   region_southwest  \n",
              "0                 1  \n",
              "1                 0  \n",
              "2                 0  \n",
              "3                 0  \n",
              "4                 0  "
            ],
            "text/html": [
              "\n",
              "  <div id=\"df-59d9c298-00f1-401e-ac6d-45f3975d0ae5\">\n",
              "    <div class=\"colab-df-container\">\n",
              "      <div>\n",
              "<style scoped>\n",
              "    .dataframe tbody tr th:only-of-type {\n",
              "        vertical-align: middle;\n",
              "    }\n",
              "\n",
              "    .dataframe tbody tr th {\n",
              "        vertical-align: top;\n",
              "    }\n",
              "\n",
              "    .dataframe thead th {\n",
              "        text-align: right;\n",
              "    }\n",
              "</style>\n",
              "<table border=\"1\" class=\"dataframe\">\n",
              "  <thead>\n",
              "    <tr style=\"text-align: right;\">\n",
              "      <th></th>\n",
              "      <th>age</th>\n",
              "      <th>bmi</th>\n",
              "      <th>children</th>\n",
              "      <th>charges</th>\n",
              "      <th>sex_female</th>\n",
              "      <th>sex_male</th>\n",
              "      <th>smoker_no</th>\n",
              "      <th>smoker_yes</th>\n",
              "      <th>region_northeast</th>\n",
              "      <th>region_northwest</th>\n",
              "      <th>region_southeast</th>\n",
              "      <th>region_southwest</th>\n",
              "    </tr>\n",
              "  </thead>\n",
              "  <tbody>\n",
              "    <tr>\n",
              "      <th>0</th>\n",
              "      <td>19</td>\n",
              "      <td>27.900</td>\n",
              "      <td>0</td>\n",
              "      <td>16884.92400</td>\n",
              "      <td>1</td>\n",
              "      <td>0</td>\n",
              "      <td>0</td>\n",
              "      <td>1</td>\n",
              "      <td>0</td>\n",
              "      <td>0</td>\n",
              "      <td>0</td>\n",
              "      <td>1</td>\n",
              "    </tr>\n",
              "    <tr>\n",
              "      <th>1</th>\n",
              "      <td>18</td>\n",
              "      <td>33.770</td>\n",
              "      <td>1</td>\n",
              "      <td>1725.55230</td>\n",
              "      <td>0</td>\n",
              "      <td>1</td>\n",
              "      <td>1</td>\n",
              "      <td>0</td>\n",
              "      <td>0</td>\n",
              "      <td>0</td>\n",
              "      <td>1</td>\n",
              "      <td>0</td>\n",
              "    </tr>\n",
              "    <tr>\n",
              "      <th>2</th>\n",
              "      <td>28</td>\n",
              "      <td>33.000</td>\n",
              "      <td>3</td>\n",
              "      <td>4449.46200</td>\n",
              "      <td>0</td>\n",
              "      <td>1</td>\n",
              "      <td>1</td>\n",
              "      <td>0</td>\n",
              "      <td>0</td>\n",
              "      <td>0</td>\n",
              "      <td>1</td>\n",
              "      <td>0</td>\n",
              "    </tr>\n",
              "    <tr>\n",
              "      <th>3</th>\n",
              "      <td>33</td>\n",
              "      <td>22.705</td>\n",
              "      <td>0</td>\n",
              "      <td>21984.47061</td>\n",
              "      <td>0</td>\n",
              "      <td>1</td>\n",
              "      <td>1</td>\n",
              "      <td>0</td>\n",
              "      <td>0</td>\n",
              "      <td>1</td>\n",
              "      <td>0</td>\n",
              "      <td>0</td>\n",
              "    </tr>\n",
              "    <tr>\n",
              "      <th>4</th>\n",
              "      <td>32</td>\n",
              "      <td>28.880</td>\n",
              "      <td>0</td>\n",
              "      <td>3866.85520</td>\n",
              "      <td>0</td>\n",
              "      <td>1</td>\n",
              "      <td>1</td>\n",
              "      <td>0</td>\n",
              "      <td>0</td>\n",
              "      <td>1</td>\n",
              "      <td>0</td>\n",
              "      <td>0</td>\n",
              "    </tr>\n",
              "  </tbody>\n",
              "</table>\n",
              "</div>\n",
              "      <button class=\"colab-df-convert\" onclick=\"convertToInteractive('df-59d9c298-00f1-401e-ac6d-45f3975d0ae5')\"\n",
              "              title=\"Convert this dataframe to an interactive table.\"\n",
              "              style=\"display:none;\">\n",
              "        \n",
              "  <svg xmlns=\"http://www.w3.org/2000/svg\" height=\"24px\"viewBox=\"0 0 24 24\"\n",
              "       width=\"24px\">\n",
              "    <path d=\"M0 0h24v24H0V0z\" fill=\"none\"/>\n",
              "    <path d=\"M18.56 5.44l.94 2.06.94-2.06 2.06-.94-2.06-.94-.94-2.06-.94 2.06-2.06.94zm-11 1L8.5 8.5l.94-2.06 2.06-.94-2.06-.94L8.5 2.5l-.94 2.06-2.06.94zm10 10l.94 2.06.94-2.06 2.06-.94-2.06-.94-.94-2.06-.94 2.06-2.06.94z\"/><path d=\"M17.41 7.96l-1.37-1.37c-.4-.4-.92-.59-1.43-.59-.52 0-1.04.2-1.43.59L10.3 9.45l-7.72 7.72c-.78.78-.78 2.05 0 2.83L4 21.41c.39.39.9.59 1.41.59.51 0 1.02-.2 1.41-.59l7.78-7.78 2.81-2.81c.8-.78.8-2.07 0-2.86zM5.41 20L4 18.59l7.72-7.72 1.47 1.35L5.41 20z\"/>\n",
              "  </svg>\n",
              "      </button>\n",
              "      \n",
              "  <style>\n",
              "    .colab-df-container {\n",
              "      display:flex;\n",
              "      flex-wrap:wrap;\n",
              "      gap: 12px;\n",
              "    }\n",
              "\n",
              "    .colab-df-convert {\n",
              "      background-color: #E8F0FE;\n",
              "      border: none;\n",
              "      border-radius: 50%;\n",
              "      cursor: pointer;\n",
              "      display: none;\n",
              "      fill: #1967D2;\n",
              "      height: 32px;\n",
              "      padding: 0 0 0 0;\n",
              "      width: 32px;\n",
              "    }\n",
              "\n",
              "    .colab-df-convert:hover {\n",
              "      background-color: #E2EBFA;\n",
              "      box-shadow: 0px 1px 2px rgba(60, 64, 67, 0.3), 0px 1px 3px 1px rgba(60, 64, 67, 0.15);\n",
              "      fill: #174EA6;\n",
              "    }\n",
              "\n",
              "    [theme=dark] .colab-df-convert {\n",
              "      background-color: #3B4455;\n",
              "      fill: #D2E3FC;\n",
              "    }\n",
              "\n",
              "    [theme=dark] .colab-df-convert:hover {\n",
              "      background-color: #434B5C;\n",
              "      box-shadow: 0px 1px 3px 1px rgba(0, 0, 0, 0.15);\n",
              "      filter: drop-shadow(0px 1px 2px rgba(0, 0, 0, 0.3));\n",
              "      fill: #FFFFFF;\n",
              "    }\n",
              "  </style>\n",
              "\n",
              "      <script>\n",
              "        const buttonEl =\n",
              "          document.querySelector('#df-59d9c298-00f1-401e-ac6d-45f3975d0ae5 button.colab-df-convert');\n",
              "        buttonEl.style.display =\n",
              "          google.colab.kernel.accessAllowed ? 'block' : 'none';\n",
              "\n",
              "        async function convertToInteractive(key) {\n",
              "          const element = document.querySelector('#df-59d9c298-00f1-401e-ac6d-45f3975d0ae5');\n",
              "          const dataTable =\n",
              "            await google.colab.kernel.invokeFunction('convertToInteractive',\n",
              "                                                     [key], {});\n",
              "          if (!dataTable) return;\n",
              "\n",
              "          const docLinkHtml = 'Like what you see? Visit the ' +\n",
              "            '<a target=\"_blank\" href=https://colab.research.google.com/notebooks/data_table.ipynb>data table notebook</a>'\n",
              "            + ' to learn more about interactive tables.';\n",
              "          element.innerHTML = '';\n",
              "          dataTable['output_type'] = 'display_data';\n",
              "          await google.colab.output.renderOutput(dataTable, element);\n",
              "          const docLink = document.createElement('div');\n",
              "          docLink.innerHTML = docLinkHtml;\n",
              "          element.appendChild(docLink);\n",
              "        }\n",
              "      </script>\n",
              "    </div>\n",
              "  </div>\n",
              "  "
            ]
          },
          "metadata": {},
          "execution_count": 96
        }
      ]
    },
    {
      "cell_type": "code",
      "source": [
        "#Create X & Y values (features and labels)\n",
        "X = insurance_one_hot.drop(\"charges\", axis=1)\n",
        "y = insurance_one_hot[\"charges\"]"
      ],
      "metadata": {
        "id": "36IgIQiEllce"
      },
      "execution_count": null,
      "outputs": []
    },
    {
      "cell_type": "code",
      "source": [
        "#View X and Y\n",
        "\n",
        "X.head(),y.head()"
      ],
      "metadata": {
        "colab": {
          "base_uri": "https://localhost:8080/"
        },
        "id": "959KzPQ4ngJe",
        "outputId": "debb871c-3ca7-4865-920b-47dc00f3cae2"
      },
      "execution_count": null,
      "outputs": [
        {
          "output_type": "execute_result",
          "data": {
            "text/plain": [
              "(   age     bmi  children  sex_female  sex_male  smoker_no  smoker_yes  \\\n",
              " 0   19  27.900         0           1         0          0           1   \n",
              " 1   18  33.770         1           0         1          1           0   \n",
              " 2   28  33.000         3           0         1          1           0   \n",
              " 3   33  22.705         0           0         1          1           0   \n",
              " 4   32  28.880         0           0         1          1           0   \n",
              " \n",
              "    region_northeast  region_northwest  region_southeast  region_southwest  \n",
              " 0                 0                 0                 0                 1  \n",
              " 1                 0                 0                 1                 0  \n",
              " 2                 0                 0                 1                 0  \n",
              " 3                 0                 1                 0                 0  \n",
              " 4                 0                 1                 0                 0  ,\n",
              " 0    16884.92400\n",
              " 1     1725.55230\n",
              " 2     4449.46200\n",
              " 3    21984.47061\n",
              " 4     3866.85520\n",
              " Name: charges, dtype: float64)"
            ]
          },
          "metadata": {},
          "execution_count": 100
        }
      ]
    },
    {
      "cell_type": "markdown",
      "source": [
        "\n",
        "#Create training and test sets"
      ],
      "metadata": {
        "id": "y9NkXWVnnEmn"
      }
    },
    {
      "cell_type": "code",
      "source": [
        "from sklearn.model_selection import train_test_split\n",
        "X_train, X_test, y_train, y_test = train_test_split(X, y, test_size=0.2, random_state=42)\n",
        "len(X), len(X_train), len(X_test)"
      ],
      "metadata": {
        "colab": {
          "base_uri": "https://localhost:8080/"
        },
        "id": "SqryIY-roPaG",
        "outputId": "090dd783-efc2-4b61-c47e-e6b79d7a4e5d"
      },
      "execution_count": null,
      "outputs": [
        {
          "output_type": "execute_result",
          "data": {
            "text/plain": [
              "(1338, 1070, 268)"
            ]
          },
          "metadata": {},
          "execution_count": 101
        }
      ]
    },
    {
      "cell_type": "code",
      "source": [
        "X_train"
      ],
      "metadata": {
        "id": "JdPp60rmoPSH"
      },
      "execution_count": null,
      "outputs": []
    },
    {
      "cell_type": "code",
      "source": [
        "#Build a neural network (sort of like model_2 above)\n",
        "tf.random.set_seed(42)\n",
        "\n",
        "insurance_model = tf.keras.Sequential([\n",
        "    tf.keras.layers.Dense(10),\n",
        "    tf.keras.layers.Dense(1)\n",
        "])\n",
        "\n",
        "insurance_model.compile(loss=tf.keras.losses.mae,\n",
        "                        optimizer=tf.keras.optimizers.SGD(),\n",
        "                        metrics=[\"mae\"])\n",
        "\n",
        "insurance_model.fit(X_train, y_train, epochs=100)"
      ],
      "metadata": {
        "id": "RzyCKdOUnGP2",
        "colab": {
          "base_uri": "https://localhost:8080/"
        },
        "outputId": "45bd49f7-7186-47b8-e4ff-b129331c422c"
      },
      "execution_count": null,
      "outputs": [
        {
          "output_type": "stream",
          "name": "stdout",
          "text": [
            "Epoch 1/100\n",
            "34/34 [==============================] - 0s 2ms/step - loss: 8637.0996 - mae: 8637.0996\n",
            "Epoch 2/100\n",
            "34/34 [==============================] - 0s 2ms/step - loss: 7886.7769 - mae: 7886.7769\n",
            "Epoch 3/100\n",
            "34/34 [==============================] - 0s 2ms/step - loss: 7558.1475 - mae: 7558.1475\n",
            "Epoch 4/100\n",
            "34/34 [==============================] - 0s 2ms/step - loss: 7792.0220 - mae: 7792.0220\n",
            "Epoch 5/100\n",
            "34/34 [==============================] - 0s 1ms/step - loss: 7748.3892 - mae: 7748.3892\n",
            "Epoch 6/100\n",
            "34/34 [==============================] - 0s 2ms/step - loss: 7595.3940 - mae: 7595.3940\n",
            "Epoch 7/100\n",
            "34/34 [==============================] - 0s 2ms/step - loss: 7589.9849 - mae: 7589.9849\n",
            "Epoch 8/100\n",
            "34/34 [==============================] - 0s 2ms/step - loss: 7698.5591 - mae: 7698.5591\n",
            "Epoch 9/100\n",
            "34/34 [==============================] - 0s 2ms/step - loss: 7496.7788 - mae: 7496.7788\n",
            "Epoch 10/100\n",
            "34/34 [==============================] - 0s 2ms/step - loss: 7493.1743 - mae: 7493.1743\n",
            "Epoch 11/100\n",
            "34/34 [==============================] - 0s 2ms/step - loss: 7769.7314 - mae: 7769.7314\n",
            "Epoch 12/100\n",
            "34/34 [==============================] - 0s 2ms/step - loss: 7706.9033 - mae: 7706.9033\n",
            "Epoch 13/100\n",
            "34/34 [==============================] - 0s 2ms/step - loss: 7687.7227 - mae: 7687.7227\n",
            "Epoch 14/100\n",
            "34/34 [==============================] - 0s 2ms/step - loss: 7689.8999 - mae: 7689.8999\n",
            "Epoch 15/100\n",
            "34/34 [==============================] - 0s 2ms/step - loss: 7393.5322 - mae: 7393.5322\n",
            "Epoch 16/100\n",
            "34/34 [==============================] - 0s 2ms/step - loss: 7780.6982 - mae: 7780.6982\n",
            "Epoch 17/100\n",
            "34/34 [==============================] - 0s 2ms/step - loss: 7578.5093 - mae: 7578.5093\n",
            "Epoch 18/100\n",
            "34/34 [==============================] - 0s 2ms/step - loss: 7750.8350 - mae: 7750.8350\n",
            "Epoch 19/100\n",
            "34/34 [==============================] - 0s 2ms/step - loss: 7739.2134 - mae: 7739.2134\n",
            "Epoch 20/100\n",
            "34/34 [==============================] - 0s 2ms/step - loss: 7875.0635 - mae: 7875.0635\n",
            "Epoch 21/100\n",
            "34/34 [==============================] - 0s 2ms/step - loss: 7466.6768 - mae: 7466.6768\n",
            "Epoch 22/100\n",
            "34/34 [==============================] - 0s 2ms/step - loss: 7941.2310 - mae: 7941.2310\n",
            "Epoch 23/100\n",
            "34/34 [==============================] - 0s 2ms/step - loss: 7640.2725 - mae: 7640.2725\n",
            "Epoch 24/100\n",
            "34/34 [==============================] - 0s 2ms/step - loss: 7539.2656 - mae: 7539.2656\n",
            "Epoch 25/100\n",
            "34/34 [==============================] - 0s 2ms/step - loss: 7619.9658 - mae: 7619.9658\n",
            "Epoch 26/100\n",
            "34/34 [==============================] - 0s 3ms/step - loss: 7644.1709 - mae: 7644.1709\n",
            "Epoch 27/100\n",
            "34/34 [==============================] - 0s 3ms/step - loss: 7709.0361 - mae: 7709.0361\n",
            "Epoch 28/100\n",
            "34/34 [==============================] - 0s 2ms/step - loss: 7366.8662 - mae: 7366.8662\n",
            "Epoch 29/100\n",
            "34/34 [==============================] - 0s 2ms/step - loss: 7444.3135 - mae: 7444.3135\n",
            "Epoch 30/100\n",
            "34/34 [==============================] - 0s 2ms/step - loss: 7616.4087 - mae: 7616.4087\n",
            "Epoch 31/100\n",
            "34/34 [==============================] - 0s 2ms/step - loss: 7686.3853 - mae: 7686.3853\n",
            "Epoch 32/100\n",
            "34/34 [==============================] - 0s 2ms/step - loss: 7548.0981 - mae: 7548.0981\n",
            "Epoch 33/100\n",
            "34/34 [==============================] - 0s 2ms/step - loss: 7501.5532 - mae: 7501.5532\n",
            "Epoch 34/100\n",
            "34/34 [==============================] - 0s 2ms/step - loss: 7363.4155 - mae: 7363.4155\n",
            "Epoch 35/100\n",
            "34/34 [==============================] - 0s 2ms/step - loss: 7295.4468 - mae: 7295.4468\n",
            "Epoch 36/100\n",
            "34/34 [==============================] - 0s 2ms/step - loss: 7569.8813 - mae: 7569.8813\n",
            "Epoch 37/100\n",
            "34/34 [==============================] - 0s 2ms/step - loss: 7548.2002 - mae: 7548.2002\n",
            "Epoch 38/100\n",
            "34/34 [==============================] - 0s 2ms/step - loss: 7424.3979 - mae: 7424.3979\n",
            "Epoch 39/100\n",
            "34/34 [==============================] - 0s 2ms/step - loss: 7529.7739 - mae: 7529.7739\n",
            "Epoch 40/100\n",
            "34/34 [==============================] - 0s 2ms/step - loss: 7467.3232 - mae: 7467.3232\n",
            "Epoch 41/100\n",
            "34/34 [==============================] - 0s 2ms/step - loss: 7635.9282 - mae: 7635.9282\n",
            "Epoch 42/100\n",
            "34/34 [==============================] - 0s 2ms/step - loss: 7536.8398 - mae: 7536.8398\n",
            "Epoch 43/100\n",
            "34/34 [==============================] - 0s 2ms/step - loss: 7616.5845 - mae: 7616.5845\n",
            "Epoch 44/100\n",
            "34/34 [==============================] - 0s 2ms/step - loss: 7439.4932 - mae: 7439.4932\n",
            "Epoch 45/100\n",
            "34/34 [==============================] - 0s 2ms/step - loss: 7538.0156 - mae: 7538.0156\n",
            "Epoch 46/100\n",
            "34/34 [==============================] - 0s 2ms/step - loss: 7415.1460 - mae: 7415.1460\n",
            "Epoch 47/100\n",
            "34/34 [==============================] - 0s 2ms/step - loss: 7420.6938 - mae: 7420.6938\n",
            "Epoch 48/100\n",
            "34/34 [==============================] - 0s 2ms/step - loss: 7509.9829 - mae: 7509.9829\n",
            "Epoch 49/100\n",
            "34/34 [==============================] - 0s 4ms/step - loss: 7541.1123 - mae: 7541.1123\n",
            "Epoch 50/100\n",
            "34/34 [==============================] - 0s 3ms/step - loss: 7467.8633 - mae: 7467.8633\n",
            "Epoch 51/100\n",
            "34/34 [==============================] - 0s 3ms/step - loss: 7389.3545 - mae: 7389.3545\n",
            "Epoch 52/100\n",
            "34/34 [==============================] - 0s 3ms/step - loss: 7499.7749 - mae: 7499.7749\n",
            "Epoch 53/100\n",
            "34/34 [==============================] - 0s 5ms/step - loss: 7523.9282 - mae: 7523.9282\n",
            "Epoch 54/100\n",
            "34/34 [==============================] - 0s 4ms/step - loss: 7243.3120 - mae: 7243.3120\n",
            "Epoch 55/100\n",
            "34/34 [==============================] - 0s 3ms/step - loss: 7429.5854 - mae: 7429.5854\n",
            "Epoch 56/100\n",
            "34/34 [==============================] - 0s 3ms/step - loss: 7313.4004 - mae: 7313.4004\n",
            "Epoch 57/100\n",
            "34/34 [==============================] - 0s 3ms/step - loss: 7526.3887 - mae: 7526.3887\n",
            "Epoch 58/100\n",
            "34/34 [==============================] - 0s 3ms/step - loss: 7542.2661 - mae: 7542.2661\n",
            "Epoch 59/100\n",
            "34/34 [==============================] - 0s 3ms/step - loss: 7576.9277 - mae: 7576.9277\n",
            "Epoch 60/100\n",
            "34/34 [==============================] - 0s 4ms/step - loss: 7546.4058 - mae: 7546.4058\n",
            "Epoch 61/100\n",
            "34/34 [==============================] - 0s 3ms/step - loss: 7351.2261 - mae: 7351.2261\n",
            "Epoch 62/100\n",
            "34/34 [==============================] - 0s 3ms/step - loss: 7302.1436 - mae: 7302.1436\n",
            "Epoch 63/100\n",
            "34/34 [==============================] - 0s 3ms/step - loss: 7393.0874 - mae: 7393.0874\n",
            "Epoch 64/100\n",
            "34/34 [==============================] - 0s 3ms/step - loss: 7442.2886 - mae: 7442.2886\n",
            "Epoch 65/100\n",
            "34/34 [==============================] - 0s 3ms/step - loss: 7492.6782 - mae: 7492.6782\n",
            "Epoch 66/100\n",
            "34/34 [==============================] - 0s 3ms/step - loss: 7561.9165 - mae: 7561.9165\n",
            "Epoch 67/100\n",
            "34/34 [==============================] - 0s 3ms/step - loss: 7340.5137 - mae: 7340.5137\n",
            "Epoch 68/100\n",
            "34/34 [==============================] - 0s 4ms/step - loss: 7496.0850 - mae: 7496.0850\n",
            "Epoch 69/100\n",
            "34/34 [==============================] - 0s 3ms/step - loss: 7617.0298 - mae: 7617.0298\n",
            "Epoch 70/100\n",
            "34/34 [==============================] - 0s 3ms/step - loss: 7641.1958 - mae: 7641.1958\n",
            "Epoch 71/100\n",
            "34/34 [==============================] - 0s 2ms/step - loss: 7084.2744 - mae: 7084.2744\n",
            "Epoch 72/100\n",
            "34/34 [==============================] - 0s 2ms/step - loss: 7240.4907 - mae: 7240.4907\n",
            "Epoch 73/100\n",
            "34/34 [==============================] - 0s 2ms/step - loss: 7283.4883 - mae: 7283.4883\n",
            "Epoch 74/100\n",
            "34/34 [==============================] - 0s 2ms/step - loss: 7335.5063 - mae: 7335.5063\n",
            "Epoch 75/100\n",
            "34/34 [==============================] - 0s 2ms/step - loss: 7275.6392 - mae: 7275.6392\n",
            "Epoch 76/100\n",
            "34/34 [==============================] - 0s 2ms/step - loss: 7313.1855 - mae: 7313.1855\n",
            "Epoch 77/100\n",
            "34/34 [==============================] - 0s 2ms/step - loss: 7485.7578 - mae: 7485.7578\n",
            "Epoch 78/100\n",
            "34/34 [==============================] - 0s 2ms/step - loss: 7352.2798 - mae: 7352.2798\n",
            "Epoch 79/100\n",
            "34/34 [==============================] - 0s 2ms/step - loss: 7520.5703 - mae: 7520.5703\n",
            "Epoch 80/100\n",
            "34/34 [==============================] - 0s 2ms/step - loss: 7279.3784 - mae: 7279.3784\n",
            "Epoch 81/100\n",
            "34/34 [==============================] - 0s 2ms/step - loss: 7273.8477 - mae: 7273.8477\n",
            "Epoch 82/100\n",
            "34/34 [==============================] - 0s 2ms/step - loss: 7176.5205 - mae: 7176.5205\n",
            "Epoch 83/100\n",
            "34/34 [==============================] - 0s 2ms/step - loss: 7425.6289 - mae: 7425.6289\n",
            "Epoch 84/100\n",
            "34/34 [==============================] - 0s 2ms/step - loss: 7403.1289 - mae: 7403.1289\n",
            "Epoch 85/100\n",
            "34/34 [==============================] - 0s 2ms/step - loss: 7356.0093 - mae: 7356.0093\n",
            "Epoch 86/100\n",
            "34/34 [==============================] - 0s 2ms/step - loss: 7484.7271 - mae: 7484.7271\n",
            "Epoch 87/100\n",
            "34/34 [==============================] - 0s 2ms/step - loss: 7217.6079 - mae: 7217.6079\n",
            "Epoch 88/100\n",
            "34/34 [==============================] - 0s 2ms/step - loss: 7261.0000 - mae: 7261.0000\n",
            "Epoch 89/100\n",
            "34/34 [==============================] - 0s 2ms/step - loss: 7134.1553 - mae: 7134.1553\n",
            "Epoch 90/100\n",
            "34/34 [==============================] - 0s 2ms/step - loss: 7083.4351 - mae: 7083.4351\n",
            "Epoch 91/100\n",
            "34/34 [==============================] - 0s 2ms/step - loss: 7254.1782 - mae: 7254.1782\n",
            "Epoch 92/100\n",
            "34/34 [==============================] - 0s 2ms/step - loss: 7268.7456 - mae: 7268.7456\n",
            "Epoch 93/100\n",
            "34/34 [==============================] - 0s 2ms/step - loss: 7470.5225 - mae: 7470.5225\n",
            "Epoch 94/100\n",
            "34/34 [==============================] - 0s 2ms/step - loss: 7210.9541 - mae: 7210.9541\n",
            "Epoch 95/100\n",
            "34/34 [==============================] - 0s 2ms/step - loss: 7395.6807 - mae: 7395.6807\n",
            "Epoch 96/100\n",
            "34/34 [==============================] - 0s 2ms/step - loss: 7328.0884 - mae: 7328.0884\n",
            "Epoch 97/100\n",
            "34/34 [==============================] - 0s 2ms/step - loss: 7230.4375 - mae: 7230.4375\n",
            "Epoch 98/100\n",
            "34/34 [==============================] - 0s 2ms/step - loss: 7261.3936 - mae: 7261.3936\n",
            "Epoch 99/100\n",
            "34/34 [==============================] - 0s 2ms/step - loss: 7342.5684 - mae: 7342.5684\n",
            "Epoch 100/100\n",
            "34/34 [==============================] - 0s 2ms/step - loss: 7106.1709 - mae: 7106.1709\n"
          ]
        },
        {
          "output_type": "execute_result",
          "data": {
            "text/plain": [
              "<keras.callbacks.History at 0x7f3f43f50fd0>"
            ]
          },
          "metadata": {},
          "execution_count": 105
        }
      ]
    },
    {
      "cell_type": "markdown",
      "source": [
        "❗Pandas is built in NumPy, the Pandas Df is nothing more than an NP array"
      ],
      "metadata": {
        "id": "vnGMCMzdlwkJ"
      }
    },
    {
      "cell_type": "code",
      "source": [
        "#Check the results of the insurance model on the test data\n",
        "\n",
        "insurance_model.evaluate(X_test, y_test)"
      ],
      "metadata": {
        "colab": {
          "base_uri": "https://localhost:8080/"
        },
        "id": "8ESWtNLTqlXU",
        "outputId": "b5ffa3e6-1fa2-4541-98ad-72a80379c070"
      },
      "execution_count": null,
      "outputs": [
        {
          "output_type": "stream",
          "name": "stdout",
          "text": [
            "9/9 [==============================] - 0s 2ms/step - loss: 7023.3286 - mae: 7023.3286\n"
          ]
        },
        {
          "output_type": "execute_result",
          "data": {
            "text/plain": [
              "[7023.32861328125, 7023.32861328125]"
            ]
          },
          "metadata": {},
          "execution_count": 106
        }
      ]
    },
    {
      "cell_type": "code",
      "source": [
        "y_train"
      ],
      "metadata": {
        "colab": {
          "base_uri": "https://localhost:8080/"
        },
        "id": "B4pMLncYq5vd",
        "outputId": "67d3c8c4-2baa-49b8-e4cd-dcbe13fd8a26"
      },
      "execution_count": null,
      "outputs": [
        {
          "output_type": "execute_result",
          "data": {
            "text/plain": [
              "560      9193.83850\n",
              "1285     8534.67180\n",
              "1142    27117.99378\n",
              "969      8596.82780\n",
              "486     12475.35130\n",
              "           ...     \n",
              "1095     4561.18850\n",
              "1130     8582.30230\n",
              "1294    11931.12525\n",
              "860     46113.51100\n",
              "1126    10214.63600\n",
              "Name: charges, Length: 1070, dtype: float64"
            ]
          },
          "metadata": {},
          "execution_count": 107
        }
      ]
    },
    {
      "cell_type": "code",
      "source": [
        "y_train.median(), y_train.mean()"
      ],
      "metadata": {
        "colab": {
          "base_uri": "https://localhost:8080/"
        },
        "id": "MexhRNTXrGXe",
        "outputId": "aeb1f019-4735-4430-d9b2-68344707db0a"
      },
      "execution_count": null,
      "outputs": [
        {
          "output_type": "execute_result",
          "data": {
            "text/plain": [
              "(9575.4421, 13346.089736364485)"
            ]
          },
          "metadata": {},
          "execution_count": 109
        }
      ]
    },
    {
      "cell_type": "markdown",
      "source": [
        "**Improve the model**"
      ],
      "metadata": {
        "id": "ojsOXYPsrXF2"
      }
    },
    {
      "cell_type": "code",
      "source": [
        "#1st Experiment ( ad an extra layer with more hidden units)\n",
        "tf.random.set_seed(42)\n",
        "\n",
        "insurance_model_2 = tf.keras.Sequential([\n",
        "    tf.keras.layers.Dense(100),\n",
        "    tf.keras.layers.Dense(10),\n",
        "    tf.keras.layers.Dense(1)\n",
        "])\n",
        "\n",
        "insurance_model_2.compile(loss=tf.keras.losses.mae,\n",
        "                           optimizer=tf.keras.optimizers.Adam(),\n",
        "                           metrics=\"mae\")\n",
        "\n",
        "insurance_model_2.fit(X_train, y_train, epochs=100, verbose=1)"
      ],
      "metadata": {
        "colab": {
          "base_uri": "https://localhost:8080/"
        },
        "id": "sr_XTjKzrd0H",
        "outputId": "620f5357-5018-4d63-f9be-699fd98e523b"
      },
      "execution_count": null,
      "outputs": [
        {
          "output_type": "stream",
          "name": "stdout",
          "text": [
            "Epoch 1/100\n",
            "34/34 [==============================] - 1s 3ms/step - loss: 13273.1602 - mae: 13273.1602\n",
            "Epoch 2/100\n",
            "34/34 [==============================] - 0s 3ms/step - loss: 13104.4297 - mae: 13104.4297\n",
            "Epoch 3/100\n",
            "34/34 [==============================] - 0s 3ms/step - loss: 12749.5420 - mae: 12749.5420\n",
            "Epoch 4/100\n",
            "34/34 [==============================] - 0s 3ms/step - loss: 12055.7510 - mae: 12055.7510\n",
            "Epoch 5/100\n",
            "34/34 [==============================] - 0s 3ms/step - loss: 10905.8154 - mae: 10905.8154\n",
            "Epoch 6/100\n",
            "34/34 [==============================] - 0s 2ms/step - loss: 9457.7217 - mae: 9457.7217\n",
            "Epoch 7/100\n",
            "34/34 [==============================] - 0s 2ms/step - loss: 8147.6543 - mae: 8147.6543\n",
            "Epoch 8/100\n",
            "34/34 [==============================] - 0s 2ms/step - loss: 7528.8408 - mae: 7528.8408\n",
            "Epoch 9/100\n",
            "34/34 [==============================] - 0s 2ms/step - loss: 7429.1528 - mae: 7429.1528\n",
            "Epoch 10/100\n",
            "34/34 [==============================] - 0s 2ms/step - loss: 7409.0811 - mae: 7409.0811\n",
            "Epoch 11/100\n",
            "34/34 [==============================] - 0s 2ms/step - loss: 7390.8042 - mae: 7390.8042\n",
            "Epoch 12/100\n",
            "34/34 [==============================] - 0s 2ms/step - loss: 7368.9180 - mae: 7368.9180\n",
            "Epoch 13/100\n",
            "34/34 [==============================] - 0s 2ms/step - loss: 7348.5190 - mae: 7348.5190\n",
            "Epoch 14/100\n",
            "34/34 [==============================] - 0s 2ms/step - loss: 7326.4893 - mae: 7326.4893\n",
            "Epoch 15/100\n",
            "34/34 [==============================] - 0s 2ms/step - loss: 7307.5815 - mae: 7307.5815\n",
            "Epoch 16/100\n",
            "34/34 [==============================] - 0s 2ms/step - loss: 7285.7734 - mae: 7285.7734\n",
            "Epoch 17/100\n",
            "34/34 [==============================] - 0s 2ms/step - loss: 7265.7104 - mae: 7265.7104\n",
            "Epoch 18/100\n",
            "34/34 [==============================] - 0s 3ms/step - loss: 7242.5488 - mae: 7242.5488\n",
            "Epoch 19/100\n",
            "34/34 [==============================] - 0s 2ms/step - loss: 7220.5068 - mae: 7220.5068\n",
            "Epoch 20/100\n",
            "34/34 [==============================] - 0s 3ms/step - loss: 7197.1978 - mae: 7197.1978\n",
            "Epoch 21/100\n",
            "34/34 [==============================] - 0s 2ms/step - loss: 7179.0195 - mae: 7179.0195\n",
            "Epoch 22/100\n",
            "34/34 [==============================] - 0s 3ms/step - loss: 7151.2104 - mae: 7151.2104\n",
            "Epoch 23/100\n",
            "34/34 [==============================] - 0s 2ms/step - loss: 7126.4639 - mae: 7126.4639\n",
            "Epoch 24/100\n",
            "34/34 [==============================] - 0s 2ms/step - loss: 7101.9199 - mae: 7101.9199\n",
            "Epoch 25/100\n",
            "34/34 [==============================] - 0s 3ms/step - loss: 7084.3379 - mae: 7084.3379\n",
            "Epoch 26/100\n",
            "34/34 [==============================] - 0s 2ms/step - loss: 7052.3296 - mae: 7052.3296\n",
            "Epoch 27/100\n",
            "34/34 [==============================] - 0s 2ms/step - loss: 7024.3506 - mae: 7024.3506\n",
            "Epoch 28/100\n",
            "34/34 [==============================] - 0s 2ms/step - loss: 6996.6963 - mae: 6996.6963\n",
            "Epoch 29/100\n",
            "34/34 [==============================] - 0s 3ms/step - loss: 6969.0112 - mae: 6969.0112\n",
            "Epoch 30/100\n",
            "34/34 [==============================] - 0s 2ms/step - loss: 6942.1899 - mae: 6942.1899\n",
            "Epoch 31/100\n",
            "34/34 [==============================] - 0s 2ms/step - loss: 6911.7275 - mae: 6911.7275\n",
            "Epoch 32/100\n",
            "34/34 [==============================] - 0s 2ms/step - loss: 6884.0205 - mae: 6884.0205\n",
            "Epoch 33/100\n",
            "34/34 [==============================] - 0s 2ms/step - loss: 6853.4648 - mae: 6853.4648\n",
            "Epoch 34/100\n",
            "34/34 [==============================] - 0s 3ms/step - loss: 6823.0674 - mae: 6823.0674\n",
            "Epoch 35/100\n",
            "34/34 [==============================] - 0s 2ms/step - loss: 6789.6855 - mae: 6789.6855\n",
            "Epoch 36/100\n",
            "34/34 [==============================] - 0s 2ms/step - loss: 6755.7646 - mae: 6755.7646\n",
            "Epoch 37/100\n",
            "34/34 [==============================] - 0s 3ms/step - loss: 6720.2026 - mae: 6720.2026\n",
            "Epoch 38/100\n",
            "34/34 [==============================] - 0s 2ms/step - loss: 6689.7158 - mae: 6689.7158\n",
            "Epoch 39/100\n",
            "34/34 [==============================] - 0s 2ms/step - loss: 6652.4614 - mae: 6652.4614\n",
            "Epoch 40/100\n",
            "34/34 [==============================] - 0s 2ms/step - loss: 6618.1016 - mae: 6618.1016\n",
            "Epoch 41/100\n",
            "34/34 [==============================] - 0s 3ms/step - loss: 6585.8643 - mae: 6585.8643\n",
            "Epoch 42/100\n",
            "34/34 [==============================] - 0s 3ms/step - loss: 6559.4956 - mae: 6559.4956\n",
            "Epoch 43/100\n",
            "34/34 [==============================] - 0s 3ms/step - loss: 6530.0439 - mae: 6530.0439\n",
            "Epoch 44/100\n",
            "34/34 [==============================] - 0s 3ms/step - loss: 6506.8071 - mae: 6506.8071\n",
            "Epoch 45/100\n",
            "34/34 [==============================] - 0s 2ms/step - loss: 6493.5718 - mae: 6493.5718\n",
            "Epoch 46/100\n",
            "34/34 [==============================] - 0s 2ms/step - loss: 6475.9258 - mae: 6475.9258\n",
            "Epoch 47/100\n",
            "34/34 [==============================] - 0s 2ms/step - loss: 6458.8984 - mae: 6458.8984\n",
            "Epoch 48/100\n",
            "34/34 [==============================] - 0s 2ms/step - loss: 6445.1494 - mae: 6445.1494\n",
            "Epoch 49/100\n",
            "34/34 [==============================] - 0s 3ms/step - loss: 6430.9639 - mae: 6430.9639\n",
            "Epoch 50/100\n",
            "34/34 [==============================] - 0s 2ms/step - loss: 6417.7510 - mae: 6417.7510\n",
            "Epoch 51/100\n",
            "34/34 [==============================] - 0s 3ms/step - loss: 6403.2754 - mae: 6403.2754\n",
            "Epoch 52/100\n",
            "34/34 [==============================] - 0s 3ms/step - loss: 6392.4141 - mae: 6392.4141\n",
            "Epoch 53/100\n",
            "34/34 [==============================] - 0s 2ms/step - loss: 6378.7451 - mae: 6378.7451\n",
            "Epoch 54/100\n",
            "34/34 [==============================] - 0s 2ms/step - loss: 6364.9126 - mae: 6364.9126\n",
            "Epoch 55/100\n",
            "34/34 [==============================] - 0s 3ms/step - loss: 6351.5269 - mae: 6351.5269\n",
            "Epoch 56/100\n",
            "34/34 [==============================] - 0s 2ms/step - loss: 6337.6606 - mae: 6337.6606\n",
            "Epoch 57/100\n",
            "34/34 [==============================] - 0s 3ms/step - loss: 6324.8369 - mae: 6324.8369\n",
            "Epoch 58/100\n",
            "34/34 [==============================] - 0s 3ms/step - loss: 6310.1948 - mae: 6310.1948\n",
            "Epoch 59/100\n",
            "34/34 [==============================] - 0s 2ms/step - loss: 6295.6035 - mae: 6295.6035\n",
            "Epoch 60/100\n",
            "34/34 [==============================] - 0s 2ms/step - loss: 6284.8696 - mae: 6284.8696\n",
            "Epoch 61/100\n",
            "34/34 [==============================] - 0s 2ms/step - loss: 6265.6411 - mae: 6265.6411\n",
            "Epoch 62/100\n",
            "34/34 [==============================] - 0s 2ms/step - loss: 6253.0107 - mae: 6253.0107\n",
            "Epoch 63/100\n",
            "34/34 [==============================] - 0s 2ms/step - loss: 6234.9292 - mae: 6234.9292\n",
            "Epoch 64/100\n",
            "34/34 [==============================] - 0s 2ms/step - loss: 6218.0430 - mae: 6218.0430\n",
            "Epoch 65/100\n",
            "34/34 [==============================] - 0s 2ms/step - loss: 6201.1899 - mae: 6201.1899\n",
            "Epoch 66/100\n",
            "34/34 [==============================] - 0s 3ms/step - loss: 6183.9590 - mae: 6183.9590\n",
            "Epoch 67/100\n",
            "34/34 [==============================] - 0s 3ms/step - loss: 6171.2993 - mae: 6171.2993\n",
            "Epoch 68/100\n",
            "34/34 [==============================] - 0s 5ms/step - loss: 6148.8398 - mae: 6148.8398\n",
            "Epoch 69/100\n",
            "34/34 [==============================] - 0s 4ms/step - loss: 6132.5981 - mae: 6132.5981\n",
            "Epoch 70/100\n",
            "34/34 [==============================] - 0s 4ms/step - loss: 6112.3848 - mae: 6112.3848\n",
            "Epoch 71/100\n",
            "34/34 [==============================] - 0s 4ms/step - loss: 6092.7202 - mae: 6092.7202\n",
            "Epoch 72/100\n",
            "34/34 [==============================] - 0s 4ms/step - loss: 6073.7422 - mae: 6073.7422\n",
            "Epoch 73/100\n",
            "34/34 [==============================] - 0s 4ms/step - loss: 6059.4883 - mae: 6059.4883\n",
            "Epoch 74/100\n",
            "34/34 [==============================] - 0s 4ms/step - loss: 6031.3843 - mae: 6031.3843\n",
            "Epoch 75/100\n",
            "34/34 [==============================] - 0s 4ms/step - loss: 6010.3350 - mae: 6010.3350\n",
            "Epoch 76/100\n",
            "34/34 [==============================] - 0s 4ms/step - loss: 5995.2168 - mae: 5995.2168\n",
            "Epoch 77/100\n",
            "34/34 [==============================] - 0s 5ms/step - loss: 5963.0723 - mae: 5963.0723\n",
            "Epoch 78/100\n",
            "34/34 [==============================] - 0s 4ms/step - loss: 5940.0610 - mae: 5940.0610\n",
            "Epoch 79/100\n",
            "34/34 [==============================] - 0s 4ms/step - loss: 5915.1064 - mae: 5915.1064\n",
            "Epoch 80/100\n",
            "34/34 [==============================] - 0s 4ms/step - loss: 5887.9990 - mae: 5887.9990\n",
            "Epoch 81/100\n",
            "34/34 [==============================] - 0s 5ms/step - loss: 5861.6992 - mae: 5861.6992\n",
            "Epoch 82/100\n",
            "34/34 [==============================] - 0s 5ms/step - loss: 5834.3071 - mae: 5834.3071\n",
            "Epoch 83/100\n",
            "34/34 [==============================] - 0s 5ms/step - loss: 5805.8242 - mae: 5805.8242\n",
            "Epoch 84/100\n",
            "34/34 [==============================] - 0s 5ms/step - loss: 5772.3232 - mae: 5772.3232\n",
            "Epoch 85/100\n",
            "34/34 [==============================] - 0s 5ms/step - loss: 5745.1514 - mae: 5745.1514\n",
            "Epoch 86/100\n",
            "34/34 [==============================] - 0s 5ms/step - loss: 5711.3477 - mae: 5711.3477\n",
            "Epoch 87/100\n",
            "34/34 [==============================] - 0s 3ms/step - loss: 5674.5215 - mae: 5674.5215\n",
            "Epoch 88/100\n",
            "34/34 [==============================] - 0s 2ms/step - loss: 5639.4927 - mae: 5639.4927\n",
            "Epoch 89/100\n",
            "34/34 [==============================] - 0s 3ms/step - loss: 5600.6655 - mae: 5600.6655\n",
            "Epoch 90/100\n",
            "34/34 [==============================] - 0s 2ms/step - loss: 5559.4326 - mae: 5559.4326\n",
            "Epoch 91/100\n",
            "34/34 [==============================] - 0s 3ms/step - loss: 5523.6187 - mae: 5523.6187\n",
            "Epoch 92/100\n",
            "34/34 [==============================] - 0s 2ms/step - loss: 5474.1250 - mae: 5474.1250\n",
            "Epoch 93/100\n",
            "34/34 [==============================] - 0s 2ms/step - loss: 5432.2656 - mae: 5432.2656\n",
            "Epoch 94/100\n",
            "34/34 [==============================] - 0s 3ms/step - loss: 5386.0527 - mae: 5386.0527\n",
            "Epoch 95/100\n",
            "34/34 [==============================] - 0s 2ms/step - loss: 5333.1812 - mae: 5333.1812\n",
            "Epoch 96/100\n",
            "34/34 [==============================] - 0s 2ms/step - loss: 5288.8159 - mae: 5288.8159\n",
            "Epoch 97/100\n",
            "34/34 [==============================] - 0s 3ms/step - loss: 5234.6787 - mae: 5234.6787\n",
            "Epoch 98/100\n",
            "34/34 [==============================] - 0s 2ms/step - loss: 5170.9360 - mae: 5170.9360\n",
            "Epoch 99/100\n",
            "34/34 [==============================] - 0s 2ms/step - loss: 5112.9443 - mae: 5112.9443\n",
            "Epoch 100/100\n",
            "34/34 [==============================] - 0s 2ms/step - loss: 5059.8447 - mae: 5059.8447\n"
          ]
        },
        {
          "output_type": "execute_result",
          "data": {
            "text/plain": [
              "<keras.callbacks.History at 0x7f3f50903be0>"
            ]
          },
          "metadata": {},
          "execution_count": 121
        }
      ]
    },
    {
      "cell_type": "code",
      "source": [
        "insurance_model_2.evaluate(X_test, y_test)"
      ],
      "metadata": {
        "colab": {
          "base_uri": "https://localhost:8080/"
        },
        "id": "kZ90iMBdtu4X",
        "outputId": "da62c12b-477a-4a91-fba3-a41f252bcb88"
      },
      "execution_count": null,
      "outputs": [
        {
          "output_type": "stream",
          "name": "stdout",
          "text": [
            "9/9 [==============================] - 0s 3ms/step - loss: 4924.4956 - mae: 4924.4956\n"
          ]
        },
        {
          "output_type": "execute_result",
          "data": {
            "text/plain": [
              "[4924.49560546875, 4924.49560546875]"
            ]
          },
          "metadata": {},
          "execution_count": 122
        }
      ]
    },
    {
      "cell_type": "code",
      "source": [
        "tf.__version__"
      ],
      "metadata": {
        "colab": {
          "base_uri": "https://localhost:8080/",
          "height": 36
        },
        "id": "0aC5e3pUxJEN",
        "outputId": "42052786-0eea-43a1-8190-eee737abf1d0"
      },
      "execution_count": null,
      "outputs": [
        {
          "output_type": "execute_result",
          "data": {
            "text/plain": [
              "'2.9.2'"
            ],
            "application/vnd.google.colaboratory.intrinsic+json": {
              "type": "string"
            }
          },
          "metadata": {},
          "execution_count": 123
        }
      ]
    },
    {
      "cell_type": "code",
      "source": [
        "tf.random.set_seed(42)\n",
        "\n",
        "insurance_model_3 = tf.keras.Sequential([\n",
        "    tf.keras.layers.Dense(100),\n",
        "    tf.keras.layers.Dense(10),\n",
        "    tf.keras.layers.Dense(1)\n",
        "])\n",
        "\n",
        "insurance_model_3.compile(loss=tf.keras.losses.mae,\n",
        "                          optimizer=tf.keras.optimizers.Adam(),\n",
        "                          metrics=[\"mae\"])\n",
        "history = insurance_model_3.fit(X_train, y_train, epochs=200, verbose=0)"
      ],
      "metadata": {
        "id": "bUKZeJ-yxNNt"
      },
      "execution_count": null,
      "outputs": []
    },
    {
      "cell_type": "code",
      "source": [
        "insurance_model_3.evaluate(X_test, y_test)"
      ],
      "metadata": {
        "colab": {
          "base_uri": "https://localhost:8080/"
        },
        "id": "1W0HSqyRyFEu",
        "outputId": "4aeae830-55d8-4711-8d65-5021e234330f"
      },
      "execution_count": null,
      "outputs": [
        {
          "output_type": "stream",
          "name": "stdout",
          "text": [
            "9/9 [==============================] - 0s 3ms/step - loss: 3488.7854 - mae: 3488.7856\n"
          ]
        },
        {
          "output_type": "execute_result",
          "data": {
            "text/plain": [
              "[3488.785400390625, 3488.78564453125]"
            ]
          },
          "metadata": {},
          "execution_count": 132
        }
      ]
    },
    {
      "cell_type": "code",
      "source": [
        "# Plot history (also known as a loss curve or a training curve)\n",
        "pd.DataFrame(history.history).plot()\n",
        "plt.ylabel(\"loss\")\n",
        "plt.xlabel(\"epochs\")"
      ],
      "metadata": {
        "colab": {
          "base_uri": "https://localhost:8080/",
          "height": 297
        },
        "id": "fnCxXTimyYic",
        "outputId": "8edf312b-5070-41b5-cfff-6df9e87ed51f"
      },
      "execution_count": null,
      "outputs": [
        {
          "output_type": "execute_result",
          "data": {
            "text/plain": [
              "Text(0.5, 0, 'epochs')"
            ]
          },
          "metadata": {},
          "execution_count": 133
        },
        {
          "output_type": "display_data",
          "data": {
            "text/plain": [
              "<Figure size 432x288 with 1 Axes>"
            ],
            "image/png": "[encoded data removed]"
          },
          "metadata": {
            "needs_background": "light"
          }
        }
      ]
    },
    {
      "cell_type": "markdown",
      "source": [
        "❓How long should you trian for?\n",
        "\n",
        "It depends on the problem you're working on. However, many people have asked this question before, so TensorFlow has a solution! It's called the [EarlyStoppingCallback], which is a TensorFLow component you cana dd to your model to stop training once it stops improving in a certain metric."
      ],
      "metadata": {
        "id": "VLQnHLbyzcSs"
      }
    },
    {
      "cell_type": "markdown",
      "source": [
        "#Preprocessing data (normalization and standardization)\n",
        "\n",
        "if not sure on which to use, you could try both and see which performs better"
      ],
      "metadata": {
        "id": "aFt5bhkc0U-s"
      }
    },
    {
      "cell_type": "code",
      "source": [
        "X[\"age\"].plot(kind=\"hist\")"
      ],
      "metadata": {
        "colab": {
          "base_uri": "https://localhost:8080/",
          "height": 283
        },
        "id": "kX-ndcy4z0mN",
        "outputId": "1e0fb83a-7e72-46f0-8c3a-5663961fb79f"
      },
      "execution_count": null,
      "outputs": [
        {
          "output_type": "execute_result",
          "data": {
            "text/plain": [
              "<matplotlib.axes._subplots.AxesSubplot at 0x7f3f50636eb0>"
            ]
          },
          "metadata": {},
          "execution_count": 134
        },
        {
          "output_type": "display_data",
          "data": {
            "text/plain": [
              "<Figure size 432x288 with 1 Axes>"
            ],
            "image/png": "[encoded data removed]"
          },
          "metadata": {
            "needs_background": "light"
          }
        }
      ]
    },
    {
      "cell_type": "code",
      "source": [
        "X[\"bmi\"].plot(kind=\"hist\")"
      ],
      "metadata": {
        "colab": {
          "base_uri": "https://localhost:8080/",
          "height": 283
        },
        "id": "fTu_bdft1b-0",
        "outputId": "ccb5f99b-4a98-46bc-ed52-1b3c279fe92f"
      },
      "execution_count": null,
      "outputs": [
        {
          "output_type": "execute_result",
          "data": {
            "text/plain": [
              "<matplotlib.axes._subplots.AxesSubplot at 0x7f3f43214c40>"
            ]
          },
          "metadata": {},
          "execution_count": 135
        },
        {
          "output_type": "display_data",
          "data": {
            "text/plain": [
              "<Figure size 432x288 with 1 Axes>"
            ],
            "image/png": "[encoded data removed]"
          },
          "metadata": {
            "needs_background": "light"
          }
        }
      ]
    },
    {
      "cell_type": "code",
      "source": [
        " insurance"
      ],
      "metadata": {
        "colab": {
          "base_uri": "https://localhost:8080/",
          "height": 423
        },
        "id": "qut4CsTV1jzc",
        "outputId": "e48e1f44-ffd2-4902-b506-d64b71c8aa68"
      },
      "execution_count": null,
      "outputs": [
        {
          "output_type": "execute_result",
          "data": {
            "text/plain": [
              "      age     sex     bmi  children smoker     region      charges\n",
              "0      19  female  27.900         0    yes  southwest  16884.92400\n",
              "1      18    male  33.770         1     no  southeast   1725.55230\n",
              "2      28    male  33.000         3     no  southeast   4449.46200\n",
              "3      33    male  22.705         0     no  northwest  21984.47061\n",
              "4      32    male  28.880         0     no  northwest   3866.85520\n",
              "...   ...     ...     ...       ...    ...        ...          ...\n",
              "1333   50    male  30.970         3     no  northwest  10600.54830\n",
              "1334   18  female  31.920         0     no  northeast   2205.98080\n",
              "1335   18  female  36.850         0     no  southeast   1629.83350\n",
              "1336   21  female  25.800         0     no  southwest   2007.94500\n",
              "1337   61  female  29.070         0    yes  northwest  29141.36030\n",
              "\n",
              "[1338 rows x 7 columns]"
            ],
            "text/html": [
              "\n",
              "  <div id=\"df-d0a80144-000b-4a74-aa2d-d0130596dbe6\">\n",
              "    <div class=\"colab-df-container\">\n",
              "      <div>\n",
              "<style scoped>\n",
              "    .dataframe tbody tr th:only-of-type {\n",
              "        vertical-align: middle;\n",
              "    }\n",
              "\n",
              "    .dataframe tbody tr th {\n",
              "        vertical-align: top;\n",
              "    }\n",
              "\n",
              "    .dataframe thead th {\n",
              "        text-align: right;\n",
              "    }\n",
              "</style>\n",
              "<table border=\"1\" class=\"dataframe\">\n",
              "  <thead>\n",
              "    <tr style=\"text-align: right;\">\n",
              "      <th></th>\n",
              "      <th>age</th>\n",
              "      <th>sex</th>\n",
              "      <th>bmi</th>\n",
              "      <th>children</th>\n",
              "      <th>smoker</th>\n",
              "      <th>region</th>\n",
              "      <th>charges</th>\n",
              "    </tr>\n",
              "  </thead>\n",
              "  <tbody>\n",
              "    <tr>\n",
              "      <th>0</th>\n",
              "      <td>19</td>\n",
              "      <td>female</td>\n",
              "      <td>27.900</td>\n",
              "      <td>0</td>\n",
              "      <td>yes</td>\n",
              "      <td>southwest</td>\n",
              "      <td>16884.92400</td>\n",
              "    </tr>\n",
              "    <tr>\n",
              "      <th>1</th>\n",
              "      <td>18</td>\n",
              "      <td>male</td>\n",
              "      <td>33.770</td>\n",
              "      <td>1</td>\n",
              "      <td>no</td>\n",
              "      <td>southeast</td>\n",
              "      <td>1725.55230</td>\n",
              "    </tr>\n",
              "    <tr>\n",
              "      <th>2</th>\n",
              "      <td>28</td>\n",
              "      <td>male</td>\n",
              "      <td>33.000</td>\n",
              "      <td>3</td>\n",
              "      <td>no</td>\n",
              "      <td>southeast</td>\n",
              "      <td>4449.46200</td>\n",
              "    </tr>\n",
              "    <tr>\n",
              "      <th>3</th>\n",
              "      <td>33</td>\n",
              "      <td>male</td>\n",
              "      <td>22.705</td>\n",
              "      <td>0</td>\n",
              "      <td>no</td>\n",
              "      <td>northwest</td>\n",
              "      <td>21984.47061</td>\n",
              "    </tr>\n",
              "    <tr>\n",
              "      <th>4</th>\n",
              "      <td>32</td>\n",
              "      <td>male</td>\n",
              "      <td>28.880</td>\n",
              "      <td>0</td>\n",
              "      <td>no</td>\n",
              "      <td>northwest</td>\n",
              "      <td>3866.85520</td>\n",
              "    </tr>\n",
              "    <tr>\n",
              "      <th>...</th>\n",
              "      <td>...</td>\n",
              "      <td>...</td>\n",
              "      <td>...</td>\n",
              "      <td>...</td>\n",
              "      <td>...</td>\n",
              "      <td>...</td>\n",
              "      <td>...</td>\n",
              "    </tr>\n",
              "    <tr>\n",
              "      <th>1333</th>\n",
              "      <td>50</td>\n",
              "      <td>male</td>\n",
              "      <td>30.970</td>\n",
              "      <td>3</td>\n",
              "      <td>no</td>\n",
              "      <td>northwest</td>\n",
              "      <td>10600.54830</td>\n",
              "    </tr>\n",
              "    <tr>\n",
              "      <th>1334</th>\n",
              "      <td>18</td>\n",
              "      <td>female</td>\n",
              "      <td>31.920</td>\n",
              "      <td>0</td>\n",
              "      <td>no</td>\n",
              "      <td>northeast</td>\n",
              "      <td>2205.98080</td>\n",
              "    </tr>\n",
              "    <tr>\n",
              "      <th>1335</th>\n",
              "      <td>18</td>\n",
              "      <td>female</td>\n",
              "      <td>36.850</td>\n",
              "      <td>0</td>\n",
              "      <td>no</td>\n",
              "      <td>southeast</td>\n",
              "      <td>1629.83350</td>\n",
              "    </tr>\n",
              "    <tr>\n",
              "      <th>1336</th>\n",
              "      <td>21</td>\n",
              "      <td>female</td>\n",
              "      <td>25.800</td>\n",
              "      <td>0</td>\n",
              "      <td>no</td>\n",
              "      <td>southwest</td>\n",
              "      <td>2007.94500</td>\n",
              "    </tr>\n",
              "    <tr>\n",
              "      <th>1337</th>\n",
              "      <td>61</td>\n",
              "      <td>female</td>\n",
              "      <td>29.070</td>\n",
              "      <td>0</td>\n",
              "      <td>yes</td>\n",
              "      <td>northwest</td>\n",
              "      <td>29141.36030</td>\n",
              "    </tr>\n",
              "  </tbody>\n",
              "</table>\n",
              "<p>1338 rows × 7 columns</p>\n",
              "</div>\n",
              "      <button class=\"colab-df-convert\" onclick=\"convertToInteractive('df-d0a80144-000b-4a74-aa2d-d0130596dbe6')\"\n",
              "              title=\"Convert this dataframe to an interactive table.\"\n",
              "              style=\"display:none;\">\n",
              "        \n",
              "  <svg xmlns=\"http://www.w3.org/2000/svg\" height=\"24px\"viewBox=\"0 0 24 24\"\n",
              "       width=\"24px\">\n",
              "    <path d=\"M0 0h24v24H0V0z\" fill=\"none\"/>\n",
              "    <path d=\"M18.56 5.44l.94 2.06.94-2.06 2.06-.94-2.06-.94-.94-2.06-.94 2.06-2.06.94zm-11 1L8.5 8.5l.94-2.06 2.06-.94-2.06-.94L8.5 2.5l-.94 2.06-2.06.94zm10 10l.94 2.06.94-2.06 2.06-.94-2.06-.94-.94-2.06-.94 2.06-2.06.94z\"/><path d=\"M17.41 7.96l-1.37-1.37c-.4-.4-.92-.59-1.43-.59-.52 0-1.04.2-1.43.59L10.3 9.45l-7.72 7.72c-.78.78-.78 2.05 0 2.83L4 21.41c.39.39.9.59 1.41.59.51 0 1.02-.2 1.41-.59l7.78-7.78 2.81-2.81c.8-.78.8-2.07 0-2.86zM5.41 20L4 18.59l7.72-7.72 1.47 1.35L5.41 20z\"/>\n",
              "  </svg>\n",
              "      </button>\n",
              "      \n",
              "  <style>\n",
              "    .colab-df-container {\n",
              "      display:flex;\n",
              "      flex-wrap:wrap;\n",
              "      gap: 12px;\n",
              "    }\n",
              "\n",
              "    .colab-df-convert {\n",
              "      background-color: #E8F0FE;\n",
              "      border: none;\n",
              "      border-radius: 50%;\n",
              "      cursor: pointer;\n",
              "      display: none;\n",
              "      fill: #1967D2;\n",
              "      height: 32px;\n",
              "      padding: 0 0 0 0;\n",
              "      width: 32px;\n",
              "    }\n",
              "\n",
              "    .colab-df-convert:hover {\n",
              "      background-color: #E2EBFA;\n",
              "      box-shadow: 0px 1px 2px rgba(60, 64, 67, 0.3), 0px 1px 3px 1px rgba(60, 64, 67, 0.15);\n",
              "      fill: #174EA6;\n",
              "    }\n",
              "\n",
              "    [theme=dark] .colab-df-convert {\n",
              "      background-color: #3B4455;\n",
              "      fill: #D2E3FC;\n",
              "    }\n",
              "\n",
              "    [theme=dark] .colab-df-convert:hover {\n",
              "      background-color: #434B5C;\n",
              "      box-shadow: 0px 1px 3px 1px rgba(0, 0, 0, 0.15);\n",
              "      filter: drop-shadow(0px 1px 2px rgba(0, 0, 0, 0.3));\n",
              "      fill: #FFFFFF;\n",
              "    }\n",
              "  </style>\n",
              "\n",
              "      <script>\n",
              "        const buttonEl =\n",
              "          document.querySelector('#df-d0a80144-000b-4a74-aa2d-d0130596dbe6 button.colab-df-convert');\n",
              "        buttonEl.style.display =\n",
              "          google.colab.kernel.accessAllowed ? 'block' : 'none';\n",
              "\n",
              "        async function convertToInteractive(key) {\n",
              "          const element = document.querySelector('#df-d0a80144-000b-4a74-aa2d-d0130596dbe6');\n",
              "          const dataTable =\n",
              "            await google.colab.kernel.invokeFunction('convertToInteractive',\n",
              "                                                     [key], {});\n",
              "          if (!dataTable) return;\n",
              "\n",
              "          const docLinkHtml = 'Like what you see? Visit the ' +\n",
              "            '<a target=\"_blank\" href=https://colab.research.google.com/notebooks/data_table.ipynb>data table notebook</a>'\n",
              "            + ' to learn more about interactive tables.';\n",
              "          element.innerHTML = '';\n",
              "          dataTable['output_type'] = 'display_data';\n",
              "          await google.colab.output.renderOutput(dataTable, element);\n",
              "          const docLink = document.createElement('div');\n",
              "          docLink.innerHTML = docLinkHtml;\n",
              "          element.appendChild(docLink);\n",
              "        }\n",
              "      </script>\n",
              "    </div>\n",
              "  </div>\n",
              "  "
            ]
          },
          "metadata": {},
          "execution_count": 136
        }
      ]
    },
    {
      "cell_type": "markdown",
      "source": [
        "To prepare our data, we can borrow a few classes from sklearn"
      ],
      "metadata": {
        "id": "1Dm_hAZT26Cl"
      }
    },
    {
      "cell_type": "code",
      "source": [
        "from sklearn.compose import make_column_transformer\n",
        "from sklearn.preprocessing import MinMaxScaler, OneHotEncoder\n",
        "\n",
        "#Create a column transformer\n",
        "ct = make_column_transformer(\n",
        "    (MinMaxScaler(), [\"age\", \"bmi\",\"children\"]), \n",
        "    (OneHotEncoder(handle_unknown=\"ignore\"), [\"sex\", \"smoker\", \"region\"])\n",
        ")\n",
        "\n",
        "#Create X and y\n",
        "X = insurance.drop(\"charges\", axis=1)\n",
        "y = insurance[\"charges\"]\n",
        "\n",
        "#Build our train and test sets\n",
        "X_train, X_test, y_train, y_test = train_test_split(X, y, test_size=0.2, random_state=42)\n",
        "\n",
        "#Fit the column transformer to our training data\n",
        "ct.fit(X_train)\n",
        "\n",
        "#Transform training and test data with normalization(MinMAxScaler) and OneHotEncoder\n",
        "X_train_normal = ct.transform(X_train)\n",
        "X_test_normal = ct.transform(X_test)\n"
      ],
      "metadata": {
        "id": "IMKhk3dn2_oc"
      },
      "execution_count": null,
      "outputs": []
    },
    {
      "cell_type": "code",
      "source": [
        "X_train.loc[0]"
      ],
      "metadata": {
        "colab": {
          "base_uri": "https://localhost:8080/"
        },
        "id": "HYPfevx85XYl",
        "outputId": "c4968c00-c965-4c43-9f14-878072f84322"
      },
      "execution_count": null,
      "outputs": [
        {
          "output_type": "execute_result",
          "data": {
            "text/plain": [
              "age                19\n",
              "sex            female\n",
              "bmi              27.9\n",
              "children            0\n",
              "smoker            yes\n",
              "region      southwest\n",
              "Name: 0, dtype: object"
            ]
          },
          "metadata": {},
          "execution_count": 140
        }
      ]
    },
    {
      "cell_type": "code",
      "source": [
        "X_train_normal[-1]"
      ],
      "metadata": {
        "colab": {
          "base_uri": "https://localhost:8080/"
        },
        "id": "UpPFo8sm5bJt",
        "outputId": "e61360b5-2eb6-46ce-eeb0-da9ed9006736"
      },
      "execution_count": null,
      "outputs": [
        {
          "output_type": "execute_result",
          "data": {
            "text/plain": [
              "array([0.80434783, 0.37503363, 0.        , 0.        , 1.        ,\n",
              "       1.        , 0.        , 0.        , 0.        , 0.        ,\n",
              "       1.        ])"
            ]
          },
          "metadata": {},
          "execution_count": 142
        }
      ]
    },
    {
      "cell_type": "code",
      "source": [
        "X_train.shape, X_train_normal.shape"
      ],
      "metadata": {
        "colab": {
          "base_uri": "https://localhost:8080/"
        },
        "id": "VYzSl5EQ50lc",
        "outputId": "c1d283a6-b1f3-4b69-d278-4fa73c779d98"
      },
      "execution_count": null,
      "outputs": [
        {
          "output_type": "execute_result",
          "data": {
            "text/plain": [
              "((1070, 6), (1070, 11))"
            ]
          },
          "metadata": {},
          "execution_count": 143
        }
      ]
    },
    {
      "cell_type": "code",
      "source": [
        "tf.random.set_seed(42)\n",
        "\n",
        "new_insurance_model = tf.keras.Sequential([\n",
        "    tf.keras.layers.Dense(100),\n",
        "    tf.keras.layers.Dense(10),\n",
        "    tf.keras.layers.Dense(1)\n",
        "])\n",
        "\n",
        "new_insurance_model.compile(loss=tf.keras.losses.mae,\n",
        "                            optimizer=tf.keras.optimizers.Adam(),\n",
        "                                                metrics=[\"mae\"])\n",
        "new_insurance_model.fit(X_train_normal, y_train, epochs=100)"
      ],
      "metadata": {
        "colab": {
          "base_uri": "https://localhost:8080/"
        },
        "id": "RE9LS3sO6AjM",
        "outputId": "a1496b0c-0915-429a-952b-57219b82be81"
      },
      "execution_count": null,
      "outputs": [
        {
          "output_type": "stream",
          "name": "stdout",
          "text": [
            "Epoch 1/100\n",
            "34/34 [==============================] - 1s 6ms/step - loss: 13342.6494 - mae: 13342.6494\n",
            "Epoch 2/100\n",
            "34/34 [==============================] - 0s 7ms/step - loss: 13333.4785 - mae: 13333.4785\n",
            "Epoch 3/100\n",
            "34/34 [==============================] - 0s 5ms/step - loss: 13312.0234 - mae: 13312.0234\n",
            "Epoch 4/100\n",
            "34/34 [==============================] - 0s 4ms/step - loss: 13267.7930 - mae: 13267.7930\n",
            "Epoch 5/100\n",
            "34/34 [==============================] - 0s 4ms/step - loss: 13189.5830 - mae: 13189.5830\n",
            "Epoch 6/100\n",
            "34/34 [==============================] - 0s 6ms/step - loss: 13066.4502 - mae: 13066.4502\n",
            "Epoch 7/100\n",
            "34/34 [==============================] - 0s 5ms/step - loss: 12888.1953 - mae: 12888.1953\n",
            "Epoch 8/100\n",
            "34/34 [==============================] - 0s 5ms/step - loss: 12644.6523 - mae: 12644.6523\n",
            "Epoch 9/100\n",
            "34/34 [==============================] - 0s 4ms/step - loss: 12325.5469 - mae: 12325.5469\n",
            "Epoch 10/100\n",
            "34/34 [==============================] - 0s 4ms/step - loss: 11925.9658 - mae: 11925.9658\n",
            "Epoch 11/100\n",
            "34/34 [==============================] - 0s 5ms/step - loss: 11454.3350 - mae: 11454.3350\n",
            "Epoch 12/100\n",
            "34/34 [==============================] - 0s 4ms/step - loss: 10949.8076 - mae: 10949.8076\n",
            "Epoch 13/100\n",
            "34/34 [==============================] - 0s 5ms/step - loss: 10448.9404 - mae: 10448.9404\n",
            "Epoch 14/100\n",
            "34/34 [==============================] - 0s 6ms/step - loss: 9951.6250 - mae: 9951.6250\n",
            "Epoch 15/100\n",
            "34/34 [==============================] - 0s 2ms/step - loss: 9482.7422 - mae: 9482.7422\n",
            "Epoch 16/100\n",
            "34/34 [==============================] - 0s 2ms/step - loss: 9066.7461 - mae: 9066.7461\n",
            "Epoch 17/100\n",
            "34/34 [==============================] - 0s 2ms/step - loss: 8721.9854 - mae: 8721.9854\n",
            "Epoch 18/100\n",
            "34/34 [==============================] - 0s 3ms/step - loss: 8441.2002 - mae: 8441.2002\n",
            "Epoch 19/100\n",
            "34/34 [==============================] - 0s 2ms/step - loss: 8227.5117 - mae: 8227.5117\n",
            "Epoch 20/100\n",
            "34/34 [==============================] - 0s 3ms/step - loss: 8081.9775 - mae: 8081.9775\n",
            "Epoch 21/100\n",
            "34/34 [==============================] - 0s 3ms/step - loss: 7973.8945 - mae: 7973.8945\n",
            "Epoch 22/100\n",
            "34/34 [==============================] - 0s 2ms/step - loss: 7899.1597 - mae: 7899.1597\n",
            "Epoch 23/100\n",
            "34/34 [==============================] - 0s 2ms/step - loss: 7840.3906 - mae: 7840.3906\n",
            "Epoch 24/100\n",
            "34/34 [==============================] - 0s 2ms/step - loss: 7787.9619 - mae: 7787.9619\n",
            "Epoch 25/100\n",
            "34/34 [==============================] - 0s 3ms/step - loss: 7749.2622 - mae: 7749.2622\n",
            "Epoch 26/100\n",
            "34/34 [==============================] - 0s 2ms/step - loss: 7697.9600 - mae: 7697.9600\n",
            "Epoch 27/100\n",
            "34/34 [==============================] - 0s 2ms/step - loss: 7656.0269 - mae: 7656.0269\n",
            "Epoch 28/100\n",
            "34/34 [==============================] - 0s 2ms/step - loss: 7613.4780 - mae: 7613.4780\n",
            "Epoch 29/100\n",
            "34/34 [==============================] - 0s 2ms/step - loss: 7570.9482 - mae: 7570.9482\n",
            "Epoch 30/100\n",
            "34/34 [==============================] - 0s 2ms/step - loss: 7527.4175 - mae: 7527.4175\n",
            "Epoch 31/100\n",
            "34/34 [==============================] - 0s 2ms/step - loss: 7483.5947 - mae: 7483.5947\n",
            "Epoch 32/100\n",
            "34/34 [==============================] - 0s 3ms/step - loss: 7439.4424 - mae: 7439.4424\n",
            "Epoch 33/100\n",
            "34/34 [==============================] - 0s 2ms/step - loss: 7395.0547 - mae: 7395.0547\n",
            "Epoch 34/100\n",
            "34/34 [==============================] - 0s 2ms/step - loss: 7346.8120 - mae: 7346.8120\n",
            "Epoch 35/100\n",
            "34/34 [==============================] - 0s 3ms/step - loss: 7300.0488 - mae: 7300.0488\n",
            "Epoch 36/100\n",
            "34/34 [==============================] - 0s 3ms/step - loss: 7249.8452 - mae: 7249.8452\n",
            "Epoch 37/100\n",
            "34/34 [==============================] - 0s 2ms/step - loss: 7199.5303 - mae: 7199.5303\n",
            "Epoch 38/100\n",
            "34/34 [==============================] - 0s 2ms/step - loss: 7148.4805 - mae: 7148.4805\n",
            "Epoch 39/100\n",
            "34/34 [==============================] - 0s 3ms/step - loss: 7093.6650 - mae: 7093.6650\n",
            "Epoch 40/100\n",
            "34/34 [==============================] - 0s 3ms/step - loss: 7038.1797 - mae: 7038.1797\n",
            "Epoch 41/100\n",
            "34/34 [==============================] - 0s 3ms/step - loss: 6981.7393 - mae: 6981.7393\n",
            "Epoch 42/100\n",
            "34/34 [==============================] - 0s 2ms/step - loss: 6922.7847 - mae: 6922.7847\n",
            "Epoch 43/100\n",
            "34/34 [==============================] - 0s 3ms/step - loss: 6860.1724 - mae: 6860.1724\n",
            "Epoch 44/100\n",
            "34/34 [==============================] - 0s 3ms/step - loss: 6793.7969 - mae: 6793.7969\n",
            "Epoch 45/100\n",
            "34/34 [==============================] - 0s 3ms/step - loss: 6726.6201 - mae: 6726.6201\n",
            "Epoch 46/100\n",
            "34/34 [==============================] - 0s 3ms/step - loss: 6657.4683 - mae: 6657.4683\n",
            "Epoch 47/100\n",
            "34/34 [==============================] - 0s 2ms/step - loss: 6586.3086 - mae: 6586.3086\n",
            "Epoch 48/100\n",
            "34/34 [==============================] - 0s 2ms/step - loss: 6507.5063 - mae: 6507.5063\n",
            "Epoch 49/100\n",
            "34/34 [==============================] - 0s 2ms/step - loss: 6428.6021 - mae: 6428.6021\n",
            "Epoch 50/100\n",
            "34/34 [==============================] - 0s 2ms/step - loss: 6342.7100 - mae: 6342.7100\n",
            "Epoch 51/100\n",
            "34/34 [==============================] - 0s 2ms/step - loss: 6258.0718 - mae: 6258.0718\n",
            "Epoch 52/100\n",
            "34/34 [==============================] - 0s 2ms/step - loss: 6164.7046 - mae: 6164.7046\n",
            "Epoch 53/100\n",
            "34/34 [==============================] - 0s 3ms/step - loss: 6068.6748 - mae: 6068.6748\n",
            "Epoch 54/100\n",
            "34/34 [==============================] - 0s 2ms/step - loss: 5970.0981 - mae: 5970.0981\n",
            "Epoch 55/100\n",
            "34/34 [==============================] - 0s 2ms/step - loss: 5862.5625 - mae: 5862.5625\n",
            "Epoch 56/100\n",
            "34/34 [==============================] - 0s 2ms/step - loss: 5753.9526 - mae: 5753.9526\n",
            "Epoch 57/100\n",
            "34/34 [==============================] - 0s 2ms/step - loss: 5638.0942 - mae: 5638.0942\n",
            "Epoch 58/100\n",
            "34/34 [==============================] - 0s 2ms/step - loss: 5519.8687 - mae: 5519.8687\n",
            "Epoch 59/100\n",
            "34/34 [==============================] - 0s 2ms/step - loss: 5401.3198 - mae: 5401.3198\n",
            "Epoch 60/100\n",
            "34/34 [==============================] - 0s 2ms/step - loss: 5277.3506 - mae: 5277.3506\n",
            "Epoch 61/100\n",
            "34/34 [==============================] - 0s 2ms/step - loss: 5149.7637 - mae: 5149.7637\n",
            "Epoch 62/100\n",
            "34/34 [==============================] - 0s 2ms/step - loss: 5019.3535 - mae: 5019.3535\n",
            "Epoch 63/100\n",
            "34/34 [==============================] - 0s 2ms/step - loss: 4889.6865 - mae: 4889.6865\n",
            "Epoch 64/100\n",
            "34/34 [==============================] - 0s 3ms/step - loss: 4756.8560 - mae: 4756.8560\n",
            "Epoch 65/100\n",
            "34/34 [==============================] - 0s 3ms/step - loss: 4629.4370 - mae: 4629.4370\n",
            "Epoch 66/100\n",
            "34/34 [==============================] - 0s 2ms/step - loss: 4503.5991 - mae: 4503.5991\n",
            "Epoch 67/100\n",
            "34/34 [==============================] - 0s 2ms/step - loss: 4392.9922 - mae: 4392.9922\n",
            "Epoch 68/100\n",
            "34/34 [==============================] - 0s 2ms/step - loss: 4284.3862 - mae: 4284.3862\n",
            "Epoch 69/100\n",
            "34/34 [==============================] - 0s 2ms/step - loss: 4182.6182 - mae: 4182.6182\n",
            "Epoch 70/100\n",
            "34/34 [==============================] - 0s 2ms/step - loss: 4089.5725 - mae: 4089.5725\n",
            "Epoch 71/100\n",
            "34/34 [==============================] - 0s 2ms/step - loss: 4003.3896 - mae: 4003.3896\n",
            "Epoch 72/100\n",
            "34/34 [==============================] - 0s 2ms/step - loss: 3929.0093 - mae: 3929.0093\n",
            "Epoch 73/100\n",
            "34/34 [==============================] - 0s 2ms/step - loss: 3866.3110 - mae: 3866.3110\n",
            "Epoch 74/100\n",
            "34/34 [==============================] - 0s 2ms/step - loss: 3813.7144 - mae: 3813.7144\n",
            "Epoch 75/100\n",
            "34/34 [==============================] - 0s 3ms/step - loss: 3773.0317 - mae: 3773.0317\n",
            "Epoch 76/100\n",
            "34/34 [==============================] - 0s 3ms/step - loss: 3744.1995 - mae: 3744.1995\n",
            "Epoch 77/100\n",
            "34/34 [==============================] - 0s 2ms/step - loss: 3719.6870 - mae: 3719.6870\n",
            "Epoch 78/100\n",
            "34/34 [==============================] - 0s 2ms/step - loss: 3702.9109 - mae: 3702.9109\n",
            "Epoch 79/100\n",
            "34/34 [==============================] - 0s 3ms/step - loss: 3691.8787 - mae: 3691.8787\n",
            "Epoch 80/100\n",
            "34/34 [==============================] - 0s 4ms/step - loss: 3682.8350 - mae: 3682.8350\n",
            "Epoch 81/100\n",
            "34/34 [==============================] - 0s 4ms/step - loss: 3676.9763 - mae: 3676.9763\n",
            "Epoch 82/100\n",
            "34/34 [==============================] - 0s 4ms/step - loss: 3673.9492 - mae: 3673.9492\n",
            "Epoch 83/100\n",
            "34/34 [==============================] - 0s 4ms/step - loss: 3667.8452 - mae: 3667.8452\n",
            "Epoch 84/100\n",
            "34/34 [==============================] - 0s 5ms/step - loss: 3664.5757 - mae: 3664.5757\n",
            "Epoch 85/100\n",
            "34/34 [==============================] - 0s 4ms/step - loss: 3661.8562 - mae: 3661.8562\n",
            "Epoch 86/100\n",
            "34/34 [==============================] - 0s 4ms/step - loss: 3660.3044 - mae: 3660.3044\n",
            "Epoch 87/100\n",
            "34/34 [==============================] - 0s 4ms/step - loss: 3657.5137 - mae: 3657.5137\n",
            "Epoch 88/100\n",
            "34/34 [==============================] - 0s 4ms/step - loss: 3655.2200 - mae: 3655.2200\n",
            "Epoch 89/100\n",
            "34/34 [==============================] - 0s 5ms/step - loss: 3653.8831 - mae: 3653.8831\n",
            "Epoch 90/100\n",
            "34/34 [==============================] - 0s 4ms/step - loss: 3652.0198 - mae: 3652.0198\n",
            "Epoch 91/100\n",
            "34/34 [==============================] - 0s 4ms/step - loss: 3648.9990 - mae: 3648.9990\n",
            "Epoch 92/100\n",
            "34/34 [==============================] - 0s 5ms/step - loss: 3648.4460 - mae: 3648.4460\n",
            "Epoch 93/100\n",
            "34/34 [==============================] - 0s 4ms/step - loss: 3646.2300 - mae: 3646.2300\n",
            "Epoch 94/100\n",
            "34/34 [==============================] - 0s 4ms/step - loss: 3644.4377 - mae: 3644.4377\n",
            "Epoch 95/100\n",
            "34/34 [==============================] - 0s 4ms/step - loss: 3645.8772 - mae: 3645.8772\n",
            "Epoch 96/100\n",
            "34/34 [==============================] - 0s 5ms/step - loss: 3642.2576 - mae: 3642.2576\n",
            "Epoch 97/100\n",
            "34/34 [==============================] - 0s 5ms/step - loss: 3640.1189 - mae: 3640.1189\n",
            "Epoch 98/100\n",
            "34/34 [==============================] - 0s 3ms/step - loss: 3638.0647 - mae: 3638.0647\n",
            "Epoch 99/100\n",
            "34/34 [==============================] - 0s 3ms/step - loss: 3637.2051 - mae: 3637.2051\n",
            "Epoch 100/100\n",
            "34/34 [==============================] - 0s 2ms/step - loss: 3636.1707 - mae: 3636.1707\n"
          ]
        },
        {
          "output_type": "execute_result",
          "data": {
            "text/plain": [
              "<keras.callbacks.History at 0x7f3f4054fdf0>"
            ]
          },
          "metadata": {},
          "execution_count": 145
        }
      ]
    },
    {
      "cell_type": "code",
      "source": [
        "new_insurance_model.evaluate(X_test_normal, y_test)"
      ],
      "metadata": {
        "colab": {
          "base_uri": "https://localhost:8080/"
        },
        "id": "HXQ32tTr6_xE",
        "outputId": "297f67c1-d315-4132-8125-caace56af12f"
      },
      "execution_count": null,
      "outputs": [
        {
          "output_type": "stream",
          "name": "stdout",
          "text": [
            "9/9 [==============================] - 0s 4ms/step - loss: 3438.7844 - mae: 3438.7844\n"
          ]
        },
        {
          "output_type": "execute_result",
          "data": {
            "text/plain": [
              "[3438.784423828125, 3438.784423828125]"
            ]
          },
          "metadata": {},
          "execution_count": 149
        }
      ]
    }
  ]
}
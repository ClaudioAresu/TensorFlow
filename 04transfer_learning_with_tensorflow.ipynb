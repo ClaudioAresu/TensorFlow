{
  "nbformat": 4,
  "nbformat_minor": 0,
  "metadata": {
    "colab": {
      "provenance": [],
      "authorship_tag": "ABX9TyMe4IFP4ZCicx9RSHa5OT+H",
      "include_colab_link": true
    },
    "kernelspec": {
      "name": "python3",
      "display_name": "Python 3"
    },
    "language_info": {
      "name": "python"
    },
    "accelerator": "GPU",
    "gpuClass": "standard"
  },
  "cells": [
    {
      "cell_type": "markdown",
      "metadata": {
        "id": "view-in-github",
        "colab_type": "text"
      },
      "source": [
        "<a href=\"https://colab.research.google.com/github/ClaudioAresu/TensorFlow/blob/main/04transfer_learning_with_tensorflow.ipynb\" target=\"_parent\"><img src=\"https://colab.research.google.com/assets/colab-badge.svg\" alt=\"Open In Colab\"/></a>"
      ]
    },
    {
      "cell_type": "code",
      "execution_count": null,
      "metadata": {
        "id": "5WhMYdw3zAFw"
      },
      "outputs": [],
      "source": [
        "import tensorflow as tf\n",
        "import numpy as np\n",
        "from tensorflow.keras.layers import Conv2D, Dense, MaxPool2D\n",
        "from tensorflow.keras.models import Sequential\n",
        "from tensorflow.keras.optimizers import Adam, SGD\n",
        "from tensorflow.keras.losses import SparseCategoricalCrossentropy, CategoricalCrossentropy, BinaryCrossentropy\n",
        "import pandas as pd\n",
        "import matplotlib.pyplot as plt"
      ]
    },
    {
      "cell_type": "code",
      "source": [
        "#Are we using a GPU?\n",
        "\n",
        "!nvidia-smi"
      ],
      "metadata": {
        "colab": {
          "base_uri": "https://localhost:8080/"
        },
        "id": "OVZwxepS2gdz",
        "outputId": "67174eca-f456-480e-c175-83654d454162"
      },
      "execution_count": null,
      "outputs": [
        {
          "output_type": "stream",
          "name": "stdout",
          "text": [
            "Wed Feb 22 16:00:19 2023       \n",
            "+-----------------------------------------------------------------------------+\n",
            "| NVIDIA-SMI 510.47.03    Driver Version: 510.47.03    CUDA Version: 11.6     |\n",
            "|-------------------------------+----------------------+----------------------+\n",
            "| GPU  Name        Persistence-M| Bus-Id        Disp.A | Volatile Uncorr. ECC |\n",
            "| Fan  Temp  Perf  Pwr:Usage/Cap|         Memory-Usage | GPU-Util  Compute M. |\n",
            "|                               |                      |               MIG M. |\n",
            "|===============================+======================+======================|\n",
            "|   0  Tesla T4            Off  | 00000000:00:04.0 Off |                    0 |\n",
            "| N/A   44C    P0    25W /  70W |      0MiB / 15360MiB |      0%      Default |\n",
            "|                               |                      |                  N/A |\n",
            "+-------------------------------+----------------------+----------------------+\n",
            "                                                                               \n",
            "+-----------------------------------------------------------------------------+\n",
            "| Processes:                                                                  |\n",
            "|  GPU   GI   CI        PID   Type   Process name                  GPU Memory |\n",
            "|        ID   ID                                                   Usage      |\n",
            "|=============================================================================|\n",
            "|  No running processes found                                                 |\n",
            "+-----------------------------------------------------------------------------+\n"
          ]
        }
      ]
    },
    {
      "cell_type": "code",
      "source": [
        "#Load the file and unzip it\n",
        "\n",
        "import zipfile\n",
        "\n",
        "!wget https://storage.googleapis.com/ztm_tf_course/food_vision/10_food_classes_10_percent.zip\n",
        "\n",
        "zip_ref = zipfile.ZipFile(\"10_food_classes_10_percent.zip\")\n",
        "zip_ref.extractall()\n",
        "zip_ref.close()"
      ],
      "metadata": {
        "colab": {
          "base_uri": "https://localhost:8080/"
        },
        "id": "mRQp6cP72uoL",
        "outputId": "8a1ec8a1-1de7-4930-87ef-91d1592adea8"
      },
      "execution_count": null,
      "outputs": [
        {
          "output_type": "stream",
          "name": "stdout",
          "text": [
            "--2023-02-22 16:02:50--  https://storage.googleapis.com/ztm_tf_course/food_vision/10_food_classes_10_percent.zip\n",
            "Resolving storage.googleapis.com (storage.googleapis.com)... 74.125.68.128, 74.125.24.128, 142.250.4.128, ...\n",
            "Connecting to storage.googleapis.com (storage.googleapis.com)|74.125.68.128|:443... connected.\n",
            "HTTP request sent, awaiting response... 200 OK\n",
            "Length: 168546183 (161M) [application/zip]\n",
            "Saving to: ‘10_food_classes_10_percent.zip’\n",
            "\n",
            "10_food_classes_10_ 100%[===================>] 160.74M  23.7MB/s    in 7.9s    \n",
            "\n",
            "2023-02-22 16:02:59 (20.4 MB/s) - ‘10_food_classes_10_percent.zip’ saved [168546183/168546183]\n",
            "\n"
          ]
        }
      ]
    },
    {
      "cell_type": "code",
      "source": [
        "#How many images in each folder\n",
        "\n",
        "import os\n",
        "\n",
        "for dirpath, dirnames, filenames in os.walk(\"10_food_classes_10_percent\"):\n",
        "  print(f\"There are {len(dirnames)} and {len(filenames)} images in the '{dirpath}'.\")"
      ],
      "metadata": {
        "colab": {
          "base_uri": "https://localhost:8080/"
        },
        "id": "rxOExPkT3Paz",
        "outputId": "189d1f70-b824-4ce9-f040-c935cc46c450"
      },
      "execution_count": null,
      "outputs": [
        {
          "output_type": "stream",
          "name": "stdout",
          "text": [
            "There are 2 and 0 images in the '10_food_classes_10_percent'.\n",
            "There are 10 and 0 images in the '10_food_classes_10_percent/test'.\n",
            "There are 0 and 250 images in the '10_food_classes_10_percent/test/fried_rice'.\n",
            "There are 0 and 250 images in the '10_food_classes_10_percent/test/sushi'.\n",
            "There are 0 and 250 images in the '10_food_classes_10_percent/test/chicken_curry'.\n",
            "There are 0 and 250 images in the '10_food_classes_10_percent/test/chicken_wings'.\n",
            "There are 0 and 250 images in the '10_food_classes_10_percent/test/pizza'.\n",
            "There are 0 and 250 images in the '10_food_classes_10_percent/test/steak'.\n",
            "There are 0 and 250 images in the '10_food_classes_10_percent/test/grilled_salmon'.\n",
            "There are 0 and 250 images in the '10_food_classes_10_percent/test/ramen'.\n",
            "There are 0 and 250 images in the '10_food_classes_10_percent/test/hamburger'.\n",
            "There are 0 and 250 images in the '10_food_classes_10_percent/test/ice_cream'.\n",
            "There are 10 and 0 images in the '10_food_classes_10_percent/train'.\n",
            "There are 0 and 75 images in the '10_food_classes_10_percent/train/fried_rice'.\n",
            "There are 0 and 75 images in the '10_food_classes_10_percent/train/sushi'.\n",
            "There are 0 and 75 images in the '10_food_classes_10_percent/train/chicken_curry'.\n",
            "There are 0 and 75 images in the '10_food_classes_10_percent/train/chicken_wings'.\n",
            "There are 0 and 75 images in the '10_food_classes_10_percent/train/pizza'.\n",
            "There are 0 and 75 images in the '10_food_classes_10_percent/train/steak'.\n",
            "There are 0 and 75 images in the '10_food_classes_10_percent/train/grilled_salmon'.\n",
            "There are 0 and 75 images in the '10_food_classes_10_percent/train/ramen'.\n",
            "There are 0 and 75 images in the '10_food_classes_10_percent/train/hamburger'.\n",
            "There are 0 and 75 images in the '10_food_classes_10_percent/train/ice_cream'.\n"
          ]
        }
      ]
    },
    {
      "cell_type": "markdown",
      "source": [
        "## Creating the data loaders (preparing the data)\n",
        "\n",
        "We'll use the ImageDataGenerator calss to load in our images in batches"
      ],
      "metadata": {
        "id": "BtAm1qDX4G5b"
      }
    },
    {
      "cell_type": "code",
      "source": [
        "from tensorflow.keras.preprocessing.image import ImageDataGenerator\n",
        "\n",
        "IMAGE_SHAPE = (224,224)\n",
        "BATCH_SIZE = 32\n",
        "\n",
        "train_dir = \"10_food_classes_10_percent/train/\"\n",
        "test_dir = \"10_food_classes_10_percent/test/\"\n",
        "\n",
        "train_datagen = ImageDataGenerator(rescale=1/255.)\n",
        "test_datagen = ImageDataGenerator(rescale=1/255.)\n",
        "\n",
        "print(\"Training images:\")\n",
        "train_data_10_percent = train_datagen.flow_from_directory(train_dir,\n",
        "                                                          target_size=IMAGE_SHAPE,\n",
        "                                                          batch_size=BATCH_SIZE,\n",
        "                                                          )\n",
        "\n",
        "print(\"Testing images:\")\n",
        "test_data_10_percent = test_datagen.flow_from_directory(test_dir,\n",
        "                                                          target_size=IMAGE_SHAPE,\n",
        "                                                          batch_size=BATCH_SIZE,\n",
        "                                                          )"
      ],
      "metadata": {
        "colab": {
          "base_uri": "https://localhost:8080/"
        },
        "id": "MvNnaYEU4nS2",
        "outputId": "efb0f9cc-bc02-4e69-e8e2-33a533af04f3"
      },
      "execution_count": null,
      "outputs": [
        {
          "output_type": "stream",
          "name": "stdout",
          "text": [
            "Training images:\n",
            "Found 750 images belonging to 10 classes.\n",
            "Testing images:\n",
            "Found 2500 images belonging to 10 classes.\n"
          ]
        }
      ]
    },
    {
      "cell_type": "markdown",
      "source": [
        "## Setting up callbacks\n",
        "\n",
        "Callbacks are extra functionalities you can add to your models to be performed during or after training. Some of the most popular callbacks:\n",
        "\n",
        "* TensorBoard\n",
        "* Model Checkpointing\n",
        "* Early Stopping\n"
      ],
      "metadata": {
        "id": "owaLqib15-Kj"
      }
    },
    {
      "cell_type": "code",
      "source": [
        " #Create TensorBoard callback *functioniezed because we need to create a new one for each model\n",
        " import datetime\n",
        "\n",
        " def create_tensorboard_callback(dir_name, experiment_name):\n",
        "   log_dir = dir_name + \"/\" + experiment_name + \"/\" + datetime.datetime.now().strftime(\"%Y%m%d-%H%M%S\")\n",
        "   tensorboard_callback = tf.keras.callbacks.TensorBoard(log_dir=log_dir)\n",
        "   print(f\"Saving TensorBoarad log files to: {log_dir}\")\n",
        "   return tensorboard_callback"
      ],
      "metadata": {
        "id": "nL4u3v_b7IF4"
      },
      "execution_count": null,
      "outputs": []
    },
    {
      "cell_type": "markdown",
      "source": [
        "## Creating models unsing TensorFlow Hub\n",
        "\n",
        "in the past we've used TensorFlow to create our own models layer by layer forom scratch.\n",
        "\n",
        "Now we're going to do a similar process, except the majority of our models' layers are going to come from TensorFlow Hub\n",
        "\n",
        "Browsing the TensorFlow Hub page and sorting for image classification, we've found the following feature vector model link:\n",
        "https://tfhub.dev/tensorflow/efficientnet/b0/feature-vector/1\n",
        "\n",
        "**Note:**\n",
        "* https://paperswithcode.com/\n",
        "* https://tfhub.dev/ "
      ],
      "metadata": {
        "id": "z8d-L-Sa8wOz"
      }
    },
    {
      "cell_type": "code",
      "source": [
        "#Let's compare the following two models\n",
        "resnet_url = 'https://tfhub.dev/google/imagenet/resnet_v2_50/classification/5'\n",
        "\n",
        "efficientnet_url = 'https://tfhub.dev/tensorflow/efficientnet/b0/feature-vector/1'"
      ],
      "metadata": {
        "id": "Iy-6wEMf9ENE"
      },
      "execution_count": null,
      "outputs": []
    },
    {
      "cell_type": "code",
      "source": [
        "#Import dependencies\n",
        "import tensorflow_hub as hub\n",
        "from tensorflow.keras import layers"
      ],
      "metadata": {
        "id": "uphvJ73-ASuK"
      },
      "execution_count": null,
      "outputs": []
    },
    {
      "cell_type": "code",
      "source": [
        "def create_model(model_url, num_classes=10):\n",
        "  \"\"\"\n",
        "  Takes a TensorFLow Hub URL and creates a Keras Sequential model with it.\n",
        "  \n",
        "  Args:\n",
        "    model_url (str): A TensorFlow Hub feature extraction URL.\n",
        "    num_classes (int): Number of output neurons in the output layer,\n",
        "      should be equal to number of target classes, default 10.\n",
        "\n",
        "  Returns:\n",
        "    An uncompiled Keras Sequential model with  model_url as feature extractor\n",
        "    layer and Dense output layer with num_classes output neurons.\n",
        "  \"\"\"\n",
        "\n",
        "  # Download the pretrained model and save it as a Keras layer\n",
        "  feature_extraction_layer = hub.KerasLayer(model_url,\n",
        "                                           trainable=False,\n",
        "                                           name=\"feature_extraction_layer\",\n",
        "                                           input_shape=IMAGE_SHAPE+(3,))\n",
        "  \n",
        "  model = Sequential([\n",
        "      feature_extraction_layer,\n",
        "      Dense(num_classes, activation=\"softmax\", name=\"output_layer\")\n",
        "  ])\n",
        "\n",
        "  return model"
      ],
      "metadata": {
        "id": "OaQv2d7DAlXK"
      },
      "execution_count": null,
      "outputs": []
    },
    {
      "cell_type": "code",
      "source": [
        "# Create Resnet model\n",
        "\n",
        "resnet_model = create_model(resnet_url,\n",
        "                            num_classes=train_data_10_percent.num_classes)\n"
      ],
      "metadata": {
        "id": "lt_x2UikCQTr",
        "colab": {
          "base_uri": "https://localhost:8080/"
        },
        "outputId": "45e2d0a6-b919-495e-8db0-ca938109a62d"
      },
      "execution_count": null,
      "outputs": [
        {
          "output_type": "stream",
          "name": "stderr",
          "text": [
            "WARNING:tensorflow:From /usr/local/lib/python3.8/dist-packages/tensorflow/python/autograph/pyct/static_analysis/liveness.py:83: Analyzer.lamba_check (from tensorflow.python.autograph.pyct.static_analysis.liveness) is deprecated and will be removed after 2023-09-23.\n",
            "Instructions for updating:\n",
            "Lambda fuctions will be no more assumed to be used in the statement where they are used, or at least in the same block. https://github.com/tensorflow/tensorflow/issues/56089\n"
          ]
        }
      ]
    },
    {
      "cell_type": "code",
      "source": [
        "resnet_model.summary()"
      ],
      "metadata": {
        "colab": {
          "base_uri": "https://localhost:8080/"
        },
        "id": "fFdnvdhaEGYq",
        "outputId": "526610b7-597f-4edc-809b-d32c01fc28e2"
      },
      "execution_count": null,
      "outputs": [
        {
          "output_type": "stream",
          "name": "stdout",
          "text": [
            "Model: \"sequential\"\n",
            "_________________________________________________________________\n",
            " Layer (type)                Output Shape              Param #   \n",
            "=================================================================\n",
            " feature_extraction_layer (K  (None, 1001)             25615849  \n",
            " erasLayer)                                                      \n",
            "                                                                 \n",
            " output_layer (Dense)        (None, 10)                10020     \n",
            "                                                                 \n",
            "=================================================================\n",
            "Total params: 25,625,869\n",
            "Trainable params: 10,020\n",
            "Non-trainable params: 25,615,849\n",
            "_________________________________________________________________\n"
          ]
        }
      ]
    },
    {
      "cell_type": "code",
      "source": [
        "#Compile our resnet model\n",
        "resnet_model.compile(loss=\"categorical_crossentropy\",\n",
        "                     optimizer=Adam(),\n",
        "                     metrics=[\"accuracy\"])"
      ],
      "metadata": {
        "id": "2Cx13YDRExj5"
      },
      "execution_count": null,
      "outputs": []
    },
    {
      "cell_type": "code",
      "source": [
        "history_resnet = resnet_model.fit(train_data_10_percent,\n",
        "                 epochs=5,\n",
        "                 steps_per_epoch=len(train_data_10_percent),\n",
        "                 validation_data=test_data_10_percent,\n",
        "                 validation_steps=len(test_data_10_percent),\n",
        "                 callbacks=[create_tensorboard_callback(dir_name=\"tensorflow_hub\",\n",
        "                                                        experiment_name=\"resnet50V2\")],\n",
        "                 verbose=2)"
      ],
      "metadata": {
        "colab": {
          "base_uri": "https://localhost:8080/"
        },
        "id": "HPX814G7FArj",
        "outputId": "2722c778-3eeb-4ea2-addc-6e9652473ee9"
      },
      "execution_count": null,
      "outputs": [
        {
          "output_type": "stream",
          "name": "stdout",
          "text": [
            "Saving TensorBoarad log files to: tensorflow_hub/resnet50V2/20230222-171326\n",
            "Epoch 1/5\n",
            "24/24 - 29s - loss: 2.3254 - accuracy: 0.3133 - val_loss: 1.1778 - val_accuracy: 0.6204 - 29s/epoch - 1s/step\n",
            "Epoch 2/5\n",
            "24/24 - 16s - loss: 0.9600 - accuracy: 0.7013 - val_loss: 0.9017 - val_accuracy: 0.7016 - 16s/epoch - 678ms/step\n",
            "Epoch 3/5\n",
            "24/24 - 16s - loss: 0.6923 - accuracy: 0.7693 - val_loss: 0.8272 - val_accuracy: 0.7196 - 16s/epoch - 651ms/step\n",
            "Epoch 4/5\n",
            "24/24 - 24s - loss: 0.5259 - accuracy: 0.8440 - val_loss: 0.7932 - val_accuracy: 0.7300 - 24s/epoch - 998ms/step\n",
            "Epoch 5/5\n",
            "24/24 - 16s - loss: 0.4315 - accuracy: 0.8720 - val_loss: 0.7696 - val_accuracy: 0.7432 - 16s/epoch - 659ms/step\n"
          ]
        }
      ]
    },
    {
      "cell_type": "code",
      "source": [
        "#Let's create a function to visualize our loss and accuracy curves...\n",
        "\n",
        "def plot_loss_curve(history):\n",
        "  \"\"\"\n",
        "  Returns separate loss curves for trainings and validation metrics\n",
        "  \"\"\"\n",
        "  loss = history.history[\"loss\"]\n",
        "  val_loss = history.history[\"val_loss\"]\n",
        "\n",
        "  accuracy = history.history[\"accuracy\"]\n",
        "  val_accuracy = history.history[\"val_accuracy\"]\n",
        "\n",
        "  epochs = range(len(history.history[\"loss\"]))\n",
        "\n",
        "  plt.figure()\n",
        "  plt.plot(epochs, loss, label=\"training_loss\")\n",
        "  plt.plot(epochs, val_loss, label=\"val_loss\")\n",
        "  plt.title(\"loss\")\n",
        "  plt.xlabel(\"epochs\")\n",
        "  plt.legend()\n",
        "\n",
        "  plt.figure()\n",
        "  plt.plot(epochs, accuracy, label=\"training_accuracy\")\n",
        "  plt.plot(epochs, val_accuracy, label=\"val_accuracy\")\n",
        "  plt.title(\"accuracy\")\n",
        "  plt.xlabel(\"epochs\")\n",
        "  plt.legend()"
      ],
      "metadata": {
        "id": "xE3F0v9pJ1Jy"
      },
      "execution_count": null,
      "outputs": []
    },
    {
      "cell_type": "code",
      "source": [
        "plot_loss_curve(history=history_resnet)"
      ],
      "metadata": {
        "colab": {
          "base_uri": "https://localhost:8080/",
          "height": 573
        },
        "id": "3u_gqG_GMG6q",
        "outputId": "340be5ec-dad9-4c6e-93f5-4bbfae0edcd5"
      },
      "execution_count": null,
      "outputs": [
        {
          "output_type": "display_data",
          "data": {
            "text/plain": [
              "<Figure size 432x288 with 1 Axes>"
            ],
            "image/png": "[encoded data removed]"
          },
          "metadata": {
            "needs_background": "light"
          }
        },
        {
          "output_type": "display_data",
          "data": {
            "text/plain": [
              "<Figure size 432x288 with 1 Axes>"
            ],
            "image/png": "[encoded data removed]"
          },
          "metadata": {
            "needs_background": "light"
          }
        }
      ]
    },
    {
      "cell_type": "code",
      "source": [
        "efficientnet_model = create_model(efficientnet_url,\n",
        "                            num_classes=train_data_10_percent.num_classes)"
      ],
      "metadata": {
        "id": "kSLfpX4EMWvR"
      },
      "execution_count": null,
      "outputs": []
    },
    {
      "cell_type": "code",
      "source": [
        "efficientnet_model.compile(loss=\"categorical_crossentropy\",\n",
        "                     optimizer=Adam(),\n",
        "                     metrics=[\"accuracy\"])"
      ],
      "metadata": {
        "id": "5xhXX0rUS4q5"
      },
      "execution_count": null,
      "outputs": []
    },
    {
      "cell_type": "code",
      "source": [
        "history_efficientnet = efficientnet_model.fit(train_data_10_percent,\n",
        "                       epochs=5,\n",
        "                       steps_per_epoch=len(train_data_10_percent),\n",
        "                       validation_data=test_data_10_percent,\n",
        "                       validation_steps=len(test_data_10_percent),\n",
        "                       callbacks=[create_tensorboard_callback(dir_name=\"tensorflow_hub\",\n",
        "                                                             experiment_name=\"EfficientNetB0\")],\n",
        "                       verbose=2)"
      ],
      "metadata": {
        "colab": {
          "base_uri": "https://localhost:8080/"
        },
        "id": "Z5WU5c9oTAaB",
        "outputId": "5cf7c829-bf40-434d-9e59-48f5ab94aca7"
      },
      "execution_count": null,
      "outputs": [
        {
          "output_type": "stream",
          "name": "stdout",
          "text": [
            "Saving TensorBoarad log files to: tensorflow_hub/EfficientNetB0/20230222-181114\n",
            "Epoch 1/5\n",
            "24/24 - 24s - loss: 0.4519 - accuracy: 0.8987 - val_loss: 0.5269 - val_accuracy: 0.8680 - 24s/epoch - 1s/step\n",
            "Epoch 2/5\n",
            "24/24 - 17s - loss: 0.3969 - accuracy: 0.9200 - val_loss: 0.4988 - val_accuracy: 0.8724 - 17s/epoch - 696ms/step\n",
            "Epoch 3/5\n",
            "24/24 - 15s - loss: 0.3539 - accuracy: 0.9307 - val_loss: 0.4773 - val_accuracy: 0.8768 - 15s/epoch - 622ms/step\n",
            "Epoch 4/5\n",
            "24/24 - 15s - loss: 0.3185 - accuracy: 0.9373 - val_loss: 0.4613 - val_accuracy: 0.8760 - 15s/epoch - 615ms/step\n",
            "Epoch 5/5\n",
            "24/24 - 17s - loss: 0.2874 - accuracy: 0.9493 - val_loss: 0.4470 - val_accuracy: 0.8780 - 17s/epoch - 701ms/step\n"
          ]
        }
      ]
    },
    {
      "cell_type": "code",
      "source": [
        "plot_loss_curve(history_efficientnet)"
      ],
      "metadata": {
        "colab": {
          "base_uri": "https://localhost:8080/",
          "height": 573
        },
        "id": "btXXT8-RUNNC",
        "outputId": "17a6b48d-eaa3-44b0-e5a6-41530e7665bf"
      },
      "execution_count": null,
      "outputs": [
        {
          "output_type": "display_data",
          "data": {
            "text/plain": [
              "<Figure size 432x288 with 1 Axes>"
            ],
            "image/png": "[encoded data removed]"
          },
          "metadata": {
            "needs_background": "light"
          }
        },
        {
          "output_type": "display_data",
          "data": {
            "text/plain": [
              "<Figure size 432x288 with 1 Axes>"
            ],
            "image/png": "[encoded data removed]"
          },
          "metadata": {
            "needs_background": "light"
          }
        }
      ]
    },
    {
      "cell_type": "code",
      "source": [
        "efficientnet_model.summary()"
      ],
      "metadata": {
        "colab": {
          "base_uri": "https://localhost:8080/"
        },
        "id": "hyg2nmafVP2q",
        "outputId": "fea6b1c3-a266-4331-cca1-a1a0afc39b49"
      },
      "execution_count": null,
      "outputs": [
        {
          "output_type": "stream",
          "name": "stdout",
          "text": [
            "Model: \"sequential_1\"\n",
            "_________________________________________________________________\n",
            " Layer (type)                Output Shape              Param #   \n",
            "=================================================================\n",
            " feature_extraction_layer (K  (None, 1280)             4049564   \n",
            " erasLayer)                                                      \n",
            "                                                                 \n",
            " output_layer (Dense)        (None, 10)                12810     \n",
            "                                                                 \n",
            "=================================================================\n",
            "Total params: 4,062,374\n",
            "Trainable params: 12,810\n",
            "Non-trainable params: 4,049,564\n",
            "_________________________________________________________________\n"
          ]
        }
      ]
    },
    {
      "cell_type": "markdown",
      "source": [
        "##  Different types of transfer learning\n",
        "\n",
        "* \"As is\" transfer learning - using an existing model with no changes whatsoever (e.g. using ImageNet model on 1000 ImageNet classes, none of your own)\n",
        "\n",
        "* \"Feature extraction\" transfer learning - use the prelearned patterns of an existing model (e.g. EfficnetNetB0 trained on ImageNet) and adjust output layer for your own problem (e.g. 1000 classes\n",
        "\n",
        "* \"Fine tuning\" transfer learning - use the prelearned patterns fo an existing model and \"fine-tune  many or all of the underlying layers (including new output layers)"
      ],
      "metadata": {
        "id": "DO0bSmOqW6mR"
      }
    },
    {
      "cell_type": "code",
      "source": [
        "len(efficientnet_model.layers[0].weights)"
      ],
      "metadata": {
        "colab": {
          "base_uri": "https://localhost:8080/"
        },
        "id": "wpGLe6-zZ2sS",
        "outputId": "07c294c0-c718-4cb0-f6d6-d3e71a3cc2f9"
      },
      "execution_count": null,
      "outputs": [
        {
          "output_type": "execute_result",
          "data": {
            "text/plain": [
              "309"
            ]
          },
          "metadata": {},
          "execution_count": 37
        }
      ]
    },
    {
      "cell_type": "code",
      "source": [
        "#Upload TensorBoard dev records\n",
        "\n",
        "!tensorboard dev upload --logdir ./tensorflow_hub/ \\\n",
        "  --name \"EfficientNetB0 vs. REsNet50V2\" \\\n",
        "  --description \"Comparing two different TF Hub feature extraction model architectures using 10% of the training data\" \\\n",
        "  --one_shot"
      ],
      "metadata": {
        "id": "EbN81HJ4aGAx"
      },
      "execution_count": null,
      "outputs": []
    },
    {
      "cell_type": "code",
      "source": [
        "!tensorboard dev list"
      ],
      "metadata": {
        "id": "RoGaNnIdfH4y"
      },
      "execution_count": null,
      "outputs": []
    },
    {
      "cell_type": "code",
      "source": [
        "# !tensorboard dev delete --experiment id"
      ],
      "metadata": {
        "id": "ZQaerEyRfVYx"
      },
      "execution_count": null,
      "outputs": []
    }
  ]
}
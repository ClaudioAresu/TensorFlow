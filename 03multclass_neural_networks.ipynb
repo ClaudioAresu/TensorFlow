{
  "nbformat": 4,
  "nbformat_minor": 0,
  "metadata": {
    "colab": {
      "provenance": [],
      "authorship_tag": "ABX9TyOkjw1UZL5K5RwSkkEuU9Mr",
      "include_colab_link": true
    },
    "kernelspec": {
      "name": "python3",
      "display_name": "Python 3"
    },
    "language_info": {
      "name": "python"
    }
  },
  "cells": [
    {
      "cell_type": "markdown",
      "metadata": {
        "id": "view-in-github",
        "colab_type": "text"
      },
      "source": [
        "<a href=\"https://colab.research.google.com/github/ClaudioAresu/TensorFlow/blob/main/03multclass_neural_networks.ipynb\" target=\"_parent\"><img src=\"https://colab.research.google.com/assets/colab-badge.svg\" alt=\"Open In Colab\"/></a>"
      ]
    },
    {
      "cell_type": "code",
      "execution_count": 54,
      "metadata": {
        "id": "xWnSg8f8Vwzv"
      },
      "outputs": [],
      "source": [
        "import tensorflow as tf\n",
        "from tensorflow.keras.datasets import fashion_mnist\n",
        "\n",
        "(train_data, train_labels), (test_data, test_labels) = fashion_mnist.load_data()"
      ]
    },
    {
      "cell_type": "code",
      "source": [
        "print(f\"Training sample: \\n{train_data[0]}\\n\")\n",
        "print(f\"Test sample: \\n{test_data[0]}\\n\")"
      ],
      "metadata": {
        "colab": {
          "base_uri": "https://localhost:8080/"
        },
        "id": "0h4ZmFMYWTE0",
        "outputId": "fb78bd5c-3f99-41cb-c7d8-3d205513a792"
      },
      "execution_count": 55,
      "outputs": [
        {
          "output_type": "stream",
          "name": "stdout",
          "text": [
            "Training sample: \n",
            "[[  0   0   0   0   0   0   0   0   0   0   0   0   0   0   0   0   0   0\n",
            "    0   0   0   0   0   0   0   0   0   0]\n",
            " [  0   0   0   0   0   0   0   0   0   0   0   0   0   0   0   0   0   0\n",
            "    0   0   0   0   0   0   0   0   0   0]\n",
            " [  0   0   0   0   0   0   0   0   0   0   0   0   0   0   0   0   0   0\n",
            "    0   0   0   0   0   0   0   0   0   0]\n",
            " [  0   0   0   0   0   0   0   0   0   0   0   0   1   0   0  13  73   0\n",
            "    0   1   4   0   0   0   0   1   1   0]\n",
            " [  0   0   0   0   0   0   0   0   0   0   0   0   3   0  36 136 127  62\n",
            "   54   0   0   0   1   3   4   0   0   3]\n",
            " [  0   0   0   0   0   0   0   0   0   0   0   0   6   0 102 204 176 134\n",
            "  144 123  23   0   0   0   0  12  10   0]\n",
            " [  0   0   0   0   0   0   0   0   0   0   0   0   0   0 155 236 207 178\n",
            "  107 156 161 109  64  23  77 130  72  15]\n",
            " [  0   0   0   0   0   0   0   0   0   0   0   1   0  69 207 223 218 216\n",
            "  216 163 127 121 122 146 141  88 172  66]\n",
            " [  0   0   0   0   0   0   0   0   0   1   1   1   0 200 232 232 233 229\n",
            "  223 223 215 213 164 127 123 196 229   0]\n",
            " [  0   0   0   0   0   0   0   0   0   0   0   0   0 183 225 216 223 228\n",
            "  235 227 224 222 224 221 223 245 173   0]\n",
            " [  0   0   0   0   0   0   0   0   0   0   0   0   0 193 228 218 213 198\n",
            "  180 212 210 211 213 223 220 243 202   0]\n",
            " [  0   0   0   0   0   0   0   0   0   1   3   0  12 219 220 212 218 192\n",
            "  169 227 208 218 224 212 226 197 209  52]\n",
            " [  0   0   0   0   0   0   0   0   0   0   6   0  99 244 222 220 218 203\n",
            "  198 221 215 213 222 220 245 119 167  56]\n",
            " [  0   0   0   0   0   0   0   0   0   4   0   0  55 236 228 230 228 240\n",
            "  232 213 218 223 234 217 217 209  92   0]\n",
            " [  0   0   1   4   6   7   2   0   0   0   0   0 237 226 217 223 222 219\n",
            "  222 221 216 223 229 215 218 255  77   0]\n",
            " [  0   3   0   0   0   0   0   0   0  62 145 204 228 207 213 221 218 208\n",
            "  211 218 224 223 219 215 224 244 159   0]\n",
            " [  0   0   0   0  18  44  82 107 189 228 220 222 217 226 200 205 211 230\n",
            "  224 234 176 188 250 248 233 238 215   0]\n",
            " [  0  57 187 208 224 221 224 208 204 214 208 209 200 159 245 193 206 223\n",
            "  255 255 221 234 221 211 220 232 246   0]\n",
            " [  3 202 228 224 221 211 211 214 205 205 205 220 240  80 150 255 229 221\n",
            "  188 154 191 210 204 209 222 228 225   0]\n",
            " [ 98 233 198 210 222 229 229 234 249 220 194 215 217 241  65  73 106 117\n",
            "  168 219 221 215 217 223 223 224 229  29]\n",
            " [ 75 204 212 204 193 205 211 225 216 185 197 206 198 213 240 195 227 245\n",
            "  239 223 218 212 209 222 220 221 230  67]\n",
            " [ 48 203 183 194 213 197 185 190 194 192 202 214 219 221 220 236 225 216\n",
            "  199 206 186 181 177 172 181 205 206 115]\n",
            " [  0 122 219 193 179 171 183 196 204 210 213 207 211 210 200 196 194 191\n",
            "  195 191 198 192 176 156 167 177 210  92]\n",
            " [  0   0  74 189 212 191 175 172 175 181 185 188 189 188 193 198 204 209\n",
            "  210 210 211 188 188 194 192 216 170   0]\n",
            " [  2   0   0   0  66 200 222 237 239 242 246 243 244 221 220 193 191 179\n",
            "  182 182 181 176 166 168  99  58   0   0]\n",
            " [  0   0   0   0   0   0   0  40  61  44  72  41  35   0   0   0   0   0\n",
            "    0   0   0   0   0   0   0   0   0   0]\n",
            " [  0   0   0   0   0   0   0   0   0   0   0   0   0   0   0   0   0   0\n",
            "    0   0   0   0   0   0   0   0   0   0]\n",
            " [  0   0   0   0   0   0   0   0   0   0   0   0   0   0   0   0   0   0\n",
            "    0   0   0   0   0   0   0   0   0   0]]\n",
            "\n",
            "Test sample: \n",
            "[[  0   0   0   0   0   0   0   0   0   0   0   0   0   0   0   0   0   0\n",
            "    0   0   0   0   0   0   0   0   0   0]\n",
            " [  0   0   0   0   0   0   0   0   0   0   0   0   0   0   0   0   0   0\n",
            "    0   0   0   0   0   0   0   0   0   0]\n",
            " [  0   0   0   0   0   0   0   0   0   0   0   0   0   0   0   0   0   0\n",
            "    0   0   0   0   0   0   0   0   0   0]\n",
            " [  0   0   0   0   0   0   0   0   0   0   0   0   0   0   0   0   0   0\n",
            "    0   0   0   0   0   0   0   0   0   0]\n",
            " [  0   0   0   0   0   0   0   0   0   0   0   0   0   0   0   0   0   0\n",
            "    0   0   0   0   0   0   0   0   0   0]\n",
            " [  0   0   0   0   0   0   0   0   0   0   0   0   0   0   0   0   0   0\n",
            "    0   0   0   0   0   0   0   0   0   0]\n",
            " [  0   0   0   0   0   0   0   0   0   0   0   0   0   0   0   0   0   0\n",
            "    0   0   0   0   0   0   0   0   0   0]\n",
            " [  0   0   0   0   0   0   0   0   0   0   0   0   0   0   0   0   0   0\n",
            "    0   3   1   0   0   7   0  37   0   0]\n",
            " [  0   0   0   0   0   0   0   0   0   0   0   0   0   1   2   0  27  84\n",
            "   11   0   0   0   0   0   0 119   0   0]\n",
            " [  0   0   0   0   0   0   0   0   0   0   0   0   0   1   0   0  88 143\n",
            "  110   0   0   0   0  22  93 106   0   0]\n",
            " [  0   0   0   0   0   0   0   0   0   0   0   0   0   4   0  53 129 120\n",
            "  147 175 157 166 135 154 168 140   0   0]\n",
            " [  0   0   0   0   0   0   0   0   0   0   0   0   2   0  11 137 130 128\n",
            "  160 176 159 167 178 149 151 144   0   0]\n",
            " [  0   0   0   0   0   0   1   0   2   1   0   3   0   0 115 114 106 137\n",
            "  168 153 156 165 167 143 157 158  11   0]\n",
            " [  0   0   0   0   1   0   0   0   0   0   3   0   0  89 139  90  94 153\n",
            "  149 131 151 169 172 143 159 169  48   0]\n",
            " [  0   0   0   0   0   0   2   4   1   0   0   0  98 136 110 109 110 162\n",
            "  135 144 149 159 167 144 158 169 119   0]\n",
            " [  0   0   2   2   1   2   0   0   0   0  26 108 117  99 111 117 136 156\n",
            "  134 154 154 156 160 141 147 156 178   0]\n",
            " [  3   0   0   0   0   0   0  21  53  92 117 111 103 115 129 134 143 154\n",
            "  165 170 154 151 154 143 138 150 165  43]\n",
            " [  0   0  23  54  65  76  85 118 128 123 111 113 118 127 125 139 133 136\n",
            "  160 140 155 161 144 155 172 161 189  62]\n",
            " [  0  68  94  90 111 114 111 114 115 127 135 136 143 126 127 151 154 143\n",
            "  148 125 162 162 144 138 153 162 196  58]\n",
            " [ 70 169 129 104  98 100  94  97  98 102 108 106 119 120 129 149 156 167\n",
            "  190 190 196 198 198 187 197 189 184  36]\n",
            " [ 16 126 171 188 188 184 171 153 135 120 126 127 146 185 195 209 208 255\n",
            "  209 177 245 252 251 251 247 220 206  49]\n",
            " [  0   0   0  12  67 106 164 185 199 210 211 210 208 190 150  82   8   0\n",
            "    0   0 178 208 188 175 162 158 151  11]\n",
            " [  0   0   0   0   0   0   0   0   0   0   0   0   0   0   0   0   0   0\n",
            "    0   0   0   0   0   0   0   0   0   0]\n",
            " [  0   0   0   0   0   0   0   0   0   0   0   0   0   0   0   0   0   0\n",
            "    0   0   0   0   0   0   0   0   0   0]\n",
            " [  0   0   0   0   0   0   0   0   0   0   0   0   0   0   0   0   0   0\n",
            "    0   0   0   0   0   0   0   0   0   0]\n",
            " [  0   0   0   0   0   0   0   0   0   0   0   0   0   0   0   0   0   0\n",
            "    0   0   0   0   0   0   0   0   0   0]\n",
            " [  0   0   0   0   0   0   0   0   0   0   0   0   0   0   0   0   0   0\n",
            "    0   0   0   0   0   0   0   0   0   0]\n",
            " [  0   0   0   0   0   0   0   0   0   0   0   0   0   0   0   0   0   0\n",
            "    0   0   0   0   0   0   0   0   0   0]]\n",
            "\n"
          ]
        }
      ]
    },
    {
      "cell_type": "code",
      "source": [
        "#Check the shape of a single example\n",
        "train_data[0].shape, train_labels[0].shape"
      ],
      "metadata": {
        "colab": {
          "base_uri": "https://localhost:8080/"
        },
        "id": "Tt7HurUJWxtG",
        "outputId": "b603378a-4e30-44c7-9e05-1c813c4051f3"
      },
      "execution_count": 56,
      "outputs": [
        {
          "output_type": "execute_result",
          "data": {
            "text/plain": [
              "((28, 28), ())"
            ]
          },
          "metadata": {},
          "execution_count": 56
        }
      ]
    },
    {
      "cell_type": "code",
      "source": [
        "import matplotlib.pyplot as plt\n",
        "plt.imshow(train_data[1]) ;"
      ],
      "metadata": {
        "colab": {
          "base_uri": "https://localhost:8080/",
          "height": 265
        },
        "id": "xbNr3ZdbW-ld",
        "outputId": "8528fe42-7824-4911-84f1-c52194fcf3fb"
      },
      "execution_count": 4,
      "outputs": [
        {
          "output_type": "display_data",
          "data": {
            "text/plain": [
              "<Figure size 432x288 with 1 Axes>"
            ],
            "image/png": "[encoded data removed]"
          },
          "metadata": {
            "needs_background": "light"
          }
        }
      ]
    },
    {
      "cell_type": "code",
      "source": [
        "class_names = [\"T-shirt/top\", \"Trouser\", \"Pullover\", \"Dress\",\"Coat\",\"Sandal\",\"Shirt\",\"Sneaker\",\"Bag\",\"Ankle boot\",]"
      ],
      "metadata": {
        "id": "ogiz3QDZXn0F"
      },
      "execution_count": 5,
      "outputs": []
    },
    {
      "cell_type": "code",
      "source": [
        "len(class_names)"
      ],
      "metadata": {
        "colab": {
          "base_uri": "https://localhost:8080/"
        },
        "id": "BJlv1QXQYBcc",
        "outputId": "63f03dec-4898-4024-86df-fbedab9e0984"
      },
      "execution_count": 6,
      "outputs": [
        {
          "output_type": "execute_result",
          "data": {
            "text/plain": [
              "10"
            ]
          },
          "metadata": {},
          "execution_count": 6
        }
      ]
    },
    {
      "cell_type": "code",
      "source": [
        "import numpy as np\n",
        "import random"
      ],
      "metadata": {
        "id": "TTBr6tbFYdzk"
      },
      "execution_count": 7,
      "outputs": []
    },
    {
      "cell_type": "code",
      "source": [
        "index_of_choice = 2000\n",
        "index_of_choice"
      ],
      "metadata": {
        "colab": {
          "base_uri": "https://localhost:8080/"
        },
        "id": "yoocYG8ZYY7U",
        "outputId": "26731c52-9a99-47df-b2ed-cbdedfd36ed8"
      },
      "execution_count": 8,
      "outputs": [
        {
          "output_type": "execute_result",
          "data": {
            "text/plain": [
              "2000"
            ]
          },
          "metadata": {},
          "execution_count": 8
        }
      ]
    },
    {
      "cell_type": "code",
      "source": [
        "#plot an example image\n",
        "\n",
        "plt.imshow(train_data[index_of_choice], cmap=plt.cm.binary)\n",
        "plt.title(class_names[train_labels[index_of_choice]])"
      ],
      "metadata": {
        "colab": {
          "base_uri": "https://localhost:8080/",
          "height": 299
        },
        "id": "VPtkMtr1YDVm",
        "outputId": "57cbdd89-19a4-4afb-b405-8e1177580d37"
      },
      "execution_count": 9,
      "outputs": [
        {
          "output_type": "execute_result",
          "data": {
            "text/plain": [
              "Text(0.5, 1.0, 'Coat')"
            ]
          },
          "metadata": {},
          "execution_count": 9
        },
        {
          "output_type": "display_data",
          "data": {
            "text/plain": [
              "<Figure size 432x288 with 1 Axes>"
            ],
            "image/png": "[encoded data removed]"
          },
          "metadata": {
            "needs_background": "light"
          }
        }
      ]
    },
    {
      "cell_type": "code",
      "source": [
        "tf.size(train_data)"
      ],
      "metadata": {
        "colab": {
          "base_uri": "https://localhost:8080/"
        },
        "id": "S65eaUHKZy3w",
        "outputId": "c89eed97-90f9-4951-8558-618e06aff340"
      },
      "execution_count": 10,
      "outputs": [
        {
          "output_type": "execute_result",
          "data": {
            "text/plain": [
              "<tf.Tensor: shape=(), dtype=int32, numpy=47040000>"
            ]
          },
          "metadata": {},
          "execution_count": 10
        }
      ]
    },
    {
      "cell_type": "code",
      "source": [
        "#Plot multiple random images of fashion MNIST\n",
        "plt.figure(figsize=(7,7))\n",
        "for i in range(4):\n",
        "  ax = plt. subplot(2, 2, i+1)\n",
        "  rand_index = random.choice(range(len(train_data)))\n",
        "  plt.imshow(train_data[rand_index], cmap=plt.cm.binary)\n",
        "  plt.title(class_names[train_labels[rand_index]])\n",
        "  plt.axis(False)"
      ],
      "metadata": {
        "colab": {
          "base_uri": "https://localhost:8080/",
          "height": 427
        },
        "id": "MUJM2-zPbZxo",
        "outputId": "535f4606-cbf6-4c08-8e38-93834a57318f"
      },
      "execution_count": 11,
      "outputs": [
        {
          "output_type": "display_data",
          "data": {
            "text/plain": [
              "<Figure size 504x504 with 4 Axes>"
            ],
            "image/png": "[encoded data removed]"
          },
          "metadata": {
            "needs_background": "light"
          }
        }
      ]
    },
    {
      "cell_type": "code",
      "source": [
        "#Plot multiple random images of fashion MNIST\n",
        "plt.figure(figsize=(7,7))\n",
        "for i in range(4):\n",
        "  ax = plt. subplot(2, 2, i+1)\n",
        "  rand_index = random.choice(range(len(train_data)))\n",
        "  plt.imshow(train_data[rand_index], cmap=plt.cm.binary)\n",
        "  plt.title(class_names[train_labels[rand_index]])"
      ],
      "metadata": {
        "colab": {
          "base_uri": "https://localhost:8080/",
          "height": 444
        },
        "id": "VQzGvwticYKR",
        "outputId": "2c8376ed-35d5-4a45-9a14-f0a1ef499bbb"
      },
      "execution_count": 12,
      "outputs": [
        {
          "output_type": "display_data",
          "data": {
            "text/plain": [
              "<Figure size 504x504 with 4 Axes>"
            ],
            "image/png": "[encoded data removed]"
          },
          "metadata": {
            "needs_background": "light"
          }
        }
      ]
    },
    {
      "cell_type": "markdown",
      "source": [
        "1. Input Shape = 28x 28 (image shape)\n",
        "2. Output shape = 10 (one per class of clothing\n",
        "3. Loss function = categorical_crossentropy\n",
        "  If your labels are Integer use sparse_categorical_crossentropy\n",
        "4. Output layer activation = Softmax\n",
        "\n"
      ],
      "metadata": {
        "id": "V8l9RclydMUg"
      }
    },
    {
      "cell_type": "code",
      "source": [
        "flatten_model = tf.keras.Sequential([tf.keras.layers.Flatten(input_shape=(28, 28))])\n",
        "flatten_model.output_shape"
      ],
      "metadata": {
        "colab": {
          "base_uri": "https://localhost:8080/"
        },
        "id": "HwyWfG5BeyoB",
        "outputId": "784c5043-6ce6-4c22-f844-0e84ce5dec68"
      },
      "execution_count": 13,
      "outputs": [
        {
          "output_type": "execute_result",
          "data": {
            "text/plain": [
              "(None, 784)"
            ]
          },
          "metadata": {},
          "execution_count": 13
        }
      ]
    },
    {
      "cell_type": "code",
      "source": [
        "model_11 = tf.keras.Sequential([\n",
        "  tf.keras.layers.Flatten(input_shape=(28, 28)),\n",
        "  tf.keras.layers.Dense(4, activation=\"relu\"),\n",
        "  tf.keras.layers.Dense(4, activation=\"relu\"),\n",
        "  tf.keras.layers.Dense(10, activation=\"softmax\")\n",
        "])\n",
        "\n",
        "model_11.compile(loss=\"sparse_categorical_crossentropy\",\n",
        "                 optimizer=\"Adam\",\n",
        "                 metrics=[\"accuracy\"])\n",
        "\n",
        "\n",
        "non_norm_history = model_11.fit(train_data,\n",
        "                                train_labels,\n",
        "                                epochs=10,\n",
        "                                validation_data=(test_data, test_labels))\n"
      ],
      "metadata": {
        "colab": {
          "base_uri": "https://localhost:8080/"
        },
        "id": "gmx1kmPgd3QQ",
        "outputId": "3838b0de-14a0-45e2-a234-1bddf3795829"
      },
      "execution_count": 14,
      "outputs": [
        {
          "output_type": "stream",
          "name": "stdout",
          "text": [
            "Epoch 1/10\n",
            "1875/1875 [==============================] - 4s 2ms/step - loss: 2.3206 - accuracy: 0.0989 - val_loss: 2.3026 - val_accuracy: 0.1000\n",
            "Epoch 2/10\n",
            "1875/1875 [==============================] - 3s 2ms/step - loss: 2.3031 - accuracy: 0.0999 - val_loss: 2.3026 - val_accuracy: 0.1000\n",
            "Epoch 3/10\n",
            "1875/1875 [==============================] - 3s 1ms/step - loss: 2.3028 - accuracy: 0.0985 - val_loss: 2.3026 - val_accuracy: 0.1000\n",
            "Epoch 4/10\n",
            "1875/1875 [==============================] - 3s 2ms/step - loss: 2.3028 - accuracy: 0.0989 - val_loss: 2.3026 - val_accuracy: 0.1000\n",
            "Epoch 5/10\n",
            "1875/1875 [==============================] - 4s 2ms/step - loss: 2.3027 - accuracy: 0.0984 - val_loss: 2.3027 - val_accuracy: 0.1000\n",
            "Epoch 6/10\n",
            "1875/1875 [==============================] - 3s 1ms/step - loss: 2.3027 - accuracy: 0.0988 - val_loss: 2.3026 - val_accuracy: 0.1000\n",
            "Epoch 7/10\n",
            "1875/1875 [==============================] - 3s 1ms/step - loss: 2.3027 - accuracy: 0.0994 - val_loss: 2.3026 - val_accuracy: 0.1000\n",
            "Epoch 8/10\n",
            "1875/1875 [==============================] - 3s 1ms/step - loss: 2.3027 - accuracy: 0.0984 - val_loss: 2.3026 - val_accuracy: 0.1000\n",
            "Epoch 9/10\n",
            "1875/1875 [==============================] - 3s 2ms/step - loss: 2.3027 - accuracy: 0.0977 - val_loss: 2.3026 - val_accuracy: 0.1000\n",
            "Epoch 10/10\n",
            "1875/1875 [==============================] - 3s 1ms/step - loss: 2.3027 - accuracy: 0.0985 - val_loss: 2.3026 - val_accuracy: 0.1000\n"
          ]
        }
      ]
    },
    {
      "cell_type": "code",
      "source": [
        "# Check the model summary\n",
        "model_11.summary()"
      ],
      "metadata": {
        "colab": {
          "base_uri": "https://localhost:8080/"
        },
        "id": "x5Mab52F1dRv",
        "outputId": "9e53ea84-65a6-4ca1-d5be-186b0cb42e77"
      },
      "execution_count": 15,
      "outputs": [
        {
          "output_type": "stream",
          "name": "stdout",
          "text": [
            "Model: \"sequential_1\"\n",
            "_________________________________________________________________\n",
            " Layer (type)                Output Shape              Param #   \n",
            "=================================================================\n",
            " flatten_1 (Flatten)         (None, 784)               0         \n",
            "                                                                 \n",
            " dense (Dense)               (None, 4)                 3140      \n",
            "                                                                 \n",
            " dense_1 (Dense)             (None, 4)                 20        \n",
            "                                                                 \n",
            " dense_2 (Dense)             (None, 10)                50        \n",
            "                                                                 \n",
            "=================================================================\n",
            "Total params: 3,210\n",
            "Trainable params: 3,210\n",
            "Non-trainable params: 0\n",
            "_________________________________________________________________\n"
          ]
        }
      ]
    },
    {
      "cell_type": "code",
      "source": [
        "# Check the min and max values of the training data\n",
        "\n",
        "train_data.min(), train_data.max()"
      ],
      "metadata": {
        "colab": {
          "base_uri": "https://localhost:8080/"
        },
        "id": "4d6tntK42AMn",
        "outputId": "a2693045-80bb-48cc-ec57-e75432d88724"
      },
      "execution_count": 57,
      "outputs": [
        {
          "output_type": "execute_result",
          "data": {
            "text/plain": [
              "(0, 255)"
            ]
          },
          "metadata": {},
          "execution_count": 57
        }
      ]
    },
    {
      "cell_type": "markdown",
      "source": [
        "# Neural networks prefer data to be scaled (or normalized), this means they like to have the numbers in the  test and train data between 0 and 1."
      ],
      "metadata": {
        "id": "Py0Ef3Me2R_g"
      }
    },
    {
      "cell_type": "markdown",
      "source": [
        "# We can get our training and testing data between 0 & 1 by dividing by the maximum "
      ],
      "metadata": {
        "id": "jrGF3i0X2fKX"
      }
    },
    {
      "cell_type": "code",
      "source": [],
      "metadata": {
        "id": "apc6DMrxFVXL"
      },
      "execution_count": null,
      "outputs": []
    },
    {
      "cell_type": "code",
      "source": [
        "train_data_norm = train_data/255.0\n",
        "test_data_norm = test_data/255.0\n",
        "\n",
        "#check the min and max values of the scaled training data\n",
        "\n",
        "train_data_norm.min(), train_data_norm.max()"
      ],
      "metadata": {
        "colab": {
          "base_uri": "https://localhost:8080/"
        },
        "id": "Jt5U2b252oXv",
        "outputId": "1dfa2fa1-0ffa-4fb7-a716-c8f093c7e739"
      },
      "execution_count": 58,
      "outputs": [
        {
          "output_type": "execute_result",
          "data": {
            "text/plain": [
              "(0.0, 1.0)"
            ]
          },
          "metadata": {},
          "execution_count": 58
        }
      ]
    },
    {
      "cell_type": "code",
      "source": [
        "tf.random.set_seed(42)\n",
        "\n",
        "model_12 =  tf.keras.Sequential([\n",
        "    tf.keras.layers.Flatten(input_shape=(28,28)),\n",
        "    tf.keras.layers.Dense(4, activation=\"relu\"),\n",
        "    tf.keras.layers.Dense(4, activation=\"relu\"),\n",
        "    tf.keras.layers.Dense(10, activation=\"softmax\")\n",
        "])\n",
        "\n",
        "model_12.compile(loss=tf.keras.losses.SparseCategoricalCrossentropy(),\n",
        "                 optimizer=\"Adam\",\n",
        "                 metrics=[\"accuracy\"])\n",
        "\n",
        "norm_history =  model_12.fit(train_data_norm,\n",
        "                             train_labels,\n",
        "                             epochs=10,\n",
        "                             validation_data=(test_data_norm, test_labels))"
      ],
      "metadata": {
        "colab": {
          "base_uri": "https://localhost:8080/"
        },
        "id": "rXsIxkiI2-KX",
        "outputId": "7178b502-bc24-498d-8411-629b89e52714"
      },
      "execution_count": 34,
      "outputs": [
        {
          "output_type": "stream",
          "name": "stdout",
          "text": [
            "Epoch 1/10\n",
            "1875/1875 [==============================] - 4s 2ms/step - loss: 1.7361 - accuracy: 0.3021 - val_loss: 66.4531 - val_accuracy: 0.3315\n",
            "Epoch 2/10\n",
            "1875/1875 [==============================] - 3s 2ms/step - loss: 1.1872 - accuracy: 0.5416 - val_loss: 130.8710 - val_accuracy: 0.4469\n",
            "Epoch 3/10\n",
            "1875/1875 [==============================] - 3s 2ms/step - loss: 0.9763 - accuracy: 0.6494 - val_loss: 157.2359 - val_accuracy: 0.5011\n",
            "Epoch 4/10\n",
            "1875/1875 [==============================] - 3s 2ms/step - loss: 0.8715 - accuracy: 0.6867 - val_loss: 172.9448 - val_accuracy: 0.5250\n",
            "Epoch 5/10\n",
            "1875/1875 [==============================] - 3s 2ms/step - loss: 0.8180 - accuracy: 0.7045 - val_loss: 169.5376 - val_accuracy: 0.5505\n",
            "Epoch 6/10\n",
            "1875/1875 [==============================] - 3s 2ms/step - loss: 0.7868 - accuracy: 0.7160 - val_loss: 171.7493 - val_accuracy: 0.5639\n",
            "Epoch 7/10\n",
            "1875/1875 [==============================] - 3s 1ms/step - loss: 0.7661 - accuracy: 0.7258 - val_loss: 176.4090 - val_accuracy: 0.5784\n",
            "Epoch 8/10\n",
            "1875/1875 [==============================] - 3s 2ms/step - loss: 0.7507 - accuracy: 0.7307 - val_loss: 175.4195 - val_accuracy: 0.5896\n",
            "Epoch 9/10\n",
            "1875/1875 [==============================] - 3s 2ms/step - loss: 0.7384 - accuracy: 0.7353 - val_loss: 184.6254 - val_accuracy: 0.5922\n",
            "Epoch 10/10\n",
            "1875/1875 [==============================] - 3s 2ms/step - loss: 0.7288 - accuracy: 0.7393 - val_loss: 182.1862 - val_accuracy: 0.5999\n"
          ]
        }
      ]
    },
    {
      "cell_type": "code",
      "source": [
        "import pandas as pd\n",
        "\n",
        "pd.DataFrame(non_norm_history.history).plot(title=\"non normalized data\")\n",
        "pd.DataFrame(norm_history.history).plot(title=\"normalized data\")"
      ],
      "metadata": {
        "colab": {
          "base_uri": "https://localhost:8080/",
          "height": 563
        },
        "id": "bqFhzwFo5RyQ",
        "outputId": "bd22d743-236c-47a9-d926-c6a5cc4eb75e"
      },
      "execution_count": 59,
      "outputs": [
        {
          "output_type": "execute_result",
          "data": {
            "text/plain": [
              "<matplotlib.axes._subplots.AxesSubplot at 0x7f04953e2b80>"
            ]
          },
          "metadata": {},
          "execution_count": 59
        },
        {
          "output_type": "display_data",
          "data": {
            "text/plain": [
              "<Figure size 432x288 with 1 Axes>"
            ],
            "image/png": "[encoded data removed]"
          },
          "metadata": {
            "needs_background": "light"
          }
        },
        {
          "output_type": "display_data",
          "data": {
            "text/plain": [
              "<Figure size 432x288 with 1 Axes>"
            ],
            "image/png": "[encoded data removed]"
          },
          "metadata": {
            "needs_background": "light"
          }
        }
      ]
    },
    {
      "cell_type": "markdown",
      "source": [
        "#The same model with even slightly different data cab produce dramatically different results. So when you're comparing models, it's importatnt to make sure you're comparing them on the same criteria (e.g. same architecture but different data)"
      ],
      "metadata": {
        "id": "GT5f6dOv6CwQ"
      }
    },
    {
      "cell_type": "code",
      "source": [
        "train_data_norm.dtype"
      ],
      "metadata": {
        "colab": {
          "base_uri": "https://localhost:8080/"
        },
        "id": "RuHzcbWD9LLp",
        "outputId": "0336b477-7149-49e9-e6f4-8b5c3c8bc15e"
      },
      "execution_count": 60,
      "outputs": [
        {
          "output_type": "execute_result",
          "data": {
            "text/plain": [
              "dtype('float64')"
            ]
          },
          "metadata": {},
          "execution_count": 60
        }
      ]
    },
    {
      "cell_type": "markdown",
      "source": [
        "# Finding the ideal learning rate"
      ],
      "metadata": {
        "id": "Sa6yhUf-6Z6Z"
      }
    },
    {
      "cell_type": "code",
      "source": [
        "from keras.optimizers.optimizer_v2.nadam import learning_rate_schedule\n",
        "from keras.callbacks import LearningRateScheduler\n",
        "tf.random.set_seed(42)\n",
        "\n",
        "model_13 = tf.keras.Sequential([\n",
        "    tf.keras.layers.Flatten(input_shape=(28,28)),\n",
        "    tf.keras.layers.Dense(8, activation=\"relu\"),\n",
        "    tf.keras.layers.Dense(8, activation=\"relu\"),\n",
        "    tf.keras.layers.Dense(10, activation=\"softmax\")\n",
        "])\n",
        "\n",
        "model_13.compile(loss=tf.keras.losses.SparseCategoricalCrossentropy(),\n",
        "                 optimizer=\"Adam\",\n",
        "                 metrics=[\"accuracy\"])\n",
        "\n",
        "lr_scheduler = tf.keras.callbacks.LearningRateScheduler(lambda epoch: 1e-3 * 10**(epoch/20))\n",
        "find_lr_history = model_13.fit(train_data_norm,\n",
        "                               train_labels,\n",
        "                               epochs=40,\n",
        "                               validation_data = (test_data_norm,test_labels),\n",
        "                               callbacks=[lr_scheduler])\n"
      ],
      "metadata": {
        "colab": {
          "base_uri": "https://localhost:8080/"
        },
        "id": "HdHsbDtc6pBo",
        "outputId": "65c0c134-7f3b-4b80-a319-d6afab9ce5c5"
      },
      "execution_count": 62,
      "outputs": [
        {
          "output_type": "stream",
          "name": "stdout",
          "text": [
            "Epoch 1/40\n",
            "1875/1875 [==============================] - 4s 2ms/step - loss: 0.7345 - accuracy: 0.7412 - val_loss: 0.5374 - val_accuracy: 0.8089 - lr: 0.0010\n",
            "Epoch 2/40\n",
            "1875/1875 [==============================] - 3s 2ms/step - loss: 0.4946 - accuracy: 0.8281 - val_loss: 0.5340 - val_accuracy: 0.8091 - lr: 0.0011\n",
            "Epoch 3/40\n",
            "1875/1875 [==============================] - 3s 2ms/step - loss: 0.4662 - accuracy: 0.8379 - val_loss: 0.5087 - val_accuracy: 0.8183 - lr: 0.0013\n",
            "Epoch 4/40\n",
            "1875/1875 [==============================] - 4s 2ms/step - loss: 0.4482 - accuracy: 0.8439 - val_loss: 0.4902 - val_accuracy: 0.8272 - lr: 0.0014\n",
            "Epoch 5/40\n",
            "1875/1875 [==============================] - 3s 2ms/step - loss: 0.4387 - accuracy: 0.8456 - val_loss: 0.5019 - val_accuracy: 0.8219 - lr: 0.0016\n",
            "Epoch 6/40\n",
            "1875/1875 [==============================] - 3s 2ms/step - loss: 0.4299 - accuracy: 0.8484 - val_loss: 0.4744 - val_accuracy: 0.8350 - lr: 0.0018\n",
            "Epoch 7/40\n",
            "1875/1875 [==============================] - 3s 2ms/step - loss: 0.4236 - accuracy: 0.8503 - val_loss: 0.4617 - val_accuracy: 0.8377 - lr: 0.0020\n",
            "Epoch 8/40\n",
            "1875/1875 [==============================] - 3s 2ms/step - loss: 0.4182 - accuracy: 0.8526 - val_loss: 0.4582 - val_accuracy: 0.8389 - lr: 0.0022\n",
            "Epoch 9/40\n",
            "1875/1875 [==============================] - 5s 3ms/step - loss: 0.4125 - accuracy: 0.8549 - val_loss: 0.4573 - val_accuracy: 0.8406 - lr: 0.0025\n",
            "Epoch 10/40\n",
            "1875/1875 [==============================] - 4s 2ms/step - loss: 0.4142 - accuracy: 0.8541 - val_loss: 0.4819 - val_accuracy: 0.8280 - lr: 0.0028\n",
            "Epoch 11/40\n",
            "1875/1875 [==============================] - 4s 2ms/step - loss: 0.4133 - accuracy: 0.8527 - val_loss: 0.4634 - val_accuracy: 0.8340 - lr: 0.0032\n",
            "Epoch 12/40\n",
            "1875/1875 [==============================] - 4s 2ms/step - loss: 0.4124 - accuracy: 0.8544 - val_loss: 0.4659 - val_accuracy: 0.8355 - lr: 0.0035\n",
            "Epoch 13/40\n",
            "1875/1875 [==============================] - 4s 2ms/step - loss: 0.4121 - accuracy: 0.8552 - val_loss: 0.5041 - val_accuracy: 0.8253 - lr: 0.0040\n",
            "Epoch 14/40\n",
            "1875/1875 [==============================] - 4s 2ms/step - loss: 0.4112 - accuracy: 0.8546 - val_loss: 0.4576 - val_accuracy: 0.8410 - lr: 0.0045\n",
            "Epoch 15/40\n",
            "1875/1875 [==============================] - 4s 2ms/step - loss: 0.4163 - accuracy: 0.8537 - val_loss: 0.5044 - val_accuracy: 0.8237 - lr: 0.0050\n",
            "Epoch 16/40\n",
            "1875/1875 [==============================] - 3s 2ms/step - loss: 0.4164 - accuracy: 0.8528 - val_loss: 0.4664 - val_accuracy: 0.8354 - lr: 0.0056\n",
            "Epoch 17/40\n",
            "1875/1875 [==============================] - 3s 2ms/step - loss: 0.4176 - accuracy: 0.8516 - val_loss: 0.4806 - val_accuracy: 0.8349 - lr: 0.0063\n",
            "Epoch 18/40\n",
            "1875/1875 [==============================] - 3s 2ms/step - loss: 0.4250 - accuracy: 0.8504 - val_loss: 0.4492 - val_accuracy: 0.8408 - lr: 0.0071\n",
            "Epoch 19/40\n",
            "1875/1875 [==============================] - 3s 2ms/step - loss: 0.4250 - accuracy: 0.8495 - val_loss: 0.4789 - val_accuracy: 0.8344 - lr: 0.0079\n",
            "Epoch 20/40\n",
            "1875/1875 [==============================] - 4s 2ms/step - loss: 0.4328 - accuracy: 0.8476 - val_loss: 0.4755 - val_accuracy: 0.8374 - lr: 0.0089\n",
            "Epoch 21/40\n",
            "1875/1875 [==============================] - 4s 2ms/step - loss: 0.4371 - accuracy: 0.8453 - val_loss: 0.5331 - val_accuracy: 0.8146 - lr: 0.0100\n",
            "Epoch 22/40\n",
            "1875/1875 [==============================] - 3s 2ms/step - loss: 0.4423 - accuracy: 0.8442 - val_loss: 0.5198 - val_accuracy: 0.8234 - lr: 0.0112\n",
            "Epoch 23/40\n",
            "1875/1875 [==============================] - 4s 2ms/step - loss: 0.4524 - accuracy: 0.8426 - val_loss: 0.5022 - val_accuracy: 0.8217 - lr: 0.0126\n",
            "Epoch 24/40\n",
            "1875/1875 [==============================] - 4s 2ms/step - loss: 0.4624 - accuracy: 0.8403 - val_loss: 0.5137 - val_accuracy: 0.8242 - lr: 0.0141\n",
            "Epoch 25/40\n",
            "1875/1875 [==============================] - 3s 2ms/step - loss: 0.4756 - accuracy: 0.8378 - val_loss: 0.4960 - val_accuracy: 0.8328 - lr: 0.0158\n",
            "Epoch 26/40\n",
            "1875/1875 [==============================] - 4s 2ms/step - loss: 0.4869 - accuracy: 0.8338 - val_loss: 0.5724 - val_accuracy: 0.8133 - lr: 0.0178\n",
            "Epoch 27/40\n",
            "1875/1875 [==============================] - 4s 2ms/step - loss: 0.4989 - accuracy: 0.8299 - val_loss: 0.5416 - val_accuracy: 0.8164 - lr: 0.0200\n",
            "Epoch 28/40\n",
            "1875/1875 [==============================] - 4s 2ms/step - loss: 0.5126 - accuracy: 0.8253 - val_loss: 0.5831 - val_accuracy: 0.8111 - lr: 0.0224\n",
            "Epoch 29/40\n",
            "1875/1875 [==============================] - 5s 2ms/step - loss: 0.5488 - accuracy: 0.8184 - val_loss: 0.6471 - val_accuracy: 0.8042 - lr: 0.0251\n",
            "Epoch 30/40\n",
            "1875/1875 [==============================] - 4s 2ms/step - loss: 0.5789 - accuracy: 0.8080 - val_loss: 0.6397 - val_accuracy: 0.7876 - lr: 0.0282\n",
            "Epoch 31/40\n",
            "1875/1875 [==============================] - 4s 2ms/step - loss: 0.6331 - accuracy: 0.7941 - val_loss: 0.7820 - val_accuracy: 0.7735 - lr: 0.0316\n",
            "Epoch 32/40\n",
            "1875/1875 [==============================] - 4s 2ms/step - loss: 0.6708 - accuracy: 0.7779 - val_loss: 0.8219 - val_accuracy: 0.7223 - lr: 0.0355\n",
            "Epoch 33/40\n",
            "1875/1875 [==============================] - 4s 2ms/step - loss: 0.7343 - accuracy: 0.7362 - val_loss: 0.7288 - val_accuracy: 0.7454 - lr: 0.0398\n",
            "Epoch 34/40\n",
            "1875/1875 [==============================] - 3s 2ms/step - loss: 1.0095 - accuracy: 0.6012 - val_loss: 1.1845 - val_accuracy: 0.4492 - lr: 0.0447\n",
            "Epoch 35/40\n",
            "1875/1875 [==============================] - 3s 2ms/step - loss: 1.1820 - accuracy: 0.5132 - val_loss: 1.9282 - val_accuracy: 0.2799 - lr: 0.0501\n",
            "Epoch 36/40\n",
            "1875/1875 [==============================] - 5s 3ms/step - loss: 1.2683 - accuracy: 0.4255 - val_loss: 1.2800 - val_accuracy: 0.4122 - lr: 0.0562\n",
            "Epoch 37/40\n",
            "1875/1875 [==============================] - 4s 2ms/step - loss: 1.3269 - accuracy: 0.4269 - val_loss: 1.2781 - val_accuracy: 0.4344 - lr: 0.0631\n",
            "Epoch 38/40\n",
            "1875/1875 [==============================] - 4s 2ms/step - loss: 1.4804 - accuracy: 0.3593 - val_loss: 1.7308 - val_accuracy: 0.2331 - lr: 0.0708\n",
            "Epoch 39/40\n",
            "1875/1875 [==============================] - 4s 2ms/step - loss: 1.7779 - accuracy: 0.1935 - val_loss: 1.7440 - val_accuracy: 0.1999 - lr: 0.0794\n",
            "Epoch 40/40\n",
            "1875/1875 [==============================] - 4s 2ms/step - loss: 1.8137 - accuracy: 0.1958 - val_loss: 1.7908 - val_accuracy: 0.1958 - lr: 0.0891\n"
          ]
        }
      ]
    },
    {
      "cell_type": "code",
      "source": [
        "import numpy as np\n",
        "import matplotlib.pyplot as plt\n",
        "\n",
        "lrs = 1e-3 * (10**(tf.range(40)/20))\n",
        "plt.semilogx(lrs, find_lr_history.history[\"loss\"])\n",
        "plt.xlabel(\"Learning Rate\")\n",
        "plt.ylabel(\"Loss\")\n",
        "plt.title(\"Finding the ideal Lr\")"
      ],
      "metadata": {
        "colab": {
          "base_uri": "https://localhost:8080/",
          "height": 317
        },
        "id": "_m_5g_Lt6mRx",
        "outputId": "370756be-9e34-4322-d7f4-fbb201fb2af6"
      },
      "execution_count": 61,
      "outputs": [
        {
          "output_type": "execute_result",
          "data": {
            "text/plain": [
              "Text(0.5, 1.0, 'Finding the ideal Lr')"
            ]
          },
          "metadata": {},
          "execution_count": 61
        },
        {
          "output_type": "display_data",
          "data": {
            "text/plain": [
              "<Figure size 432x288 with 1 Axes>"
            ],
            "image/png": "[encoded data removed]"
          },
          "metadata": {
            "needs_background": "light"
          }
        }
      ]
    },
    {
      "cell_type": "code",
      "source": [
        "tf.random.set_seed(42)\n",
        "\n",
        "model_14 = tf.keras.Sequential([\n",
        "    tf.keras.layers.Flatten(input_shape=(28,28)),\n",
        "    tf.keras.layers.Dense(4, activation=\"relu\"),\n",
        "    tf.keras.layers.Dense(4, activation=\"relu\"),\n",
        "    tf.keras.layers.Dense(10, activation=\"softmax\")\n",
        "])\n",
        "\n",
        "model_14.compile(loss=tf.keras.losses.SparseCategoricalCrossentropy(),\n",
        "                 optimizer=tf.keras.optimizers.Adam(lr=0.001),\n",
        "                 metrics=[\"accuracy\"])\n",
        "\n",
        "history_14  = model_14.fit(train_data_norm,\n",
        "                          train_labels,\n",
        "                          epochs=20,\n",
        "                          validation_data=(test_data_norm, test_labels))"
      ],
      "metadata": {
        "colab": {
          "base_uri": "https://localhost:8080/"
        },
        "id": "nT-7tcDRAE3x",
        "outputId": "08f4f062-cbec-498b-dab7-05d575de1b36"
      },
      "execution_count": 65,
      "outputs": [
        {
          "output_type": "stream",
          "name": "stderr",
          "text": [
            "WARNING:absl:`lr` is deprecated, please use `learning_rate` instead, or use the legacy optimizer, e.g.,tf.keras.optimizers.legacy.Adam.\n"
          ]
        },
        {
          "output_type": "stream",
          "name": "stdout",
          "text": [
            "Epoch 1/20\n",
            "1875/1875 [==============================] - 4s 2ms/step - loss: 1.1790 - accuracy: 0.5313 - val_loss: 0.7518 - val_accuracy: 0.7135\n",
            "Epoch 2/20\n",
            "1875/1875 [==============================] - 3s 2ms/step - loss: 0.6895 - accuracy: 0.7413 - val_loss: 0.6703 - val_accuracy: 0.7560\n",
            "Epoch 3/20\n",
            "1875/1875 [==============================] - 3s 2ms/step - loss: 0.5992 - accuracy: 0.7917 - val_loss: 0.6045 - val_accuracy: 0.7864\n",
            "Epoch 4/20\n",
            "1875/1875 [==============================] - 3s 2ms/step - loss: 0.5561 - accuracy: 0.8069 - val_loss: 0.5798 - val_accuracy: 0.7964\n",
            "Epoch 5/20\n",
            "1875/1875 [==============================] - 3s 2ms/step - loss: 0.5372 - accuracy: 0.8120 - val_loss: 0.5612 - val_accuracy: 0.8009\n",
            "Epoch 6/20\n",
            "1875/1875 [==============================] - 3s 2ms/step - loss: 0.5265 - accuracy: 0.8146 - val_loss: 0.5528 - val_accuracy: 0.8056\n",
            "Epoch 7/20\n",
            "1875/1875 [==============================] - 3s 2ms/step - loss: 0.5184 - accuracy: 0.8177 - val_loss: 0.5745 - val_accuracy: 0.7987\n",
            "Epoch 8/20\n",
            "1875/1875 [==============================] - 3s 2ms/step - loss: 0.5129 - accuracy: 0.8195 - val_loss: 0.5559 - val_accuracy: 0.8077\n",
            "Epoch 9/20\n",
            "1875/1875 [==============================] - 3s 1ms/step - loss: 0.5089 - accuracy: 0.8217 - val_loss: 0.5418 - val_accuracy: 0.8135\n",
            "Epoch 10/20\n",
            "1875/1875 [==============================] - 3s 2ms/step - loss: 0.5056 - accuracy: 0.8221 - val_loss: 0.5466 - val_accuracy: 0.8073\n",
            "Epoch 11/20\n",
            "1875/1875 [==============================] - 3s 2ms/step - loss: 0.5024 - accuracy: 0.8232 - val_loss: 0.5461 - val_accuracy: 0.8092\n",
            "Epoch 12/20\n",
            "1875/1875 [==============================] - 3s 2ms/step - loss: 0.4988 - accuracy: 0.8242 - val_loss: 0.5407 - val_accuracy: 0.8141\n",
            "Epoch 13/20\n",
            "1875/1875 [==============================] - 3s 1ms/step - loss: 0.4980 - accuracy: 0.8242 - val_loss: 0.5407 - val_accuracy: 0.8148\n",
            "Epoch 14/20\n",
            "1875/1875 [==============================] - 3s 2ms/step - loss: 0.4966 - accuracy: 0.8248 - val_loss: 0.5429 - val_accuracy: 0.8097\n",
            "Epoch 15/20\n",
            "1875/1875 [==============================] - 3s 2ms/step - loss: 0.4932 - accuracy: 0.8260 - val_loss: 0.5518 - val_accuracy: 0.8094\n",
            "Epoch 16/20\n",
            "1875/1875 [==============================] - 3s 1ms/step - loss: 0.4923 - accuracy: 0.8269 - val_loss: 0.5442 - val_accuracy: 0.8112\n",
            "Epoch 17/20\n",
            "1875/1875 [==============================] - 3s 2ms/step - loss: 0.4903 - accuracy: 0.8278 - val_loss: 0.5362 - val_accuracy: 0.8165\n",
            "Epoch 18/20\n",
            "1875/1875 [==============================] - 3s 2ms/step - loss: 0.4891 - accuracy: 0.8284 - val_loss: 0.5396 - val_accuracy: 0.8163\n",
            "Epoch 19/20\n",
            "1875/1875 [==============================] - 3s 2ms/step - loss: 0.4882 - accuracy: 0.8275 - val_loss: 0.5503 - val_accuracy: 0.8104\n",
            "Epoch 20/20\n",
            "1875/1875 [==============================] - 3s 2ms/step - loss: 0.4869 - accuracy: 0.8286 - val_loss: 0.5384 - val_accuracy: 0.8164\n"
          ]
        }
      ]
    },
    {
      "cell_type": "markdown",
      "source": [
        "## Evaluating our multi-calss classification model\n",
        "\n",
        "To evaluate our multi-class cl;assification model we could:\n",
        "* Evaluate its performance using other classification metrics (such as cm)\n",
        "* Asses some of its predictions (through visualizations)\n",
        "* Improve the results(by training it for longer or changing the architecture)\n",
        "* Save and export it for use in an application"
      ],
      "metadata": {
        "id": "JQAOHt0jB2Yc"
      }
    },
    {
      "cell_type": "code",
      "source": [
        "import itertools\n",
        "from sklearn.metrics import confusion_matrix\n",
        "\n",
        "\n",
        "def make_confusion_matrix(y_true, y_pred, classes=None, figsize=(10,10), text_size=15):\n",
        "\n",
        "  #Create confusion matrix and change de datatype of the predictions\n",
        "  cm = confusion_matrix(y_true, tf.round(y_pred))\n",
        "  cm_norm = cm.astype(\"float\") / cm.sum(axis=1)[:, np.newaxis]\n",
        "  n_classes = cm.shape[0]\n",
        "\n",
        "\n",
        "  #Plot the colorbar\n",
        "  fig, ax = plt.subplots(figsize=figsize)\n",
        "\n",
        "  cax = ax.matshow(cm, cmap=plt.cm.Blues)\n",
        "  fig.colorbar(cax)\n",
        "\n",
        "  #Set labels to be classes\n",
        "  if classes:\n",
        "    labels = classes\n",
        "  else:\n",
        "    labels = np.arange(cm.shape[0])\n",
        "\n",
        "  # Plot the Confusion Matrix\n",
        "  ax.set(title=\"Confusion Matrix\",\n",
        "        xlabel=\"Predicted Label\",\n",
        "        ylabel=\"True Label\",\n",
        "        xticks=np.arange(n_classes),\n",
        "        yticks=np.arange(n_classes),\n",
        "        xticklabels=labels,\n",
        "        yticklabels=labels)\n",
        "\n",
        "  ax.xaxis.set_label_position(\"bottom\")\n",
        "  ax.xaxis.tick_bottom()\n",
        "\n",
        "  #Titles and subtitles size\n",
        "  ax.yaxis.label.set_size(text_size)\n",
        "  ax.xaxis.label.set_size(text_size)\n",
        "  ax.title.set_size(text_size)\n",
        "\n",
        "  threshold = (cm.max() + cm.min()) / 2\n",
        "\n",
        "  #Set the range of the ground truth and predictions across the matrix\n",
        "  for i, j in itertools.product(range(cm.shape[0]), range(cm.shape[1])):\n",
        "    plt.text(j,i, f\"{cm[i, j]} ({cm_norm[i, j]*100:.1f}%)\",\n",
        "    horizontalalignment= \"center\",\n",
        "    color=\"white\" if cm[i, j] > threshold else \"black\",\n",
        "    size=text_size)"
      ],
      "metadata": {
        "id": "3m-vpbRZCeRL"
      },
      "execution_count": 67,
      "outputs": []
    },
    {
      "cell_type": "code",
      "source": [
        "class_names"
      ],
      "metadata": {
        "colab": {
          "base_uri": "https://localhost:8080/"
        },
        "id": "pBoyj55FEIuh",
        "outputId": "55ef3a52-a391-43b5-91e5-d3983d5d547d"
      },
      "execution_count": 47,
      "outputs": [
        {
          "output_type": "execute_result",
          "data": {
            "text/plain": [
              "['T-shirt/top',\n",
              " 'Trouser',\n",
              " 'Pullover',\n",
              " 'Dress',\n",
              " 'Coat',\n",
              " 'Sandal',\n",
              " 'Shirt',\n",
              " 'Sneaker',\n",
              " 'Bag',\n",
              " 'Ankle boot']"
            ]
          },
          "metadata": {},
          "execution_count": 47
        }
      ]
    },
    {
      "cell_type": "code",
      "source": [
        "#Make predictions with our model\n",
        "y_probs = model_14.predict(test_data_norm)\n",
        "\n",
        "#View the first 5 predictions\n",
        "y_probs[:5]"
      ],
      "metadata": {
        "colab": {
          "base_uri": "https://localhost:8080/"
        },
        "id": "D9N17A8fEMPT",
        "outputId": "d71bbeeb-b3da-4a0d-c67e-dbba22b0e94c"
      },
      "execution_count": 68,
      "outputs": [
        {
          "output_type": "stream",
          "name": "stdout",
          "text": [
            "313/313 [==============================] - 0s 955us/step\n"
          ]
        },
        {
          "output_type": "execute_result",
          "data": {
            "text/plain": [
              "array([[1.1574010e-08, 8.0823391e-08, 6.1996548e-07, 9.2797887e-07,\n",
              "        1.6572042e-09, 1.6551165e-01, 7.6302529e-09, 4.7786765e-02,\n",
              "        2.5945000e-04, 7.8644049e-01],\n",
              "       [2.2418390e-05, 1.5697426e-08, 9.5634693e-01, 7.7954802e-08,\n",
              "        5.8197808e-03, 1.7505146e-10, 3.7475772e-02, 3.6913483e-33,\n",
              "        3.3489597e-04, 1.9099667e-35],\n",
              "       [2.0176216e-07, 9.9863487e-01, 1.2351455e-04, 5.0341501e-04,\n",
              "        7.1436452e-04, 1.8024537e-06, 3.9727097e-06, 2.9956121e-11,\n",
              "        1.5063863e-05, 2.7718145e-06],\n",
              "       [1.6914138e-08, 9.9928194e-01, 3.5599172e-05, 3.5437386e-04,\n",
              "        3.1006787e-04, 4.9278094e-07, 6.2505438e-07, 7.5700297e-12,\n",
              "        1.2394449e-05, 4.4919998e-06],\n",
              "       [1.8571569e-01, 1.0016165e-04, 2.0473993e-01, 8.7880967e-03,\n",
              "        3.3814006e-02, 7.3661334e-07, 5.6138837e-01, 3.3533558e-15,\n",
              "        5.4529598e-03, 9.0265919e-19]], dtype=float32)"
            ]
          },
          "metadata": {},
          "execution_count": 68
        }
      ]
    },
    {
      "cell_type": "markdown",
      "source": [
        "**IMPORTANT**❗ Got strange values because I first normalized the data in the test_data variable, and then with the test data already normalized, created a test_data_norm trying to normalize it a second time, thus the incredible losses in the validation data and distorted graphs**"
      ],
      "metadata": {
        "id": "4An_B4dSF0zK"
      }
    },
    {
      "cell_type": "code",
      "source": [
        "x = tf.constant([[2,6,5],\n",
        "                 [3,5,8]])\n",
        "\n",
        "x, tf.argmax(x[1])"
      ],
      "metadata": {
        "colab": {
          "base_uri": "https://localhost:8080/"
        },
        "id": "KWLKKpMMMZqs",
        "outputId": "27fa7443-bb0f-41bf-9170-fae496799cb3"
      },
      "execution_count": 85,
      "outputs": [
        {
          "output_type": "execute_result",
          "data": {
            "text/plain": [
              "(<tf.Tensor: shape=(2, 3), dtype=int32, numpy=\n",
              " array([[2, 6, 5],\n",
              "        [3, 5, 8]], dtype=int32)>, <tf.Tensor: shape=(), dtype=int64, numpy=2>)"
            ]
          },
          "metadata": {},
          "execution_count": 85
        }
      ]
    },
    {
      "cell_type": "code",
      "source": [
        "y_probs[0], tf.argmax(y_probs[0]), class_names[tf.argmax(y_probs[0])]"
      ],
      "metadata": {
        "colab": {
          "base_uri": "https://localhost:8080/"
        },
        "id": "Rbc9t4WnGXb8",
        "outputId": "b4a6db41-6d80-4f4a-ded9-acd5d3f871e8"
      },
      "execution_count": 70,
      "outputs": [
        {
          "output_type": "execute_result",
          "data": {
            "text/plain": [
              "(array([1.1574010e-08, 8.0823391e-08, 6.1996548e-07, 9.2797887e-07,\n",
              "        1.6572042e-09, 1.6551165e-01, 7.6302529e-09, 4.7786765e-02,\n",
              "        2.5945000e-04, 7.8644049e-01], dtype=float32),\n",
              " <tf.Tensor: shape=(), dtype=int64, numpy=9>,\n",
              " 'Ankle boot')"
            ]
          },
          "metadata": {},
          "execution_count": 70
        }
      ]
    },
    {
      "cell_type": "code",
      "source": [
        "y_preds = y_probs.argmax(axis=1)\n",
        "\n",
        "y_preds[:10]"
      ],
      "metadata": {
        "colab": {
          "base_uri": "https://localhost:8080/"
        },
        "id": "4d0Y1jXBHpA0",
        "outputId": "99ed97d5-0a71-424f-af90-2a6e7f254d1a"
      },
      "execution_count": 71,
      "outputs": [
        {
          "output_type": "execute_result",
          "data": {
            "text/plain": [
              "array([9, 2, 1, 1, 6, 1, 4, 6, 5, 7])"
            ]
          },
          "metadata": {},
          "execution_count": 71
        }
      ]
    },
    {
      "cell_type": "code",
      "source": [
        "test_labels"
      ],
      "metadata": {
        "colab": {
          "base_uri": "https://localhost:8080/"
        },
        "id": "SbEGL-HHHx1E",
        "outputId": "7795bc8f-6534-4582-c1b1-4c262817868f"
      },
      "execution_count": 72,
      "outputs": [
        {
          "output_type": "execute_result",
          "data": {
            "text/plain": [
              "array([9, 2, 1, ..., 8, 1, 5], dtype=uint8)"
            ]
          },
          "metadata": {},
          "execution_count": 72
        }
      ]
    },
    {
      "cell_type": "code",
      "source": [
        "from sklearn.metrics import confusion_matrix\n",
        "confusion_matrix(y_true=test_labels,\n",
        "                 y_pred=y_preds)"
      ],
      "metadata": {
        "colab": {
          "base_uri": "https://localhost:8080/"
        },
        "id": "V2lxQNZoH3oz",
        "outputId": "ff91e492-fc7c-4903-f77b-e7ef8cf7d4d9"
      },
      "execution_count": 74,
      "outputs": [
        {
          "output_type": "execute_result",
          "data": {
            "text/plain": [
              "array([[749,   7,  18,  67,   4,   4, 140,   0,  11,   0],\n",
              "       [  1, 960,  10,  20,   7,   0,   1,   0,   1,   0],\n",
              "       [ 10,  12, 731,  16, 140,   0,  76,   0,  15,   0],\n",
              "       [ 33,  20,   6, 854,  34,   1,  38,   2,  11,   1],\n",
              "       [  2,  13, 116,  37, 756,   1,  71,   0,   4,   0],\n",
              "       [  2,   0,   1,   0,   0, 910,   0,  40,  10,  37],\n",
              "       [160,   8, 155,  55, 139,   4, 462,   1,  16,   0],\n",
              "       [  0,   0,   0,   0,   0,  48,   0, 894,   0,  58],\n",
              "       [  8,   1,  23,  16,   1,  10,  23,   4, 914,   0],\n",
              "       [  1,   0,   0,   0,   0,  21,   0,  44,   0, 934]])"
            ]
          },
          "metadata": {},
          "execution_count": 74
        }
      ]
    },
    {
      "cell_type": "code",
      "source": [
        "# Make a prettier confusion amtrix\n",
        "make_confusion_matrix(y_true=test_labels,\n",
        "                      y_pred=y_preds,\n",
        "                      classes=class_names,\n",
        "                      figsize=(15,15,),\n",
        "                      text_size=10)"
      ],
      "metadata": {
        "colab": {
          "base_uri": "https://localhost:8080/",
          "height": 852
        },
        "id": "awAuEvXfIQ0S",
        "outputId": "4e80d579-d6c5-4f6c-9388-55253fa78ee5"
      },
      "execution_count": 78,
      "outputs": [
        {
          "output_type": "display_data",
          "data": {
            "text/plain": [
              "<Figure size 1080x1080 with 2 Axes>"
            ],
            "image/png": "[encoded data removed]"
          },
          "metadata": {
            "needs_background": "light"
          }
        }
      ]
    },
    {
      "cell_type": "markdown",
      "source": [
        "> 🔑**Note:** Often when working with images and other forms of visual data, it's a good idea to visualize as much as possible to develop a further understanding of the data and the inputs and outputs of your models.\n",
        "\n",
        "How about we create a fun little function for:\n",
        "  * Plot a random image\n",
        "  * Make a prediction on said image\n",
        "  * Label the plot with the truth label & the predicted label"
      ],
      "metadata": {
        "id": "F3jvrm8NJYGE"
      }
    },
    {
      "cell_type": "code",
      "source": [
        "import random\n",
        "\n",
        "def plot_random_image(model, images, true_labels, classes):\n",
        "\n",
        "  i = random.randint(0, len(images))\n",
        "\n",
        "  target_image = images[i]\n",
        "  pred_probs = model.predict(target_image.reshape(1, 28, 28))\n",
        "  pred_label = classes[pred_probs.argmax()]\n",
        "  true_label = classes[true_labels[i]]\n",
        "\n",
        "  plt.imshow(target_image, cmap=plt.cm.binary)\n",
        "  if pred_label == true_label:\n",
        "    color = \"green\"\n",
        "  else:\n",
        "    color = \"red\"\n",
        "\n",
        "  plt.xlabel(\"Pred: {} {:2.0f}% (True: {})\".format(pred_label,\n",
        "                                                  100*tf.reduce_max(pred_probs),\n",
        "                                                  true_label),\n",
        "             color=color)\n"
      ],
      "metadata": {
        "id": "9bkRMO4UJ3v9"
      },
      "execution_count": 91,
      "outputs": []
    },
    {
      "cell_type": "markdown",
      "source": [
        "#Always make predictions on the same kind of data your model was trained on"
      ],
      "metadata": {
        "id": "ghpmoxQ4N9Y8"
      }
    },
    {
      "cell_type": "code",
      "source": [
        "plot_random_image(model=model_14, images=test_data_norm, true_labels=test_labels, classes=class_names)"
      ],
      "metadata": {
        "colab": {
          "base_uri": "https://localhost:8080/",
          "height": 297
        },
        "id": "KrnmOt1lNWLl",
        "outputId": "81d3a742-8f46-4a13-d71c-0dd90ee3a73f"
      },
      "execution_count": 96,
      "outputs": [
        {
          "output_type": "stream",
          "name": "stdout",
          "text": [
            "1/1 [==============================] - 0s 25ms/step\n"
          ]
        },
        {
          "output_type": "display_data",
          "data": {
            "text/plain": [
              "<Figure size 432x288 with 1 Axes>"
            ],
            "image/png": "[encoded data removed]"
          },
          "metadata": {
            "needs_background": "light"
          }
        }
      ]
    },
    {
      "cell_type": "code",
      "source": [],
      "metadata": {
        "colab": {
          "base_uri": "https://localhost:8080/"
        },
        "id": "6JQeDByyPHbN",
        "outputId": "6f1de7fc-a9fc-4e90-a2f4-37194b3a3b97"
      },
      "execution_count": 97,
      "outputs": [
        {
          "output_type": "execute_result",
          "data": {
            "text/plain": [
              "array([[0.        , 0.        , 0.        , 0.        , 0.        ,\n",
              "        0.        , 0.        , 0.        , 0.        , 0.        ,\n",
              "        0.        , 0.        , 0.        , 0.        , 0.        ,\n",
              "        0.        , 0.        , 0.        , 0.        , 0.        ,\n",
              "        0.        , 0.        , 0.        , 0.        , 0.        ,\n",
              "        0.        , 0.        , 0.        ],\n",
              "       [0.        , 0.        , 0.        , 0.        , 0.        ,\n",
              "        0.        , 0.        , 0.        , 0.        , 0.        ,\n",
              "        0.        , 0.        , 0.        , 0.        , 0.        ,\n",
              "        0.        , 0.        , 0.        , 0.        , 0.        ,\n",
              "        0.        , 0.        , 0.        , 0.        , 0.        ,\n",
              "        0.        , 0.        , 0.        ],\n",
              "       [0.        , 0.        , 0.        , 0.        , 0.        ,\n",
              "        0.        , 0.        , 0.        , 0.        , 0.        ,\n",
              "        0.        , 0.        , 0.        , 0.        , 0.        ,\n",
              "        0.        , 0.        , 0.        , 0.        , 0.        ,\n",
              "        0.        , 0.        , 0.        , 0.        , 0.        ,\n",
              "        0.        , 0.        , 0.        ],\n",
              "       [0.        , 0.        , 0.        , 0.        , 0.        ,\n",
              "        0.        , 0.        , 0.        , 0.        , 0.        ,\n",
              "        0.        , 0.        , 0.        , 0.        , 0.        ,\n",
              "        0.        , 0.        , 0.        , 0.        , 0.        ,\n",
              "        0.        , 0.        , 0.        , 0.        , 0.        ,\n",
              "        0.        , 0.        , 0.        ],\n",
              "       [0.        , 0.        , 0.        , 0.        , 0.        ,\n",
              "        0.        , 0.        , 0.        , 0.        , 0.        ,\n",
              "        0.        , 0.        , 0.        , 0.        , 0.        ,\n",
              "        0.        , 0.        , 0.        , 0.        , 0.        ,\n",
              "        0.        , 0.        , 0.        , 0.        , 0.        ,\n",
              "        0.        , 0.        , 0.        ],\n",
              "       [0.        , 0.        , 0.        , 0.        , 0.        ,\n",
              "        0.        , 0.        , 0.        , 0.        , 0.        ,\n",
              "        0.        , 0.        , 0.        , 0.        , 0.        ,\n",
              "        0.        , 0.        , 0.        , 0.        , 0.        ,\n",
              "        0.        , 0.        , 0.        , 0.        , 0.        ,\n",
              "        0.        , 0.        , 0.        ],\n",
              "       [0.        , 0.        , 0.        , 0.        , 0.        ,\n",
              "        0.        , 0.        , 0.        , 0.        , 0.        ,\n",
              "        0.        , 0.        , 0.        , 0.        , 0.        ,\n",
              "        0.        , 0.        , 0.        , 0.        , 0.        ,\n",
              "        0.        , 0.        , 0.        , 0.        , 0.        ,\n",
              "        0.        , 0.        , 0.        ],\n",
              "       [0.        , 0.        , 0.        , 0.        , 0.        ,\n",
              "        0.        , 0.        , 0.        , 0.        , 0.        ,\n",
              "        0.        , 0.        , 0.        , 0.        , 0.        ,\n",
              "        0.        , 0.        , 0.        , 0.        , 0.01176471,\n",
              "        0.00392157, 0.        , 0.        , 0.02745098, 0.        ,\n",
              "        0.14509804, 0.        , 0.        ],\n",
              "       [0.        , 0.        , 0.        , 0.        , 0.        ,\n",
              "        0.        , 0.        , 0.        , 0.        , 0.        ,\n",
              "        0.        , 0.        , 0.        , 0.00392157, 0.00784314,\n",
              "        0.        , 0.10588235, 0.32941176, 0.04313725, 0.        ,\n",
              "        0.        , 0.        , 0.        , 0.        , 0.        ,\n",
              "        0.46666667, 0.        , 0.        ],\n",
              "       [0.        , 0.        , 0.        , 0.        , 0.        ,\n",
              "        0.        , 0.        , 0.        , 0.        , 0.        ,\n",
              "        0.        , 0.        , 0.        , 0.00392157, 0.        ,\n",
              "        0.        , 0.34509804, 0.56078431, 0.43137255, 0.        ,\n",
              "        0.        , 0.        , 0.        , 0.08627451, 0.36470588,\n",
              "        0.41568627, 0.        , 0.        ],\n",
              "       [0.        , 0.        , 0.        , 0.        , 0.        ,\n",
              "        0.        , 0.        , 0.        , 0.        , 0.        ,\n",
              "        0.        , 0.        , 0.        , 0.01568627, 0.        ,\n",
              "        0.20784314, 0.50588235, 0.47058824, 0.57647059, 0.68627451,\n",
              "        0.61568627, 0.65098039, 0.52941176, 0.60392157, 0.65882353,\n",
              "        0.54901961, 0.        , 0.        ],\n",
              "       [0.        , 0.        , 0.        , 0.        , 0.        ,\n",
              "        0.        , 0.        , 0.        , 0.        , 0.        ,\n",
              "        0.        , 0.        , 0.00784314, 0.        , 0.04313725,\n",
              "        0.5372549 , 0.50980392, 0.50196078, 0.62745098, 0.69019608,\n",
              "        0.62352941, 0.65490196, 0.69803922, 0.58431373, 0.59215686,\n",
              "        0.56470588, 0.        , 0.        ],\n",
              "       [0.        , 0.        , 0.        , 0.        , 0.        ,\n",
              "        0.        , 0.00392157, 0.        , 0.00784314, 0.00392157,\n",
              "        0.        , 0.01176471, 0.        , 0.        , 0.45098039,\n",
              "        0.44705882, 0.41568627, 0.5372549 , 0.65882353, 0.6       ,\n",
              "        0.61176471, 0.64705882, 0.65490196, 0.56078431, 0.61568627,\n",
              "        0.61960784, 0.04313725, 0.        ],\n",
              "       [0.        , 0.        , 0.        , 0.        , 0.00392157,\n",
              "        0.        , 0.        , 0.        , 0.        , 0.        ,\n",
              "        0.01176471, 0.        , 0.        , 0.34901961, 0.54509804,\n",
              "        0.35294118, 0.36862745, 0.6       , 0.58431373, 0.51372549,\n",
              "        0.59215686, 0.6627451 , 0.6745098 , 0.56078431, 0.62352941,\n",
              "        0.6627451 , 0.18823529, 0.        ],\n",
              "       [0.        , 0.        , 0.        , 0.        , 0.        ,\n",
              "        0.        , 0.00784314, 0.01568627, 0.00392157, 0.        ,\n",
              "        0.        , 0.        , 0.38431373, 0.53333333, 0.43137255,\n",
              "        0.42745098, 0.43137255, 0.63529412, 0.52941176, 0.56470588,\n",
              "        0.58431373, 0.62352941, 0.65490196, 0.56470588, 0.61960784,\n",
              "        0.6627451 , 0.46666667, 0.        ],\n",
              "       [0.        , 0.        , 0.00784314, 0.00784314, 0.00392157,\n",
              "        0.00784314, 0.        , 0.        , 0.        , 0.        ,\n",
              "        0.10196078, 0.42352941, 0.45882353, 0.38823529, 0.43529412,\n",
              "        0.45882353, 0.53333333, 0.61176471, 0.5254902 , 0.60392157,\n",
              "        0.60392157, 0.61176471, 0.62745098, 0.55294118, 0.57647059,\n",
              "        0.61176471, 0.69803922, 0.        ],\n",
              "       [0.01176471, 0.        , 0.        , 0.        , 0.        ,\n",
              "        0.        , 0.        , 0.08235294, 0.20784314, 0.36078431,\n",
              "        0.45882353, 0.43529412, 0.40392157, 0.45098039, 0.50588235,\n",
              "        0.5254902 , 0.56078431, 0.60392157, 0.64705882, 0.66666667,\n",
              "        0.60392157, 0.59215686, 0.60392157, 0.56078431, 0.54117647,\n",
              "        0.58823529, 0.64705882, 0.16862745],\n",
              "       [0.        , 0.        , 0.09019608, 0.21176471, 0.25490196,\n",
              "        0.29803922, 0.33333333, 0.4627451 , 0.50196078, 0.48235294,\n",
              "        0.43529412, 0.44313725, 0.4627451 , 0.49803922, 0.49019608,\n",
              "        0.54509804, 0.52156863, 0.53333333, 0.62745098, 0.54901961,\n",
              "        0.60784314, 0.63137255, 0.56470588, 0.60784314, 0.6745098 ,\n",
              "        0.63137255, 0.74117647, 0.24313725],\n",
              "       [0.        , 0.26666667, 0.36862745, 0.35294118, 0.43529412,\n",
              "        0.44705882, 0.43529412, 0.44705882, 0.45098039, 0.49803922,\n",
              "        0.52941176, 0.53333333, 0.56078431, 0.49411765, 0.49803922,\n",
              "        0.59215686, 0.60392157, 0.56078431, 0.58039216, 0.49019608,\n",
              "        0.63529412, 0.63529412, 0.56470588, 0.54117647, 0.6       ,\n",
              "        0.63529412, 0.76862745, 0.22745098],\n",
              "       [0.2745098 , 0.6627451 , 0.50588235, 0.40784314, 0.38431373,\n",
              "        0.39215686, 0.36862745, 0.38039216, 0.38431373, 0.4       ,\n",
              "        0.42352941, 0.41568627, 0.46666667, 0.47058824, 0.50588235,\n",
              "        0.58431373, 0.61176471, 0.65490196, 0.74509804, 0.74509804,\n",
              "        0.76862745, 0.77647059, 0.77647059, 0.73333333, 0.77254902,\n",
              "        0.74117647, 0.72156863, 0.14117647],\n",
              "       [0.0627451 , 0.49411765, 0.67058824, 0.7372549 , 0.7372549 ,\n",
              "        0.72156863, 0.67058824, 0.6       , 0.52941176, 0.47058824,\n",
              "        0.49411765, 0.49803922, 0.57254902, 0.7254902 , 0.76470588,\n",
              "        0.81960784, 0.81568627, 1.        , 0.81960784, 0.69411765,\n",
              "        0.96078431, 0.98823529, 0.98431373, 0.98431373, 0.96862745,\n",
              "        0.8627451 , 0.80784314, 0.19215686],\n",
              "       [0.        , 0.        , 0.        , 0.04705882, 0.2627451 ,\n",
              "        0.41568627, 0.64313725, 0.7254902 , 0.78039216, 0.82352941,\n",
              "        0.82745098, 0.82352941, 0.81568627, 0.74509804, 0.58823529,\n",
              "        0.32156863, 0.03137255, 0.        , 0.        , 0.        ,\n",
              "        0.69803922, 0.81568627, 0.7372549 , 0.68627451, 0.63529412,\n",
              "        0.61960784, 0.59215686, 0.04313725],\n",
              "       [0.        , 0.        , 0.        , 0.        , 0.        ,\n",
              "        0.        , 0.        , 0.        , 0.        , 0.        ,\n",
              "        0.        , 0.        , 0.        , 0.        , 0.        ,\n",
              "        0.        , 0.        , 0.        , 0.        , 0.        ,\n",
              "        0.        , 0.        , 0.        , 0.        , 0.        ,\n",
              "        0.        , 0.        , 0.        ],\n",
              "       [0.        , 0.        , 0.        , 0.        , 0.        ,\n",
              "        0.        , 0.        , 0.        , 0.        , 0.        ,\n",
              "        0.        , 0.        , 0.        , 0.        , 0.        ,\n",
              "        0.        , 0.        , 0.        , 0.        , 0.        ,\n",
              "        0.        , 0.        , 0.        , 0.        , 0.        ,\n",
              "        0.        , 0.        , 0.        ],\n",
              "       [0.        , 0.        , 0.        , 0.        , 0.        ,\n",
              "        0.        , 0.        , 0.        , 0.        , 0.        ,\n",
              "        0.        , 0.        , 0.        , 0.        , 0.        ,\n",
              "        0.        , 0.        , 0.        , 0.        , 0.        ,\n",
              "        0.        , 0.        , 0.        , 0.        , 0.        ,\n",
              "        0.        , 0.        , 0.        ],\n",
              "       [0.        , 0.        , 0.        , 0.        , 0.        ,\n",
              "        0.        , 0.        , 0.        , 0.        , 0.        ,\n",
              "        0.        , 0.        , 0.        , 0.        , 0.        ,\n",
              "        0.        , 0.        , 0.        , 0.        , 0.        ,\n",
              "        0.        , 0.        , 0.        , 0.        , 0.        ,\n",
              "        0.        , 0.        , 0.        ],\n",
              "       [0.        , 0.        , 0.        , 0.        , 0.        ,\n",
              "        0.        , 0.        , 0.        , 0.        , 0.        ,\n",
              "        0.        , 0.        , 0.        , 0.        , 0.        ,\n",
              "        0.        , 0.        , 0.        , 0.        , 0.        ,\n",
              "        0.        , 0.        , 0.        , 0.        , 0.        ,\n",
              "        0.        , 0.        , 0.        ],\n",
              "       [0.        , 0.        , 0.        , 0.        , 0.        ,\n",
              "        0.        , 0.        , 0.        , 0.        , 0.        ,\n",
              "        0.        , 0.        , 0.        , 0.        , 0.        ,\n",
              "        0.        , 0.        , 0.        , 0.        , 0.        ,\n",
              "        0.        , 0.        , 0.        , 0.        , 0.        ,\n",
              "        0.        , 0.        , 0.        ]])"
            ]
          },
          "metadata": {},
          "execution_count": 97
        }
      ]
    },
    {
      "cell_type": "code",
      "source": [
        "#Find the layers of our most recent model\n",
        "model_14.layers"
      ],
      "metadata": {
        "colab": {
          "base_uri": "https://localhost:8080/"
        },
        "id": "qWXC86ApPVed",
        "outputId": "91ac9330-9312-43ed-b3a6-0fcf548aea7a"
      },
      "execution_count": 98,
      "outputs": [
        {
          "output_type": "execute_result",
          "data": {
            "text/plain": [
              "[<keras.layers.reshaping.flatten.Flatten at 0x7f04952d0460>,\n",
              " <keras.layers.core.dense.Dense at 0x7f0495076400>,\n",
              " <keras.layers.core.dense.Dense at 0x7f04950766a0>,\n",
              " <keras.layers.core.dense.Dense at 0x7f04950766d0>]"
            ]
          },
          "metadata": {},
          "execution_count": 98
        }
      ]
    },
    {
      "cell_type": "code",
      "source": [
        "#Extract a particular layer\n",
        "model_14.layers[1]"
      ],
      "metadata": {
        "colab": {
          "base_uri": "https://localhost:8080/"
        },
        "id": "Vxg_W3u4PfNt",
        "outputId": "0a6a5963-c5aa-4833-8a99-0c6523b7ac10"
      },
      "execution_count": 99,
      "outputs": [
        {
          "output_type": "execute_result",
          "data": {
            "text/plain": [
              "<keras.layers.core.dense.Dense at 0x7f0495076400>"
            ]
          },
          "metadata": {},
          "execution_count": 99
        }
      ]
    },
    {
      "cell_type": "code",
      "source": [
        "#Get the patterns of a layer in our network\n",
        "weights, biases = model_14.layers[1].get_weights()\n",
        "\n",
        "#Shapes\n",
        "weights, weights.shape"
      ],
      "metadata": {
        "colab": {
          "base_uri": "https://localhost:8080/"
        },
        "id": "tpJ62Ma0PnxI",
        "outputId": "db335b72-2d26-4510-92ef-a3b16bc07ea9"
      },
      "execution_count": 100,
      "outputs": [
        {
          "output_type": "execute_result",
          "data": {
            "text/plain": [
              "(array([[ 0.01777919, -0.9002781 ,  0.8407524 ,  0.15017466],\n",
              "        [ 0.15031949, -0.22732599,  0.03680201, -0.11590143],\n",
              "        [ 0.65688336, -1.0353438 ,  0.44045833,  0.9606374 ],\n",
              "        ...,\n",
              "        [-0.19745646,  0.21026632, -0.01064827,  0.32898647],\n",
              "        [-0.7110739 , -0.0020783 ,  0.6613294 ,  0.07205327],\n",
              "        [ 0.1796184 , -0.24418487, -0.28112552,  0.1372981 ]],\n",
              "       dtype=float32), (784, 4))"
            ]
          },
          "metadata": {},
          "execution_count": 100
        }
      ]
    },
    {
      "cell_type": "code",
      "source": [
        "model_14.summary()"
      ],
      "metadata": {
        "colab": {
          "base_uri": "https://localhost:8080/"
        },
        "id": "p-K4vnkYQACv",
        "outputId": "53518bfb-c245-4784-86ff-16297cb22b6c"
      },
      "execution_count": 101,
      "outputs": [
        {
          "output_type": "stream",
          "name": "stdout",
          "text": [
            "Model: \"sequential_16\"\n",
            "_________________________________________________________________\n",
            " Layer (type)                Output Shape              Param #   \n",
            "=================================================================\n",
            " flatten_16 (Flatten)        (None, 784)               0         \n",
            "                                                                 \n",
            " dense_45 (Dense)            (None, 4)                 3140      \n",
            "                                                                 \n",
            " dense_46 (Dense)            (None, 4)                 20        \n",
            "                                                                 \n",
            " dense_47 (Dense)            (None, 10)                50        \n",
            "                                                                 \n",
            "=================================================================\n",
            "Total params: 3,210\n",
            "Trainable params: 3,210\n",
            "Non-trainable params: 0\n",
            "_________________________________________________________________\n"
          ]
        }
      ]
    },
    {
      "cell_type": "code",
      "source": [
        "biases, biases.shape"
      ],
      "metadata": {
        "colab": {
          "base_uri": "https://localhost:8080/"
        },
        "id": "LNqKHpTQRCt2",
        "outputId": "b01b28c9-55ff-4e45-e36a-95084c234d0a"
      },
      "execution_count": 102,
      "outputs": [
        {
          "output_type": "execute_result",
          "data": {
            "text/plain": [
              "(array([1.3512177 , 1.2059126 , 0.20184804, 1.2855834 ], dtype=float32), (4,))"
            ]
          },
          "metadata": {},
          "execution_count": 102
        }
      ]
    },
    {
      "cell_type": "markdown",
      "source": [
        "Every neuron has a bias vector. Each of these is paired with a weights amtrix.\n",
        "\n",
        "the bias vector initializes as zeros ( at least in the case of a TensorFlow Dense layer)\n",
        "\n",
        "The bias vector dictates how much the patterns within the corresponding weight matrix should influence the next layer"
      ],
      "metadata": {
        "id": "3RPc1fnnRQCY"
      }
    },
    {
      "cell_type": "code",
      "source": [
        "#Let's check out another way of viewing oour deep learning models\n",
        "from tensorflow.keras.utils import plot_model\n",
        "\n",
        "plot_model(model_14, show_shapes=True)"
      ],
      "metadata": {
        "colab": {
          "base_uri": "https://localhost:8080/",
          "height": 533
        },
        "id": "sRuEBUUfRz3u",
        "outputId": "470ee837-2dc0-44cf-cc9b-d250f4716fc3"
      },
      "execution_count": 104,
      "outputs": [
        {
          "output_type": "execute_result",
          "data": {
            "image/png": "[encoded data removed]",
            "text/plain": [
              "<IPython.core.display.Image object>"
            ]
          },
          "metadata": {},
          "execution_count": 104
        }
      ]
    },
    {
      "cell_type": "markdown",
      "source": [
        "#Next: check out exercises"
      ],
      "metadata": {
        "id": "Z2wzS1_nSfgn"
      }
    },
    {
      "cell_type": "code",
      "source": [
        "from sklearn.datasets import make_moons\n",
        "\n"
      ],
      "metadata": {
        "id": "Qigs-qkhWIXu"
      },
      "execution_count": 106,
      "outputs": []
    },
    {
      "cell_type": "code",
      "source": [
        "n_samples= 20000\n",
        "X, y = make_moons(n_samples,\n",
        "                  noise=0.03,\n",
        "                  random_state=42)\n",
        "\n",
        "X, y"
      ],
      "metadata": {
        "colab": {
          "base_uri": "https://localhost:8080/"
        },
        "id": "EvpueohSWZEf",
        "outputId": "e5c43d56-6131-4f7e-a231-11329de9df31"
      },
      "execution_count": 112,
      "outputs": [
        {
          "output_type": "execute_result",
          "data": {
            "text/plain": [
              "(array([[ 0.01554134,  0.26372844],\n",
              "        [ 0.78909418,  0.59338756],\n",
              "        [-0.95338436,  0.43871314],\n",
              "        ...,\n",
              "        [-0.14047165,  1.03391297],\n",
              "        [ 0.93413585,  0.21232898],\n",
              "        [ 1.27276126, -0.51588804]]), array([1, 0, 0, ..., 0, 0, 1]))"
            ]
          },
          "metadata": {},
          "execution_count": 112
        }
      ]
    },
    {
      "cell_type": "code",
      "source": [
        "X.shape, y.shape"
      ],
      "metadata": {
        "colab": {
          "base_uri": "https://localhost:8080/"
        },
        "id": "fQ_aGZhtYM0H",
        "outputId": "7b13a6c2-b7ad-4f04-885b-db449f7535bf"
      },
      "execution_count": 113,
      "outputs": [
        {
          "output_type": "execute_result",
          "data": {
            "text/plain": [
              "((20000, 2), (20000,))"
            ]
          },
          "metadata": {},
          "execution_count": 113
        }
      ]
    },
    {
      "cell_type": "code",
      "source": [
        "moonsDf = pd.DataFrame(X,y)\n",
        "\n",
        "plt.scatter(X[:, 0], X[:, 1], c=y, cmap=plt.cm.RdYlBu)"
      ],
      "metadata": {
        "colab": {
          "base_uri": "https://localhost:8080/",
          "height": 283
        },
        "id": "yEhHBkqjYuR_",
        "outputId": "d82a3ac4-b256-4a35-f6ab-3fe83be755e6"
      },
      "execution_count": 120,
      "outputs": [
        {
          "output_type": "execute_result",
          "data": {
            "text/plain": [
              "<matplotlib.collections.PathCollection at 0x7f048642af40>"
            ]
          },
          "metadata": {},
          "execution_count": 120
        },
        {
          "output_type": "display_data",
          "data": {
            "text/plain": [
              "<Figure size 432x288 with 1 Axes>"
            ],
            "image/png": "[encoded data removed]"
          },
          "metadata": {
            "needs_background": "light"
          }
        }
      ]
    },
    {
      "cell_type": "code",
      "source": [
        "train_data = X[:15000]\n",
        "train_labels = y[:15000]\n",
        "test_data = X[15000:]\n",
        "test_labels = y[15000:]"
      ],
      "metadata": {
        "id": "6HhnnSppYU1n"
      },
      "execution_count": 121,
      "outputs": []
    },
    {
      "cell_type": "code",
      "source": [
        "#Create training data, labels, test data and labels.\n",
        "\n",
        "X"
      ],
      "metadata": {
        "id": "5z7r_QSYYANn"
      },
      "execution_count": null,
      "outputs": []
    },
    {
      "cell_type": "code",
      "source": [
        "tf.random.set_seed(42)\n",
        "\n",
        "model_homework = tf.keras.Sequential([\n",
        "    tf.keras.layers.Dense(6, activation=\"relu\"),\n",
        "    tf.keras.layers.Dense(6, activation=\"relu\"),\n",
        "    tf.keras.layers.Dense(6, activation=\"relu\"),\n",
        "    tf.keras.layers.Dense(6, activation=\"relu\"),\n",
        "    tf.keras.layers.Dense(6, activation=\"relu\"),\n",
        "    tf.keras.layers.Dense(1, activation=\"sigmoid\")\n",
        "])\n",
        "\n",
        "model_homework.compile(loss=\"binary_crossentropy\",\n",
        "                       optimizer=\"Adam\",\n",
        "                       metrics=\"accuracy\")\n",
        "\n",
        "lr_scheduler_homework = tf.keras.callbacks.LearningRateScheduler(lambda epoch: 1e-3 * 10**(epoch/20))\n",
        "\n",
        "history_homework = model_homework.fit(train_data, train_labels, epochs=200, validation_data=(test_data, test_labels))"
      ],
      "metadata": {
        "colab": {
          "base_uri": "https://localhost:8080/"
        },
        "id": "GKH96PqhTJbm",
        "outputId": "45eccec5-4c73-4a1d-8b95-baa1f6ed6598"
      },
      "execution_count": 125,
      "outputs": [
        {
          "output_type": "stream",
          "name": "stdout",
          "text": [
            "Epoch 1/200\n",
            "469/469 [==============================] - 3s 2ms/step - loss: 0.4469 - accuracy: 0.8522 - val_loss: 0.2185 - val_accuracy: 0.9736\n",
            "Epoch 2/200\n",
            "469/469 [==============================] - 1s 2ms/step - loss: 0.0582 - accuracy: 0.9975 - val_loss: 0.0100 - val_accuracy: 1.0000\n",
            "Epoch 3/200\n",
            "469/469 [==============================] - 1s 2ms/step - loss: 0.0051 - accuracy: 1.0000 - val_loss: 0.0026 - val_accuracy: 1.0000\n",
            "Epoch 4/200\n",
            "469/469 [==============================] - 1s 2ms/step - loss: 0.0017 - accuracy: 1.0000 - val_loss: 0.0011 - val_accuracy: 1.0000\n",
            "Epoch 5/200\n",
            "469/469 [==============================] - 1s 2ms/step - loss: 8.0305e-04 - accuracy: 1.0000 - val_loss: 5.8282e-04 - val_accuracy: 1.0000\n",
            "Epoch 6/200\n",
            "469/469 [==============================] - 1s 2ms/step - loss: 4.4147e-04 - accuracy: 1.0000 - val_loss: 3.3826e-04 - val_accuracy: 1.0000\n",
            "Epoch 7/200\n",
            "469/469 [==============================] - 1s 3ms/step - loss: 2.6735e-04 - accuracy: 1.0000 - val_loss: 2.1820e-04 - val_accuracy: 1.0000\n",
            "Epoch 8/200\n",
            "469/469 [==============================] - 1s 2ms/step - loss: 1.7096e-04 - accuracy: 1.0000 - val_loss: 1.3840e-04 - val_accuracy: 1.0000\n",
            "Epoch 9/200\n",
            "469/469 [==============================] - 1s 2ms/step - loss: 1.1318e-04 - accuracy: 1.0000 - val_loss: 9.3909e-05 - val_accuracy: 1.0000\n",
            "Epoch 10/200\n",
            "469/469 [==============================] - 1s 2ms/step - loss: 7.7661e-05 - accuracy: 1.0000 - val_loss: 6.5844e-05 - val_accuracy: 1.0000\n",
            "Epoch 11/200\n",
            "469/469 [==============================] - 1s 2ms/step - loss: 5.4682e-05 - accuracy: 1.0000 - val_loss: 4.6204e-05 - val_accuracy: 1.0000\n",
            "Epoch 12/200\n",
            "469/469 [==============================] - 1s 2ms/step - loss: 3.8842e-05 - accuracy: 1.0000 - val_loss: 3.3873e-05 - val_accuracy: 1.0000\n",
            "Epoch 13/200\n",
            "469/469 [==============================] - 1s 2ms/step - loss: 2.7996e-05 - accuracy: 1.0000 - val_loss: 2.4673e-05 - val_accuracy: 1.0000\n",
            "Epoch 14/200\n",
            "469/469 [==============================] - 1s 2ms/step - loss: 2.0471e-05 - accuracy: 1.0000 - val_loss: 1.8756e-05 - val_accuracy: 1.0000\n",
            "Epoch 15/200\n",
            "469/469 [==============================] - 1s 2ms/step - loss: 1.4952e-05 - accuracy: 1.0000 - val_loss: 1.3721e-05 - val_accuracy: 1.0000\n",
            "Epoch 16/200\n",
            "469/469 [==============================] - 1s 2ms/step - loss: 1.1130e-05 - accuracy: 1.0000 - val_loss: 1.1202e-05 - val_accuracy: 1.0000\n",
            "Epoch 17/200\n",
            "469/469 [==============================] - 2s 3ms/step - loss: 8.2718e-06 - accuracy: 1.0000 - val_loss: 7.3348e-06 - val_accuracy: 1.0000\n",
            "Epoch 18/200\n",
            "469/469 [==============================] - 1s 3ms/step - loss: 6.2339e-06 - accuracy: 1.0000 - val_loss: 5.5501e-06 - val_accuracy: 1.0000\n",
            "Epoch 19/200\n",
            "469/469 [==============================] - 1s 3ms/step - loss: 4.7071e-06 - accuracy: 1.0000 - val_loss: 4.1743e-06 - val_accuracy: 1.0000\n",
            "Epoch 20/200\n",
            "469/469 [==============================] - 1s 2ms/step - loss: 3.4375e-06 - accuracy: 1.0000 - val_loss: 3.5244e-06 - val_accuracy: 1.0000\n",
            "Epoch 21/200\n",
            "469/469 [==============================] - 1s 2ms/step - loss: 2.6784e-06 - accuracy: 1.0000 - val_loss: 2.5685e-06 - val_accuracy: 1.0000\n",
            "Epoch 22/200\n",
            "469/469 [==============================] - 1s 2ms/step - loss: 2.0254e-06 - accuracy: 1.0000 - val_loss: 2.0259e-06 - val_accuracy: 1.0000\n",
            "Epoch 23/200\n",
            "469/469 [==============================] - 1s 2ms/step - loss: 1.5052e-06 - accuracy: 1.0000 - val_loss: 1.4167e-06 - val_accuracy: 1.0000\n",
            "Epoch 24/200\n",
            "469/469 [==============================] - 1s 2ms/step - loss: 1.1371e-06 - accuracy: 1.0000 - val_loss: 1.1443e-06 - val_accuracy: 1.0000\n",
            "Epoch 25/200\n",
            "469/469 [==============================] - 1s 2ms/step - loss: 8.7657e-07 - accuracy: 1.0000 - val_loss: 8.3963e-07 - val_accuracy: 1.0000\n",
            "Epoch 26/200\n",
            "469/469 [==============================] - 1s 2ms/step - loss: 6.4736e-07 - accuracy: 1.0000 - val_loss: 6.9011e-07 - val_accuracy: 1.0000\n",
            "Epoch 27/200\n",
            "469/469 [==============================] - 1s 3ms/step - loss: 5.4068e-07 - accuracy: 1.0000 - val_loss: 5.2160e-07 - val_accuracy: 1.0000\n",
            "Epoch 28/200\n",
            "469/469 [==============================] - 1s 2ms/step - loss: 3.8633e-07 - accuracy: 1.0000 - val_loss: 6.5406e-07 - val_accuracy: 1.0000\n",
            "Epoch 29/200\n",
            "469/469 [==============================] - 1s 2ms/step - loss: 3.0898e-07 - accuracy: 1.0000 - val_loss: 3.5789e-07 - val_accuracy: 1.0000\n",
            "Epoch 30/200\n",
            "469/469 [==============================] - 1s 3ms/step - loss: 2.2662e-07 - accuracy: 1.0000 - val_loss: 3.0840e-07 - val_accuracy: 1.0000\n",
            "Epoch 31/200\n",
            "469/469 [==============================] - 1s 2ms/step - loss: 1.7219e-07 - accuracy: 1.0000 - val_loss: 2.1107e-07 - val_accuracy: 1.0000\n",
            "Epoch 32/200\n",
            "469/469 [==============================] - 1s 2ms/step - loss: 1.4645e-07 - accuracy: 1.0000 - val_loss: 1.5631e-07 - val_accuracy: 1.0000\n",
            "Epoch 33/200\n",
            "469/469 [==============================] - 1s 2ms/step - loss: 1.0513e-07 - accuracy: 1.0000 - val_loss: 1.2097e-07 - val_accuracy: 1.0000\n",
            "Epoch 34/200\n",
            "469/469 [==============================] - 1s 2ms/step - loss: 7.6907e-08 - accuracy: 1.0000 - val_loss: 1.0494e-07 - val_accuracy: 1.0000\n",
            "Epoch 35/200\n",
            "469/469 [==============================] - 1s 2ms/step - loss: 6.3626e-08 - accuracy: 1.0000 - val_loss: 8.3816e-08 - val_accuracy: 1.0000\n",
            "Epoch 36/200\n",
            "469/469 [==============================] - 1s 2ms/step - loss: 4.6590e-08 - accuracy: 1.0000 - val_loss: 5.6853e-08 - val_accuracy: 1.0000\n",
            "Epoch 37/200\n",
            "469/469 [==============================] - 1s 2ms/step - loss: 3.5692e-08 - accuracy: 1.0000 - val_loss: 5.3406e-08 - val_accuracy: 1.0000\n",
            "Epoch 38/200\n",
            "469/469 [==============================] - 1s 2ms/step - loss: 3.1917e-08 - accuracy: 1.0000 - val_loss: 4.5561e-08 - val_accuracy: 1.0000\n",
            "Epoch 39/200\n",
            "469/469 [==============================] - 1s 2ms/step - loss: 2.1588e-08 - accuracy: 1.0000 - val_loss: 4.6659e-08 - val_accuracy: 1.0000\n",
            "Epoch 40/200\n",
            "469/469 [==============================] - 1s 2ms/step - loss: 1.8105e-08 - accuracy: 1.0000 - val_loss: 2.5041e-08 - val_accuracy: 1.0000\n",
            "Epoch 41/200\n",
            "469/469 [==============================] - 1s 2ms/step - loss: 1.3452e-08 - accuracy: 1.0000 - val_loss: 2.3691e-08 - val_accuracy: 1.0000\n",
            "Epoch 42/200\n",
            "469/469 [==============================] - 1s 3ms/step - loss: 1.1090e-08 - accuracy: 1.0000 - val_loss: 1.4180e-08 - val_accuracy: 1.0000\n",
            "Epoch 43/200\n",
            "469/469 [==============================] - 1s 2ms/step - loss: 8.4114e-09 - accuracy: 1.0000 - val_loss: 1.5928e-08 - val_accuracy: 1.0000\n",
            "Epoch 44/200\n",
            "469/469 [==============================] - 1s 2ms/step - loss: 7.0265e-09 - accuracy: 1.0000 - val_loss: 2.3237e-08 - val_accuracy: 1.0000\n",
            "Epoch 45/200\n",
            "469/469 [==============================] - 1s 2ms/step - loss: 5.1286e-09 - accuracy: 1.0000 - val_loss: 8.3719e-09 - val_accuracy: 1.0000\n",
            "Epoch 46/200\n",
            "469/469 [==============================] - 1s 2ms/step - loss: 4.2133e-09 - accuracy: 1.0000 - val_loss: 9.7747e-09 - val_accuracy: 1.0000\n",
            "Epoch 47/200\n",
            "469/469 [==============================] - 1s 2ms/step - loss: 3.6165e-09 - accuracy: 1.0000 - val_loss: 5.8554e-09 - val_accuracy: 1.0000\n",
            "Epoch 48/200\n",
            "469/469 [==============================] - 1s 2ms/step - loss: 3.0294e-09 - accuracy: 1.0000 - val_loss: 4.6965e-09 - val_accuracy: 1.0000\n",
            "Epoch 49/200\n",
            "469/469 [==============================] - 1s 2ms/step - loss: 2.7660e-09 - accuracy: 1.0000 - val_loss: 3.9755e-09 - val_accuracy: 1.0000\n",
            "Epoch 50/200\n",
            "469/469 [==============================] - 1s 2ms/step - loss: 2.5830e-09 - accuracy: 1.0000 - val_loss: 3.3170e-09 - val_accuracy: 1.0000\n",
            "Epoch 51/200\n",
            "469/469 [==============================] - 1s 2ms/step - loss: 2.1095e-09 - accuracy: 1.0000 - val_loss: 4.9736e-09 - val_accuracy: 1.0000\n",
            "Epoch 52/200\n",
            "469/469 [==============================] - 1s 2ms/step - loss: 2.0015e-09 - accuracy: 1.0000 - val_loss: 3.0079e-09 - val_accuracy: 1.0000\n",
            "Epoch 53/200\n",
            "469/469 [==============================] - 1s 2ms/step - loss: 1.7784e-09 - accuracy: 1.0000 - val_loss: 2.6149e-09 - val_accuracy: 1.0000\n",
            "Epoch 54/200\n",
            "469/469 [==============================] - 1s 3ms/step - loss: 1.6324e-09 - accuracy: 1.0000 - val_loss: 2.3417e-09 - val_accuracy: 1.0000\n",
            "Epoch 55/200\n",
            "469/469 [==============================] - 1s 2ms/step - loss: 1.5647e-09 - accuracy: 1.0000 - val_loss: 2.9942e-09 - val_accuracy: 1.0000\n",
            "Epoch 56/200\n",
            "469/469 [==============================] - 1s 2ms/step - loss: 3.5029e-05 - accuracy: 1.0000 - val_loss: 2.2628e-06 - val_accuracy: 1.0000\n",
            "Epoch 57/200\n",
            "469/469 [==============================] - 1s 2ms/step - loss: 5.1737e-05 - accuracy: 1.0000 - val_loss: 1.0769e-06 - val_accuracy: 1.0000\n",
            "Epoch 58/200\n",
            "469/469 [==============================] - 1s 2ms/step - loss: 4.4741e-07 - accuracy: 1.0000 - val_loss: 4.9963e-07 - val_accuracy: 1.0000\n",
            "Epoch 59/200\n",
            "469/469 [==============================] - 1s 2ms/step - loss: 2.5489e-07 - accuracy: 1.0000 - val_loss: 3.0383e-07 - val_accuracy: 1.0000\n",
            "Epoch 60/200\n",
            "469/469 [==============================] - 1s 2ms/step - loss: 1.7365e-07 - accuracy: 1.0000 - val_loss: 2.0528e-07 - val_accuracy: 1.0000\n",
            "Epoch 61/200\n",
            "469/469 [==============================] - 1s 2ms/step - loss: 1.2836e-07 - accuracy: 1.0000 - val_loss: 1.4856e-07 - val_accuracy: 1.0000\n",
            "Epoch 62/200\n",
            "469/469 [==============================] - 1s 2ms/step - loss: 9.9273e-08 - accuracy: 1.0000 - val_loss: 1.1159e-07 - val_accuracy: 1.0000\n",
            "Epoch 63/200\n",
            "469/469 [==============================] - 1s 2ms/step - loss: 7.8856e-08 - accuracy: 1.0000 - val_loss: 8.5943e-08 - val_accuracy: 1.0000\n",
            "Epoch 64/200\n",
            "469/469 [==============================] - 1s 2ms/step - loss: 6.3871e-08 - accuracy: 1.0000 - val_loss: 6.7280e-08 - val_accuracy: 1.0000\n",
            "Epoch 65/200\n",
            "469/469 [==============================] - 1s 2ms/step - loss: 5.2510e-08 - accuracy: 1.0000 - val_loss: 5.3349e-08 - val_accuracy: 1.0000\n",
            "Epoch 66/200\n",
            "469/469 [==============================] - 1s 2ms/step - loss: 4.3416e-08 - accuracy: 1.0000 - val_loss: 4.2604e-08 - val_accuracy: 1.0000\n",
            "Epoch 67/200\n",
            "469/469 [==============================] - 1s 3ms/step - loss: 3.6082e-08 - accuracy: 1.0000 - val_loss: 3.4518e-08 - val_accuracy: 1.0000\n",
            "Epoch 68/200\n",
            "469/469 [==============================] - 1s 2ms/step - loss: 3.0180e-08 - accuracy: 1.0000 - val_loss: 2.7989e-08 - val_accuracy: 1.0000\n",
            "Epoch 69/200\n",
            "469/469 [==============================] - 1s 2ms/step - loss: 2.5339e-08 - accuracy: 1.0000 - val_loss: 2.2908e-08 - val_accuracy: 1.0000\n",
            "Epoch 70/200\n",
            "469/469 [==============================] - 1s 2ms/step - loss: 2.1336e-08 - accuracy: 1.0000 - val_loss: 1.8839e-08 - val_accuracy: 1.0000\n",
            "Epoch 71/200\n",
            "469/469 [==============================] - 1s 2ms/step - loss: 1.8001e-08 - accuracy: 1.0000 - val_loss: 1.5590e-08 - val_accuracy: 1.0000\n",
            "Epoch 72/200\n",
            "469/469 [==============================] - 1s 2ms/step - loss: 1.5228e-08 - accuracy: 1.0000 - val_loss: 1.2997e-08 - val_accuracy: 1.0000\n",
            "Epoch 73/200\n",
            "469/469 [==============================] - 1s 2ms/step - loss: 1.2931e-08 - accuracy: 1.0000 - val_loss: 1.0923e-08 - val_accuracy: 1.0000\n",
            "Epoch 74/200\n",
            "469/469 [==============================] - 1s 2ms/step - loss: 1.1062e-08 - accuracy: 1.0000 - val_loss: 9.2110e-09 - val_accuracy: 1.0000\n",
            "Epoch 75/200\n",
            "469/469 [==============================] - 1s 2ms/step - loss: 9.3995e-09 - accuracy: 1.0000 - val_loss: 7.8289e-09 - val_accuracy: 1.0000\n",
            "Epoch 76/200\n",
            "469/469 [==============================] - 1s 2ms/step - loss: 8.0347e-09 - accuracy: 1.0000 - val_loss: 6.7498e-09 - val_accuracy: 1.0000\n",
            "Epoch 77/200\n",
            "469/469 [==============================] - 1s 2ms/step - loss: 6.9476e-09 - accuracy: 1.0000 - val_loss: 5.8768e-09 - val_accuracy: 1.0000\n",
            "Epoch 78/200\n",
            "469/469 [==============================] - 1s 2ms/step - loss: 6.0627e-09 - accuracy: 1.0000 - val_loss: 5.1830e-09 - val_accuracy: 1.0000\n",
            "Epoch 79/200\n",
            "469/469 [==============================] - 1s 3ms/step - loss: 5.3136e-09 - accuracy: 1.0000 - val_loss: 4.6400e-09 - val_accuracy: 1.0000\n",
            "Epoch 80/200\n",
            "469/469 [==============================] - 1s 2ms/step - loss: 4.7124e-09 - accuracy: 1.0000 - val_loss: 4.2054e-09 - val_accuracy: 1.0000\n",
            "Epoch 81/200\n",
            "469/469 [==============================] - 1s 2ms/step - loss: 4.2246e-09 - accuracy: 1.0000 - val_loss: 3.8688e-09 - val_accuracy: 1.0000\n",
            "Epoch 82/200\n",
            "469/469 [==============================] - 1s 2ms/step - loss: 3.8287e-09 - accuracy: 1.0000 - val_loss: 3.6263e-09 - val_accuracy: 1.0000\n",
            "Epoch 83/200\n",
            "469/469 [==============================] - 1s 2ms/step - loss: 3.5355e-09 - accuracy: 1.0000 - val_loss: 3.4447e-09 - val_accuracy: 1.0000\n",
            "Epoch 84/200\n",
            "469/469 [==============================] - 1s 2ms/step - loss: 3.2813e-09 - accuracy: 1.0000 - val_loss: 3.2807e-09 - val_accuracy: 1.0000\n",
            "Epoch 85/200\n",
            "469/469 [==============================] - 1s 2ms/step - loss: 3.0351e-09 - accuracy: 1.0000 - val_loss: 3.1518e-09 - val_accuracy: 1.0000\n",
            "Epoch 86/200\n",
            "469/469 [==============================] - 1s 2ms/step - loss: 2.8210e-09 - accuracy: 1.0000 - val_loss: 3.0511e-09 - val_accuracy: 1.0000\n",
            "Epoch 87/200\n",
            "469/469 [==============================] - 1s 2ms/step - loss: 2.6373e-09 - accuracy: 1.0000 - val_loss: 2.9698e-09 - val_accuracy: 1.0000\n",
            "Epoch 88/200\n",
            "469/469 [==============================] - 1s 2ms/step - loss: 2.4753e-09 - accuracy: 1.0000 - val_loss: 2.8892e-09 - val_accuracy: 1.0000\n",
            "Epoch 89/200\n",
            "469/469 [==============================] - 1s 2ms/step - loss: 2.3255e-09 - accuracy: 1.0000 - val_loss: 2.8027e-09 - val_accuracy: 1.0000\n",
            "Epoch 90/200\n",
            "469/469 [==============================] - 1s 3ms/step - loss: 2.2096e-09 - accuracy: 1.0000 - val_loss: 2.7241e-09 - val_accuracy: 1.0000\n",
            "Epoch 91/200\n",
            "469/469 [==============================] - 1s 2ms/step - loss: 2.0967e-09 - accuracy: 1.0000 - val_loss: 2.5992e-09 - val_accuracy: 1.0000\n",
            "Epoch 92/200\n",
            "469/469 [==============================] - 1s 2ms/step - loss: 2.0089e-09 - accuracy: 1.0000 - val_loss: 2.4837e-09 - val_accuracy: 1.0000\n",
            "Epoch 93/200\n",
            "469/469 [==============================] - 1s 2ms/step - loss: 1.9185e-09 - accuracy: 1.0000 - val_loss: 2.3670e-09 - val_accuracy: 1.0000\n",
            "Epoch 94/200\n",
            "469/469 [==============================] - 1s 2ms/step - loss: 1.8355e-09 - accuracy: 1.0000 - val_loss: 2.2381e-09 - val_accuracy: 1.0000\n",
            "Epoch 95/200\n",
            "469/469 [==============================] - 1s 2ms/step - loss: 1.7664e-09 - accuracy: 1.0000 - val_loss: 2.1088e-09 - val_accuracy: 1.0000\n",
            "Epoch 96/200\n",
            "469/469 [==============================] - 1s 2ms/step - loss: 1.7070e-09 - accuracy: 1.0000 - val_loss: 2.0029e-09 - val_accuracy: 1.0000\n",
            "Epoch 97/200\n",
            "469/469 [==============================] - 1s 2ms/step - loss: 1.6470e-09 - accuracy: 1.0000 - val_loss: 1.9055e-09 - val_accuracy: 1.0000\n",
            "Epoch 98/200\n",
            "469/469 [==============================] - 1s 2ms/step - loss: 1.5910e-09 - accuracy: 1.0000 - val_loss: 1.8434e-09 - val_accuracy: 1.0000\n",
            "Epoch 99/200\n",
            "469/469 [==============================] - 1s 2ms/step - loss: 1.5383e-09 - accuracy: 1.0000 - val_loss: 1.7576e-09 - val_accuracy: 1.0000\n",
            "Epoch 100/200\n",
            "469/469 [==============================] - 1s 2ms/step - loss: 1.5140e-09 - accuracy: 1.0000 - val_loss: 1.7078e-09 - val_accuracy: 1.0000\n",
            "Epoch 101/200\n",
            "469/469 [==============================] - 1s 2ms/step - loss: 1.4764e-09 - accuracy: 1.0000 - val_loss: 1.6437e-09 - val_accuracy: 1.0000\n",
            "Epoch 102/200\n",
            "469/469 [==============================] - 1s 2ms/step - loss: 1.4621e-09 - accuracy: 1.0000 - val_loss: 1.6319e-09 - val_accuracy: 1.0000\n",
            "Epoch 103/200\n",
            "469/469 [==============================] - 3s 6ms/step - loss: 1.4355e-09 - accuracy: 1.0000 - val_loss: 1.5965e-09 - val_accuracy: 1.0000\n",
            "Epoch 104/200\n",
            "469/469 [==============================] - 1s 2ms/step - loss: 1.4057e-09 - accuracy: 1.0000 - val_loss: 1.5717e-09 - val_accuracy: 1.0000\n",
            "Epoch 105/200\n",
            "469/469 [==============================] - 1s 2ms/step - loss: 1.3668e-09 - accuracy: 1.0000 - val_loss: 1.5059e-09 - val_accuracy: 1.0000\n",
            "Epoch 106/200\n",
            "469/469 [==============================] - 1s 2ms/step - loss: 1.3561e-09 - accuracy: 1.0000 - val_loss: 1.5014e-09 - val_accuracy: 1.0000\n",
            "Epoch 107/200\n",
            "469/469 [==============================] - 1s 2ms/step - loss: 1.3218e-09 - accuracy: 1.0000 - val_loss: 1.6017e-09 - val_accuracy: 1.0000\n",
            "Epoch 108/200\n",
            "469/469 [==============================] - 1s 2ms/step - loss: 1.3043e-09 - accuracy: 1.0000 - val_loss: 1.4500e-09 - val_accuracy: 1.0000\n",
            "Epoch 109/200\n",
            "469/469 [==============================] - 1s 2ms/step - loss: 1.2780e-09 - accuracy: 1.0000 - val_loss: 1.4484e-09 - val_accuracy: 1.0000\n",
            "Epoch 110/200\n",
            "469/469 [==============================] - 1s 2ms/step - loss: 1.2644e-09 - accuracy: 1.0000 - val_loss: 1.3887e-09 - val_accuracy: 1.0000\n",
            "Epoch 111/200\n",
            "469/469 [==============================] - 1s 2ms/step - loss: 1.2593e-09 - accuracy: 1.0000 - val_loss: 1.3646e-09 - val_accuracy: 1.0000\n",
            "Epoch 112/200\n",
            "469/469 [==============================] - 1s 2ms/step - loss: 1.2397e-09 - accuracy: 1.0000 - val_loss: 1.3786e-09 - val_accuracy: 1.0000\n",
            "Epoch 113/200\n",
            "469/469 [==============================] - 1s 3ms/step - loss: 1.2252e-09 - accuracy: 1.0000 - val_loss: 1.3121e-09 - val_accuracy: 1.0000\n",
            "Epoch 114/200\n",
            "469/469 [==============================] - 1s 2ms/step - loss: 1.2226e-09 - accuracy: 1.0000 - val_loss: 1.2946e-09 - val_accuracy: 1.0000\n",
            "Epoch 115/200\n",
            "469/469 [==============================] - 1s 2ms/step - loss: 1.2035e-09 - accuracy: 1.0000 - val_loss: 1.3471e-09 - val_accuracy: 1.0000\n",
            "Epoch 116/200\n",
            "469/469 [==============================] - 1s 2ms/step - loss: 1.1892e-09 - accuracy: 1.0000 - val_loss: 1.3062e-09 - val_accuracy: 1.0000\n",
            "Epoch 117/200\n",
            "469/469 [==============================] - 1s 2ms/step - loss: 1.1725e-09 - accuracy: 1.0000 - val_loss: 1.2554e-09 - val_accuracy: 1.0000\n",
            "Epoch 118/200\n",
            "469/469 [==============================] - 1s 2ms/step - loss: 1.1737e-09 - accuracy: 1.0000 - val_loss: 1.2500e-09 - val_accuracy: 1.0000\n",
            "Epoch 119/200\n",
            "469/469 [==============================] - 1s 2ms/step - loss: 1.1623e-09 - accuracy: 1.0000 - val_loss: 1.2579e-09 - val_accuracy: 1.0000\n",
            "Epoch 120/200\n",
            "469/469 [==============================] - 1s 2ms/step - loss: 1.1534e-09 - accuracy: 1.0000 - val_loss: 1.2328e-09 - val_accuracy: 1.0000\n",
            "Epoch 121/200\n",
            "469/469 [==============================] - 1s 2ms/step - loss: 1.1539e-09 - accuracy: 1.0000 - val_loss: 1.2382e-09 - val_accuracy: 1.0000\n",
            "Epoch 122/200\n",
            "469/469 [==============================] - 1s 2ms/step - loss: 1.1313e-09 - accuracy: 1.0000 - val_loss: 1.2275e-09 - val_accuracy: 1.0000\n",
            "Epoch 123/200\n",
            "469/469 [==============================] - 1s 2ms/step - loss: 1.1255e-09 - accuracy: 1.0000 - val_loss: 1.2233e-09 - val_accuracy: 1.0000\n",
            "Epoch 124/200\n",
            "469/469 [==============================] - 1s 2ms/step - loss: 1.1234e-09 - accuracy: 1.0000 - val_loss: 1.1911e-09 - val_accuracy: 1.0000\n",
            "Epoch 125/200\n",
            "469/469 [==============================] - 1s 3ms/step - loss: 1.1207e-09 - accuracy: 1.0000 - val_loss: 1.1875e-09 - val_accuracy: 1.0000\n",
            "Epoch 126/200\n",
            "469/469 [==============================] - 2s 4ms/step - loss: 1.1051e-09 - accuracy: 1.0000 - val_loss: 1.1801e-09 - val_accuracy: 1.0000\n",
            "Epoch 127/200\n",
            "469/469 [==============================] - 1s 3ms/step - loss: 1.0958e-09 - accuracy: 1.0000 - val_loss: 1.2031e-09 - val_accuracy: 1.0000\n",
            "Epoch 128/200\n",
            "469/469 [==============================] - 1s 2ms/step - loss: 1.0951e-09 - accuracy: 1.0000 - val_loss: 1.1720e-09 - val_accuracy: 1.0000\n",
            "Epoch 129/200\n",
            "469/469 [==============================] - 1s 2ms/step - loss: 1.0925e-09 - accuracy: 1.0000 - val_loss: 1.1580e-09 - val_accuracy: 1.0000\n",
            "Epoch 130/200\n",
            "469/469 [==============================] - 1s 2ms/step - loss: 1.0792e-09 - accuracy: 1.0000 - val_loss: 1.2537e-09 - val_accuracy: 1.0000\n",
            "Epoch 131/200\n",
            "469/469 [==============================] - 1s 2ms/step - loss: 1.0672e-09 - accuracy: 1.0000 - val_loss: 1.1412e-09 - val_accuracy: 1.0000\n",
            "Epoch 132/200\n",
            "469/469 [==============================] - 1s 2ms/step - loss: 1.0689e-09 - accuracy: 1.0000 - val_loss: 1.1270e-09 - val_accuracy: 1.0000\n",
            "Epoch 133/200\n",
            "469/469 [==============================] - 1s 2ms/step - loss: 1.0606e-09 - accuracy: 1.0000 - val_loss: 1.1478e-09 - val_accuracy: 1.0000\n",
            "Epoch 134/200\n",
            "469/469 [==============================] - 1s 2ms/step - loss: 1.0568e-09 - accuracy: 1.0000 - val_loss: 1.1190e-09 - val_accuracy: 1.0000\n",
            "Epoch 135/200\n",
            "469/469 [==============================] - 1s 2ms/step - loss: 1.0512e-09 - accuracy: 1.0000 - val_loss: 1.1092e-09 - val_accuracy: 1.0000\n",
            "Epoch 136/200\n",
            "469/469 [==============================] - 1s 3ms/step - loss: 1.0517e-09 - accuracy: 1.0000 - val_loss: 1.1789e-09 - val_accuracy: 1.0000\n",
            "Epoch 137/200\n",
            "469/469 [==============================] - 1s 2ms/step - loss: 1.0344e-09 - accuracy: 1.0000 - val_loss: 1.1023e-09 - val_accuracy: 1.0000\n",
            "Epoch 138/200\n",
            "469/469 [==============================] - 1s 2ms/step - loss: 1.0426e-09 - accuracy: 1.0000 - val_loss: 1.1040e-09 - val_accuracy: 1.0000\n",
            "Epoch 139/200\n",
            "469/469 [==============================] - 1s 2ms/step - loss: 1.0402e-09 - accuracy: 1.0000 - val_loss: 1.1063e-09 - val_accuracy: 1.0000\n",
            "Epoch 140/200\n",
            "469/469 [==============================] - 1s 2ms/step - loss: 1.0300e-09 - accuracy: 1.0000 - val_loss: 1.0870e-09 - val_accuracy: 1.0000\n",
            "Epoch 141/200\n",
            "469/469 [==============================] - 1s 2ms/step - loss: 1.0305e-09 - accuracy: 1.0000 - val_loss: 1.1018e-09 - val_accuracy: 1.0000\n",
            "Epoch 142/200\n",
            "469/469 [==============================] - 2s 4ms/step - loss: 1.0194e-09 - accuracy: 1.0000 - val_loss: 1.0812e-09 - val_accuracy: 1.0000\n",
            "Epoch 143/200\n",
            "469/469 [==============================] - 1s 2ms/step - loss: 1.0206e-09 - accuracy: 1.0000 - val_loss: 1.0816e-09 - val_accuracy: 1.0000\n",
            "Epoch 144/200\n",
            "469/469 [==============================] - 1s 2ms/step - loss: 1.0133e-09 - accuracy: 1.0000 - val_loss: 1.0659e-09 - val_accuracy: 1.0000\n",
            "Epoch 145/200\n",
            "469/469 [==============================] - 1s 2ms/step - loss: 1.0040e-09 - accuracy: 1.0000 - val_loss: 1.0704e-09 - val_accuracy: 1.0000\n",
            "Epoch 146/200\n",
            "469/469 [==============================] - 1s 2ms/step - loss: 1.0007e-09 - accuracy: 1.0000 - val_loss: 1.0588e-09 - val_accuracy: 1.0000\n",
            "Epoch 147/200\n",
            "469/469 [==============================] - 1s 3ms/step - loss: 1.0086e-09 - accuracy: 1.0000 - val_loss: 1.0531e-09 - val_accuracy: 1.0000\n",
            "Epoch 148/200\n",
            "469/469 [==============================] - 1s 2ms/step - loss: 1.0032e-09 - accuracy: 1.0000 - val_loss: 1.0573e-09 - val_accuracy: 1.0000\n",
            "Epoch 149/200\n",
            "469/469 [==============================] - 1s 2ms/step - loss: 9.9511e-10 - accuracy: 1.0000 - val_loss: 1.0493e-09 - val_accuracy: 1.0000\n",
            "Epoch 150/200\n",
            "469/469 [==============================] - 1s 2ms/step - loss: 9.9721e-10 - accuracy: 1.0000 - val_loss: 1.0508e-09 - val_accuracy: 1.0000\n",
            "Epoch 151/200\n",
            "469/469 [==============================] - 1s 2ms/step - loss: 9.8530e-10 - accuracy: 1.0000 - val_loss: 1.0398e-09 - val_accuracy: 1.0000\n",
            "Epoch 152/200\n",
            "469/469 [==============================] - 1s 2ms/step - loss: 9.9241e-10 - accuracy: 1.0000 - val_loss: 1.0410e-09 - val_accuracy: 1.0000\n",
            "Epoch 153/200\n",
            "469/469 [==============================] - 1s 2ms/step - loss: 9.8820e-10 - accuracy: 1.0000 - val_loss: 1.0580e-09 - val_accuracy: 1.0000\n",
            "Epoch 154/200\n",
            "469/469 [==============================] - 1s 2ms/step - loss: 9.7387e-10 - accuracy: 1.0000 - val_loss: 1.0333e-09 - val_accuracy: 1.0000\n",
            "Epoch 155/200\n",
            "469/469 [==============================] - 2s 3ms/step - loss: 9.8049e-10 - accuracy: 1.0000 - val_loss: 1.0317e-09 - val_accuracy: 1.0000\n",
            "Epoch 156/200\n",
            "469/469 [==============================] - 1s 2ms/step - loss: 9.7661e-10 - accuracy: 1.0000 - val_loss: 1.0349e-09 - val_accuracy: 1.0000\n",
            "Epoch 157/200\n",
            "469/469 [==============================] - 1s 2ms/step - loss: 9.6625e-10 - accuracy: 1.0000 - val_loss: 1.0216e-09 - val_accuracy: 1.0000\n",
            "Epoch 158/200\n",
            "469/469 [==============================] - 1s 3ms/step - loss: 9.7347e-10 - accuracy: 1.0000 - val_loss: 1.0190e-09 - val_accuracy: 1.0000\n",
            "Epoch 159/200\n",
            "469/469 [==============================] - 1s 2ms/step - loss: 9.7548e-10 - accuracy: 1.0000 - val_loss: 1.0236e-09 - val_accuracy: 1.0000\n",
            "Epoch 160/200\n",
            "469/469 [==============================] - 1s 2ms/step - loss: 9.6046e-10 - accuracy: 1.0000 - val_loss: 1.0089e-09 - val_accuracy: 1.0000\n",
            "Epoch 161/200\n",
            "469/469 [==============================] - 1s 2ms/step - loss: 9.6300e-10 - accuracy: 1.0000 - val_loss: 1.0122e-09 - val_accuracy: 1.0000\n",
            "Epoch 162/200\n",
            "469/469 [==============================] - 1s 2ms/step - loss: 9.6862e-10 - accuracy: 1.0000 - val_loss: 1.0126e-09 - val_accuracy: 1.0000\n",
            "Epoch 163/200\n",
            "469/469 [==============================] - 1s 2ms/step - loss: 9.6716e-10 - accuracy: 1.0000 - val_loss: 1.0134e-09 - val_accuracy: 1.0000\n",
            "Epoch 164/200\n",
            "469/469 [==============================] - 1s 2ms/step - loss: 9.5036e-10 - accuracy: 1.0000 - val_loss: 1.0042e-09 - val_accuracy: 1.0000\n",
            "Epoch 165/200\n",
            "469/469 [==============================] - 1s 2ms/step - loss: 9.5648e-10 - accuracy: 1.0000 - val_loss: 1.0009e-09 - val_accuracy: 1.0000\n",
            "Epoch 166/200\n",
            "469/469 [==============================] - 1s 2ms/step - loss: 9.5436e-10 - accuracy: 1.0000 - val_loss: 1.0073e-09 - val_accuracy: 1.0000\n",
            "Epoch 167/200\n",
            "469/469 [==============================] - 1s 2ms/step - loss: 9.4512e-10 - accuracy: 1.0000 - val_loss: 1.0039e-09 - val_accuracy: 1.0000\n",
            "Epoch 168/200\n",
            "469/469 [==============================] - 1s 2ms/step - loss: 9.4481e-10 - accuracy: 1.0000 - val_loss: 1.0000e-09 - val_accuracy: 1.0000\n",
            "Epoch 169/200\n",
            "469/469 [==============================] - 1s 2ms/step - loss: 9.4667e-10 - accuracy: 1.0000 - val_loss: 9.9420e-10 - val_accuracy: 1.0000\n",
            "Epoch 170/200\n",
            "469/469 [==============================] - 1s 3ms/step - loss: 9.4515e-10 - accuracy: 1.0000 - val_loss: 9.9882e-10 - val_accuracy: 1.0000\n",
            "Epoch 171/200\n",
            "469/469 [==============================] - 1s 2ms/step - loss: 9.4931e-10 - accuracy: 1.0000 - val_loss: 9.9423e-10 - val_accuracy: 1.0000\n",
            "Epoch 172/200\n",
            "469/469 [==============================] - 1s 2ms/step - loss: 9.4752e-10 - accuracy: 1.0000 - val_loss: 1.0005e-09 - val_accuracy: 1.0000\n",
            "Epoch 173/200\n",
            "469/469 [==============================] - 1s 2ms/step - loss: 9.4034e-10 - accuracy: 1.0000 - val_loss: 9.9615e-10 - val_accuracy: 1.0000\n",
            "Epoch 174/200\n",
            "469/469 [==============================] - 1s 2ms/step - loss: 9.3212e-10 - accuracy: 1.0000 - val_loss: 9.8909e-10 - val_accuracy: 1.0000\n",
            "Epoch 175/200\n",
            "469/469 [==============================] - 1s 2ms/step - loss: 9.3386e-10 - accuracy: 1.0000 - val_loss: 9.8859e-10 - val_accuracy: 1.0000\n",
            "Epoch 176/200\n",
            "469/469 [==============================] - 1s 2ms/step - loss: 9.3543e-10 - accuracy: 1.0000 - val_loss: 9.8461e-10 - val_accuracy: 1.0000\n",
            "Epoch 177/200\n",
            "469/469 [==============================] - 1s 2ms/step - loss: 9.3676e-10 - accuracy: 1.0000 - val_loss: 9.9010e-10 - val_accuracy: 1.0000\n",
            "Epoch 178/200\n",
            "469/469 [==============================] - 1s 2ms/step - loss: 9.3755e-10 - accuracy: 1.0000 - val_loss: 9.8588e-10 - val_accuracy: 1.0000\n",
            "Epoch 179/200\n",
            "469/469 [==============================] - 1s 2ms/step - loss: 9.3851e-10 - accuracy: 1.0000 - val_loss: 9.9148e-10 - val_accuracy: 1.0000\n",
            "Epoch 180/200\n",
            "469/469 [==============================] - 1s 2ms/step - loss: 9.2974e-10 - accuracy: 1.0000 - val_loss: 9.9012e-10 - val_accuracy: 1.0000\n",
            "Epoch 181/200\n",
            "469/469 [==============================] - 1s 2ms/step - loss: 9.1630e-10 - accuracy: 1.0000 - val_loss: 9.7822e-10 - val_accuracy: 1.0000\n",
            "Epoch 182/200\n",
            "469/469 [==============================] - 1s 2ms/step - loss: 9.2268e-10 - accuracy: 1.0000 - val_loss: 9.7729e-10 - val_accuracy: 1.0000\n",
            "Epoch 183/200\n",
            "469/469 [==============================] - 1s 3ms/step - loss: 9.2126e-10 - accuracy: 1.0000 - val_loss: 9.7300e-10 - val_accuracy: 1.0000\n",
            "Epoch 184/200\n",
            "469/469 [==============================] - 1s 2ms/step - loss: 9.2386e-10 - accuracy: 1.0000 - val_loss: 9.7747e-10 - val_accuracy: 1.0000\n",
            "Epoch 185/200\n",
            "469/469 [==============================] - 1s 2ms/step - loss: 9.2778e-10 - accuracy: 1.0000 - val_loss: 9.8366e-10 - val_accuracy: 1.0000\n",
            "Epoch 186/200\n",
            "469/469 [==============================] - 1s 2ms/step - loss: 9.2757e-10 - accuracy: 1.0000 - val_loss: 9.7816e-10 - val_accuracy: 1.0000\n",
            "Epoch 187/200\n",
            "469/469 [==============================] - 1s 2ms/step - loss: 9.2727e-10 - accuracy: 1.0000 - val_loss: 9.7152e-10 - val_accuracy: 1.0000\n",
            "Epoch 188/200\n",
            "469/469 [==============================] - 1s 2ms/step - loss: 9.2302e-10 - accuracy: 1.0000 - val_loss: 9.7772e-10 - val_accuracy: 1.0000\n",
            "Epoch 189/200\n",
            "469/469 [==============================] - 1s 2ms/step - loss: 9.2145e-10 - accuracy: 1.0000 - val_loss: 9.7461e-10 - val_accuracy: 1.0000\n",
            "Epoch 190/200\n",
            "469/469 [==============================] - 1s 2ms/step - loss: 9.0592e-10 - accuracy: 1.0000 - val_loss: 9.6699e-10 - val_accuracy: 1.0000\n",
            "Epoch 191/200\n",
            "469/469 [==============================] - 1s 2ms/step - loss: 9.0910e-10 - accuracy: 1.0000 - val_loss: 9.6654e-10 - val_accuracy: 1.0000\n",
            "Epoch 192/200\n",
            "469/469 [==============================] - 1s 2ms/step - loss: 9.1105e-10 - accuracy: 1.0000 - val_loss: 9.6175e-10 - val_accuracy: 1.0000\n",
            "Epoch 193/200\n",
            "469/469 [==============================] - 1s 2ms/step - loss: 9.0899e-10 - accuracy: 1.0000 - val_loss: 9.6527e-10 - val_accuracy: 1.0000\n",
            "Epoch 194/200\n",
            "469/469 [==============================] - 1s 2ms/step - loss: 9.1280e-10 - accuracy: 1.0000 - val_loss: 9.7051e-10 - val_accuracy: 1.0000\n",
            "Epoch 195/200\n",
            "469/469 [==============================] - 1s 3ms/step - loss: 9.1192e-10 - accuracy: 1.0000 - val_loss: 9.6485e-10 - val_accuracy: 1.0000\n",
            "Epoch 196/200\n",
            "469/469 [==============================] - 1s 3ms/step - loss: 9.1294e-10 - accuracy: 1.0000 - val_loss: 9.5795e-10 - val_accuracy: 1.0000\n",
            "Epoch 197/200\n",
            "469/469 [==============================] - 1s 3ms/step - loss: 9.0750e-10 - accuracy: 1.0000 - val_loss: 9.6280e-10 - val_accuracy: 1.0000\n",
            "Epoch 198/200\n",
            "469/469 [==============================] - 2s 5ms/step - loss: 9.0095e-10 - accuracy: 1.0000 - val_loss: 9.5508e-10 - val_accuracy: 1.0000\n",
            "Epoch 199/200\n",
            "469/469 [==============================] - 1s 3ms/step - loss: 8.9315e-10 - accuracy: 1.0000 - val_loss: 9.4786e-10 - val_accuracy: 1.0000\n",
            "Epoch 200/200\n",
            "469/469 [==============================] - 1s 3ms/step - loss: 8.9501e-10 - accuracy: 1.0000 - val_loss: 9.4726e-10 - val_accuracy: 1.0000\n"
          ]
        }
      ]
    },
    {
      "cell_type": "code",
      "source": [],
      "metadata": {
        "id": "pNnW1-LcbARI"
      },
      "execution_count": null,
      "outputs": []
    },
    {
      "cell_type": "code",
      "source": [
        "def plot_decision_boundary(model, X, y):\n",
        "  x_min, x_max = X[:, 0].min() -0.1, X[:, 0].max() + 0.1\n",
        "  y_min, y_max = X[:, 1].min() -0.1, X[:, 1].max() + 0.1\n",
        "  xx, yy = np.meshgrid(np.linspace(x_min, x_max, 100),\n",
        "                      np.linspace(y_min, y_max, 100))\n",
        "  \n",
        "  x_in = np.c_[xx.ravel(),yy.ravel()] #stack 2D arrays togheter\n",
        "\n",
        "  y_pred = model.predict(x_in)\n",
        "\n",
        "  if len(y_pred[0]) > 1:\n",
        "    print(\"doing multiclass classification\")\n",
        "    y_pred = np.argmax(y_pred, axis=1).reshape(xx.shape)\n",
        "  else:\n",
        "    y_pred = np.round(y_pred).reshape(xx.shape)\n",
        "  \n",
        "  plt.contourf(xx, yy, y_pred, cmap=plt.cm.RdYlBu, alpha=0.7)\n",
        "  plt.scatter(X[:, 0], X[:, 1], c=y, s=40, cmap=plt.cm.RdYlBu)\n",
        "  plt.xlim(xx.min(), xx.max())\n",
        "  plt.ylim(yy.min(), yy.max())"
      ],
      "metadata": {
        "id": "vzVF1apB21Lx"
      },
      "execution_count": 126,
      "outputs": []
    },
    {
      "cell_type": "code",
      "source": [
        "plot_decision_boundary(model=model_homework, X=train_data, y=train_labels)"
      ],
      "metadata": {
        "colab": {
          "base_uri": "https://localhost:8080/",
          "height": 283
        },
        "id": "BMMMypMkbSxN",
        "outputId": "d148a6b2-b470-48e8-b01f-666f08855d60"
      },
      "execution_count": 127,
      "outputs": [
        {
          "output_type": "stream",
          "name": "stdout",
          "text": [
            "313/313 [==============================] - 1s 1ms/step\n"
          ]
        },
        {
          "output_type": "display_data",
          "data": {
            "text/plain": [
              "<Figure size 432x288 with 1 Axes>"
            ],
            "image/png": "[encoded data removed]"
          },
          "metadata": {
            "needs_background": "light"
          }
        }
      ]
    }
  ]
}